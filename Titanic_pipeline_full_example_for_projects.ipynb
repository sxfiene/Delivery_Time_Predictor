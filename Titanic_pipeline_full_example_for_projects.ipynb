{
  "cells": [
    {
      "cell_type": "markdown",
      "metadata": {
        "id": "gfiVxf4h3hRI"
      },
      "source": [
        "#1. PoC: itération 0\n",
        "\n",
        "##1.1 EDA : Exploratory Data Analysis\n",
        "\n",
        "But :\n",
        "  - Fouille dans les données\n",
        "  - Estimer la qualité des données\n",
        "  - Tester des graphes (utile pour la suite)\n",
        "  - mieux comprendre les données"
      ]
    },
    {
      "cell_type": "code",
      "execution_count": 4,
      "metadata": {
        "id": "gkY2Ajvj09u-"
      },
      "outputs": [],
      "source": [
        "# Je charge le package pandas et je lui donne le nom pd\n",
        "import pandas as pd"
      ]
    },
    {
      "cell_type": "code",
      "execution_count": 5,
      "metadata": {
        "colab": {
          "base_uri": "https://localhost:8080/"
        },
        "id": "xtoJqGwO3f4Z",
        "outputId": "aa6161f5-8ba5-4bf0-a31f-26bdb8e19103"
      },
      "outputs": [
        {
          "name": "stderr",
          "output_type": "stream",
          "text": [
            "'ls' n'est pas reconnu en tant que commande interne\n",
            "ou externe, un programme ex�cutable ou un fichier de commandes.\n"
          ]
        }
      ],
      "source": [
        "# Je regarde où je suis dans l'arborescence (! pour pouvoir mettre des commandes linux)\n",
        "!ls ."
      ]
    },
    {
      "cell_type": "code",
      "execution_count": 6,
      "metadata": {
        "id": "-FlIakja4Lvd"
      },
      "outputs": [],
      "source": [
        "# Je charge les données dans la variable df\n",
        "df = pd.read_csv('train.csv')"
      ]
    },
    {
      "cell_type": "code",
      "execution_count": 7,
      "metadata": {
        "colab": {
          "base_uri": "https://localhost:8080/"
        },
        "id": "Z2EhTPat7PZQ",
        "outputId": "c69012e2-a423-48fa-adf1-16915aa79136"
      },
      "outputs": [
        {
          "data": {
            "text/plain": [
              "array(['PassengerId', 'Survived', 'Pclass', 'Name', 'Sex', 'Age', 'SibSp',\n",
              "       'Parch', 'Ticket', 'Fare', 'Cabin', 'Embarked'], dtype=object)"
            ]
          },
          "execution_count": 7,
          "metadata": {},
          "output_type": "execute_result"
        }
      ],
      "source": [
        "# Je regarde les colonnes disponibles (en parallèle je regarde attentivement la datacard dans kaggle pour bien comprendre le sens derrière les abbréviations)\n",
        "df.columns.values"
      ]
    },
    {
      "cell_type": "code",
      "execution_count": 8,
      "metadata": {
        "colab": {
          "base_uri": "https://localhost:8080/",
          "height": 276
        },
        "id": "2C0SLXNx7Zs9",
        "outputId": "592282b1-374e-4bf3-ccab-a7363cb01582"
      },
      "outputs": [
        {
          "data": {
            "text/html": [
              "<div>\n",
              "<style scoped>\n",
              "    .dataframe tbody tr th:only-of-type {\n",
              "        vertical-align: middle;\n",
              "    }\n",
              "\n",
              "    .dataframe tbody tr th {\n",
              "        vertical-align: top;\n",
              "    }\n",
              "\n",
              "    .dataframe thead th {\n",
              "        text-align: right;\n",
              "    }\n",
              "</style>\n",
              "<table border=\"1\" class=\"dataframe\">\n",
              "  <thead>\n",
              "    <tr style=\"text-align: right;\">\n",
              "      <th></th>\n",
              "      <th>PassengerId</th>\n",
              "      <th>Survived</th>\n",
              "      <th>Pclass</th>\n",
              "      <th>Name</th>\n",
              "      <th>Sex</th>\n",
              "      <th>Age</th>\n",
              "      <th>SibSp</th>\n",
              "      <th>Parch</th>\n",
              "      <th>Ticket</th>\n",
              "      <th>Fare</th>\n",
              "      <th>Cabin</th>\n",
              "      <th>Embarked</th>\n",
              "    </tr>\n",
              "  </thead>\n",
              "  <tbody>\n",
              "    <tr>\n",
              "      <th>0</th>\n",
              "      <td>1</td>\n",
              "      <td>0</td>\n",
              "      <td>3</td>\n",
              "      <td>Braund, Mr. Owen Harris</td>\n",
              "      <td>male</td>\n",
              "      <td>22.0</td>\n",
              "      <td>1</td>\n",
              "      <td>0</td>\n",
              "      <td>A/5 21171</td>\n",
              "      <td>7.2500</td>\n",
              "      <td>NaN</td>\n",
              "      <td>S</td>\n",
              "    </tr>\n",
              "    <tr>\n",
              "      <th>1</th>\n",
              "      <td>2</td>\n",
              "      <td>1</td>\n",
              "      <td>1</td>\n",
              "      <td>Cumings, Mrs. John Bradley (Florence Briggs Th...</td>\n",
              "      <td>female</td>\n",
              "      <td>38.0</td>\n",
              "      <td>1</td>\n",
              "      <td>0</td>\n",
              "      <td>PC 17599</td>\n",
              "      <td>71.2833</td>\n",
              "      <td>C85</td>\n",
              "      <td>C</td>\n",
              "    </tr>\n",
              "    <tr>\n",
              "      <th>2</th>\n",
              "      <td>3</td>\n",
              "      <td>1</td>\n",
              "      <td>3</td>\n",
              "      <td>Heikkinen, Miss. Laina</td>\n",
              "      <td>female</td>\n",
              "      <td>26.0</td>\n",
              "      <td>0</td>\n",
              "      <td>0</td>\n",
              "      <td>STON/O2. 3101282</td>\n",
              "      <td>7.9250</td>\n",
              "      <td>NaN</td>\n",
              "      <td>S</td>\n",
              "    </tr>\n",
              "    <tr>\n",
              "      <th>3</th>\n",
              "      <td>4</td>\n",
              "      <td>1</td>\n",
              "      <td>1</td>\n",
              "      <td>Futrelle, Mrs. Jacques Heath (Lily May Peel)</td>\n",
              "      <td>female</td>\n",
              "      <td>35.0</td>\n",
              "      <td>1</td>\n",
              "      <td>0</td>\n",
              "      <td>113803</td>\n",
              "      <td>53.1000</td>\n",
              "      <td>C123</td>\n",
              "      <td>S</td>\n",
              "    </tr>\n",
              "    <tr>\n",
              "      <th>4</th>\n",
              "      <td>5</td>\n",
              "      <td>0</td>\n",
              "      <td>3</td>\n",
              "      <td>Allen, Mr. William Henry</td>\n",
              "      <td>male</td>\n",
              "      <td>35.0</td>\n",
              "      <td>0</td>\n",
              "      <td>0</td>\n",
              "      <td>373450</td>\n",
              "      <td>8.0500</td>\n",
              "      <td>NaN</td>\n",
              "      <td>S</td>\n",
              "    </tr>\n",
              "  </tbody>\n",
              "</table>\n",
              "</div>"
            ],
            "text/plain": [
              "   PassengerId  Survived  Pclass  \\\n",
              "0            1         0       3   \n",
              "1            2         1       1   \n",
              "2            3         1       3   \n",
              "3            4         1       1   \n",
              "4            5         0       3   \n",
              "\n",
              "                                                Name     Sex   Age  SibSp  \\\n",
              "0                            Braund, Mr. Owen Harris    male  22.0      1   \n",
              "1  Cumings, Mrs. John Bradley (Florence Briggs Th...  female  38.0      1   \n",
              "2                             Heikkinen, Miss. Laina  female  26.0      0   \n",
              "3       Futrelle, Mrs. Jacques Heath (Lily May Peel)  female  35.0      1   \n",
              "4                           Allen, Mr. William Henry    male  35.0      0   \n",
              "\n",
              "   Parch            Ticket     Fare Cabin Embarked  \n",
              "0      0         A/5 21171   7.2500   NaN        S  \n",
              "1      0          PC 17599  71.2833   C85        C  \n",
              "2      0  STON/O2. 3101282   7.9250   NaN        S  \n",
              "3      0            113803  53.1000  C123        S  \n",
              "4      0            373450   8.0500   NaN        S  "
            ]
          },
          "execution_count": 8,
          "metadata": {},
          "output_type": "execute_result"
        }
      ],
      "source": [
        "# Je jette un coup d'oeil sur mes données\n",
        "df.head()"
      ]
    },
    {
      "cell_type": "code",
      "execution_count": 9,
      "metadata": {
        "colab": {
          "base_uri": "https://localhost:8080/",
          "height": 300
        },
        "id": "0ef5Kdtf6Jgu",
        "outputId": "57c4494c-f7c6-48d4-8a61-3fa36be5c8ab"
      },
      "outputs": [
        {
          "data": {
            "text/html": [
              "<div>\n",
              "<style scoped>\n",
              "    .dataframe tbody tr th:only-of-type {\n",
              "        vertical-align: middle;\n",
              "    }\n",
              "\n",
              "    .dataframe tbody tr th {\n",
              "        vertical-align: top;\n",
              "    }\n",
              "\n",
              "    .dataframe thead th {\n",
              "        text-align: right;\n",
              "    }\n",
              "</style>\n",
              "<table border=\"1\" class=\"dataframe\">\n",
              "  <thead>\n",
              "    <tr style=\"text-align: right;\">\n",
              "      <th></th>\n",
              "      <th>PassengerId</th>\n",
              "      <th>Survived</th>\n",
              "      <th>Pclass</th>\n",
              "      <th>Age</th>\n",
              "      <th>SibSp</th>\n",
              "      <th>Parch</th>\n",
              "      <th>Fare</th>\n",
              "    </tr>\n",
              "  </thead>\n",
              "  <tbody>\n",
              "    <tr>\n",
              "      <th>count</th>\n",
              "      <td>891.000000</td>\n",
              "      <td>891.000000</td>\n",
              "      <td>891.000000</td>\n",
              "      <td>714.000000</td>\n",
              "      <td>891.000000</td>\n",
              "      <td>891.000000</td>\n",
              "      <td>891.000000</td>\n",
              "    </tr>\n",
              "    <tr>\n",
              "      <th>mean</th>\n",
              "      <td>446.000000</td>\n",
              "      <td>0.383838</td>\n",
              "      <td>2.308642</td>\n",
              "      <td>29.699118</td>\n",
              "      <td>0.523008</td>\n",
              "      <td>0.381594</td>\n",
              "      <td>32.204208</td>\n",
              "    </tr>\n",
              "    <tr>\n",
              "      <th>std</th>\n",
              "      <td>257.353842</td>\n",
              "      <td>0.486592</td>\n",
              "      <td>0.836071</td>\n",
              "      <td>14.526497</td>\n",
              "      <td>1.102743</td>\n",
              "      <td>0.806057</td>\n",
              "      <td>49.693429</td>\n",
              "    </tr>\n",
              "    <tr>\n",
              "      <th>min</th>\n",
              "      <td>1.000000</td>\n",
              "      <td>0.000000</td>\n",
              "      <td>1.000000</td>\n",
              "      <td>0.420000</td>\n",
              "      <td>0.000000</td>\n",
              "      <td>0.000000</td>\n",
              "      <td>0.000000</td>\n",
              "    </tr>\n",
              "    <tr>\n",
              "      <th>25%</th>\n",
              "      <td>223.500000</td>\n",
              "      <td>0.000000</td>\n",
              "      <td>2.000000</td>\n",
              "      <td>20.125000</td>\n",
              "      <td>0.000000</td>\n",
              "      <td>0.000000</td>\n",
              "      <td>7.910400</td>\n",
              "    </tr>\n",
              "    <tr>\n",
              "      <th>50%</th>\n",
              "      <td>446.000000</td>\n",
              "      <td>0.000000</td>\n",
              "      <td>3.000000</td>\n",
              "      <td>28.000000</td>\n",
              "      <td>0.000000</td>\n",
              "      <td>0.000000</td>\n",
              "      <td>14.454200</td>\n",
              "    </tr>\n",
              "    <tr>\n",
              "      <th>75%</th>\n",
              "      <td>668.500000</td>\n",
              "      <td>1.000000</td>\n",
              "      <td>3.000000</td>\n",
              "      <td>38.000000</td>\n",
              "      <td>1.000000</td>\n",
              "      <td>0.000000</td>\n",
              "      <td>31.000000</td>\n",
              "    </tr>\n",
              "    <tr>\n",
              "      <th>max</th>\n",
              "      <td>891.000000</td>\n",
              "      <td>1.000000</td>\n",
              "      <td>3.000000</td>\n",
              "      <td>80.000000</td>\n",
              "      <td>8.000000</td>\n",
              "      <td>6.000000</td>\n",
              "      <td>512.329200</td>\n",
              "    </tr>\n",
              "  </tbody>\n",
              "</table>\n",
              "</div>"
            ],
            "text/plain": [
              "       PassengerId    Survived      Pclass         Age       SibSp  \\\n",
              "count   891.000000  891.000000  891.000000  714.000000  891.000000   \n",
              "mean    446.000000    0.383838    2.308642   29.699118    0.523008   \n",
              "std     257.353842    0.486592    0.836071   14.526497    1.102743   \n",
              "min       1.000000    0.000000    1.000000    0.420000    0.000000   \n",
              "25%     223.500000    0.000000    2.000000   20.125000    0.000000   \n",
              "50%     446.000000    0.000000    3.000000   28.000000    0.000000   \n",
              "75%     668.500000    1.000000    3.000000   38.000000    1.000000   \n",
              "max     891.000000    1.000000    3.000000   80.000000    8.000000   \n",
              "\n",
              "            Parch        Fare  \n",
              "count  891.000000  891.000000  \n",
              "mean     0.381594   32.204208  \n",
              "std      0.806057   49.693429  \n",
              "min      0.000000    0.000000  \n",
              "25%      0.000000    7.910400  \n",
              "50%      0.000000   14.454200  \n",
              "75%      0.000000   31.000000  \n",
              "max      6.000000  512.329200  "
            ]
          },
          "execution_count": 9,
          "metadata": {},
          "output_type": "execute_result"
        }
      ],
      "source": [
        "# Quelques stats /!\\ la fonction ne montre que les colonnes numériques\n",
        "df.describe()"
      ]
    },
    {
      "cell_type": "code",
      "execution_count": 10,
      "metadata": {
        "colab": {
          "base_uri": "https://localhost:8080/"
        },
        "id": "bV7nejcs9H6C",
        "outputId": "b7692025-4203-4309-9072-51ad6fb20943"
      },
      "outputs": [
        {
          "data": {
            "text/plain": [
              "(891, 12)"
            ]
          },
          "execution_count": 10,
          "metadata": {},
          "output_type": "execute_result"
        }
      ],
      "source": [
        "# Je regarde le nombre de lignes/colonnes\n",
        "df.shape"
      ]
    },
    {
      "cell_type": "code",
      "execution_count": 11,
      "metadata": {
        "colab": {
          "base_uri": "https://localhost:8080/",
          "height": 447
        },
        "id": "j4eQBZxO95wH",
        "outputId": "74a856eb-28ce-4200-ac1d-c1c3f9dd3752"
      },
      "outputs": [
        {
          "data": {
            "text/plain": [
              "<Axes: >"
            ]
          },
          "execution_count": 11,
          "metadata": {},
          "output_type": "execute_result"
        },
        {
          "data": {
            "image/png": "[encoded data removed]",
            "text/plain": [
              "<Figure size 640x480 with 1 Axes>"
            ]
          },
          "metadata": {},
          "output_type": "display_data"
        }
      ],
      "source": [
        "# J'affiche les boîtes à moustache et j'essaie de les comprendre\n",
        "df.plot.box()"
      ]
    },
    {
      "cell_type": "code",
      "execution_count": 12,
      "metadata": {
        "id": "5fLsfxsBAOIP"
      },
      "outputs": [],
      "source": [
        "# PassengerId n'a aucun sens, pire, il pourrait permettre à l'algo d'apprendre par coeur les données si on le laisse : je le supprime\n",
        "df1 = df.drop(['PassengerId'], axis=1)"
      ]
    },
    {
      "cell_type": "code",
      "execution_count": 13,
      "metadata": {
        "colab": {
          "base_uri": "https://localhost:8080/",
          "height": 447
        },
        "id": "QWza4oTgAYzQ",
        "outputId": "ba2e91fd-a42a-4c6d-fbbe-60ceec1a613a"
      },
      "outputs": [
        {
          "data": {
            "text/plain": [
              "<Axes: >"
            ]
          },
          "execution_count": 13,
          "metadata": {},
          "output_type": "execute_result"
        },
        {
          "data": {
            "image/png": "[encoded data removed]",
            "text/plain": [
              "<Figure size 640x480 with 1 Axes>"
            ]
          },
          "metadata": {},
          "output_type": "display_data"
        }
      ],
      "source": [
        "# Les boîtes à moustache de Fare et Age présentent beaucoup d'anomalies : il faut les justifier\n",
        "# Je les affiche en plus gros\n",
        "df1[['Age', 'Fare']].plot.box()\n",
        "\n",
        "# Age est une variable non centrée, non négative, il peut paraître normal qu'elle ne suive pas une loi statistique pour les valeur hautes."
      ]
    },
    {
      "cell_type": "code",
      "execution_count": 14,
      "metadata": {
        "colab": {
          "base_uri": "https://localhost:8080/",
          "height": 447
        },
        "id": "hxqTMmCSiWh1",
        "outputId": "cd4ec11a-ffea-4022-bc68-cff4e7fc1e31"
      },
      "outputs": [
        {
          "data": {
            "text/plain": [
              "<Axes: ylabel='Frequency'>"
            ]
          },
          "execution_count": 14,
          "metadata": {},
          "output_type": "execute_result"
        },
        {
          "data": {
            "image/png": "[encoded data removed]",
            "text/plain": [
              "<Figure size 640x480 with 1 Axes>"
            ]
          },
          "metadata": {},
          "output_type": "display_data"
        }
      ],
      "source": [
        "df.Age.plot.hist()\n",
        "# De plus les valeurs ne semblent pas aberrantes"
      ]
    },
    {
      "cell_type": "code",
      "execution_count": 15,
      "metadata": {
        "colab": {
          "base_uri": "https://localhost:8080/",
          "height": 447
        },
        "id": "NiXFbY4jihH5",
        "outputId": "1b672429-1e04-4855-aa50-49964cf57b9b"
      },
      "outputs": [
        {
          "data": {
            "text/plain": [
              "<Axes: ylabel='Frequency'>"
            ]
          },
          "execution_count": 15,
          "metadata": {},
          "output_type": "execute_result"
        },
        {
          "data": {
            "image/png": "[encoded data removed]",
            "text/plain": [
              "<Figure size 640x480 with 1 Axes>"
            ]
          },
          "metadata": {},
          "output_type": "display_data"
        }
      ],
      "source": [
        "df.Fare.plot.hist()\n",
        "# 3 classes de billets mais grosse variabilité des prix : bizarre, il faudra creuser plus tard"
      ]
    },
    {
      "cell_type": "code",
      "execution_count": 16,
      "metadata": {
        "colab": {
          "base_uri": "https://localhost:8080/",
          "height": 466
        },
        "id": "9nDfAPgwgSjL",
        "outputId": "658eab78-7e64-444e-a95b-29632441cc2b"
      },
      "outputs": [
        {
          "data": {
            "text/plain": [
              "<Axes: xlabel='Age', ylabel='Fare'>"
            ]
          },
          "execution_count": 16,
          "metadata": {},
          "output_type": "execute_result"
        },
        {
          "data": {
            "image/png": "[encoded data removed]",
            "text/plain": [
              "<Figure size 640x480 with 1 Axes>"
            ]
          },
          "metadata": {},
          "output_type": "display_data"
        }
      ],
      "source": [
        "# Exemple d'affichage de points avec pandas\n",
        "df1.plot.scatter(x=\"Age\", y=\"Fare\")"
      ]
    },
    {
      "cell_type": "code",
      "execution_count": 17,
      "metadata": {
        "colab": {
          "base_uri": "https://localhost:8080/",
          "height": 542
        },
        "id": "FaB8iiOtBizf",
        "outputId": "98cfe053-ef32-447d-85e8-5698de337efa"
      },
      "outputs": [
        {
          "data": {
            "application/vnd.plotly.v1+json": {
              "config": {
                "plotlyServerURL": "https://plot.ly"
              },
              "data": [
                {
                  "hovertemplate": "Age=%{x}<br>Fare=%{y}<br>Survived=%{marker.color}<extra></extra>",
                  "legendgroup": "",
                  "marker": {
                    "color": [
                      0,
                      1,
                      1,
                      1,
                      0,
                      0,
                      0,
                      0,
                      1,
                      1,
                      1,
                      1,
                      0,
                      0,
                      0,
                      1,
                      0,
                      1,
                      0,
                      1,
                      0,
                      1,
                      1,
                      1,
                      0,
                      1,
                      0,
                      0,
                      1,
                      0,
                      0,
                      1,
                      1,
                      0,
                      0,
                      0,
                      1,
                      0,
                      0,
                      1,
                      0,
                      0,
                      0,
                      1,
                      1,
                      0,
                      0,
                      1,
                      0,
                      0,
                      0,
                      0,
                      1,
                      1,
                      0,
                      1,
                      1,
                      0,
                      1,
                      0,
                      0,
                      1,
                      0,
                      0,
                      0,
                      1,
                      1,
                      0,
                      1,
                      0,
                      0,
                      0,
                      0,
                      0,
                      1,
                      0,
                      0,
                      0,
                      1,
                      1,
                      0,
                      1,
                      1,
                      0,
                      1,
                      1,
                      0,
                      0,
                      1,
                      0,
                      0,
                      0,
                      0,
                      0,
                      0,
                      0,
                      0,
                      1,
                      1,
                      0,
                      0,
                      0,
                      0,
                      0,
                      0,
                      0,
                      1,
                      1,
                      0,
                      1,
                      0,
                      0,
                      0,
                      0,
                      0,
                      0,
                      0,
                      0,
                      0,
                      0,
                      0,
                      0,
                      0,
                      1,
                      0,
                      1,
                      0,
                      1,
                      1,
                      0,
                      0,
                      0,
                      0,
                      1,
                      0,
                      0,
                      1,
                      0,
                      0,
                      0,
                      0,
                      1,
                      1,
                      0,
                      0,
                      0,
                      1,
                      0,
                      0,
                      0,
                      0,
                      1,
                      0,
                      0,
                      0,
                      0,
                      1,
                      0,
                      0,
                      0,
                      0,
                      1,
                      0,
                      0,
                      0,
                      1,
                      1,
                      0,
                      0,
                      0,
                      0,
                      0,
                      1,
                      0,
                      0,
                      0,
                      0,
                      0,
                      0,
                      0,
                      0,
                      0,
                      0,
                      1,
                      1,
                      0,
                      1,
                      1,
                      0,
                      0,
                      1,
                      0,
                      1,
                      1,
                      1,
                      1,
                      0,
                      0,
                      1,
                      0,
                      0,
                      0,
                      0,
                      0,
                      1,
                      0,
                      0,
                      1,
                      1,
                      1,
                      0,
                      1,
                      0,
                      0,
                      0,
                      1,
                      1,
                      0,
                      1,
                      0,
                      1,
                      0,
                      0,
                      0,
                      1,
                      0,
                      1,
                      0,
                      0,
                      0,
                      1,
                      0,
                      0,
                      1,
                      0,
                      0,
                      0,
                      1,
                      0,
                      0,
                      0,
                      1,
                      0,
                      0,
                      0,
                      0,
                      0,
                      1,
                      1,
                      0,
                      0,
                      0,
                      0,
                      0,
                      0,
                      1,
                      1,
                      1,
                      1,
                      1,
                      0,
                      1,
                      0,
                      0,
                      0,
                      0,
                      0,
                      1,
                      1,
                      1,
                      0,
                      1,
                      1,
                      0,
                      1,
                      1,
                      0,
                      0,
                      0,
                      1,
                      0,
                      0,
                      0,
                      1,
                      0,
                      0,
                      1,
                      0,
                      1,
                      1,
                      1,
                      1,
                      0,
                      0,
                      0,
                      0,
                      0,
                      0,
                      1,
                      1,
                      1,
                      1,
                      0,
                      1,
                      0,
                      1,
                      1,
                      1,
                      0,
                      1,
                      1,
                      1,
                      0,
                      0,
                      0,
                      1,
                      1,
                      0,
                      1,
                      1,
                      0,
                      0,
                      1,
                      1,
                      0,
                      1,
                      0,
                      1,
                      1,
                      1,
                      1,
                      0,
                      0,
                      0,
                      1,
                      0,
                      0,
                      1,
                      1,
                      0,
                      1,
                      1,
                      0,
                      0,
                      0,
                      1,
                      1,
                      1,
                      1,
                      0,
                      0,
                      0,
                      0,
                      0,
                      0,
                      0,
                      1,
                      0,
                      1,
                      1,
                      0,
                      0,
                      0,
                      0,
                      0,
                      0,
                      1,
                      1,
                      1,
                      1,
                      1,
                      0,
                      0,
                      0,
                      0,
                      1,
                      1,
                      0,
                      0,
                      0,
                      1,
                      1,
                      0,
                      1,
                      0,
                      0,
                      0,
                      1,
                      0,
                      1,
                      1,
                      1,
                      0,
                      1,
                      1,
                      0,
                      0,
                      0,
                      0,
                      1,
                      1,
                      0,
                      0,
                      0,
                      0,
                      0,
                      0,
                      1,
                      0,
                      0,
                      0,
                      0,
                      1,
                      0,
                      1,
                      0,
                      1,
                      1,
                      0,
                      0,
                      0,
                      0,
                      0,
                      0,
                      0,
                      0,
                      1,
                      1,
                      0,
                      1,
                      1,
                      1,
                      1,
                      0,
                      0,
                      1,
                      0,
                      1,
                      0,
                      0,
                      1,
                      0,
                      0,
                      1,
                      1,
                      1,
                      1,
                      1,
                      1,
                      1,
                      0,
                      0,
                      0,
                      1,
                      0,
                      1,
                      0,
                      1,
                      1,
                      0,
                      1,
                      0,
                      0,
                      0,
                      0,
                      0,
                      0,
                      0,
                      0,
                      1,
                      0,
                      0,
                      1,
                      1,
                      0,
                      0,
                      0,
                      0,
                      0,
                      1,
                      0,
                      0,
                      0,
                      1,
                      1,
                      0,
                      1,
                      0,
                      0,
                      1,
                      0,
                      0,
                      0,
                      0,
                      0,
                      0,
                      1,
                      0,
                      0,
                      0,
                      0,
                      0,
                      0,
                      0,
                      1,
                      0,
                      1,
                      1,
                      0,
                      1,
                      1,
                      0,
                      1,
                      1,
                      0,
                      0,
                      1,
                      0,
                      1,
                      0,
                      1,
                      0,
                      0,
                      1,
                      0,
                      0,
                      1,
                      0,
                      0,
                      0,
                      1,
                      0,
                      0,
                      1,
                      0,
                      1,
                      0,
                      1,
                      0,
                      1,
                      1,
                      0,
                      0,
                      1,
                      0,
                      0,
                      1,
                      1,
                      0,
                      1,
                      1,
                      0,
                      0,
                      1,
                      1,
                      0,
                      1,
                      0,
                      1,
                      1,
                      0,
                      0,
                      0,
                      0,
                      0,
                      0,
                      0,
                      0,
                      0,
                      1,
                      1,
                      1,
                      1,
                      1,
                      0,
                      0,
                      1,
                      1,
                      0,
                      1,
                      1,
                      1,
                      0,
                      0,
                      0,
                      1,
                      0,
                      1,
                      0,
                      0,
                      0,
                      1,
                      0,
                      0,
                      0,
                      0,
                      1,
                      0,
                      0,
                      1,
                      1,
                      0,
                      0,
                      0,
                      1,
                      0,
                      0,
                      1,
                      1,
                      1,
                      0,
                      0,
                      1,
                      0,
                      0,
                      1,
                      0,
                      0,
                      1,
                      0,
                      0,
                      1,
                      1,
                      0,
                      0,
                      0,
                      0,
                      1,
                      0,
                      0,
                      1,
                      0,
                      1,
                      0,
                      0,
                      1,
                      0,
                      0,
                      0,
                      0,
                      0,
                      1,
                      0,
                      1,
                      1,
                      1,
                      0,
                      1,
                      0,
                      1,
                      0,
                      1,
                      0,
                      1,
                      0,
                      0,
                      0,
                      0,
                      0,
                      0,
                      1,
                      0,
                      0,
                      0,
                      1,
                      0,
                      0,
                      0,
                      0,
                      1,
                      1,
                      0,
                      0,
                      1,
                      0,
                      0,
                      0,
                      1,
                      0,
                      1,
                      0,
                      1,
                      0,
                      0,
                      0,
                      0,
                      0,
                      0,
                      0,
                      1,
                      1,
                      1,
                      1,
                      0,
                      0,
                      0,
                      0,
                      1,
                      0,
                      0,
                      1,
                      1,
                      0,
                      0,
                      0,
                      0,
                      1,
                      1,
                      1,
                      1,
                      1,
                      0,
                      1,
                      0,
                      0,
                      0,
                      1,
                      1,
                      0,
                      0,
                      1,
                      0,
                      0,
                      0,
                      1,
                      0,
                      1,
                      1,
                      0,
                      0,
                      1,
                      0,
                      0,
                      0,
                      0,
                      0,
                      0,
                      1,
                      0,
                      0,
                      1,
                      0,
                      1,
                      0,
                      1,
                      0,
                      0,
                      1,
                      0,
                      0,
                      1,
                      1,
                      0,
                      0,
                      1,
                      1,
                      0,
                      0,
                      0,
                      1,
                      0,
                      0,
                      1,
                      1,
                      0,
                      1,
                      0,
                      0,
                      0,
                      0,
                      0,
                      0,
                      0,
                      0,
                      1,
                      0,
                      0,
                      1,
                      0,
                      1,
                      1,
                      1,
                      0,
                      0,
                      0,
                      0,
                      1,
                      0,
                      1,
                      0,
                      0,
                      0,
                      0,
                      0,
                      0,
                      0,
                      1,
                      1,
                      0,
                      0,
                      0,
                      1,
                      1,
                      1,
                      1,
                      0,
                      0,
                      0,
                      0,
                      1,
                      0,
                      0,
                      0,
                      0,
                      0,
                      0,
                      0,
                      0,
                      0,
                      0,
                      1,
                      1,
                      0,
                      1,
                      0,
                      0,
                      0,
                      1,
                      1,
                      1,
                      1,
                      1,
                      0,
                      0,
                      0,
                      1,
                      0,
                      0,
                      1,
                      1,
                      0,
                      0,
                      1,
                      0,
                      0,
                      0,
                      0,
                      0,
                      0,
                      1,
                      0,
                      0,
                      0,
                      1,
                      0,
                      1,
                      1,
                      1,
                      1,
                      0,
                      0,
                      0,
                      1,
                      0,
                      0,
                      1,
                      1,
                      0,
                      0,
                      1,
                      0,
                      1,
                      0,
                      0,
                      1,
                      1,
                      0,
                      0,
                      0,
                      1,
                      1,
                      0,
                      0,
                      0,
                      0,
                      0,
                      0,
                      1,
                      0,
                      1,
                      0
                    ],
                    "coloraxis": "coloraxis",
                    "symbol": "circle"
                  },
                  "mode": "markers",
                  "name": "",
                  "orientation": "v",
                  "showlegend": false,
                  "type": "scatter",
                  "x": [
                    22,
                    38,
                    26,
                    35,
                    35,
                    null,
                    54,
                    2,
                    27,
                    14,
                    4,
                    58,
                    20,
                    39,
                    14,
                    55,
                    2,
                    null,
                    31,
                    null,
                    35,
                    34,
                    15,
                    28,
                    8,
                    38,
                    null,
                    19,
                    null,
                    null,
                    40,
                    null,
                    null,
                    66,
                    28,
                    42,
                    null,
                    21,
                    18,
                    14,
                    40,
                    27,
                    null,
                    3,
                    19,
                    null,
                    null,
                    null,
                    null,
                    18,
                    7,
                    21,
                    49,
                    29,
                    65,
                    null,
                    21,
                    28.5,
                    5,
                    11,
                    22,
                    38,
                    45,
                    4,
                    null,
                    null,
                    29,
                    19,
                    17,
                    26,
                    32,
                    16,
                    21,
                    26,
                    32,
                    25,
                    null,
                    null,
                    0.83,
                    30,
                    22,
                    29,
                    null,
                    28,
                    17,
                    33,
                    16,
                    null,
                    23,
                    24,
                    29,
                    20,
                    46,
                    26,
                    59,
                    null,
                    71,
                    23,
                    34,
                    34,
                    28,
                    null,
                    21,
                    33,
                    37,
                    28,
                    21,
                    null,
                    38,
                    null,
                    47,
                    14.5,
                    22,
                    20,
                    17,
                    21,
                    70.5,
                    29,
                    24,
                    2,
                    21,
                    null,
                    32.5,
                    32.5,
                    54,
                    12,
                    null,
                    24,
                    null,
                    45,
                    33,
                    20,
                    47,
                    29,
                    25,
                    23,
                    19,
                    37,
                    16,
                    24,
                    null,
                    22,
                    24,
                    19,
                    18,
                    19,
                    27,
                    9,
                    36.5,
                    42,
                    51,
                    22,
                    55.5,
                    40.5,
                    null,
                    51,
                    16,
                    30,
                    null,
                    null,
                    44,
                    40,
                    26,
                    17,
                    1,
                    9,
                    null,
                    45,
                    null,
                    28,
                    61,
                    4,
                    1,
                    21,
                    56,
                    18,
                    null,
                    50,
                    30,
                    36,
                    null,
                    null,
                    9,
                    1,
                    4,
                    null,
                    null,
                    45,
                    40,
                    36,
                    32,
                    19,
                    19,
                    3,
                    44,
                    58,
                    null,
                    42,
                    null,
                    24,
                    28,
                    null,
                    34,
                    45.5,
                    18,
                    2,
                    32,
                    26,
                    16,
                    40,
                    24,
                    35,
                    22,
                    30,
                    null,
                    31,
                    27,
                    42,
                    32,
                    30,
                    16,
                    27,
                    51,
                    null,
                    38,
                    22,
                    19,
                    20.5,
                    18,
                    null,
                    35,
                    29,
                    59,
                    5,
                    24,
                    null,
                    44,
                    8,
                    19,
                    33,
                    null,
                    null,
                    29,
                    22,
                    30,
                    44,
                    25,
                    24,
                    37,
                    54,
                    null,
                    29,
                    62,
                    30,
                    41,
                    29,
                    null,
                    30,
                    35,
                    50,
                    null,
                    3,
                    52,
                    40,
                    null,
                    36,
                    16,
                    25,
                    58,
                    35,
                    null,
                    25,
                    41,
                    37,
                    null,
                    63,
                    45,
                    null,
                    7,
                    35,
                    65,
                    28,
                    16,
                    19,
                    null,
                    33,
                    30,
                    22,
                    42,
                    22,
                    26,
                    19,
                    36,
                    24,
                    24,
                    null,
                    23.5,
                    2,
                    null,
                    50,
                    null,
                    null,
                    19,
                    null,
                    null,
                    0.92,
                    null,
                    17,
                    30,
                    30,
                    24,
                    18,
                    26,
                    28,
                    43,
                    26,
                    24,
                    54,
                    31,
                    40,
                    22,
                    27,
                    30,
                    22,
                    null,
                    36,
                    61,
                    36,
                    31,
                    16,
                    null,
                    45.5,
                    38,
                    16,
                    null,
                    null,
                    29,
                    41,
                    45,
                    45,
                    2,
                    24,
                    28,
                    25,
                    36,
                    24,
                    40,
                    null,
                    3,
                    42,
                    23,
                    null,
                    15,
                    25,
                    null,
                    28,
                    22,
                    38,
                    null,
                    null,
                    40,
                    29,
                    45,
                    35,
                    null,
                    30,
                    60,
                    null,
                    null,
                    24,
                    25,
                    18,
                    19,
                    22,
                    3,
                    null,
                    22,
                    27,
                    20,
                    19,
                    42,
                    1,
                    32,
                    35,
                    null,
                    18,
                    1,
                    36,
                    null,
                    17,
                    36,
                    21,
                    28,
                    23,
                    24,
                    22,
                    31,
                    46,
                    23,
                    28,
                    39,
                    26,
                    21,
                    28,
                    20,
                    34,
                    51,
                    3,
                    21,
                    null,
                    null,
                    null,
                    33,
                    null,
                    44,
                    null,
                    34,
                    18,
                    30,
                    10,
                    null,
                    21,
                    29,
                    28,
                    18,
                    null,
                    28,
                    19,
                    null,
                    32,
                    28,
                    null,
                    42,
                    17,
                    50,
                    14,
                    21,
                    24,
                    64,
                    31,
                    45,
                    20,
                    25,
                    28,
                    null,
                    4,
                    13,
                    34,
                    5,
                    52,
                    36,
                    null,
                    30,
                    49,
                    null,
                    29,
                    65,
                    null,
                    50,
                    null,
                    48,
                    34,
                    47,
                    48,
                    null,
                    38,
                    null,
                    56,
                    null,
                    0.75,
                    null,
                    38,
                    33,
                    23,
                    22,
                    null,
                    34,
                    29,
                    22,
                    2,
                    9,
                    null,
                    50,
                    63,
                    25,
                    null,
                    35,
                    58,
                    30,
                    9,
                    null,
                    21,
                    55,
                    71,
                    21,
                    null,
                    54,
                    null,
                    25,
                    24,
                    17,
                    21,
                    null,
                    37,
                    16,
                    18,
                    33,
                    null,
                    28,
                    26,
                    29,
                    null,
                    36,
                    54,
                    24,
                    47,
                    34,
                    null,
                    36,
                    32,
                    30,
                    22,
                    null,
                    44,
                    null,
                    40.5,
                    50,
                    null,
                    39,
                    23,
                    2,
                    null,
                    17,
                    null,
                    30,
                    7,
                    45,
                    30,
                    null,
                    22,
                    36,
                    9,
                    11,
                    32,
                    50,
                    64,
                    19,
                    null,
                    33,
                    8,
                    17,
                    27,
                    null,
                    22,
                    22,
                    62,
                    48,
                    null,
                    39,
                    36,
                    null,
                    40,
                    28,
                    null,
                    null,
                    24,
                    19,
                    29,
                    null,
                    32,
                    62,
                    53,
                    36,
                    null,
                    16,
                    19,
                    34,
                    39,
                    null,
                    32,
                    25,
                    39,
                    54,
                    36,
                    null,
                    18,
                    47,
                    60,
                    22,
                    null,
                    35,
                    52,
                    47,
                    null,
                    37,
                    36,
                    null,
                    49,
                    null,
                    49,
                    24,
                    null,
                    null,
                    44,
                    35,
                    36,
                    30,
                    27,
                    22,
                    40,
                    39,
                    null,
                    null,
                    null,
                    35,
                    24,
                    34,
                    26,
                    4,
                    26,
                    27,
                    42,
                    20,
                    21,
                    21,
                    61,
                    57,
                    21,
                    26,
                    null,
                    80,
                    51,
                    32,
                    null,
                    9,
                    28,
                    32,
                    31,
                    41,
                    null,
                    20,
                    24,
                    2,
                    null,
                    0.75,
                    48,
                    19,
                    56,
                    null,
                    23,
                    null,
                    18,
                    21,
                    null,
                    18,
                    24,
                    null,
                    32,
                    23,
                    58,
                    50,
                    40,
                    47,
                    36,
                    20,
                    32,
                    25,
                    null,
                    43,
                    null,
                    40,
                    31,
                    70,
                    31,
                    null,
                    18,
                    24.5,
                    18,
                    43,
                    36,
                    null,
                    27,
                    20,
                    14,
                    60,
                    25,
                    14,
                    19,
                    18,
                    15,
                    31,
                    4,
                    null,
                    25,
                    60,
                    52,
                    44,
                    null,
                    49,
                    42,
                    18,
                    35,
                    18,
                    25,
                    26,
                    39,
                    45,
                    42,
                    22,
                    null,
                    24,
                    null,
                    48,
                    29,
                    52,
                    19,
                    38,
                    27,
                    null,
                    33,
                    6,
                    17,
                    34,
                    50,
                    27,
                    20,
                    30,
                    null,
                    25,
                    25,
                    29,
                    11,
                    null,
                    23,
                    23,
                    28.5,
                    48,
                    35,
                    null,
                    null,
                    null,
                    36,
                    21,
                    24,
                    31,
                    70,
                    16,
                    30,
                    19,
                    31,
                    4,
                    6,
                    33,
                    23,
                    48,
                    0.67,
                    28,
                    18,
                    34,
                    33,
                    null,
                    41,
                    20,
                    36,
                    16,
                    51,
                    null,
                    30.5,
                    null,
                    32,
                    24,
                    48,
                    57,
                    null,
                    54,
                    18,
                    null,
                    5,
                    null,
                    43,
                    13,
                    17,
                    29,
                    null,
                    25,
                    25,
                    18,
                    8,
                    1,
                    46,
                    null,
                    16,
                    null,
                    null,
                    25,
                    39,
                    49,
                    31,
                    30,
                    30,
                    34,
                    31,
                    11,
                    0.42,
                    27,
                    31,
                    39,
                    18,
                    39,
                    33,
                    26,
                    39,
                    35,
                    6,
                    30.5,
                    null,
                    23,
                    31,
                    43,
                    10,
                    52,
                    27,
                    38,
                    27,
                    2,
                    null,
                    null,
                    1,
                    null,
                    62,
                    15,
                    0.83,
                    null,
                    23,
                    18,
                    39,
                    21,
                    null,
                    32,
                    null,
                    20,
                    16,
                    30,
                    34.5,
                    17,
                    42,
                    null,
                    35,
                    28,
                    null,
                    4,
                    74,
                    9,
                    16,
                    44,
                    18,
                    45,
                    51,
                    24,
                    null,
                    41,
                    21,
                    48,
                    null,
                    24,
                    42,
                    27,
                    31,
                    null,
                    4,
                    26,
                    47,
                    33,
                    47,
                    28,
                    15,
                    20,
                    19,
                    null,
                    56,
                    25,
                    33,
                    22,
                    28,
                    25,
                    39,
                    27,
                    19,
                    null,
                    26,
                    32
                  ],
                  "xaxis": "x",
                  "y": [
                    7.25,
                    71.2833,
                    7.925,
                    53.1,
                    8.05,
                    8.4583,
                    51.8625,
                    21.075,
                    11.1333,
                    30.0708,
                    16.7,
                    26.55,
                    8.05,
                    31.275,
                    7.8542,
                    16,
                    29.125,
                    13,
                    18,
                    7.225,
                    26,
                    13,
                    8.0292,
                    35.5,
                    21.075,
                    31.3875,
                    7.225,
                    263,
                    7.8792,
                    7.8958,
                    27.7208,
                    146.5208,
                    7.75,
                    10.5,
                    82.1708,
                    52,
                    7.2292,
                    8.05,
                    18,
                    11.2417,
                    9.475,
                    21,
                    7.8958,
                    41.5792,
                    7.8792,
                    8.05,
                    15.5,
                    7.75,
                    21.6792,
                    17.8,
                    39.6875,
                    7.8,
                    76.7292,
                    26,
                    61.9792,
                    35.5,
                    10.5,
                    7.2292,
                    27.75,
                    46.9,
                    7.2292,
                    80,
                    83.475,
                    27.9,
                    27.7208,
                    15.2458,
                    10.5,
                    8.1583,
                    7.925,
                    8.6625,
                    10.5,
                    46.9,
                    73.5,
                    14.4542,
                    56.4958,
                    7.65,
                    7.8958,
                    8.05,
                    29,
                    12.475,
                    9,
                    9.5,
                    7.7875,
                    47.1,
                    10.5,
                    15.85,
                    34.375,
                    8.05,
                    263,
                    8.05,
                    8.05,
                    7.8542,
                    61.175,
                    20.575,
                    7.25,
                    8.05,
                    34.6542,
                    63.3583,
                    23,
                    26,
                    7.8958,
                    7.8958,
                    77.2875,
                    8.6542,
                    7.925,
                    7.8958,
                    7.65,
                    7.775,
                    7.8958,
                    24.15,
                    52,
                    14.4542,
                    8.05,
                    9.825,
                    14.4583,
                    7.925,
                    7.75,
                    21,
                    247.5208,
                    31.275,
                    73.5,
                    8.05,
                    30.0708,
                    13,
                    77.2875,
                    11.2417,
                    7.75,
                    7.1417,
                    22.3583,
                    6.975,
                    7.8958,
                    7.05,
                    14.5,
                    26,
                    13,
                    15.0458,
                    26.2833,
                    53.1,
                    9.2167,
                    79.2,
                    15.2458,
                    7.75,
                    15.85,
                    6.75,
                    11.5,
                    36.75,
                    7.7958,
                    34.375,
                    26,
                    13,
                    12.525,
                    66.6,
                    8.05,
                    14.5,
                    7.3125,
                    61.3792,
                    7.7333,
                    8.05,
                    8.6625,
                    69.55,
                    16.1,
                    15.75,
                    7.775,
                    8.6625,
                    39.6875,
                    20.525,
                    55,
                    27.9,
                    25.925,
                    56.4958,
                    33.5,
                    29.125,
                    11.1333,
                    7.925,
                    30.6958,
                    7.8542,
                    25.4667,
                    28.7125,
                    13,
                    0,
                    69.55,
                    15.05,
                    31.3875,
                    39,
                    22.025,
                    50,
                    15.5,
                    26.55,
                    15.5,
                    7.8958,
                    13,
                    13,
                    7.8542,
                    26,
                    27.7208,
                    146.5208,
                    7.75,
                    8.4042,
                    7.75,
                    13,
                    9.5,
                    69.55,
                    6.4958,
                    7.225,
                    8.05,
                    10.4625,
                    15.85,
                    18.7875,
                    7.75,
                    31,
                    7.05,
                    21,
                    7.25,
                    13,
                    7.75,
                    113.275,
                    7.925,
                    27,
                    76.2917,
                    10.5,
                    8.05,
                    13,
                    8.05,
                    7.8958,
                    90,
                    9.35,
                    10.5,
                    7.25,
                    13,
                    25.4667,
                    83.475,
                    7.775,
                    13.5,
                    31.3875,
                    10.5,
                    7.55,
                    26,
                    26.25,
                    10.5,
                    12.275,
                    14.4542,
                    15.5,
                    10.5,
                    7.125,
                    7.225,
                    90,
                    7.775,
                    14.5,
                    52.5542,
                    26,
                    7.25,
                    10.4625,
                    26.55,
                    16.1,
                    20.2125,
                    15.2458,
                    79.2,
                    86.5,
                    512.3292,
                    26,
                    7.75,
                    31.3875,
                    79.65,
                    0,
                    7.75,
                    10.5,
                    39.6875,
                    7.775,
                    153.4625,
                    135.6333,
                    31,
                    0,
                    19.5,
                    29.7,
                    7.75,
                    77.9583,
                    7.75,
                    0,
                    29.125,
                    20.25,
                    7.75,
                    7.8542,
                    9.5,
                    8.05,
                    26,
                    8.6625,
                    9.5,
                    7.8958,
                    13,
                    7.75,
                    78.85,
                    91.0792,
                    12.875,
                    8.85,
                    7.8958,
                    27.7208,
                    7.2292,
                    151.55,
                    30.5,
                    247.5208,
                    7.75,
                    23.25,
                    0,
                    12.35,
                    8.05,
                    151.55,
                    110.8833,
                    108.9,
                    24,
                    56.9292,
                    83.1583,
                    262.375,
                    26,
                    7.8958,
                    26.25,
                    7.8542,
                    26,
                    14,
                    164.8667,
                    134.5,
                    7.25,
                    7.8958,
                    12.35,
                    29,
                    69.55,
                    135.6333,
                    6.2375,
                    13,
                    20.525,
                    57.9792,
                    23.25,
                    28.5,
                    153.4625,
                    18,
                    133.65,
                    7.8958,
                    66.6,
                    134.5,
                    8.05,
                    35.5,
                    26,
                    263,
                    13,
                    13,
                    13,
                    13,
                    13,
                    16.1,
                    15.9,
                    8.6625,
                    9.225,
                    35,
                    7.2292,
                    17.8,
                    7.225,
                    9.5,
                    55,
                    13,
                    7.8792,
                    7.8792,
                    27.9,
                    27.7208,
                    14.4542,
                    7.05,
                    15.5,
                    7.25,
                    75.25,
                    7.2292,
                    7.75,
                    69.3,
                    55.4417,
                    6.4958,
                    8.05,
                    135.6333,
                    21.075,
                    82.1708,
                    7.25,
                    211.5,
                    4.0125,
                    7.775,
                    227.525,
                    15.7417,
                    7.925,
                    52,
                    7.8958,
                    73.5,
                    46.9,
                    13,
                    7.7292,
                    12,
                    120,
                    7.7958,
                    7.925,
                    113.275,
                    16.7,
                    7.7958,
                    7.8542,
                    26,
                    10.5,
                    12.65,
                    7.925,
                    8.05,
                    9.825,
                    15.85,
                    8.6625,
                    21,
                    7.75,
                    18.75,
                    7.775,
                    25.4667,
                    7.8958,
                    6.8583,
                    90,
                    0,
                    7.925,
                    8.05,
                    32.5,
                    13,
                    13,
                    24.15,
                    7.8958,
                    7.7333,
                    7.875,
                    14.4,
                    20.2125,
                    7.25,
                    26,
                    26,
                    7.75,
                    8.05,
                    26.55,
                    16.1,
                    26,
                    7.125,
                    55.9,
                    120,
                    34.375,
                    18.75,
                    263,
                    10.5,
                    26.25,
                    9.5,
                    7.775,
                    13,
                    8.1125,
                    81.8583,
                    19.5,
                    26.55,
                    19.2583,
                    30.5,
                    27.75,
                    19.9667,
                    27.75,
                    89.1042,
                    8.05,
                    7.8958,
                    26.55,
                    51.8625,
                    10.5,
                    7.75,
                    26.55,
                    8.05,
                    38.5,
                    13,
                    8.05,
                    7.05,
                    0,
                    26.55,
                    7.725,
                    19.2583,
                    7.25,
                    8.6625,
                    27.75,
                    13.7917,
                    9.8375,
                    52,
                    21,
                    7.0458,
                    7.5208,
                    12.2875,
                    46.9,
                    0,
                    8.05,
                    9.5875,
                    91.0792,
                    25.4667,
                    90,
                    29.7,
                    8.05,
                    15.9,
                    19.9667,
                    7.25,
                    30.5,
                    49.5042,
                    8.05,
                    14.4583,
                    78.2667,
                    15.1,
                    151.55,
                    7.7958,
                    8.6625,
                    7.75,
                    7.6292,
                    9.5875,
                    86.5,
                    108.9,
                    26,
                    26.55,
                    22.525,
                    56.4958,
                    7.75,
                    8.05,
                    26.2875,
                    59.4,
                    7.4958,
                    34.0208,
                    10.5,
                    24.15,
                    26,
                    7.8958,
                    93.5,
                    7.8958,
                    7.225,
                    57.9792,
                    7.2292,
                    7.75,
                    10.5,
                    221.7792,
                    7.925,
                    11.5,
                    26,
                    7.2292,
                    7.2292,
                    22.3583,
                    8.6625,
                    26.25,
                    26.55,
                    106.425,
                    14.5,
                    49.5,
                    71,
                    31.275,
                    31.275,
                    26,
                    106.425,
                    26,
                    26,
                    13.8625,
                    20.525,
                    36.75,
                    110.8833,
                    26,
                    7.8292,
                    7.225,
                    7.775,
                    26.55,
                    39.6,
                    227.525,
                    79.65,
                    17.4,
                    7.75,
                    7.8958,
                    13.5,
                    8.05,
                    8.05,
                    24.15,
                    7.8958,
                    21.075,
                    7.2292,
                    7.8542,
                    10.5,
                    51.4792,
                    26.3875,
                    7.75,
                    8.05,
                    14.5,
                    13,
                    55.9,
                    14.4583,
                    7.925,
                    30,
                    110.8833,
                    26,
                    40.125,
                    8.7125,
                    79.65,
                    15,
                    79.2,
                    8.05,
                    8.05,
                    7.125,
                    78.2667,
                    7.25,
                    7.75,
                    26,
                    24.15,
                    33,
                    0,
                    7.225,
                    56.9292,
                    27,
                    7.8958,
                    42.4,
                    8.05,
                    26.55,
                    15.55,
                    7.8958,
                    30.5,
                    41.5792,
                    153.4625,
                    31.275,
                    7.05,
                    15.5,
                    7.75,
                    8.05,
                    65,
                    14.4,
                    16.1,
                    39,
                    10.5,
                    14.4542,
                    52.5542,
                    15.7417,
                    7.8542,
                    16.1,
                    32.3208,
                    12.35,
                    77.9583,
                    7.8958,
                    7.7333,
                    30,
                    7.0542,
                    30.5,
                    0,
                    27.9,
                    13,
                    7.925,
                    26.25,
                    39.6875,
                    16.1,
                    7.8542,
                    69.3,
                    27.9,
                    56.4958,
                    19.2583,
                    76.7292,
                    7.8958,
                    35.5,
                    7.55,
                    7.55,
                    7.8958,
                    23,
                    8.4333,
                    7.8292,
                    6.75,
                    73.5,
                    7.8958,
                    15.5,
                    13,
                    113.275,
                    133.65,
                    7.225,
                    25.5875,
                    7.4958,
                    7.925,
                    73.5,
                    13,
                    7.775,
                    8.05,
                    52,
                    39,
                    52,
                    10.5,
                    13,
                    0,
                    7.775,
                    8.05,
                    9.8417,
                    46.9,
                    512.3292,
                    8.1375,
                    76.7292,
                    9.225,
                    46.9,
                    39,
                    41.5792,
                    39.6875,
                    10.1708,
                    7.7958,
                    211.3375,
                    57,
                    13.4167,
                    56.4958,
                    7.225,
                    26.55,
                    13.5,
                    8.05,
                    7.7333,
                    110.8833,
                    7.65,
                    227.525,
                    26.2875,
                    14.4542,
                    7.7417,
                    7.8542,
                    26,
                    13.5,
                    26.2875,
                    151.55,
                    15.2458,
                    49.5042,
                    26.55,
                    52,
                    9.4833,
                    13,
                    7.65,
                    227.525,
                    10.5,
                    15.5,
                    7.775,
                    33,
                    7.0542,
                    13,
                    13,
                    53.1,
                    8.6625,
                    21,
                    7.7375,
                    26,
                    7.925,
                    211.3375,
                    18.7875,
                    0,
                    13,
                    13,
                    16.1,
                    34.375,
                    512.3292,
                    7.8958,
                    7.8958,
                    30,
                    78.85,
                    262.375,
                    16.1,
                    7.925,
                    71,
                    20.25,
                    13,
                    53.1,
                    7.75,
                    23,
                    12.475,
                    9.5,
                    7.8958,
                    65,
                    14.5,
                    7.7958,
                    11.5,
                    8.05,
                    86.5,
                    14.5,
                    7.125,
                    7.2292,
                    120,
                    7.775,
                    77.9583,
                    39.6,
                    7.75,
                    24.15,
                    8.3625,
                    9.5,
                    7.8542,
                    10.5,
                    7.225,
                    23,
                    7.75,
                    7.75,
                    12.475,
                    7.7375,
                    211.3375,
                    7.2292,
                    57,
                    30,
                    23.45,
                    7.05,
                    7.25,
                    7.4958,
                    29.125,
                    20.575,
                    79.2,
                    7.75,
                    26,
                    69.55,
                    30.6958,
                    7.8958,
                    13,
                    25.9292,
                    8.6833,
                    7.2292,
                    24.15,
                    13,
                    26.25,
                    120,
                    8.5167,
                    6.975,
                    7.775,
                    0,
                    7.775,
                    13,
                    53.1,
                    7.8875,
                    24.15,
                    10.5,
                    31.275,
                    8.05,
                    0,
                    7.925,
                    37.0042,
                    6.45,
                    27.9,
                    93.5,
                    8.6625,
                    0,
                    12.475,
                    39.6875,
                    6.95,
                    56.4958,
                    37.0042,
                    7.75,
                    80,
                    14.4542,
                    18.75,
                    7.2292,
                    7.8542,
                    8.3,
                    83.1583,
                    8.6625,
                    8.05,
                    56.4958,
                    29.7,
                    7.925,
                    10.5,
                    31,
                    6.4375,
                    8.6625,
                    7.55,
                    69.55,
                    7.8958,
                    33,
                    89.1042,
                    31.275,
                    7.775,
                    15.2458,
                    39.4,
                    26,
                    9.35,
                    164.8667,
                    26.55,
                    19.2583,
                    7.2292,
                    14.1083,
                    11.5,
                    25.9292,
                    69.55,
                    13,
                    13,
                    13.8583,
                    50.4958,
                    9.5,
                    11.1333,
                    7.8958,
                    52.5542,
                    5,
                    9,
                    24,
                    7.225,
                    9.8458,
                    7.8958,
                    7.8958,
                    83.1583,
                    26,
                    7.8958,
                    10.5167,
                    10.5,
                    7.05,
                    29.125,
                    13,
                    30,
                    23.45,
                    30,
                    7.75
                  ],
                  "yaxis": "y"
                }
              ],
              "layout": {
                "coloraxis": {
                  "colorbar": {
                    "title": {
                      "text": "Survived"
                    }
                  },
                  "colorscale": [
                    [
                      0,
                      "#0d0887"
                    ],
                    [
                      0.1111111111111111,
                      "#46039f"
                    ],
                    [
                      0.2222222222222222,
                      "#7201a8"
                    ],
                    [
                      0.3333333333333333,
                      "#9c179e"
                    ],
                    [
                      0.4444444444444444,
                      "#bd3786"
                    ],
                    [
                      0.5555555555555556,
                      "#d8576b"
                    ],
                    [
                      0.6666666666666666,
                      "#ed7953"
                    ],
                    [
                      0.7777777777777778,
                      "#fb9f3a"
                    ],
                    [
                      0.8888888888888888,
                      "#fdca26"
                    ],
                    [
                      1,
                      "#f0f921"
                    ]
                  ]
                },
                "legend": {
                  "tracegroupgap": 0
                },
                "margin": {
                  "t": 60
                },
                "template": {
                  "data": {
                    "bar": [
                      {
                        "error_x": {
                          "color": "#2a3f5f"
                        },
                        "error_y": {
                          "color": "#2a3f5f"
                        },
                        "marker": {
                          "line": {
                            "color": "#E5ECF6",
                            "width": 0.5
                          },
                          "pattern": {
                            "fillmode": "overlay",
                            "size": 10,
                            "solidity": 0.2
                          }
                        },
                        "type": "bar"
                      }
                    ],
                    "barpolar": [
                      {
                        "marker": {
                          "line": {
                            "color": "#E5ECF6",
                            "width": 0.5
                          },
                          "pattern": {
                            "fillmode": "overlay",
                            "size": 10,
                            "solidity": 0.2
                          }
                        },
                        "type": "barpolar"
                      }
                    ],
                    "carpet": [
                      {
                        "aaxis": {
                          "endlinecolor": "#2a3f5f",
                          "gridcolor": "white",
                          "linecolor": "white",
                          "minorgridcolor": "white",
                          "startlinecolor": "#2a3f5f"
                        },
                        "baxis": {
                          "endlinecolor": "#2a3f5f",
                          "gridcolor": "white",
                          "linecolor": "white",
                          "minorgridcolor": "white",
                          "startlinecolor": "#2a3f5f"
                        },
                        "type": "carpet"
                      }
                    ],
                    "choropleth": [
                      {
                        "colorbar": {
                          "outlinewidth": 0,
                          "ticks": ""
                        },
                        "type": "choropleth"
                      }
                    ],
                    "contour": [
                      {
                        "colorbar": {
                          "outlinewidth": 0,
                          "ticks": ""
                        },
                        "colorscale": [
                          [
                            0,
                            "#0d0887"
                          ],
                          [
                            0.1111111111111111,
                            "#46039f"
                          ],
                          [
                            0.2222222222222222,
                            "#7201a8"
                          ],
                          [
                            0.3333333333333333,
                            "#9c179e"
                          ],
                          [
                            0.4444444444444444,
                            "#bd3786"
                          ],
                          [
                            0.5555555555555556,
                            "#d8576b"
                          ],
                          [
                            0.6666666666666666,
                            "#ed7953"
                          ],
                          [
                            0.7777777777777778,
                            "#fb9f3a"
                          ],
                          [
                            0.8888888888888888,
                            "#fdca26"
                          ],
                          [
                            1,
                            "#f0f921"
                          ]
                        ],
                        "type": "contour"
                      }
                    ],
                    "contourcarpet": [
                      {
                        "colorbar": {
                          "outlinewidth": 0,
                          "ticks": ""
                        },
                        "type": "contourcarpet"
                      }
                    ],
                    "heatmap": [
                      {
                        "colorbar": {
                          "outlinewidth": 0,
                          "ticks": ""
                        },
                        "colorscale": [
                          [
                            0,
                            "#0d0887"
                          ],
                          [
                            0.1111111111111111,
                            "#46039f"
                          ],
                          [
                            0.2222222222222222,
                            "#7201a8"
                          ],
                          [
                            0.3333333333333333,
                            "#9c179e"
                          ],
                          [
                            0.4444444444444444,
                            "#bd3786"
                          ],
                          [
                            0.5555555555555556,
                            "#d8576b"
                          ],
                          [
                            0.6666666666666666,
                            "#ed7953"
                          ],
                          [
                            0.7777777777777778,
                            "#fb9f3a"
                          ],
                          [
                            0.8888888888888888,
                            "#fdca26"
                          ],
                          [
                            1,
                            "#f0f921"
                          ]
                        ],
                        "type": "heatmap"
                      }
                    ],
                    "heatmapgl": [
                      {
                        "colorbar": {
                          "outlinewidth": 0,
                          "ticks": ""
                        },
                        "colorscale": [
                          [
                            0,
                            "#0d0887"
                          ],
                          [
                            0.1111111111111111,
                            "#46039f"
                          ],
                          [
                            0.2222222222222222,
                            "#7201a8"
                          ],
                          [
                            0.3333333333333333,
                            "#9c179e"
                          ],
                          [
                            0.4444444444444444,
                            "#bd3786"
                          ],
                          [
                            0.5555555555555556,
                            "#d8576b"
                          ],
                          [
                            0.6666666666666666,
                            "#ed7953"
                          ],
                          [
                            0.7777777777777778,
                            "#fb9f3a"
                          ],
                          [
                            0.8888888888888888,
                            "#fdca26"
                          ],
                          [
                            1,
                            "#f0f921"
                          ]
                        ],
                        "type": "heatmapgl"
                      }
                    ],
                    "histogram": [
                      {
                        "marker": {
                          "pattern": {
                            "fillmode": "overlay",
                            "size": 10,
                            "solidity": 0.2
                          }
                        },
                        "type": "histogram"
                      }
                    ],
                    "histogram2d": [
                      {
                        "colorbar": {
                          "outlinewidth": 0,
                          "ticks": ""
                        },
                        "colorscale": [
                          [
                            0,
                            "#0d0887"
                          ],
                          [
                            0.1111111111111111,
                            "#46039f"
                          ],
                          [
                            0.2222222222222222,
                            "#7201a8"
                          ],
                          [
                            0.3333333333333333,
                            "#9c179e"
                          ],
                          [
                            0.4444444444444444,
                            "#bd3786"
                          ],
                          [
                            0.5555555555555556,
                            "#d8576b"
                          ],
                          [
                            0.6666666666666666,
                            "#ed7953"
                          ],
                          [
                            0.7777777777777778,
                            "#fb9f3a"
                          ],
                          [
                            0.8888888888888888,
                            "#fdca26"
                          ],
                          [
                            1,
                            "#f0f921"
                          ]
                        ],
                        "type": "histogram2d"
                      }
                    ],
                    "histogram2dcontour": [
                      {
                        "colorbar": {
                          "outlinewidth": 0,
                          "ticks": ""
                        },
                        "colorscale": [
                          [
                            0,
                            "#0d0887"
                          ],
                          [
                            0.1111111111111111,
                            "#46039f"
                          ],
                          [
                            0.2222222222222222,
                            "#7201a8"
                          ],
                          [
                            0.3333333333333333,
                            "#9c179e"
                          ],
                          [
                            0.4444444444444444,
                            "#bd3786"
                          ],
                          [
                            0.5555555555555556,
                            "#d8576b"
                          ],
                          [
                            0.6666666666666666,
                            "#ed7953"
                          ],
                          [
                            0.7777777777777778,
                            "#fb9f3a"
                          ],
                          [
                            0.8888888888888888,
                            "#fdca26"
                          ],
                          [
                            1,
                            "#f0f921"
                          ]
                        ],
                        "type": "histogram2dcontour"
                      }
                    ],
                    "mesh3d": [
                      {
                        "colorbar": {
                          "outlinewidth": 0,
                          "ticks": ""
                        },
                        "type": "mesh3d"
                      }
                    ],
                    "parcoords": [
                      {
                        "line": {
                          "colorbar": {
                            "outlinewidth": 0,
                            "ticks": ""
                          }
                        },
                        "type": "parcoords"
                      }
                    ],
                    "pie": [
                      {
                        "automargin": true,
                        "type": "pie"
                      }
                    ],
                    "scatter": [
                      {
                        "fillpattern": {
                          "fillmode": "overlay",
                          "size": 10,
                          "solidity": 0.2
                        },
                        "type": "scatter"
                      }
                    ],
                    "scatter3d": [
                      {
                        "line": {
                          "colorbar": {
                            "outlinewidth": 0,
                            "ticks": ""
                          }
                        },
                        "marker": {
                          "colorbar": {
                            "outlinewidth": 0,
                            "ticks": ""
                          }
                        },
                        "type": "scatter3d"
                      }
                    ],
                    "scattercarpet": [
                      {
                        "marker": {
                          "colorbar": {
                            "outlinewidth": 0,
                            "ticks": ""
                          }
                        },
                        "type": "scattercarpet"
                      }
                    ],
                    "scattergeo": [
                      {
                        "marker": {
                          "colorbar": {
                            "outlinewidth": 0,
                            "ticks": ""
                          }
                        },
                        "type": "scattergeo"
                      }
                    ],
                    "scattergl": [
                      {
                        "marker": {
                          "colorbar": {
                            "outlinewidth": 0,
                            "ticks": ""
                          }
                        },
                        "type": "scattergl"
                      }
                    ],
                    "scattermapbox": [
                      {
                        "marker": {
                          "colorbar": {
                            "outlinewidth": 0,
                            "ticks": ""
                          }
                        },
                        "type": "scattermapbox"
                      }
                    ],
                    "scatterpolar": [
                      {
                        "marker": {
                          "colorbar": {
                            "outlinewidth": 0,
                            "ticks": ""
                          }
                        },
                        "type": "scatterpolar"
                      }
                    ],
                    "scatterpolargl": [
                      {
                        "marker": {
                          "colorbar": {
                            "outlinewidth": 0,
                            "ticks": ""
                          }
                        },
                        "type": "scatterpolargl"
                      }
                    ],
                    "scatterternary": [
                      {
                        "marker": {
                          "colorbar": {
                            "outlinewidth": 0,
                            "ticks": ""
                          }
                        },
                        "type": "scatterternary"
                      }
                    ],
                    "surface": [
                      {
                        "colorbar": {
                          "outlinewidth": 0,
                          "ticks": ""
                        },
                        "colorscale": [
                          [
                            0,
                            "#0d0887"
                          ],
                          [
                            0.1111111111111111,
                            "#46039f"
                          ],
                          [
                            0.2222222222222222,
                            "#7201a8"
                          ],
                          [
                            0.3333333333333333,
                            "#9c179e"
                          ],
                          [
                            0.4444444444444444,
                            "#bd3786"
                          ],
                          [
                            0.5555555555555556,
                            "#d8576b"
                          ],
                          [
                            0.6666666666666666,
                            "#ed7953"
                          ],
                          [
                            0.7777777777777778,
                            "#fb9f3a"
                          ],
                          [
                            0.8888888888888888,
                            "#fdca26"
                          ],
                          [
                            1,
                            "#f0f921"
                          ]
                        ],
                        "type": "surface"
                      }
                    ],
                    "table": [
                      {
                        "cells": {
                          "fill": {
                            "color": "#EBF0F8"
                          },
                          "line": {
                            "color": "white"
                          }
                        },
                        "header": {
                          "fill": {
                            "color": "#C8D4E3"
                          },
                          "line": {
                            "color": "white"
                          }
                        },
                        "type": "table"
                      }
                    ]
                  },
                  "layout": {
                    "annotationdefaults": {
                      "arrowcolor": "#2a3f5f",
                      "arrowhead": 0,
                      "arrowwidth": 1
                    },
                    "autotypenumbers": "strict",
                    "coloraxis": {
                      "colorbar": {
                        "outlinewidth": 0,
                        "ticks": ""
                      }
                    },
                    "colorscale": {
                      "diverging": [
                        [
                          0,
                          "#8e0152"
                        ],
                        [
                          0.1,
                          "#c51b7d"
                        ],
                        [
                          0.2,
                          "#de77ae"
                        ],
                        [
                          0.3,
                          "#f1b6da"
                        ],
                        [
                          0.4,
                          "#fde0ef"
                        ],
                        [
                          0.5,
                          "#f7f7f7"
                        ],
                        [
                          0.6,
                          "#e6f5d0"
                        ],
                        [
                          0.7,
                          "#b8e186"
                        ],
                        [
                          0.8,
                          "#7fbc41"
                        ],
                        [
                          0.9,
                          "#4d9221"
                        ],
                        [
                          1,
                          "#276419"
                        ]
                      ],
                      "sequential": [
                        [
                          0,
                          "#0d0887"
                        ],
                        [
                          0.1111111111111111,
                          "#46039f"
                        ],
                        [
                          0.2222222222222222,
                          "#7201a8"
                        ],
                        [
                          0.3333333333333333,
                          "#9c179e"
                        ],
                        [
                          0.4444444444444444,
                          "#bd3786"
                        ],
                        [
                          0.5555555555555556,
                          "#d8576b"
                        ],
                        [
                          0.6666666666666666,
                          "#ed7953"
                        ],
                        [
                          0.7777777777777778,
                          "#fb9f3a"
                        ],
                        [
                          0.8888888888888888,
                          "#fdca26"
                        ],
                        [
                          1,
                          "#f0f921"
                        ]
                      ],
                      "sequentialminus": [
                        [
                          0,
                          "#0d0887"
                        ],
                        [
                          0.1111111111111111,
                          "#46039f"
                        ],
                        [
                          0.2222222222222222,
                          "#7201a8"
                        ],
                        [
                          0.3333333333333333,
                          "#9c179e"
                        ],
                        [
                          0.4444444444444444,
                          "#bd3786"
                        ],
                        [
                          0.5555555555555556,
                          "#d8576b"
                        ],
                        [
                          0.6666666666666666,
                          "#ed7953"
                        ],
                        [
                          0.7777777777777778,
                          "#fb9f3a"
                        ],
                        [
                          0.8888888888888888,
                          "#fdca26"
                        ],
                        [
                          1,
                          "#f0f921"
                        ]
                      ]
                    },
                    "colorway": [
                      "#636efa",
                      "#EF553B",
                      "#00cc96",
                      "#ab63fa",
                      "#FFA15A",
                      "#19d3f3",
                      "#FF6692",
                      "#B6E880",
                      "#FF97FF",
                      "#FECB52"
                    ],
                    "font": {
                      "color": "#2a3f5f"
                    },
                    "geo": {
                      "bgcolor": "white",
                      "lakecolor": "white",
                      "landcolor": "#E5ECF6",
                      "showlakes": true,
                      "showland": true,
                      "subunitcolor": "white"
                    },
                    "hoverlabel": {
                      "align": "left"
                    },
                    "hovermode": "closest",
                    "mapbox": {
                      "style": "light"
                    },
                    "paper_bgcolor": "white",
                    "plot_bgcolor": "#E5ECF6",
                    "polar": {
                      "angularaxis": {
                        "gridcolor": "white",
                        "linecolor": "white",
                        "ticks": ""
                      },
                      "bgcolor": "#E5ECF6",
                      "radialaxis": {
                        "gridcolor": "white",
                        "linecolor": "white",
                        "ticks": ""
                      }
                    },
                    "scene": {
                      "xaxis": {
                        "backgroundcolor": "#E5ECF6",
                        "gridcolor": "white",
                        "gridwidth": 2,
                        "linecolor": "white",
                        "showbackground": true,
                        "ticks": "",
                        "zerolinecolor": "white"
                      },
                      "yaxis": {
                        "backgroundcolor": "#E5ECF6",
                        "gridcolor": "white",
                        "gridwidth": 2,
                        "linecolor": "white",
                        "showbackground": true,
                        "ticks": "",
                        "zerolinecolor": "white"
                      },
                      "zaxis": {
                        "backgroundcolor": "#E5ECF6",
                        "gridcolor": "white",
                        "gridwidth": 2,
                        "linecolor": "white",
                        "showbackground": true,
                        "ticks": "",
                        "zerolinecolor": "white"
                      }
                    },
                    "shapedefaults": {
                      "line": {
                        "color": "#2a3f5f"
                      }
                    },
                    "ternary": {
                      "aaxis": {
                        "gridcolor": "white",
                        "linecolor": "white",
                        "ticks": ""
                      },
                      "baxis": {
                        "gridcolor": "white",
                        "linecolor": "white",
                        "ticks": ""
                      },
                      "bgcolor": "#E5ECF6",
                      "caxis": {
                        "gridcolor": "white",
                        "linecolor": "white",
                        "ticks": ""
                      }
                    },
                    "title": {
                      "x": 0.05
                    },
                    "xaxis": {
                      "automargin": true,
                      "gridcolor": "white",
                      "linecolor": "white",
                      "ticks": "",
                      "title": {
                        "standoff": 15
                      },
                      "zerolinecolor": "white",
                      "zerolinewidth": 2
                    },
                    "yaxis": {
                      "automargin": true,
                      "gridcolor": "white",
                      "linecolor": "white",
                      "ticks": "",
                      "title": {
                        "standoff": 15
                      },
                      "zerolinecolor": "white",
                      "zerolinewidth": 2
                    }
                  }
                },
                "xaxis": {
                  "anchor": "y",
                  "domain": [
                    0,
                    1
                  ],
                  "title": {
                    "text": "Age"
                  }
                },
                "yaxis": {
                  "anchor": "x",
                  "domain": [
                    0,
                    1
                  ],
                  "title": {
                    "text": "Fare"
                  }
                }
              }
            }
          },
          "metadata": {},
          "output_type": "display_data"
        }
      ],
      "source": [
        "# Exemple avec Plotly (couleur + zoom possible)\n",
        "\n",
        "import plotly.express as px\n",
        "\n",
        "fig = px.scatter(df1, x=\"Age\", y=\"Fare\", color=\"Survived\")\n",
        "fig.show()"
      ]
    },
    {
      "cell_type": "code",
      "execution_count": 18,
      "metadata": {
        "colab": {
          "base_uri": "https://localhost:8080/",
          "height": 1000
        },
        "id": "ZmanTRpuMjzX",
        "outputId": "d90ddd38-4b48-4b50-b999-bbd95bb48dbe"
      },
      "outputs": [
        {
          "data": {
            "application/vnd.plotly.v1+json": {
              "config": {
                "plotlyServerURL": "https://plot.ly"
              },
              "data": [
                {
                  "hovertemplate": "Age=%{x}<br>Fare=%{y}<br>Survived=%{marker.color}<extra></extra>",
                  "legendgroup": "",
                  "marker": {
                    "color": [
                      1,
                      1,
                      1,
                      1,
                      1,
                      1,
                      1,
                      0,
                      1,
                      0,
                      1,
                      1,
                      0,
                      1,
                      1,
                      1,
                      1,
                      0,
                      1,
                      0,
                      0,
                      1,
                      1,
                      1,
                      0,
                      1,
                      1,
                      1,
                      1,
                      1,
                      1,
                      1,
                      0,
                      1,
                      1,
                      1,
                      1,
                      1,
                      1,
                      0,
                      1,
                      1,
                      0,
                      0,
                      0,
                      0,
                      1,
                      1,
                      0,
                      1,
                      1,
                      0,
                      1,
                      1,
                      0,
                      1,
                      1,
                      1,
                      1,
                      0,
                      1,
                      0,
                      0,
                      1,
                      1,
                      1,
                      1,
                      1,
                      1,
                      1,
                      0,
                      0,
                      1,
                      1,
                      1,
                      1,
                      1,
                      0,
                      1,
                      1,
                      0,
                      1,
                      0,
                      1,
                      0,
                      1,
                      0,
                      0,
                      1,
                      1,
                      1,
                      1,
                      1,
                      0,
                      1,
                      1,
                      1,
                      1,
                      1,
                      0,
                      1,
                      1,
                      1,
                      1,
                      0,
                      0,
                      1,
                      1,
                      1,
                      1,
                      1,
                      1,
                      1,
                      1,
                      0,
                      1,
                      1,
                      1,
                      1,
                      1,
                      1,
                      1,
                      1,
                      1,
                      1,
                      1,
                      1,
                      1,
                      1,
                      1,
                      1,
                      1,
                      1,
                      0,
                      1,
                      1,
                      0,
                      1,
                      1,
                      1,
                      1,
                      0,
                      1,
                      1,
                      1,
                      1,
                      1,
                      1,
                      1,
                      1,
                      1,
                      0,
                      1,
                      0,
                      0,
                      0,
                      1,
                      0,
                      1,
                      1,
                      0,
                      0,
                      1,
                      1,
                      1,
                      1,
                      1,
                      0,
                      1,
                      1,
                      1,
                      1,
                      1,
                      1,
                      1,
                      1,
                      1,
                      1,
                      0,
                      1,
                      1,
                      0,
                      1,
                      1,
                      0,
                      0,
                      0,
                      0,
                      1,
                      1,
                      1,
                      1,
                      1,
                      1,
                      1,
                      1,
                      1,
                      1,
                      0,
                      1,
                      1,
                      1,
                      1,
                      0,
                      0,
                      1,
                      1,
                      1,
                      1,
                      1,
                      0,
                      0,
                      1,
                      1,
                      1,
                      1,
                      0,
                      1,
                      1,
                      1,
                      1,
                      0,
                      1,
                      1,
                      1,
                      1,
                      0,
                      1,
                      1,
                      0,
                      1,
                      1,
                      0,
                      1,
                      0,
                      1,
                      0,
                      1,
                      1,
                      1,
                      1,
                      0,
                      0,
                      1,
                      1,
                      1,
                      0,
                      0,
                      1,
                      1,
                      1,
                      1,
                      0,
                      1,
                      1,
                      1,
                      1,
                      1,
                      1,
                      1,
                      1,
                      0,
                      1,
                      0,
                      1,
                      1,
                      1,
                      1,
                      1,
                      1,
                      1,
                      0,
                      0,
                      1,
                      1,
                      1,
                      1,
                      1,
                      1,
                      0,
                      1,
                      1,
                      0,
                      1,
                      0,
                      1,
                      0,
                      0,
                      1,
                      1,
                      1,
                      1,
                      1,
                      1,
                      1,
                      0,
                      1,
                      0,
                      1,
                      1,
                      1,
                      1,
                      0,
                      1,
                      1,
                      1,
                      1,
                      1,
                      1,
                      1,
                      0,
                      0,
                      1,
                      0
                    ],
                    "coloraxis": "coloraxis",
                    "symbol": "circle"
                  },
                  "mode": "markers",
                  "name": "",
                  "orientation": "v",
                  "showlegend": false,
                  "type": "scatter",
                  "x": [
                    38,
                    26,
                    35,
                    27,
                    14,
                    4,
                    58,
                    14,
                    55,
                    31,
                    null,
                    15,
                    8,
                    38,
                    null,
                    null,
                    null,
                    18,
                    14,
                    40,
                    27,
                    3,
                    19,
                    null,
                    18,
                    49,
                    29,
                    21,
                    5,
                    38,
                    29,
                    17,
                    16,
                    30,
                    null,
                    17,
                    33,
                    23,
                    34,
                    28,
                    21,
                    null,
                    14.5,
                    20,
                    17,
                    2,
                    32.5,
                    null,
                    47,
                    29,
                    19,
                    null,
                    22,
                    24,
                    9,
                    22,
                    16,
                    40,
                    null,
                    45,
                    1,
                    50,
                    null,
                    4,
                    null,
                    32,
                    19,
                    44,
                    58,
                    null,
                    24,
                    2,
                    16,
                    35,
                    31,
                    27,
                    32,
                    null,
                    35,
                    5,
                    null,
                    8,
                    null,
                    null,
                    25,
                    24,
                    29,
                    41,
                    29,
                    null,
                    30,
                    35,
                    50,
                    null,
                    58,
                    35,
                    41,
                    null,
                    63,
                    45,
                    35,
                    22,
                    26,
                    19,
                    24,
                    2,
                    50,
                    null,
                    null,
                    null,
                    17,
                    30,
                    24,
                    18,
                    26,
                    26,
                    24,
                    31,
                    40,
                    30,
                    22,
                    36,
                    36,
                    31,
                    16,
                    null,
                    null,
                    41,
                    24,
                    24,
                    40,
                    null,
                    22,
                    38,
                    null,
                    null,
                    45,
                    60,
                    null,
                    null,
                    24,
                    3,
                    null,
                    22,
                    42,
                    1,
                    35,
                    36,
                    17,
                    23,
                    24,
                    31,
                    28,
                    21,
                    20,
                    null,
                    33,
                    null,
                    34,
                    18,
                    10,
                    28,
                    28,
                    19,
                    null,
                    42,
                    14,
                    21,
                    24,
                    45,
                    28,
                    13,
                    5,
                    null,
                    50,
                    0.75,
                    33,
                    23,
                    22,
                    2,
                    63,
                    null,
                    35,
                    54,
                    25,
                    21,
                    null,
                    37,
                    16,
                    33,
                    54,
                    34,
                    36,
                    30,
                    44,
                    50,
                    2,
                    null,
                    30,
                    7,
                    30,
                    22,
                    36,
                    9,
                    11,
                    19,
                    22,
                    48,
                    39,
                    36,
                    null,
                    29,
                    53,
                    null,
                    34,
                    39,
                    null,
                    25,
                    39,
                    18,
                    52,
                    null,
                    null,
                    24,
                    22,
                    40,
                    39,
                    null,
                    24,
                    26,
                    4,
                    21,
                    9,
                    28,
                    41,
                    24,
                    2,
                    0.75,
                    23,
                    18,
                    null,
                    18,
                    32,
                    null,
                    40,
                    18,
                    43,
                    null,
                    15,
                    4,
                    null,
                    18,
                    18,
                    45,
                    22,
                    24,
                    38,
                    27,
                    6,
                    30,
                    null,
                    25,
                    29,
                    48,
                    21,
                    30,
                    4,
                    48,
                    33,
                    36,
                    51,
                    30.5,
                    57,
                    54,
                    5,
                    43,
                    13,
                    17,
                    18,
                    null,
                    49,
                    31,
                    30,
                    31,
                    18,
                    33,
                    6,
                    23,
                    52,
                    27,
                    62,
                    15,
                    39,
                    30,
                    null,
                    9,
                    16,
                    44,
                    18,
                    45,
                    24,
                    48,
                    null,
                    42,
                    27,
                    47,
                    28,
                    15,
                    56,
                    25,
                    22,
                    39,
                    19,
                    null
                  ],
                  "xaxis": "x",
                  "y": [
                    71.2833,
                    7.925,
                    53.1,
                    11.1333,
                    30.0708,
                    16.7,
                    26.55,
                    7.8542,
                    16,
                    18,
                    7.225,
                    8.0292,
                    21.075,
                    31.3875,
                    7.8792,
                    146.5208,
                    7.75,
                    18,
                    11.2417,
                    9.475,
                    21,
                    41.5792,
                    7.8792,
                    7.75,
                    17.8,
                    76.7292,
                    26,
                    10.5,
                    27.75,
                    80,
                    10.5,
                    7.925,
                    46.9,
                    12.475,
                    7.7875,
                    10.5,
                    15.85,
                    263,
                    23,
                    7.8958,
                    7.65,
                    24.15,
                    14.4542,
                    9.825,
                    14.4583,
                    31.275,
                    13,
                    22.3583,
                    14.5,
                    26,
                    26.2833,
                    15.2458,
                    7.75,
                    15.85,
                    34.375,
                    66.6,
                    7.7333,
                    15.75,
                    55,
                    27.9,
                    11.1333,
                    28.7125,
                    69.55,
                    22.025,
                    15.5,
                    13,
                    7.8542,
                    27.7208,
                    146.5208,
                    7.75,
                    13,
                    10.4625,
                    7.75,
                    21,
                    113.275,
                    7.925,
                    76.2917,
                    25.4667,
                    83.475,
                    31.3875,
                    7.55,
                    26.25,
                    14.4542,
                    15.5,
                    7.775,
                    14.5,
                    10.4625,
                    20.2125,
                    15.2458,
                    79.2,
                    86.5,
                    512.3292,
                    26,
                    7.75,
                    153.4625,
                    135.6333,
                    19.5,
                    7.75,
                    77.9583,
                    7.75,
                    20.25,
                    7.75,
                    78.85,
                    91.0792,
                    8.85,
                    151.55,
                    247.5208,
                    7.75,
                    12.35,
                    110.8833,
                    108.9,
                    56.9292,
                    83.1583,
                    262.375,
                    26,
                    7.8542,
                    26,
                    164.8667,
                    134.5,
                    12.35,
                    29,
                    135.6333,
                    13,
                    20.525,
                    57.9792,
                    23.25,
                    133.65,
                    134.5,
                    263,
                    13,
                    13,
                    16.1,
                    55,
                    13,
                    7.8792,
                    7.8792,
                    14.4542,
                    75.25,
                    7.2292,
                    7.75,
                    69.3,
                    21.075,
                    82.1708,
                    7.25,
                    227.525,
                    15.7417,
                    52,
                    13,
                    12,
                    113.275,
                    16.7,
                    7.8542,
                    12.65,
                    9.825,
                    8.6625,
                    25.4667,
                    90,
                    8.05,
                    32.5,
                    13,
                    24.15,
                    14.4,
                    26,
                    26,
                    16.1,
                    26,
                    120,
                    34.375,
                    18.75,
                    26.25,
                    13,
                    19.5,
                    19.2583,
                    51.8625,
                    10.5,
                    19.2583,
                    27.75,
                    13.7917,
                    9.8375,
                    12.2875,
                    9.5875,
                    25.4667,
                    90,
                    78.2667,
                    151.55,
                    7.75,
                    7.6292,
                    9.5875,
                    86.5,
                    26,
                    59.4,
                    10.5,
                    26,
                    93.5,
                    57.9792,
                    10.5,
                    26,
                    22.3583,
                    8.6625,
                    26.25,
                    106.425,
                    49.5,
                    71,
                    31.275,
                    31.275,
                    26,
                    7.775,
                    39.6,
                    79.65,
                    17.4,
                    8.05,
                    21.075,
                    51.4792,
                    7.75,
                    13,
                    55.9,
                    14.4583,
                    30,
                    110.8833,
                    79.65,
                    78.2667,
                    7.75,
                    33,
                    27,
                    41.5792,
                    153.4625,
                    31.275,
                    15.5,
                    65,
                    16.1,
                    39,
                    77.9583,
                    27.9,
                    13,
                    39.6875,
                    69.3,
                    27.9,
                    19.2583,
                    7.55,
                    23,
                    7.8292,
                    6.75,
                    15.5,
                    52,
                    39,
                    9.8417,
                    46.9,
                    8.1375,
                    211.3375,
                    13.4167,
                    7.7333,
                    227.525,
                    14.4542,
                    13.5,
                    151.55,
                    49.5042,
                    227.525,
                    10.5,
                    33,
                    21,
                    7.7375,
                    7.925,
                    211.3375,
                    34.375,
                    262.375,
                    13,
                    23,
                    65,
                    86.5,
                    120,
                    77.9583,
                    7.75,
                    10.5,
                    23,
                    12.475,
                    211.3375,
                    7.2292,
                    57,
                    7.4958,
                    69.55,
                    25.9292,
                    8.6833,
                    24.15,
                    26.25,
                    7.775,
                    53.1,
                    31.275,
                    7.925,
                    93.5,
                    12.475,
                    80,
                    14.4542,
                    83.1583,
                    31,
                    89.1042,
                    15.2458,
                    39.4,
                    26,
                    9.35,
                    164.8667,
                    19.2583,
                    25.9292,
                    69.55,
                    13,
                    13.8583,
                    52.5542,
                    24,
                    7.225,
                    83.1583,
                    26,
                    10.5167,
                    29.125,
                    30,
                    23.45
                  ],
                  "yaxis": "y"
                }
              ],
              "layout": {
                "coloraxis": {
                  "colorbar": {
                    "title": {
                      "text": "Survived"
                    }
                  },
                  "colorscale": [
                    [
                      0,
                      "#0d0887"
                    ],
                    [
                      0.1111111111111111,
                      "#46039f"
                    ],
                    [
                      0.2222222222222222,
                      "#7201a8"
                    ],
                    [
                      0.3333333333333333,
                      "#9c179e"
                    ],
                    [
                      0.4444444444444444,
                      "#bd3786"
                    ],
                    [
                      0.5555555555555556,
                      "#d8576b"
                    ],
                    [
                      0.6666666666666666,
                      "#ed7953"
                    ],
                    [
                      0.7777777777777778,
                      "#fb9f3a"
                    ],
                    [
                      0.8888888888888888,
                      "#fdca26"
                    ],
                    [
                      1,
                      "#f0f921"
                    ]
                  ]
                },
                "legend": {
                  "tracegroupgap": 0
                },
                "margin": {
                  "t": 60
                },
                "template": {
                  "data": {
                    "bar": [
                      {
                        "error_x": {
                          "color": "#2a3f5f"
                        },
                        "error_y": {
                          "color": "#2a3f5f"
                        },
                        "marker": {
                          "line": {
                            "color": "#E5ECF6",
                            "width": 0.5
                          },
                          "pattern": {
                            "fillmode": "overlay",
                            "size": 10,
                            "solidity": 0.2
                          }
                        },
                        "type": "bar"
                      }
                    ],
                    "barpolar": [
                      {
                        "marker": {
                          "line": {
                            "color": "#E5ECF6",
                            "width": 0.5
                          },
                          "pattern": {
                            "fillmode": "overlay",
                            "size": 10,
                            "solidity": 0.2
                          }
                        },
                        "type": "barpolar"
                      }
                    ],
                    "carpet": [
                      {
                        "aaxis": {
                          "endlinecolor": "#2a3f5f",
                          "gridcolor": "white",
                          "linecolor": "white",
                          "minorgridcolor": "white",
                          "startlinecolor": "#2a3f5f"
                        },
                        "baxis": {
                          "endlinecolor": "#2a3f5f",
                          "gridcolor": "white",
                          "linecolor": "white",
                          "minorgridcolor": "white",
                          "startlinecolor": "#2a3f5f"
                        },
                        "type": "carpet"
                      }
                    ],
                    "choropleth": [
                      {
                        "colorbar": {
                          "outlinewidth": 0,
                          "ticks": ""
                        },
                        "type": "choropleth"
                      }
                    ],
                    "contour": [
                      {
                        "colorbar": {
                          "outlinewidth": 0,
                          "ticks": ""
                        },
                        "colorscale": [
                          [
                            0,
                            "#0d0887"
                          ],
                          [
                            0.1111111111111111,
                            "#46039f"
                          ],
                          [
                            0.2222222222222222,
                            "#7201a8"
                          ],
                          [
                            0.3333333333333333,
                            "#9c179e"
                          ],
                          [
                            0.4444444444444444,
                            "#bd3786"
                          ],
                          [
                            0.5555555555555556,
                            "#d8576b"
                          ],
                          [
                            0.6666666666666666,
                            "#ed7953"
                          ],
                          [
                            0.7777777777777778,
                            "#fb9f3a"
                          ],
                          [
                            0.8888888888888888,
                            "#fdca26"
                          ],
                          [
                            1,
                            "#f0f921"
                          ]
                        ],
                        "type": "contour"
                      }
                    ],
                    "contourcarpet": [
                      {
                        "colorbar": {
                          "outlinewidth": 0,
                          "ticks": ""
                        },
                        "type": "contourcarpet"
                      }
                    ],
                    "heatmap": [
                      {
                        "colorbar": {
                          "outlinewidth": 0,
                          "ticks": ""
                        },
                        "colorscale": [
                          [
                            0,
                            "#0d0887"
                          ],
                          [
                            0.1111111111111111,
                            "#46039f"
                          ],
                          [
                            0.2222222222222222,
                            "#7201a8"
                          ],
                          [
                            0.3333333333333333,
                            "#9c179e"
                          ],
                          [
                            0.4444444444444444,
                            "#bd3786"
                          ],
                          [
                            0.5555555555555556,
                            "#d8576b"
                          ],
                          [
                            0.6666666666666666,
                            "#ed7953"
                          ],
                          [
                            0.7777777777777778,
                            "#fb9f3a"
                          ],
                          [
                            0.8888888888888888,
                            "#fdca26"
                          ],
                          [
                            1,
                            "#f0f921"
                          ]
                        ],
                        "type": "heatmap"
                      }
                    ],
                    "heatmapgl": [
                      {
                        "colorbar": {
                          "outlinewidth": 0,
                          "ticks": ""
                        },
                        "colorscale": [
                          [
                            0,
                            "#0d0887"
                          ],
                          [
                            0.1111111111111111,
                            "#46039f"
                          ],
                          [
                            0.2222222222222222,
                            "#7201a8"
                          ],
                          [
                            0.3333333333333333,
                            "#9c179e"
                          ],
                          [
                            0.4444444444444444,
                            "#bd3786"
                          ],
                          [
                            0.5555555555555556,
                            "#d8576b"
                          ],
                          [
                            0.6666666666666666,
                            "#ed7953"
                          ],
                          [
                            0.7777777777777778,
                            "#fb9f3a"
                          ],
                          [
                            0.8888888888888888,
                            "#fdca26"
                          ],
                          [
                            1,
                            "#f0f921"
                          ]
                        ],
                        "type": "heatmapgl"
                      }
                    ],
                    "histogram": [
                      {
                        "marker": {
                          "pattern": {
                            "fillmode": "overlay",
                            "size": 10,
                            "solidity": 0.2
                          }
                        },
                        "type": "histogram"
                      }
                    ],
                    "histogram2d": [
                      {
                        "colorbar": {
                          "outlinewidth": 0,
                          "ticks": ""
                        },
                        "colorscale": [
                          [
                            0,
                            "#0d0887"
                          ],
                          [
                            0.1111111111111111,
                            "#46039f"
                          ],
                          [
                            0.2222222222222222,
                            "#7201a8"
                          ],
                          [
                            0.3333333333333333,
                            "#9c179e"
                          ],
                          [
                            0.4444444444444444,
                            "#bd3786"
                          ],
                          [
                            0.5555555555555556,
                            "#d8576b"
                          ],
                          [
                            0.6666666666666666,
                            "#ed7953"
                          ],
                          [
                            0.7777777777777778,
                            "#fb9f3a"
                          ],
                          [
                            0.8888888888888888,
                            "#fdca26"
                          ],
                          [
                            1,
                            "#f0f921"
                          ]
                        ],
                        "type": "histogram2d"
                      }
                    ],
                    "histogram2dcontour": [
                      {
                        "colorbar": {
                          "outlinewidth": 0,
                          "ticks": ""
                        },
                        "colorscale": [
                          [
                            0,
                            "#0d0887"
                          ],
                          [
                            0.1111111111111111,
                            "#46039f"
                          ],
                          [
                            0.2222222222222222,
                            "#7201a8"
                          ],
                          [
                            0.3333333333333333,
                            "#9c179e"
                          ],
                          [
                            0.4444444444444444,
                            "#bd3786"
                          ],
                          [
                            0.5555555555555556,
                            "#d8576b"
                          ],
                          [
                            0.6666666666666666,
                            "#ed7953"
                          ],
                          [
                            0.7777777777777778,
                            "#fb9f3a"
                          ],
                          [
                            0.8888888888888888,
                            "#fdca26"
                          ],
                          [
                            1,
                            "#f0f921"
                          ]
                        ],
                        "type": "histogram2dcontour"
                      }
                    ],
                    "mesh3d": [
                      {
                        "colorbar": {
                          "outlinewidth": 0,
                          "ticks": ""
                        },
                        "type": "mesh3d"
                      }
                    ],
                    "parcoords": [
                      {
                        "line": {
                          "colorbar": {
                            "outlinewidth": 0,
                            "ticks": ""
                          }
                        },
                        "type": "parcoords"
                      }
                    ],
                    "pie": [
                      {
                        "automargin": true,
                        "type": "pie"
                      }
                    ],
                    "scatter": [
                      {
                        "fillpattern": {
                          "fillmode": "overlay",
                          "size": 10,
                          "solidity": 0.2
                        },
                        "type": "scatter"
                      }
                    ],
                    "scatter3d": [
                      {
                        "line": {
                          "colorbar": {
                            "outlinewidth": 0,
                            "ticks": ""
                          }
                        },
                        "marker": {
                          "colorbar": {
                            "outlinewidth": 0,
                            "ticks": ""
                          }
                        },
                        "type": "scatter3d"
                      }
                    ],
                    "scattercarpet": [
                      {
                        "marker": {
                          "colorbar": {
                            "outlinewidth": 0,
                            "ticks": ""
                          }
                        },
                        "type": "scattercarpet"
                      }
                    ],
                    "scattergeo": [
                      {
                        "marker": {
                          "colorbar": {
                            "outlinewidth": 0,
                            "ticks": ""
                          }
                        },
                        "type": "scattergeo"
                      }
                    ],
                    "scattergl": [
                      {
                        "marker": {
                          "colorbar": {
                            "outlinewidth": 0,
                            "ticks": ""
                          }
                        },
                        "type": "scattergl"
                      }
                    ],
                    "scattermapbox": [
                      {
                        "marker": {
                          "colorbar": {
                            "outlinewidth": 0,
                            "ticks": ""
                          }
                        },
                        "type": "scattermapbox"
                      }
                    ],
                    "scatterpolar": [
                      {
                        "marker": {
                          "colorbar": {
                            "outlinewidth": 0,
                            "ticks": ""
                          }
                        },
                        "type": "scatterpolar"
                      }
                    ],
                    "scatterpolargl": [
                      {
                        "marker": {
                          "colorbar": {
                            "outlinewidth": 0,
                            "ticks": ""
                          }
                        },
                        "type": "scatterpolargl"
                      }
                    ],
                    "scatterternary": [
                      {
                        "marker": {
                          "colorbar": {
                            "outlinewidth": 0,
                            "ticks": ""
                          }
                        },
                        "type": "scatterternary"
                      }
                    ],
                    "surface": [
                      {
                        "colorbar": {
                          "outlinewidth": 0,
                          "ticks": ""
                        },
                        "colorscale": [
                          [
                            0,
                            "#0d0887"
                          ],
                          [
                            0.1111111111111111,
                            "#46039f"
                          ],
                          [
                            0.2222222222222222,
                            "#7201a8"
                          ],
                          [
                            0.3333333333333333,
                            "#9c179e"
                          ],
                          [
                            0.4444444444444444,
                            "#bd3786"
                          ],
                          [
                            0.5555555555555556,
                            "#d8576b"
                          ],
                          [
                            0.6666666666666666,
                            "#ed7953"
                          ],
                          [
                            0.7777777777777778,
                            "#fb9f3a"
                          ],
                          [
                            0.8888888888888888,
                            "#fdca26"
                          ],
                          [
                            1,
                            "#f0f921"
                          ]
                        ],
                        "type": "surface"
                      }
                    ],
                    "table": [
                      {
                        "cells": {
                          "fill": {
                            "color": "#EBF0F8"
                          },
                          "line": {
                            "color": "white"
                          }
                        },
                        "header": {
                          "fill": {
                            "color": "#C8D4E3"
                          },
                          "line": {
                            "color": "white"
                          }
                        },
                        "type": "table"
                      }
                    ]
                  },
                  "layout": {
                    "annotationdefaults": {
                      "arrowcolor": "#2a3f5f",
                      "arrowhead": 0,
                      "arrowwidth": 1
                    },
                    "autotypenumbers": "strict",
                    "coloraxis": {
                      "colorbar": {
                        "outlinewidth": 0,
                        "ticks": ""
                      }
                    },
                    "colorscale": {
                      "diverging": [
                        [
                          0,
                          "#8e0152"
                        ],
                        [
                          0.1,
                          "#c51b7d"
                        ],
                        [
                          0.2,
                          "#de77ae"
                        ],
                        [
                          0.3,
                          "#f1b6da"
                        ],
                        [
                          0.4,
                          "#fde0ef"
                        ],
                        [
                          0.5,
                          "#f7f7f7"
                        ],
                        [
                          0.6,
                          "#e6f5d0"
                        ],
                        [
                          0.7,
                          "#b8e186"
                        ],
                        [
                          0.8,
                          "#7fbc41"
                        ],
                        [
                          0.9,
                          "#4d9221"
                        ],
                        [
                          1,
                          "#276419"
                        ]
                      ],
                      "sequential": [
                        [
                          0,
                          "#0d0887"
                        ],
                        [
                          0.1111111111111111,
                          "#46039f"
                        ],
                        [
                          0.2222222222222222,
                          "#7201a8"
                        ],
                        [
                          0.3333333333333333,
                          "#9c179e"
                        ],
                        [
                          0.4444444444444444,
                          "#bd3786"
                        ],
                        [
                          0.5555555555555556,
                          "#d8576b"
                        ],
                        [
                          0.6666666666666666,
                          "#ed7953"
                        ],
                        [
                          0.7777777777777778,
                          "#fb9f3a"
                        ],
                        [
                          0.8888888888888888,
                          "#fdca26"
                        ],
                        [
                          1,
                          "#f0f921"
                        ]
                      ],
                      "sequentialminus": [
                        [
                          0,
                          "#0d0887"
                        ],
                        [
                          0.1111111111111111,
                          "#46039f"
                        ],
                        [
                          0.2222222222222222,
                          "#7201a8"
                        ],
                        [
                          0.3333333333333333,
                          "#9c179e"
                        ],
                        [
                          0.4444444444444444,
                          "#bd3786"
                        ],
                        [
                          0.5555555555555556,
                          "#d8576b"
                        ],
                        [
                          0.6666666666666666,
                          "#ed7953"
                        ],
                        [
                          0.7777777777777778,
                          "#fb9f3a"
                        ],
                        [
                          0.8888888888888888,
                          "#fdca26"
                        ],
                        [
                          1,
                          "#f0f921"
                        ]
                      ]
                    },
                    "colorway": [
                      "#636efa",
                      "#EF553B",
                      "#00cc96",
                      "#ab63fa",
                      "#FFA15A",
                      "#19d3f3",
                      "#FF6692",
                      "#B6E880",
                      "#FF97FF",
                      "#FECB52"
                    ],
                    "font": {
                      "color": "#2a3f5f"
                    },
                    "geo": {
                      "bgcolor": "white",
                      "lakecolor": "white",
                      "landcolor": "#E5ECF6",
                      "showlakes": true,
                      "showland": true,
                      "subunitcolor": "white"
                    },
                    "hoverlabel": {
                      "align": "left"
                    },
                    "hovermode": "closest",
                    "mapbox": {
                      "style": "light"
                    },
                    "paper_bgcolor": "white",
                    "plot_bgcolor": "#E5ECF6",
                    "polar": {
                      "angularaxis": {
                        "gridcolor": "white",
                        "linecolor": "white",
                        "ticks": ""
                      },
                      "bgcolor": "#E5ECF6",
                      "radialaxis": {
                        "gridcolor": "white",
                        "linecolor": "white",
                        "ticks": ""
                      }
                    },
                    "scene": {
                      "xaxis": {
                        "backgroundcolor": "#E5ECF6",
                        "gridcolor": "white",
                        "gridwidth": 2,
                        "linecolor": "white",
                        "showbackground": true,
                        "ticks": "",
                        "zerolinecolor": "white"
                      },
                      "yaxis": {
                        "backgroundcolor": "#E5ECF6",
                        "gridcolor": "white",
                        "gridwidth": 2,
                        "linecolor": "white",
                        "showbackground": true,
                        "ticks": "",
                        "zerolinecolor": "white"
                      },
                      "zaxis": {
                        "backgroundcolor": "#E5ECF6",
                        "gridcolor": "white",
                        "gridwidth": 2,
                        "linecolor": "white",
                        "showbackground": true,
                        "ticks": "",
                        "zerolinecolor": "white"
                      }
                    },
                    "shapedefaults": {
                      "line": {
                        "color": "#2a3f5f"
                      }
                    },
                    "ternary": {
                      "aaxis": {
                        "gridcolor": "white",
                        "linecolor": "white",
                        "ticks": ""
                      },
                      "baxis": {
                        "gridcolor": "white",
                        "linecolor": "white",
                        "ticks": ""
                      },
                      "bgcolor": "#E5ECF6",
                      "caxis": {
                        "gridcolor": "white",
                        "linecolor": "white",
                        "ticks": ""
                      }
                    },
                    "title": {
                      "x": 0.05
                    },
                    "xaxis": {
                      "automargin": true,
                      "gridcolor": "white",
                      "linecolor": "white",
                      "ticks": "",
                      "title": {
                        "standoff": 15
                      },
                      "zerolinecolor": "white",
                      "zerolinewidth": 2
                    },
                    "yaxis": {
                      "automargin": true,
                      "gridcolor": "white",
                      "linecolor": "white",
                      "ticks": "",
                      "title": {
                        "standoff": 15
                      },
                      "zerolinecolor": "white",
                      "zerolinewidth": 2
                    }
                  }
                },
                "xaxis": {
                  "anchor": "y",
                  "domain": [
                    0,
                    1
                  ],
                  "title": {
                    "text": "Age"
                  }
                },
                "yaxis": {
                  "anchor": "x",
                  "domain": [
                    0,
                    1
                  ],
                  "title": {
                    "text": "Fare"
                  }
                }
              }
            }
          },
          "metadata": {},
          "output_type": "display_data"
        },
        {
          "data": {
            "application/vnd.plotly.v1+json": {
              "config": {
                "plotlyServerURL": "https://plot.ly"
              },
              "data": [
                {
                  "hovertemplate": "Age=%{x}<br>Fare=%{y}<br>Survived=%{marker.color}<extra></extra>",
                  "legendgroup": "",
                  "marker": {
                    "color": [
                      0,
                      0,
                      0,
                      0,
                      0,
                      0,
                      0,
                      0,
                      1,
                      0,
                      1,
                      1,
                      0,
                      0,
                      0,
                      0,
                      0,
                      0,
                      0,
                      1,
                      0,
                      0,
                      0,
                      0,
                      0,
                      0,
                      0,
                      0,
                      1,
                      0,
                      0,
                      0,
                      0,
                      0,
                      0,
                      1,
                      0,
                      0,
                      0,
                      0,
                      0,
                      1,
                      0,
                      0,
                      0,
                      1,
                      0,
                      1,
                      0,
                      0,
                      0,
                      0,
                      0,
                      0,
                      0,
                      0,
                      0,
                      0,
                      0,
                      1,
                      0,
                      0,
                      0,
                      0,
                      0,
                      0,
                      1,
                      0,
                      0,
                      0,
                      0,
                      0,
                      0,
                      0,
                      0,
                      0,
                      0,
                      0,
                      1,
                      0,
                      1,
                      0,
                      0,
                      0,
                      0,
                      0,
                      0,
                      0,
                      0,
                      0,
                      0,
                      0,
                      1,
                      0,
                      0,
                      0,
                      0,
                      0,
                      0,
                      0,
                      0,
                      0,
                      0,
                      0,
                      0,
                      0,
                      0,
                      1,
                      0,
                      0,
                      0,
                      0,
                      0,
                      0,
                      0,
                      0,
                      0,
                      0,
                      0,
                      0,
                      1,
                      0,
                      1,
                      0,
                      0,
                      0,
                      1,
                      0,
                      0,
                      0,
                      0,
                      0,
                      0,
                      1,
                      0,
                      1,
                      1,
                      0,
                      0,
                      0,
                      0,
                      0,
                      0,
                      1,
                      0,
                      0,
                      0,
                      1,
                      0,
                      1,
                      0,
                      0,
                      0,
                      0,
                      0,
                      0,
                      0,
                      0,
                      0,
                      0,
                      0,
                      0,
                      1,
                      0,
                      0,
                      0,
                      0,
                      0,
                      1,
                      0,
                      0,
                      0,
                      0,
                      1,
                      0,
                      1,
                      0,
                      0,
                      0,
                      0,
                      0,
                      0,
                      1,
                      0,
                      0,
                      1,
                      0,
                      1,
                      0,
                      0,
                      0,
                      0,
                      1,
                      1,
                      0,
                      0,
                      1,
                      0,
                      0,
                      0,
                      0,
                      0,
                      0,
                      0,
                      0,
                      0,
                      0,
                      0,
                      0,
                      0,
                      1,
                      0,
                      1,
                      0,
                      0,
                      0,
                      1,
                      0,
                      0,
                      0,
                      0,
                      0,
                      0,
                      0,
                      0,
                      0,
                      0,
                      0,
                      0,
                      1,
                      0,
                      0,
                      0,
                      0,
                      0,
                      0,
                      0,
                      0,
                      0,
                      0,
                      0,
                      1,
                      1,
                      0,
                      0,
                      0,
                      0,
                      1,
                      0,
                      0,
                      0,
                      0,
                      1,
                      0,
                      0,
                      0,
                      0,
                      1,
                      0,
                      0,
                      0,
                      0,
                      0,
                      0,
                      0,
                      1,
                      1,
                      0,
                      0,
                      0,
                      0,
                      0,
                      0,
                      1,
                      1,
                      1,
                      1,
                      0,
                      0,
                      0,
                      1,
                      0,
                      1,
                      0,
                      0,
                      1,
                      0,
                      0,
                      0,
                      0,
                      0,
                      0,
                      0,
                      0,
                      0,
                      0,
                      0,
                      0,
                      0,
                      0,
                      0,
                      0,
                      0,
                      1,
                      0,
                      0,
                      1,
                      0,
                      0,
                      0,
                      0,
                      0,
                      0,
                      0,
                      0,
                      0,
                      0,
                      1,
                      0,
                      1,
                      1,
                      0,
                      1,
                      0,
                      0,
                      0,
                      0,
                      0,
                      0,
                      0,
                      0,
                      0,
                      0,
                      0,
                      0,
                      0,
                      0,
                      0,
                      1,
                      0,
                      0,
                      1,
                      0,
                      1,
                      1,
                      0,
                      0,
                      1,
                      0,
                      0,
                      0,
                      0,
                      0,
                      0,
                      0,
                      0,
                      0,
                      1,
                      1,
                      1,
                      0,
                      0,
                      1,
                      0,
                      0,
                      0,
                      0,
                      1,
                      0,
                      0,
                      0,
                      0,
                      0,
                      0,
                      0,
                      0,
                      1,
                      0,
                      0,
                      0,
                      1,
                      0,
                      0,
                      1,
                      0,
                      0,
                      0,
                      0,
                      0,
                      0,
                      1,
                      1,
                      0,
                      0,
                      0,
                      0,
                      0,
                      0,
                      1,
                      0,
                      1,
                      0,
                      0,
                      0,
                      0,
                      0,
                      1,
                      1,
                      0,
                      1,
                      0,
                      0,
                      0,
                      0,
                      0,
                      0,
                      0,
                      1,
                      0,
                      0,
                      0,
                      1,
                      0,
                      0,
                      0,
                      0,
                      0,
                      0,
                      1,
                      0,
                      0,
                      0,
                      1,
                      1,
                      0,
                      0,
                      0,
                      0,
                      0,
                      0,
                      0,
                      1,
                      1,
                      0,
                      0,
                      0,
                      0,
                      0,
                      0,
                      1,
                      0,
                      0,
                      0,
                      1,
                      1,
                      0,
                      1,
                      0,
                      0,
                      0,
                      0,
                      0,
                      0,
                      0,
                      0,
                      1,
                      0,
                      0,
                      0,
                      0,
                      0,
                      0,
                      0,
                      1,
                      0,
                      0,
                      1,
                      0,
                      0,
                      1,
                      0,
                      0,
                      0,
                      0,
                      1,
                      0,
                      0,
                      1,
                      0,
                      0,
                      0,
                      0,
                      0,
                      1,
                      0,
                      0,
                      0,
                      0,
                      0,
                      0,
                      0,
                      0,
                      0,
                      0,
                      0,
                      0,
                      0,
                      0,
                      0,
                      1,
                      0,
                      0,
                      0,
                      0,
                      0,
                      0,
                      0,
                      0,
                      1,
                      1,
                      1,
                      0,
                      0,
                      0,
                      0,
                      0,
                      0,
                      0,
                      0,
                      0,
                      0,
                      0,
                      1,
                      0,
                      0,
                      0,
                      0,
                      1,
                      1,
                      1,
                      0,
                      0,
                      0,
                      0,
                      0,
                      1,
                      1,
                      0,
                      0,
                      0,
                      0,
                      0,
                      0,
                      0,
                      0,
                      0,
                      0,
                      1,
                      0,
                      0,
                      0,
                      0,
                      0,
                      0,
                      1,
                      0,
                      0,
                      0,
                      0,
                      0,
                      0,
                      0,
                      0,
                      0,
                      0,
                      1,
                      0
                    ],
                    "coloraxis": "coloraxis",
                    "symbol": "circle"
                  },
                  "mode": "markers",
                  "name": "",
                  "orientation": "v",
                  "showlegend": false,
                  "type": "scatter",
                  "x": [
                    22,
                    35,
                    null,
                    54,
                    2,
                    20,
                    39,
                    2,
                    null,
                    35,
                    34,
                    28,
                    null,
                    19,
                    null,
                    40,
                    66,
                    28,
                    42,
                    null,
                    21,
                    null,
                    null,
                    null,
                    null,
                    7,
                    21,
                    65,
                    null,
                    28.5,
                    11,
                    22,
                    45,
                    4,
                    null,
                    null,
                    19,
                    26,
                    32,
                    21,
                    26,
                    32,
                    25,
                    null,
                    null,
                    0.83,
                    22,
                    29,
                    28,
                    16,
                    null,
                    24,
                    29,
                    20,
                    46,
                    26,
                    59,
                    null,
                    71,
                    23,
                    34,
                    null,
                    21,
                    33,
                    37,
                    28,
                    null,
                    38,
                    47,
                    22,
                    21,
                    70.5,
                    29,
                    24,
                    21,
                    null,
                    32.5,
                    54,
                    12,
                    null,
                    24,
                    45,
                    33,
                    20,
                    25,
                    23,
                    37,
                    16,
                    24,
                    19,
                    18,
                    19,
                    27,
                    36.5,
                    42,
                    51,
                    55.5,
                    40.5,
                    null,
                    51,
                    30,
                    null,
                    null,
                    44,
                    26,
                    17,
                    1,
                    9,
                    null,
                    28,
                    61,
                    4,
                    21,
                    56,
                    18,
                    null,
                    30,
                    36,
                    null,
                    9,
                    1,
                    null,
                    45,
                    40,
                    36,
                    19,
                    3,
                    null,
                    42,
                    28,
                    null,
                    34,
                    45.5,
                    18,
                    32,
                    26,
                    40,
                    24,
                    22,
                    30,
                    null,
                    42,
                    30,
                    16,
                    27,
                    51,
                    null,
                    38,
                    22,
                    19,
                    20.5,
                    18,
                    29,
                    59,
                    24,
                    44,
                    19,
                    33,
                    29,
                    22,
                    30,
                    44,
                    37,
                    54,
                    null,
                    62,
                    30,
                    null,
                    3,
                    52,
                    40,
                    36,
                    16,
                    25,
                    null,
                    25,
                    37,
                    null,
                    7,
                    65,
                    28,
                    16,
                    19,
                    null,
                    33,
                    30,
                    22,
                    42,
                    36,
                    24,
                    null,
                    23.5,
                    null,
                    null,
                    19,
                    null,
                    0.92,
                    30,
                    28,
                    43,
                    54,
                    22,
                    27,
                    null,
                    61,
                    45.5,
                    38,
                    16,
                    null,
                    29,
                    45,
                    45,
                    2,
                    28,
                    25,
                    36,
                    3,
                    42,
                    23,
                    null,
                    15,
                    25,
                    null,
                    28,
                    40,
                    29,
                    35,
                    null,
                    30,
                    25,
                    18,
                    19,
                    22,
                    27,
                    20,
                    19,
                    32,
                    null,
                    18,
                    1,
                    null,
                    36,
                    21,
                    28,
                    22,
                    46,
                    23,
                    39,
                    26,
                    28,
                    34,
                    51,
                    3,
                    21,
                    null,
                    null,
                    null,
                    44,
                    30,
                    null,
                    21,
                    29,
                    18,
                    null,
                    null,
                    32,
                    28,
                    17,
                    50,
                    64,
                    31,
                    20,
                    25,
                    null,
                    4,
                    34,
                    52,
                    36,
                    null,
                    30,
                    49,
                    null,
                    29,
                    65,
                    null,
                    48,
                    34,
                    47,
                    48,
                    null,
                    38,
                    null,
                    56,
                    null,
                    null,
                    38,
                    null,
                    34,
                    29,
                    22,
                    9,
                    null,
                    50,
                    25,
                    58,
                    30,
                    9,
                    null,
                    21,
                    55,
                    71,
                    21,
                    null,
                    null,
                    24,
                    17,
                    18,
                    null,
                    28,
                    26,
                    29,
                    null,
                    36,
                    24,
                    47,
                    null,
                    32,
                    22,
                    null,
                    null,
                    40.5,
                    null,
                    39,
                    23,
                    null,
                    17,
                    45,
                    null,
                    32,
                    50,
                    64,
                    null,
                    33,
                    8,
                    17,
                    27,
                    null,
                    22,
                    62,
                    null,
                    null,
                    40,
                    28,
                    null,
                    24,
                    19,
                    null,
                    32,
                    62,
                    36,
                    16,
                    19,
                    32,
                    54,
                    36,
                    null,
                    47,
                    60,
                    22,
                    null,
                    35,
                    47,
                    37,
                    36,
                    49,
                    null,
                    49,
                    null,
                    null,
                    44,
                    35,
                    36,
                    30,
                    27,
                    null,
                    null,
                    35,
                    34,
                    26,
                    27,
                    42,
                    20,
                    21,
                    21,
                    61,
                    57,
                    26,
                    null,
                    80,
                    51,
                    32,
                    null,
                    32,
                    31,
                    null,
                    20,
                    null,
                    48,
                    19,
                    56,
                    null,
                    null,
                    21,
                    24,
                    null,
                    23,
                    58,
                    50,
                    40,
                    47,
                    36,
                    20,
                    32,
                    25,
                    null,
                    43,
                    31,
                    70,
                    31,
                    null,
                    18,
                    24.5,
                    36,
                    27,
                    20,
                    14,
                    60,
                    25,
                    14,
                    19,
                    18,
                    31,
                    null,
                    25,
                    60,
                    52,
                    44,
                    49,
                    42,
                    35,
                    25,
                    26,
                    39,
                    42,
                    null,
                    null,
                    48,
                    29,
                    52,
                    19,
                    null,
                    33,
                    17,
                    34,
                    50,
                    27,
                    20,
                    25,
                    11,
                    null,
                    23,
                    23,
                    28.5,
                    35,
                    null,
                    null,
                    null,
                    36,
                    24,
                    31,
                    70,
                    16,
                    19,
                    31,
                    6,
                    33,
                    23,
                    0.67,
                    28,
                    18,
                    34,
                    null,
                    41,
                    20,
                    16,
                    null,
                    null,
                    32,
                    24,
                    48,
                    null,
                    18,
                    null,
                    null,
                    29,
                    null,
                    25,
                    25,
                    8,
                    1,
                    46,
                    null,
                    16,
                    null,
                    25,
                    39,
                    30,
                    34,
                    11,
                    0.42,
                    27,
                    31,
                    39,
                    39,
                    26,
                    39,
                    35,
                    30.5,
                    null,
                    31,
                    43,
                    10,
                    27,
                    38,
                    2,
                    null,
                    null,
                    1,
                    null,
                    0.83,
                    null,
                    23,
                    18,
                    21,
                    null,
                    32,
                    null,
                    20,
                    16,
                    34.5,
                    17,
                    42,
                    null,
                    35,
                    28,
                    4,
                    74,
                    51,
                    null,
                    41,
                    21,
                    24,
                    31,
                    null,
                    4,
                    26,
                    33,
                    47,
                    20,
                    19,
                    null,
                    33,
                    28,
                    25,
                    27,
                    26,
                    32
                  ],
                  "xaxis": "x",
                  "y": [
                    7.25,
                    8.05,
                    8.4583,
                    51.8625,
                    21.075,
                    8.05,
                    31.275,
                    29.125,
                    13,
                    26,
                    13,
                    35.5,
                    7.225,
                    263,
                    7.8958,
                    27.7208,
                    10.5,
                    82.1708,
                    52,
                    7.2292,
                    8.05,
                    7.8958,
                    8.05,
                    15.5,
                    21.6792,
                    39.6875,
                    7.8,
                    61.9792,
                    35.5,
                    7.2292,
                    46.9,
                    7.2292,
                    83.475,
                    27.9,
                    27.7208,
                    15.2458,
                    8.1583,
                    8.6625,
                    10.5,
                    73.5,
                    14.4542,
                    56.4958,
                    7.65,
                    7.8958,
                    8.05,
                    29,
                    9,
                    9.5,
                    47.1,
                    34.375,
                    8.05,
                    8.05,
                    8.05,
                    7.8542,
                    61.175,
                    20.575,
                    7.25,
                    8.05,
                    34.6542,
                    63.3583,
                    26,
                    7.8958,
                    77.2875,
                    8.6542,
                    7.925,
                    7.8958,
                    7.775,
                    7.8958,
                    52,
                    8.05,
                    7.925,
                    7.75,
                    21,
                    247.5208,
                    73.5,
                    8.05,
                    30.0708,
                    77.2875,
                    11.2417,
                    7.75,
                    7.1417,
                    6.975,
                    7.8958,
                    7.05,
                    13,
                    15.0458,
                    53.1,
                    9.2167,
                    79.2,
                    6.75,
                    11.5,
                    36.75,
                    7.7958,
                    26,
                    13,
                    12.525,
                    8.05,
                    14.5,
                    7.3125,
                    61.3792,
                    8.05,
                    8.6625,
                    69.55,
                    16.1,
                    7.775,
                    8.6625,
                    39.6875,
                    20.525,
                    25.925,
                    56.4958,
                    33.5,
                    29.125,
                    7.925,
                    30.6958,
                    7.8542,
                    25.4667,
                    13,
                    0,
                    15.05,
                    31.3875,
                    39,
                    50,
                    26.55,
                    15.5,
                    7.8958,
                    13,
                    26,
                    7.75,
                    8.4042,
                    9.5,
                    69.55,
                    6.4958,
                    7.225,
                    8.05,
                    15.85,
                    18.7875,
                    31,
                    7.05,
                    7.25,
                    13,
                    7.75,
                    27,
                    10.5,
                    8.05,
                    13,
                    8.05,
                    7.8958,
                    90,
                    9.35,
                    10.5,
                    7.25,
                    13,
                    7.775,
                    13.5,
                    10.5,
                    26,
                    10.5,
                    12.275,
                    10.5,
                    7.125,
                    7.225,
                    90,
                    52.5542,
                    26,
                    7.25,
                    26.55,
                    16.1,
                    7.75,
                    31.3875,
                    79.65,
                    0,
                    10.5,
                    39.6875,
                    7.775,
                    31,
                    0,
                    29.7,
                    0,
                    29.125,
                    7.75,
                    7.8542,
                    9.5,
                    8.05,
                    26,
                    8.6625,
                    9.5,
                    7.8958,
                    13,
                    12.875,
                    7.8958,
                    27.7208,
                    7.2292,
                    30.5,
                    23.25,
                    0,
                    8.05,
                    151.55,
                    24,
                    7.8958,
                    26.25,
                    14,
                    7.25,
                    7.8958,
                    69.55,
                    6.2375,
                    28.5,
                    153.4625,
                    18,
                    7.8958,
                    66.6,
                    8.05,
                    35.5,
                    26,
                    13,
                    13,
                    13,
                    15.9,
                    8.6625,
                    9.225,
                    35,
                    7.2292,
                    17.8,
                    7.225,
                    9.5,
                    27.9,
                    27.7208,
                    7.05,
                    15.5,
                    7.25,
                    55.4417,
                    6.4958,
                    8.05,
                    135.6333,
                    211.5,
                    4.0125,
                    7.775,
                    7.925,
                    7.8958,
                    73.5,
                    46.9,
                    7.7292,
                    120,
                    7.7958,
                    7.925,
                    7.7958,
                    26,
                    10.5,
                    7.925,
                    8.05,
                    15.85,
                    21,
                    7.75,
                    18.75,
                    7.775,
                    7.8958,
                    6.8583,
                    0,
                    7.925,
                    13,
                    7.8958,
                    7.7333,
                    7.875,
                    20.2125,
                    7.25,
                    7.75,
                    8.05,
                    26.55,
                    7.125,
                    55.9,
                    263,
                    10.5,
                    9.5,
                    7.775,
                    8.1125,
                    81.8583,
                    26.55,
                    30.5,
                    27.75,
                    19.9667,
                    27.75,
                    89.1042,
                    8.05,
                    7.8958,
                    26.55,
                    7.75,
                    26.55,
                    8.05,
                    38.5,
                    13,
                    8.05,
                    7.05,
                    0,
                    26.55,
                    7.725,
                    7.25,
                    8.6625,
                    52,
                    21,
                    7.0458,
                    7.5208,
                    46.9,
                    0,
                    8.05,
                    91.0792,
                    29.7,
                    8.05,
                    15.9,
                    19.9667,
                    7.25,
                    30.5,
                    49.5042,
                    8.05,
                    14.4583,
                    15.1,
                    7.7958,
                    8.6625,
                    108.9,
                    26.55,
                    22.525,
                    56.4958,
                    7.75,
                    8.05,
                    26.2875,
                    7.4958,
                    34.0208,
                    24.15,
                    7.8958,
                    7.8958,
                    7.225,
                    7.2292,
                    7.75,
                    221.7792,
                    7.925,
                    11.5,
                    7.2292,
                    7.2292,
                    26.55,
                    14.5,
                    26,
                    106.425,
                    26,
                    13.8625,
                    20.525,
                    36.75,
                    110.8833,
                    26,
                    7.8292,
                    7.225,
                    26.55,
                    227.525,
                    7.75,
                    7.8958,
                    13.5,
                    8.05,
                    24.15,
                    7.8958,
                    7.2292,
                    7.8542,
                    10.5,
                    26.3875,
                    8.05,
                    14.5,
                    7.925,
                    26,
                    40.125,
                    8.7125,
                    15,
                    79.2,
                    8.05,
                    8.05,
                    7.125,
                    7.25,
                    26,
                    24.15,
                    0,
                    7.225,
                    56.9292,
                    7.8958,
                    42.4,
                    8.05,
                    26.55,
                    15.55,
                    7.8958,
                    30.5,
                    7.05,
                    7.75,
                    8.05,
                    14.4,
                    10.5,
                    14.4542,
                    52.5542,
                    15.7417,
                    7.8542,
                    16.1,
                    32.3208,
                    12.35,
                    7.8958,
                    7.7333,
                    30,
                    7.0542,
                    30.5,
                    0,
                    7.925,
                    26.25,
                    16.1,
                    7.8542,
                    56.4958,
                    76.7292,
                    7.8958,
                    35.5,
                    7.55,
                    7.8958,
                    8.4333,
                    73.5,
                    7.8958,
                    13,
                    113.275,
                    133.65,
                    7.225,
                    25.5875,
                    7.4958,
                    7.925,
                    73.5,
                    13,
                    7.775,
                    8.05,
                    52,
                    10.5,
                    13,
                    0,
                    7.775,
                    8.05,
                    512.3292,
                    76.7292,
                    9.225,
                    46.9,
                    39,
                    41.5792,
                    39.6875,
                    10.1708,
                    7.7958,
                    57,
                    56.4958,
                    7.225,
                    26.55,
                    13.5,
                    8.05,
                    110.8833,
                    7.65,
                    26.2875,
                    7.7417,
                    7.8542,
                    26,
                    26.2875,
                    15.2458,
                    26.55,
                    52,
                    9.4833,
                    13,
                    7.65,
                    15.5,
                    7.775,
                    7.0542,
                    13,
                    13,
                    53.1,
                    8.6625,
                    26,
                    18.7875,
                    0,
                    13,
                    13,
                    16.1,
                    512.3292,
                    7.8958,
                    7.8958,
                    30,
                    78.85,
                    16.1,
                    7.925,
                    71,
                    20.25,
                    53.1,
                    7.75,
                    12.475,
                    9.5,
                    7.8958,
                    14.5,
                    7.7958,
                    11.5,
                    8.05,
                    14.5,
                    7.125,
                    7.2292,
                    7.775,
                    39.6,
                    24.15,
                    8.3625,
                    9.5,
                    7.8542,
                    7.225,
                    7.75,
                    7.75,
                    7.7375,
                    30,
                    23.45,
                    7.05,
                    7.25,
                    29.125,
                    20.575,
                    79.2,
                    7.75,
                    26,
                    30.6958,
                    7.8958,
                    13,
                    7.2292,
                    13,
                    120,
                    8.5167,
                    6.975,
                    7.775,
                    0,
                    13,
                    7.8875,
                    24.15,
                    10.5,
                    8.05,
                    0,
                    37.0042,
                    6.45,
                    27.9,
                    8.6625,
                    0,
                    39.6875,
                    6.95,
                    56.4958,
                    37.0042,
                    7.75,
                    18.75,
                    7.2292,
                    7.8542,
                    8.3,
                    8.6625,
                    8.05,
                    56.4958,
                    29.7,
                    7.925,
                    10.5,
                    6.4375,
                    8.6625,
                    7.55,
                    69.55,
                    7.8958,
                    33,
                    31.275,
                    7.775,
                    26.55,
                    7.2292,
                    14.1083,
                    11.5,
                    13,
                    50.4958,
                    9.5,
                    11.1333,
                    7.8958,
                    5,
                    9,
                    9.8458,
                    7.8958,
                    7.8958,
                    7.8958,
                    10.5,
                    7.05,
                    13,
                    30,
                    7.75
                  ],
                  "yaxis": "y"
                }
              ],
              "layout": {
                "coloraxis": {
                  "colorbar": {
                    "title": {
                      "text": "Survived"
                    }
                  },
                  "colorscale": [
                    [
                      0,
                      "#0d0887"
                    ],
                    [
                      0.1111111111111111,
                      "#46039f"
                    ],
                    [
                      0.2222222222222222,
                      "#7201a8"
                    ],
                    [
                      0.3333333333333333,
                      "#9c179e"
                    ],
                    [
                      0.4444444444444444,
                      "#bd3786"
                    ],
                    [
                      0.5555555555555556,
                      "#d8576b"
                    ],
                    [
                      0.6666666666666666,
                      "#ed7953"
                    ],
                    [
                      0.7777777777777778,
                      "#fb9f3a"
                    ],
                    [
                      0.8888888888888888,
                      "#fdca26"
                    ],
                    [
                      1,
                      "#f0f921"
                    ]
                  ]
                },
                "legend": {
                  "tracegroupgap": 0
                },
                "margin": {
                  "t": 60
                },
                "template": {
                  "data": {
                    "bar": [
                      {
                        "error_x": {
                          "color": "#2a3f5f"
                        },
                        "error_y": {
                          "color": "#2a3f5f"
                        },
                        "marker": {
                          "line": {
                            "color": "#E5ECF6",
                            "width": 0.5
                          },
                          "pattern": {
                            "fillmode": "overlay",
                            "size": 10,
                            "solidity": 0.2
                          }
                        },
                        "type": "bar"
                      }
                    ],
                    "barpolar": [
                      {
                        "marker": {
                          "line": {
                            "color": "#E5ECF6",
                            "width": 0.5
                          },
                          "pattern": {
                            "fillmode": "overlay",
                            "size": 10,
                            "solidity": 0.2
                          }
                        },
                        "type": "barpolar"
                      }
                    ],
                    "carpet": [
                      {
                        "aaxis": {
                          "endlinecolor": "#2a3f5f",
                          "gridcolor": "white",
                          "linecolor": "white",
                          "minorgridcolor": "white",
                          "startlinecolor": "#2a3f5f"
                        },
                        "baxis": {
                          "endlinecolor": "#2a3f5f",
                          "gridcolor": "white",
                          "linecolor": "white",
                          "minorgridcolor": "white",
                          "startlinecolor": "#2a3f5f"
                        },
                        "type": "carpet"
                      }
                    ],
                    "choropleth": [
                      {
                        "colorbar": {
                          "outlinewidth": 0,
                          "ticks": ""
                        },
                        "type": "choropleth"
                      }
                    ],
                    "contour": [
                      {
                        "colorbar": {
                          "outlinewidth": 0,
                          "ticks": ""
                        },
                        "colorscale": [
                          [
                            0,
                            "#0d0887"
                          ],
                          [
                            0.1111111111111111,
                            "#46039f"
                          ],
                          [
                            0.2222222222222222,
                            "#7201a8"
                          ],
                          [
                            0.3333333333333333,
                            "#9c179e"
                          ],
                          [
                            0.4444444444444444,
                            "#bd3786"
                          ],
                          [
                            0.5555555555555556,
                            "#d8576b"
                          ],
                          [
                            0.6666666666666666,
                            "#ed7953"
                          ],
                          [
                            0.7777777777777778,
                            "#fb9f3a"
                          ],
                          [
                            0.8888888888888888,
                            "#fdca26"
                          ],
                          [
                            1,
                            "#f0f921"
                          ]
                        ],
                        "type": "contour"
                      }
                    ],
                    "contourcarpet": [
                      {
                        "colorbar": {
                          "outlinewidth": 0,
                          "ticks": ""
                        },
                        "type": "contourcarpet"
                      }
                    ],
                    "heatmap": [
                      {
                        "colorbar": {
                          "outlinewidth": 0,
                          "ticks": ""
                        },
                        "colorscale": [
                          [
                            0,
                            "#0d0887"
                          ],
                          [
                            0.1111111111111111,
                            "#46039f"
                          ],
                          [
                            0.2222222222222222,
                            "#7201a8"
                          ],
                          [
                            0.3333333333333333,
                            "#9c179e"
                          ],
                          [
                            0.4444444444444444,
                            "#bd3786"
                          ],
                          [
                            0.5555555555555556,
                            "#d8576b"
                          ],
                          [
                            0.6666666666666666,
                            "#ed7953"
                          ],
                          [
                            0.7777777777777778,
                            "#fb9f3a"
                          ],
                          [
                            0.8888888888888888,
                            "#fdca26"
                          ],
                          [
                            1,
                            "#f0f921"
                          ]
                        ],
                        "type": "heatmap"
                      }
                    ],
                    "heatmapgl": [
                      {
                        "colorbar": {
                          "outlinewidth": 0,
                          "ticks": ""
                        },
                        "colorscale": [
                          [
                            0,
                            "#0d0887"
                          ],
                          [
                            0.1111111111111111,
                            "#46039f"
                          ],
                          [
                            0.2222222222222222,
                            "#7201a8"
                          ],
                          [
                            0.3333333333333333,
                            "#9c179e"
                          ],
                          [
                            0.4444444444444444,
                            "#bd3786"
                          ],
                          [
                            0.5555555555555556,
                            "#d8576b"
                          ],
                          [
                            0.6666666666666666,
                            "#ed7953"
                          ],
                          [
                            0.7777777777777778,
                            "#fb9f3a"
                          ],
                          [
                            0.8888888888888888,
                            "#fdca26"
                          ],
                          [
                            1,
                            "#f0f921"
                          ]
                        ],
                        "type": "heatmapgl"
                      }
                    ],
                    "histogram": [
                      {
                        "marker": {
                          "pattern": {
                            "fillmode": "overlay",
                            "size": 10,
                            "solidity": 0.2
                          }
                        },
                        "type": "histogram"
                      }
                    ],
                    "histogram2d": [
                      {
                        "colorbar": {
                          "outlinewidth": 0,
                          "ticks": ""
                        },
                        "colorscale": [
                          [
                            0,
                            "#0d0887"
                          ],
                          [
                            0.1111111111111111,
                            "#46039f"
                          ],
                          [
                            0.2222222222222222,
                            "#7201a8"
                          ],
                          [
                            0.3333333333333333,
                            "#9c179e"
                          ],
                          [
                            0.4444444444444444,
                            "#bd3786"
                          ],
                          [
                            0.5555555555555556,
                            "#d8576b"
                          ],
                          [
                            0.6666666666666666,
                            "#ed7953"
                          ],
                          [
                            0.7777777777777778,
                            "#fb9f3a"
                          ],
                          [
                            0.8888888888888888,
                            "#fdca26"
                          ],
                          [
                            1,
                            "#f0f921"
                          ]
                        ],
                        "type": "histogram2d"
                      }
                    ],
                    "histogram2dcontour": [
                      {
                        "colorbar": {
                          "outlinewidth": 0,
                          "ticks": ""
                        },
                        "colorscale": [
                          [
                            0,
                            "#0d0887"
                          ],
                          [
                            0.1111111111111111,
                            "#46039f"
                          ],
                          [
                            0.2222222222222222,
                            "#7201a8"
                          ],
                          [
                            0.3333333333333333,
                            "#9c179e"
                          ],
                          [
                            0.4444444444444444,
                            "#bd3786"
                          ],
                          [
                            0.5555555555555556,
                            "#d8576b"
                          ],
                          [
                            0.6666666666666666,
                            "#ed7953"
                          ],
                          [
                            0.7777777777777778,
                            "#fb9f3a"
                          ],
                          [
                            0.8888888888888888,
                            "#fdca26"
                          ],
                          [
                            1,
                            "#f0f921"
                          ]
                        ],
                        "type": "histogram2dcontour"
                      }
                    ],
                    "mesh3d": [
                      {
                        "colorbar": {
                          "outlinewidth": 0,
                          "ticks": ""
                        },
                        "type": "mesh3d"
                      }
                    ],
                    "parcoords": [
                      {
                        "line": {
                          "colorbar": {
                            "outlinewidth": 0,
                            "ticks": ""
                          }
                        },
                        "type": "parcoords"
                      }
                    ],
                    "pie": [
                      {
                        "automargin": true,
                        "type": "pie"
                      }
                    ],
                    "scatter": [
                      {
                        "fillpattern": {
                          "fillmode": "overlay",
                          "size": 10,
                          "solidity": 0.2
                        },
                        "type": "scatter"
                      }
                    ],
                    "scatter3d": [
                      {
                        "line": {
                          "colorbar": {
                            "outlinewidth": 0,
                            "ticks": ""
                          }
                        },
                        "marker": {
                          "colorbar": {
                            "outlinewidth": 0,
                            "ticks": ""
                          }
                        },
                        "type": "scatter3d"
                      }
                    ],
                    "scattercarpet": [
                      {
                        "marker": {
                          "colorbar": {
                            "outlinewidth": 0,
                            "ticks": ""
                          }
                        },
                        "type": "scattercarpet"
                      }
                    ],
                    "scattergeo": [
                      {
                        "marker": {
                          "colorbar": {
                            "outlinewidth": 0,
                            "ticks": ""
                          }
                        },
                        "type": "scattergeo"
                      }
                    ],
                    "scattergl": [
                      {
                        "marker": {
                          "colorbar": {
                            "outlinewidth": 0,
                            "ticks": ""
                          }
                        },
                        "type": "scattergl"
                      }
                    ],
                    "scattermapbox": [
                      {
                        "marker": {
                          "colorbar": {
                            "outlinewidth": 0,
                            "ticks": ""
                          }
                        },
                        "type": "scattermapbox"
                      }
                    ],
                    "scatterpolar": [
                      {
                        "marker": {
                          "colorbar": {
                            "outlinewidth": 0,
                            "ticks": ""
                          }
                        },
                        "type": "scatterpolar"
                      }
                    ],
                    "scatterpolargl": [
                      {
                        "marker": {
                          "colorbar": {
                            "outlinewidth": 0,
                            "ticks": ""
                          }
                        },
                        "type": "scatterpolargl"
                      }
                    ],
                    "scatterternary": [
                      {
                        "marker": {
                          "colorbar": {
                            "outlinewidth": 0,
                            "ticks": ""
                          }
                        },
                        "type": "scatterternary"
                      }
                    ],
                    "surface": [
                      {
                        "colorbar": {
                          "outlinewidth": 0,
                          "ticks": ""
                        },
                        "colorscale": [
                          [
                            0,
                            "#0d0887"
                          ],
                          [
                            0.1111111111111111,
                            "#46039f"
                          ],
                          [
                            0.2222222222222222,
                            "#7201a8"
                          ],
                          [
                            0.3333333333333333,
                            "#9c179e"
                          ],
                          [
                            0.4444444444444444,
                            "#bd3786"
                          ],
                          [
                            0.5555555555555556,
                            "#d8576b"
                          ],
                          [
                            0.6666666666666666,
                            "#ed7953"
                          ],
                          [
                            0.7777777777777778,
                            "#fb9f3a"
                          ],
                          [
                            0.8888888888888888,
                            "#fdca26"
                          ],
                          [
                            1,
                            "#f0f921"
                          ]
                        ],
                        "type": "surface"
                      }
                    ],
                    "table": [
                      {
                        "cells": {
                          "fill": {
                            "color": "#EBF0F8"
                          },
                          "line": {
                            "color": "white"
                          }
                        },
                        "header": {
                          "fill": {
                            "color": "#C8D4E3"
                          },
                          "line": {
                            "color": "white"
                          }
                        },
                        "type": "table"
                      }
                    ]
                  },
                  "layout": {
                    "annotationdefaults": {
                      "arrowcolor": "#2a3f5f",
                      "arrowhead": 0,
                      "arrowwidth": 1
                    },
                    "autotypenumbers": "strict",
                    "coloraxis": {
                      "colorbar": {
                        "outlinewidth": 0,
                        "ticks": ""
                      }
                    },
                    "colorscale": {
                      "diverging": [
                        [
                          0,
                          "#8e0152"
                        ],
                        [
                          0.1,
                          "#c51b7d"
                        ],
                        [
                          0.2,
                          "#de77ae"
                        ],
                        [
                          0.3,
                          "#f1b6da"
                        ],
                        [
                          0.4,
                          "#fde0ef"
                        ],
                        [
                          0.5,
                          "#f7f7f7"
                        ],
                        [
                          0.6,
                          "#e6f5d0"
                        ],
                        [
                          0.7,
                          "#b8e186"
                        ],
                        [
                          0.8,
                          "#7fbc41"
                        ],
                        [
                          0.9,
                          "#4d9221"
                        ],
                        [
                          1,
                          "#276419"
                        ]
                      ],
                      "sequential": [
                        [
                          0,
                          "#0d0887"
                        ],
                        [
                          0.1111111111111111,
                          "#46039f"
                        ],
                        [
                          0.2222222222222222,
                          "#7201a8"
                        ],
                        [
                          0.3333333333333333,
                          "#9c179e"
                        ],
                        [
                          0.4444444444444444,
                          "#bd3786"
                        ],
                        [
                          0.5555555555555556,
                          "#d8576b"
                        ],
                        [
                          0.6666666666666666,
                          "#ed7953"
                        ],
                        [
                          0.7777777777777778,
                          "#fb9f3a"
                        ],
                        [
                          0.8888888888888888,
                          "#fdca26"
                        ],
                        [
                          1,
                          "#f0f921"
                        ]
                      ],
                      "sequentialminus": [
                        [
                          0,
                          "#0d0887"
                        ],
                        [
                          0.1111111111111111,
                          "#46039f"
                        ],
                        [
                          0.2222222222222222,
                          "#7201a8"
                        ],
                        [
                          0.3333333333333333,
                          "#9c179e"
                        ],
                        [
                          0.4444444444444444,
                          "#bd3786"
                        ],
                        [
                          0.5555555555555556,
                          "#d8576b"
                        ],
                        [
                          0.6666666666666666,
                          "#ed7953"
                        ],
                        [
                          0.7777777777777778,
                          "#fb9f3a"
                        ],
                        [
                          0.8888888888888888,
                          "#fdca26"
                        ],
                        [
                          1,
                          "#f0f921"
                        ]
                      ]
                    },
                    "colorway": [
                      "#636efa",
                      "#EF553B",
                      "#00cc96",
                      "#ab63fa",
                      "#FFA15A",
                      "#19d3f3",
                      "#FF6692",
                      "#B6E880",
                      "#FF97FF",
                      "#FECB52"
                    ],
                    "font": {
                      "color": "#2a3f5f"
                    },
                    "geo": {
                      "bgcolor": "white",
                      "lakecolor": "white",
                      "landcolor": "#E5ECF6",
                      "showlakes": true,
                      "showland": true,
                      "subunitcolor": "white"
                    },
                    "hoverlabel": {
                      "align": "left"
                    },
                    "hovermode": "closest",
                    "mapbox": {
                      "style": "light"
                    },
                    "paper_bgcolor": "white",
                    "plot_bgcolor": "#E5ECF6",
                    "polar": {
                      "angularaxis": {
                        "gridcolor": "white",
                        "linecolor": "white",
                        "ticks": ""
                      },
                      "bgcolor": "#E5ECF6",
                      "radialaxis": {
                        "gridcolor": "white",
                        "linecolor": "white",
                        "ticks": ""
                      }
                    },
                    "scene": {
                      "xaxis": {
                        "backgroundcolor": "#E5ECF6",
                        "gridcolor": "white",
                        "gridwidth": 2,
                        "linecolor": "white",
                        "showbackground": true,
                        "ticks": "",
                        "zerolinecolor": "white"
                      },
                      "yaxis": {
                        "backgroundcolor": "#E5ECF6",
                        "gridcolor": "white",
                        "gridwidth": 2,
                        "linecolor": "white",
                        "showbackground": true,
                        "ticks": "",
                        "zerolinecolor": "white"
                      },
                      "zaxis": {
                        "backgroundcolor": "#E5ECF6",
                        "gridcolor": "white",
                        "gridwidth": 2,
                        "linecolor": "white",
                        "showbackground": true,
                        "ticks": "",
                        "zerolinecolor": "white"
                      }
                    },
                    "shapedefaults": {
                      "line": {
                        "color": "#2a3f5f"
                      }
                    },
                    "ternary": {
                      "aaxis": {
                        "gridcolor": "white",
                        "linecolor": "white",
                        "ticks": ""
                      },
                      "baxis": {
                        "gridcolor": "white",
                        "linecolor": "white",
                        "ticks": ""
                      },
                      "bgcolor": "#E5ECF6",
                      "caxis": {
                        "gridcolor": "white",
                        "linecolor": "white",
                        "ticks": ""
                      }
                    },
                    "title": {
                      "x": 0.05
                    },
                    "xaxis": {
                      "automargin": true,
                      "gridcolor": "white",
                      "linecolor": "white",
                      "ticks": "",
                      "title": {
                        "standoff": 15
                      },
                      "zerolinecolor": "white",
                      "zerolinewidth": 2
                    },
                    "yaxis": {
                      "automargin": true,
                      "gridcolor": "white",
                      "linecolor": "white",
                      "ticks": "",
                      "title": {
                        "standoff": 15
                      },
                      "zerolinecolor": "white",
                      "zerolinewidth": 2
                    }
                  }
                },
                "xaxis": {
                  "anchor": "y",
                  "domain": [
                    0,
                    1
                  ],
                  "title": {
                    "text": "Age"
                  }
                },
                "yaxis": {
                  "anchor": "x",
                  "domain": [
                    0,
                    1
                  ],
                  "title": {
                    "text": "Fare"
                  }
                }
              }
            }
          },
          "metadata": {},
          "output_type": "display_data"
        }
      ],
      "source": [
        "# Je veux vérifier l'effet \"les femmes et les enfants d'abord\"\n",
        "display(px.scatter(df1[df1.Sex == 'female'], x=\"Age\", y=\"Fare\", color=\"Survived\"))\n",
        "display(px.scatter(df1[df1.Sex == 'male'], x=\"Age\", y=\"Fare\", color=\"Survived\"))\n",
        "# Que je valide"
      ]
    },
    {
      "cell_type": "code",
      "execution_count": 19,
      "metadata": {
        "colab": {
          "base_uri": "https://localhost:8080/",
          "height": 542
        },
        "id": "vjTo0J4WM5R-",
        "outputId": "2e22c0c3-e053-4cc9-8d55-859d311570f0"
      },
      "outputs": [
        {
          "data": {
            "application/vnd.plotly.v1+json": {
              "config": {
                "plotlyServerURL": "https://plot.ly"
              },
              "data": [
                {
                  "alignmentgroup": "True",
                  "bingroup": "x",
                  "hovertemplate": "Survived=0<br>Sex=%{x}<br>count=%{y}<extra></extra>",
                  "legendgroup": "0",
                  "marker": {
                    "color": "#636efa",
                    "pattern": {
                      "shape": ""
                    }
                  },
                  "name": "0",
                  "offsetgroup": "0",
                  "orientation": "v",
                  "showlegend": true,
                  "type": "histogram",
                  "x": [
                    "male",
                    "male",
                    "male",
                    "male",
                    "male",
                    "male",
                    "male",
                    "female",
                    "male",
                    "female",
                    "male",
                    "female",
                    "male",
                    "male",
                    "male",
                    "male",
                    "male",
                    "male",
                    "male",
                    "male",
                    "female",
                    "female",
                    "female",
                    "male",
                    "male",
                    "male",
                    "male",
                    "female",
                    "male",
                    "male",
                    "male",
                    "male",
                    "male",
                    "male",
                    "male",
                    "male",
                    "male",
                    "male",
                    "male",
                    "male",
                    "female",
                    "male",
                    "male",
                    "male",
                    "male",
                    "male",
                    "male",
                    "male",
                    "male",
                    "male",
                    "male",
                    "male",
                    "male",
                    "male",
                    "male",
                    "male",
                    "male",
                    "male",
                    "male",
                    "female",
                    "male",
                    "male",
                    "male",
                    "male",
                    "male",
                    "male",
                    "male",
                    "female",
                    "male",
                    "female",
                    "female",
                    "male",
                    "male",
                    "male",
                    "male",
                    "female",
                    "male",
                    "male",
                    "male",
                    "male",
                    "male",
                    "male",
                    "male",
                    "male",
                    "female",
                    "male",
                    "male",
                    "male",
                    "male",
                    "male",
                    "female",
                    "male",
                    "male",
                    "male",
                    "female",
                    "male",
                    "male",
                    "male",
                    "male",
                    "male",
                    "male",
                    "male",
                    "male",
                    "male",
                    "male",
                    "male",
                    "male",
                    "male",
                    "male",
                    "female",
                    "male",
                    "male",
                    "male",
                    "male",
                    "male",
                    "male",
                    "male",
                    "male",
                    "female",
                    "male",
                    "male",
                    "female",
                    "male",
                    "male",
                    "male",
                    "male",
                    "male",
                    "male",
                    "male",
                    "male",
                    "female",
                    "male",
                    "male",
                    "male",
                    "male",
                    "female",
                    "male",
                    "male",
                    "male",
                    "male",
                    "male",
                    "male",
                    "male",
                    "male",
                    "male",
                    "male",
                    "male",
                    "male",
                    "male",
                    "female",
                    "male",
                    "male",
                    "male",
                    "female",
                    "male",
                    "male",
                    "male",
                    "female",
                    "male",
                    "male",
                    "male",
                    "male",
                    "female",
                    "male",
                    "male",
                    "female",
                    "male",
                    "male",
                    "female",
                    "male",
                    "male",
                    "male",
                    "female",
                    "male",
                    "male",
                    "male",
                    "male",
                    "female",
                    "male",
                    "male",
                    "male",
                    "male",
                    "male",
                    "male",
                    "male",
                    "male",
                    "male",
                    "female",
                    "male",
                    "male",
                    "male",
                    "female",
                    "male",
                    "male",
                    "male",
                    "female",
                    "male",
                    "male",
                    "male",
                    "male",
                    "male",
                    "male",
                    "male",
                    "male",
                    "male",
                    "male",
                    "male",
                    "male",
                    "male",
                    "male",
                    "male",
                    "male",
                    "male",
                    "male",
                    "male",
                    "male",
                    "male",
                    "male",
                    "male",
                    "female",
                    "male",
                    "male",
                    "female",
                    "male",
                    "male",
                    "male",
                    "male",
                    "male",
                    "male",
                    "female",
                    "male",
                    "male",
                    "male",
                    "male",
                    "male",
                    "male",
                    "male",
                    "male",
                    "male",
                    "male",
                    "female",
                    "male",
                    "male",
                    "male",
                    "female",
                    "male",
                    "female",
                    "male",
                    "male",
                    "male",
                    "female",
                    "male",
                    "male",
                    "male",
                    "female",
                    "male",
                    "female",
                    "male",
                    "male",
                    "male",
                    "female",
                    "male",
                    "male",
                    "male",
                    "male",
                    "male",
                    "female",
                    "male",
                    "male",
                    "male",
                    "male",
                    "male",
                    "male",
                    "male",
                    "male",
                    "male",
                    "male",
                    "male",
                    "male",
                    "male",
                    "male",
                    "male",
                    "male",
                    "male",
                    "male",
                    "male",
                    "male",
                    "female",
                    "male",
                    "male",
                    "male",
                    "male",
                    "male",
                    "male",
                    "male",
                    "female",
                    "male",
                    "male",
                    "male",
                    "male",
                    "male",
                    "male",
                    "male",
                    "male",
                    "male",
                    "female",
                    "male",
                    "male",
                    "female",
                    "female",
                    "female",
                    "male",
                    "male",
                    "male",
                    "male",
                    "male",
                    "male",
                    "male",
                    "male",
                    "male",
                    "male",
                    "male",
                    "male",
                    "male",
                    "male",
                    "male",
                    "male",
                    "female",
                    "male",
                    "male",
                    "female",
                    "female",
                    "male",
                    "male",
                    "male",
                    "male",
                    "male",
                    "male",
                    "male",
                    "male",
                    "male",
                    "male",
                    "male",
                    "female",
                    "male",
                    "male",
                    "female",
                    "male",
                    "male",
                    "male",
                    "female",
                    "male",
                    "male",
                    "male",
                    "male",
                    "male",
                    "male",
                    "male",
                    "male",
                    "female",
                    "male",
                    "male",
                    "male",
                    "male",
                    "male",
                    "male",
                    "male",
                    "male",
                    "male",
                    "female",
                    "male",
                    "male",
                    "male",
                    "male",
                    "female",
                    "male",
                    "male",
                    "male",
                    "male",
                    "male",
                    "male",
                    "male",
                    "male",
                    "male",
                    "male",
                    "female",
                    "male",
                    "male",
                    "female",
                    "male",
                    "male",
                    "female",
                    "male",
                    "male",
                    "male",
                    "male",
                    "female",
                    "male",
                    "male",
                    "female",
                    "male",
                    "male",
                    "male",
                    "male",
                    "male",
                    "male",
                    "male",
                    "male",
                    "male",
                    "male",
                    "male",
                    "male",
                    "male",
                    "male",
                    "female",
                    "female",
                    "male",
                    "male",
                    "male",
                    "male",
                    "male",
                    "male",
                    "male",
                    "male",
                    "male",
                    "male",
                    "male",
                    "male",
                    "male",
                    "female",
                    "male",
                    "male",
                    "male",
                    "male",
                    "male",
                    "male",
                    "male",
                    "male",
                    "male",
                    "male",
                    "male",
                    "male",
                    "male",
                    "male",
                    "female",
                    "male",
                    "male",
                    "male",
                    "male",
                    "male",
                    "female",
                    "male",
                    "male",
                    "male",
                    "male",
                    "male",
                    "male",
                    "male",
                    "male",
                    "male",
                    "male",
                    "male",
                    "male",
                    "male",
                    "male",
                    "male",
                    "male",
                    "male",
                    "female",
                    "male",
                    "male",
                    "male",
                    "male",
                    "female",
                    "male",
                    "male",
                    "male",
                    "male",
                    "male",
                    "male",
                    "male",
                    "male",
                    "male",
                    "male",
                    "male",
                    "male",
                    "female",
                    "male",
                    "male",
                    "male",
                    "male",
                    "female",
                    "male",
                    "male",
                    "male",
                    "female",
                    "male",
                    "male",
                    "male",
                    "male",
                    "female",
                    "male",
                    "male",
                    "female",
                    "male",
                    "male",
                    "male",
                    "male",
                    "male",
                    "male",
                    "male",
                    "male",
                    "male",
                    "male",
                    "male",
                    "male",
                    "male",
                    "male",
                    "male",
                    "male",
                    "male",
                    "male",
                    "male",
                    "male",
                    "male",
                    "male",
                    "female",
                    "female",
                    "male",
                    "male",
                    "male",
                    "female",
                    "male",
                    "male",
                    "male",
                    "male",
                    "male",
                    "male",
                    "male",
                    "male",
                    "male",
                    "male",
                    "female",
                    "male",
                    "male",
                    "female",
                    "male",
                    "female",
                    "male"
                  ],
                  "xaxis": "x",
                  "yaxis": "y"
                },
                {
                  "alignmentgroup": "True",
                  "bingroup": "x",
                  "hovertemplate": "Survived=1<br>Sex=%{x}<br>count=%{y}<extra></extra>",
                  "legendgroup": "1",
                  "marker": {
                    "color": "#EF553B",
                    "pattern": {
                      "shape": ""
                    }
                  },
                  "name": "1",
                  "offsetgroup": "1",
                  "orientation": "v",
                  "showlegend": true,
                  "type": "histogram",
                  "x": [
                    "female",
                    "female",
                    "female",
                    "female",
                    "female",
                    "female",
                    "female",
                    "female",
                    "male",
                    "female",
                    "male",
                    "female",
                    "male",
                    "female",
                    "female",
                    "female",
                    "female",
                    "male",
                    "female",
                    "female",
                    "female",
                    "female",
                    "female",
                    "female",
                    "male",
                    "female",
                    "female",
                    "female",
                    "male",
                    "female",
                    "female",
                    "male",
                    "male",
                    "female",
                    "male",
                    "female",
                    "female",
                    "female",
                    "female",
                    "male",
                    "female",
                    "female",
                    "male",
                    "female",
                    "female",
                    "male",
                    "male",
                    "female",
                    "female",
                    "female",
                    "female",
                    "female",
                    "male",
                    "female",
                    "female",
                    "female",
                    "male",
                    "female",
                    "female",
                    "male",
                    "female",
                    "female",
                    "male",
                    "female",
                    "female",
                    "male",
                    "female",
                    "female",
                    "female",
                    "male",
                    "male",
                    "female",
                    "male",
                    "female",
                    "female",
                    "female",
                    "female",
                    "male",
                    "male",
                    "male",
                    "female",
                    "female",
                    "female",
                    "female",
                    "female",
                    "male",
                    "female",
                    "female",
                    "female",
                    "female",
                    "female",
                    "male",
                    "male",
                    "female",
                    "female",
                    "male",
                    "female",
                    "female",
                    "female",
                    "female",
                    "male",
                    "male",
                    "male",
                    "female",
                    "female",
                    "female",
                    "male",
                    "female",
                    "female",
                    "male",
                    "female",
                    "male",
                    "female",
                    "female",
                    "female",
                    "female",
                    "female",
                    "female",
                    "female",
                    "female",
                    "female",
                    "female",
                    "female",
                    "female",
                    "female",
                    "female",
                    "female",
                    "female",
                    "female",
                    "female",
                    "male",
                    "male",
                    "female",
                    "female",
                    "female",
                    "female",
                    "male",
                    "female",
                    "female",
                    "female",
                    "female",
                    "female",
                    "female",
                    "female",
                    "male",
                    "female",
                    "female",
                    "female",
                    "female",
                    "female",
                    "female",
                    "female",
                    "male",
                    "male",
                    "female",
                    "female",
                    "female",
                    "male",
                    "male",
                    "female",
                    "male",
                    "female",
                    "female",
                    "female",
                    "female",
                    "male",
                    "male",
                    "female",
                    "female",
                    "female",
                    "female",
                    "female",
                    "female",
                    "male",
                    "male",
                    "female",
                    "male",
                    "female",
                    "male",
                    "male",
                    "male",
                    "female",
                    "female",
                    "male",
                    "female",
                    "female",
                    "female",
                    "female",
                    "female",
                    "male",
                    "female",
                    "male",
                    "female",
                    "female",
                    "female",
                    "male",
                    "male",
                    "male",
                    "male",
                    "female",
                    "female",
                    "female",
                    "female",
                    "female",
                    "female",
                    "female",
                    "female",
                    "female",
                    "female",
                    "female",
                    "female",
                    "male",
                    "female",
                    "male",
                    "male",
                    "male",
                    "male",
                    "female",
                    "female",
                    "female",
                    "female",
                    "male",
                    "male",
                    "female",
                    "male",
                    "female",
                    "female",
                    "female",
                    "male",
                    "female",
                    "female",
                    "female",
                    "male",
                    "female",
                    "female",
                    "male",
                    "female",
                    "male",
                    "male",
                    "female",
                    "female",
                    "female",
                    "female",
                    "female",
                    "male",
                    "male",
                    "female",
                    "male",
                    "male",
                    "female",
                    "female",
                    "male",
                    "female",
                    "male",
                    "male",
                    "female",
                    "female",
                    "female",
                    "male",
                    "male",
                    "female",
                    "female",
                    "male",
                    "female",
                    "male",
                    "male",
                    "female",
                    "male",
                    "female",
                    "male",
                    "female",
                    "female",
                    "male",
                    "female",
                    "male",
                    "female",
                    "male",
                    "female",
                    "male",
                    "female",
                    "female",
                    "female",
                    "male",
                    "female",
                    "female",
                    "female",
                    "male",
                    "male",
                    "female",
                    "male",
                    "female",
                    "female",
                    "male",
                    "female",
                    "male",
                    "female",
                    "male",
                    "female",
                    "female",
                    "female",
                    "female",
                    "female",
                    "female",
                    "female",
                    "female",
                    "male",
                    "female",
                    "female",
                    "female",
                    "male",
                    "male",
                    "male",
                    "female",
                    "female",
                    "male",
                    "female",
                    "male",
                    "male",
                    "female",
                    "female",
                    "male",
                    "female",
                    "male",
                    "male",
                    "female",
                    "female",
                    "female",
                    "female",
                    "female",
                    "male",
                    "female",
                    "female",
                    "female",
                    "female",
                    "male",
                    "female",
                    "female",
                    "female",
                    "female",
                    "female",
                    "female",
                    "male"
                  ],
                  "xaxis": "x",
                  "yaxis": "y"
                }
              ],
              "layout": {
                "barmode": "relative",
                "legend": {
                  "title": {
                    "text": "Survived"
                  },
                  "tracegroupgap": 0
                },
                "margin": {
                  "t": 60
                },
                "template": {
                  "data": {
                    "bar": [
                      {
                        "error_x": {
                          "color": "#2a3f5f"
                        },
                        "error_y": {
                          "color": "#2a3f5f"
                        },
                        "marker": {
                          "line": {
                            "color": "#E5ECF6",
                            "width": 0.5
                          },
                          "pattern": {
                            "fillmode": "overlay",
                            "size": 10,
                            "solidity": 0.2
                          }
                        },
                        "type": "bar"
                      }
                    ],
                    "barpolar": [
                      {
                        "marker": {
                          "line": {
                            "color": "#E5ECF6",
                            "width": 0.5
                          },
                          "pattern": {
                            "fillmode": "overlay",
                            "size": 10,
                            "solidity": 0.2
                          }
                        },
                        "type": "barpolar"
                      }
                    ],
                    "carpet": [
                      {
                        "aaxis": {
                          "endlinecolor": "#2a3f5f",
                          "gridcolor": "white",
                          "linecolor": "white",
                          "minorgridcolor": "white",
                          "startlinecolor": "#2a3f5f"
                        },
                        "baxis": {
                          "endlinecolor": "#2a3f5f",
                          "gridcolor": "white",
                          "linecolor": "white",
                          "minorgridcolor": "white",
                          "startlinecolor": "#2a3f5f"
                        },
                        "type": "carpet"
                      }
                    ],
                    "choropleth": [
                      {
                        "colorbar": {
                          "outlinewidth": 0,
                          "ticks": ""
                        },
                        "type": "choropleth"
                      }
                    ],
                    "contour": [
                      {
                        "colorbar": {
                          "outlinewidth": 0,
                          "ticks": ""
                        },
                        "colorscale": [
                          [
                            0,
                            "#0d0887"
                          ],
                          [
                            0.1111111111111111,
                            "#46039f"
                          ],
                          [
                            0.2222222222222222,
                            "#7201a8"
                          ],
                          [
                            0.3333333333333333,
                            "#9c179e"
                          ],
                          [
                            0.4444444444444444,
                            "#bd3786"
                          ],
                          [
                            0.5555555555555556,
                            "#d8576b"
                          ],
                          [
                            0.6666666666666666,
                            "#ed7953"
                          ],
                          [
                            0.7777777777777778,
                            "#fb9f3a"
                          ],
                          [
                            0.8888888888888888,
                            "#fdca26"
                          ],
                          [
                            1,
                            "#f0f921"
                          ]
                        ],
                        "type": "contour"
                      }
                    ],
                    "contourcarpet": [
                      {
                        "colorbar": {
                          "outlinewidth": 0,
                          "ticks": ""
                        },
                        "type": "contourcarpet"
                      }
                    ],
                    "heatmap": [
                      {
                        "colorbar": {
                          "outlinewidth": 0,
                          "ticks": ""
                        },
                        "colorscale": [
                          [
                            0,
                            "#0d0887"
                          ],
                          [
                            0.1111111111111111,
                            "#46039f"
                          ],
                          [
                            0.2222222222222222,
                            "#7201a8"
                          ],
                          [
                            0.3333333333333333,
                            "#9c179e"
                          ],
                          [
                            0.4444444444444444,
                            "#bd3786"
                          ],
                          [
                            0.5555555555555556,
                            "#d8576b"
                          ],
                          [
                            0.6666666666666666,
                            "#ed7953"
                          ],
                          [
                            0.7777777777777778,
                            "#fb9f3a"
                          ],
                          [
                            0.8888888888888888,
                            "#fdca26"
                          ],
                          [
                            1,
                            "#f0f921"
                          ]
                        ],
                        "type": "heatmap"
                      }
                    ],
                    "heatmapgl": [
                      {
                        "colorbar": {
                          "outlinewidth": 0,
                          "ticks": ""
                        },
                        "colorscale": [
                          [
                            0,
                            "#0d0887"
                          ],
                          [
                            0.1111111111111111,
                            "#46039f"
                          ],
                          [
                            0.2222222222222222,
                            "#7201a8"
                          ],
                          [
                            0.3333333333333333,
                            "#9c179e"
                          ],
                          [
                            0.4444444444444444,
                            "#bd3786"
                          ],
                          [
                            0.5555555555555556,
                            "#d8576b"
                          ],
                          [
                            0.6666666666666666,
                            "#ed7953"
                          ],
                          [
                            0.7777777777777778,
                            "#fb9f3a"
                          ],
                          [
                            0.8888888888888888,
                            "#fdca26"
                          ],
                          [
                            1,
                            "#f0f921"
                          ]
                        ],
                        "type": "heatmapgl"
                      }
                    ],
                    "histogram": [
                      {
                        "marker": {
                          "pattern": {
                            "fillmode": "overlay",
                            "size": 10,
                            "solidity": 0.2
                          }
                        },
                        "type": "histogram"
                      }
                    ],
                    "histogram2d": [
                      {
                        "colorbar": {
                          "outlinewidth": 0,
                          "ticks": ""
                        },
                        "colorscale": [
                          [
                            0,
                            "#0d0887"
                          ],
                          [
                            0.1111111111111111,
                            "#46039f"
                          ],
                          [
                            0.2222222222222222,
                            "#7201a8"
                          ],
                          [
                            0.3333333333333333,
                            "#9c179e"
                          ],
                          [
                            0.4444444444444444,
                            "#bd3786"
                          ],
                          [
                            0.5555555555555556,
                            "#d8576b"
                          ],
                          [
                            0.6666666666666666,
                            "#ed7953"
                          ],
                          [
                            0.7777777777777778,
                            "#fb9f3a"
                          ],
                          [
                            0.8888888888888888,
                            "#fdca26"
                          ],
                          [
                            1,
                            "#f0f921"
                          ]
                        ],
                        "type": "histogram2d"
                      }
                    ],
                    "histogram2dcontour": [
                      {
                        "colorbar": {
                          "outlinewidth": 0,
                          "ticks": ""
                        },
                        "colorscale": [
                          [
                            0,
                            "#0d0887"
                          ],
                          [
                            0.1111111111111111,
                            "#46039f"
                          ],
                          [
                            0.2222222222222222,
                            "#7201a8"
                          ],
                          [
                            0.3333333333333333,
                            "#9c179e"
                          ],
                          [
                            0.4444444444444444,
                            "#bd3786"
                          ],
                          [
                            0.5555555555555556,
                            "#d8576b"
                          ],
                          [
                            0.6666666666666666,
                            "#ed7953"
                          ],
                          [
                            0.7777777777777778,
                            "#fb9f3a"
                          ],
                          [
                            0.8888888888888888,
                            "#fdca26"
                          ],
                          [
                            1,
                            "#f0f921"
                          ]
                        ],
                        "type": "histogram2dcontour"
                      }
                    ],
                    "mesh3d": [
                      {
                        "colorbar": {
                          "outlinewidth": 0,
                          "ticks": ""
                        },
                        "type": "mesh3d"
                      }
                    ],
                    "parcoords": [
                      {
                        "line": {
                          "colorbar": {
                            "outlinewidth": 0,
                            "ticks": ""
                          }
                        },
                        "type": "parcoords"
                      }
                    ],
                    "pie": [
                      {
                        "automargin": true,
                        "type": "pie"
                      }
                    ],
                    "scatter": [
                      {
                        "fillpattern": {
                          "fillmode": "overlay",
                          "size": 10,
                          "solidity": 0.2
                        },
                        "type": "scatter"
                      }
                    ],
                    "scatter3d": [
                      {
                        "line": {
                          "colorbar": {
                            "outlinewidth": 0,
                            "ticks": ""
                          }
                        },
                        "marker": {
                          "colorbar": {
                            "outlinewidth": 0,
                            "ticks": ""
                          }
                        },
                        "type": "scatter3d"
                      }
                    ],
                    "scattercarpet": [
                      {
                        "marker": {
                          "colorbar": {
                            "outlinewidth": 0,
                            "ticks": ""
                          }
                        },
                        "type": "scattercarpet"
                      }
                    ],
                    "scattergeo": [
                      {
                        "marker": {
                          "colorbar": {
                            "outlinewidth": 0,
                            "ticks": ""
                          }
                        },
                        "type": "scattergeo"
                      }
                    ],
                    "scattergl": [
                      {
                        "marker": {
                          "colorbar": {
                            "outlinewidth": 0,
                            "ticks": ""
                          }
                        },
                        "type": "scattergl"
                      }
                    ],
                    "scattermapbox": [
                      {
                        "marker": {
                          "colorbar": {
                            "outlinewidth": 0,
                            "ticks": ""
                          }
                        },
                        "type": "scattermapbox"
                      }
                    ],
                    "scatterpolar": [
                      {
                        "marker": {
                          "colorbar": {
                            "outlinewidth": 0,
                            "ticks": ""
                          }
                        },
                        "type": "scatterpolar"
                      }
                    ],
                    "scatterpolargl": [
                      {
                        "marker": {
                          "colorbar": {
                            "outlinewidth": 0,
                            "ticks": ""
                          }
                        },
                        "type": "scatterpolargl"
                      }
                    ],
                    "scatterternary": [
                      {
                        "marker": {
                          "colorbar": {
                            "outlinewidth": 0,
                            "ticks": ""
                          }
                        },
                        "type": "scatterternary"
                      }
                    ],
                    "surface": [
                      {
                        "colorbar": {
                          "outlinewidth": 0,
                          "ticks": ""
                        },
                        "colorscale": [
                          [
                            0,
                            "#0d0887"
                          ],
                          [
                            0.1111111111111111,
                            "#46039f"
                          ],
                          [
                            0.2222222222222222,
                            "#7201a8"
                          ],
                          [
                            0.3333333333333333,
                            "#9c179e"
                          ],
                          [
                            0.4444444444444444,
                            "#bd3786"
                          ],
                          [
                            0.5555555555555556,
                            "#d8576b"
                          ],
                          [
                            0.6666666666666666,
                            "#ed7953"
                          ],
                          [
                            0.7777777777777778,
                            "#fb9f3a"
                          ],
                          [
                            0.8888888888888888,
                            "#fdca26"
                          ],
                          [
                            1,
                            "#f0f921"
                          ]
                        ],
                        "type": "surface"
                      }
                    ],
                    "table": [
                      {
                        "cells": {
                          "fill": {
                            "color": "#EBF0F8"
                          },
                          "line": {
                            "color": "white"
                          }
                        },
                        "header": {
                          "fill": {
                            "color": "#C8D4E3"
                          },
                          "line": {
                            "color": "white"
                          }
                        },
                        "type": "table"
                      }
                    ]
                  },
                  "layout": {
                    "annotationdefaults": {
                      "arrowcolor": "#2a3f5f",
                      "arrowhead": 0,
                      "arrowwidth": 1
                    },
                    "autotypenumbers": "strict",
                    "coloraxis": {
                      "colorbar": {
                        "outlinewidth": 0,
                        "ticks": ""
                      }
                    },
                    "colorscale": {
                      "diverging": [
                        [
                          0,
                          "#8e0152"
                        ],
                        [
                          0.1,
                          "#c51b7d"
                        ],
                        [
                          0.2,
                          "#de77ae"
                        ],
                        [
                          0.3,
                          "#f1b6da"
                        ],
                        [
                          0.4,
                          "#fde0ef"
                        ],
                        [
                          0.5,
                          "#f7f7f7"
                        ],
                        [
                          0.6,
                          "#e6f5d0"
                        ],
                        [
                          0.7,
                          "#b8e186"
                        ],
                        [
                          0.8,
                          "#7fbc41"
                        ],
                        [
                          0.9,
                          "#4d9221"
                        ],
                        [
                          1,
                          "#276419"
                        ]
                      ],
                      "sequential": [
                        [
                          0,
                          "#0d0887"
                        ],
                        [
                          0.1111111111111111,
                          "#46039f"
                        ],
                        [
                          0.2222222222222222,
                          "#7201a8"
                        ],
                        [
                          0.3333333333333333,
                          "#9c179e"
                        ],
                        [
                          0.4444444444444444,
                          "#bd3786"
                        ],
                        [
                          0.5555555555555556,
                          "#d8576b"
                        ],
                        [
                          0.6666666666666666,
                          "#ed7953"
                        ],
                        [
                          0.7777777777777778,
                          "#fb9f3a"
                        ],
                        [
                          0.8888888888888888,
                          "#fdca26"
                        ],
                        [
                          1,
                          "#f0f921"
                        ]
                      ],
                      "sequentialminus": [
                        [
                          0,
                          "#0d0887"
                        ],
                        [
                          0.1111111111111111,
                          "#46039f"
                        ],
                        [
                          0.2222222222222222,
                          "#7201a8"
                        ],
                        [
                          0.3333333333333333,
                          "#9c179e"
                        ],
                        [
                          0.4444444444444444,
                          "#bd3786"
                        ],
                        [
                          0.5555555555555556,
                          "#d8576b"
                        ],
                        [
                          0.6666666666666666,
                          "#ed7953"
                        ],
                        [
                          0.7777777777777778,
                          "#fb9f3a"
                        ],
                        [
                          0.8888888888888888,
                          "#fdca26"
                        ],
                        [
                          1,
                          "#f0f921"
                        ]
                      ]
                    },
                    "colorway": [
                      "#636efa",
                      "#EF553B",
                      "#00cc96",
                      "#ab63fa",
                      "#FFA15A",
                      "#19d3f3",
                      "#FF6692",
                      "#B6E880",
                      "#FF97FF",
                      "#FECB52"
                    ],
                    "font": {
                      "color": "#2a3f5f"
                    },
                    "geo": {
                      "bgcolor": "white",
                      "lakecolor": "white",
                      "landcolor": "#E5ECF6",
                      "showlakes": true,
                      "showland": true,
                      "subunitcolor": "white"
                    },
                    "hoverlabel": {
                      "align": "left"
                    },
                    "hovermode": "closest",
                    "mapbox": {
                      "style": "light"
                    },
                    "paper_bgcolor": "white",
                    "plot_bgcolor": "#E5ECF6",
                    "polar": {
                      "angularaxis": {
                        "gridcolor": "white",
                        "linecolor": "white",
                        "ticks": ""
                      },
                      "bgcolor": "#E5ECF6",
                      "radialaxis": {
                        "gridcolor": "white",
                        "linecolor": "white",
                        "ticks": ""
                      }
                    },
                    "scene": {
                      "xaxis": {
                        "backgroundcolor": "#E5ECF6",
                        "gridcolor": "white",
                        "gridwidth": 2,
                        "linecolor": "white",
                        "showbackground": true,
                        "ticks": "",
                        "zerolinecolor": "white"
                      },
                      "yaxis": {
                        "backgroundcolor": "#E5ECF6",
                        "gridcolor": "white",
                        "gridwidth": 2,
                        "linecolor": "white",
                        "showbackground": true,
                        "ticks": "",
                        "zerolinecolor": "white"
                      },
                      "zaxis": {
                        "backgroundcolor": "#E5ECF6",
                        "gridcolor": "white",
                        "gridwidth": 2,
                        "linecolor": "white",
                        "showbackground": true,
                        "ticks": "",
                        "zerolinecolor": "white"
                      }
                    },
                    "shapedefaults": {
                      "line": {
                        "color": "#2a3f5f"
                      }
                    },
                    "ternary": {
                      "aaxis": {
                        "gridcolor": "white",
                        "linecolor": "white",
                        "ticks": ""
                      },
                      "baxis": {
                        "gridcolor": "white",
                        "linecolor": "white",
                        "ticks": ""
                      },
                      "bgcolor": "#E5ECF6",
                      "caxis": {
                        "gridcolor": "white",
                        "linecolor": "white",
                        "ticks": ""
                      }
                    },
                    "title": {
                      "x": 0.05
                    },
                    "xaxis": {
                      "automargin": true,
                      "gridcolor": "white",
                      "linecolor": "white",
                      "ticks": "",
                      "title": {
                        "standoff": 15
                      },
                      "zerolinecolor": "white",
                      "zerolinewidth": 2
                    },
                    "yaxis": {
                      "automargin": true,
                      "gridcolor": "white",
                      "linecolor": "white",
                      "ticks": "",
                      "title": {
                        "standoff": 15
                      },
                      "zerolinecolor": "white",
                      "zerolinewidth": 2
                    }
                  }
                },
                "xaxis": {
                  "anchor": "y",
                  "domain": [
                    0,
                    1
                  ],
                  "title": {
                    "text": "Sex"
                  }
                },
                "yaxis": {
                  "anchor": "x",
                  "domain": [
                    0,
                    1
                  ],
                  "title": {
                    "text": "count"
                  }
                }
              }
            }
          },
          "metadata": {},
          "output_type": "display_data"
        }
      ],
      "source": [
        "# Autre manière de faire\n",
        "px.histogram(df1, x=\"Sex\", color=\"Survived\")"
      ]
    },
    {
      "cell_type": "code",
      "execution_count": 20,
      "metadata": {
        "colab": {
          "base_uri": "https://localhost:8080/",
          "height": 542
        },
        "id": "P3sz0xrlNbIe",
        "outputId": "e002f517-e4e4-4ae5-b79c-4be736c2297e"
      },
      "outputs": [
        {
          "data": {
            "application/vnd.plotly.v1+json": {
              "config": {
                "plotlyServerURL": "https://plot.ly"
              },
              "data": [
                {
                  "alignmentgroup": "True",
                  "bingroup": "x",
                  "hovertemplate": "Survived=0<br>Embarked=%{x}<br>count=%{y}<extra></extra>",
                  "legendgroup": "0",
                  "marker": {
                    "color": "#636efa",
                    "pattern": {
                      "shape": ""
                    }
                  },
                  "name": "0",
                  "offsetgroup": "0",
                  "orientation": "v",
                  "showlegend": true,
                  "type": "histogram",
                  "x": [
                    "S",
                    "S",
                    "Q",
                    "S",
                    "S",
                    "S",
                    "S",
                    "S",
                    "Q",
                    "S",
                    "S",
                    "S",
                    "C",
                    "S",
                    "S",
                    "C",
                    "S",
                    "C",
                    "S",
                    "S",
                    "S",
                    "S",
                    "S",
                    "C",
                    "S",
                    "Q",
                    "C",
                    "S",
                    "S",
                    "S",
                    "C",
                    "C",
                    "S",
                    "C",
                    "S",
                    "S",
                    "C",
                    "S",
                    "S",
                    "S",
                    "S",
                    "S",
                    "C",
                    "S",
                    "S",
                    "S",
                    "S",
                    "S",
                    "S",
                    "S",
                    "S",
                    "S",
                    "S",
                    "S",
                    "S",
                    "S",
                    "S",
                    "C",
                    "S",
                    "S",
                    "S",
                    "S",
                    "S",
                    "S",
                    "S",
                    "S",
                    "S",
                    "C",
                    "S",
                    "S",
                    "C",
                    "S",
                    "Q",
                    "S",
                    "C",
                    "S",
                    "S",
                    "S",
                    "C",
                    "S",
                    "Q",
                    "S",
                    "C",
                    "S",
                    "S",
                    "S",
                    "C",
                    "S",
                    "S",
                    "C",
                    "C",
                    "Q",
                    "S",
                    "S",
                    "S",
                    "S",
                    "S",
                    "S",
                    "S",
                    "S",
                    "S",
                    "C",
                    "S",
                    "S",
                    "S",
                    "S",
                    "S",
                    "S",
                    "S",
                    "S",
                    "S",
                    "S",
                    "S",
                    "Q",
                    "S",
                    "C",
                    "S",
                    "S",
                    "C",
                    "S",
                    "S",
                    "S",
                    "C",
                    "S",
                    "S",
                    "Q",
                    "S",
                    "S",
                    "Q",
                    "S",
                    "S",
                    "S",
                    "S",
                    "S",
                    "C",
                    "S",
                    "S",
                    "S",
                    "S",
                    "S",
                    "Q",
                    "S",
                    "S",
                    "S",
                    "S",
                    "S",
                    "S",
                    "S",
                    "S",
                    "S",
                    "S",
                    "S",
                    "S",
                    "S",
                    "S",
                    "S",
                    "S",
                    "C",
                    "S",
                    "S",
                    "C",
                    "Q",
                    "S",
                    "S",
                    "S",
                    "S",
                    "S",
                    "S",
                    "S",
                    "Q",
                    "S",
                    "S",
                    "Q",
                    "S",
                    "S",
                    "S",
                    "C",
                    "S",
                    "S",
                    "Q",
                    "Q",
                    "S",
                    "S",
                    "S",
                    "C",
                    "S",
                    "C",
                    "S",
                    "S",
                    "C",
                    "C",
                    "S",
                    "S",
                    "S",
                    "C",
                    "S",
                    "S",
                    "S",
                    "S",
                    "S",
                    "S",
                    "S",
                    "S",
                    "S",
                    "S",
                    "S",
                    "S",
                    "S",
                    "S",
                    "S",
                    "S",
                    "S",
                    "S",
                    "S",
                    "S",
                    "C",
                    "S",
                    "C",
                    "S",
                    "S",
                    "S",
                    "C",
                    "C",
                    "S",
                    "Q",
                    "S",
                    "S",
                    "S",
                    "C",
                    "S",
                    "C",
                    "C",
                    "S",
                    "S",
                    "S",
                    "S",
                    "S",
                    "Q",
                    "S",
                    "S",
                    "S",
                    "S",
                    "S",
                    "S",
                    "S",
                    "S",
                    "S",
                    "S",
                    "S",
                    "S",
                    "S",
                    "S",
                    "Q",
                    "S",
                    "S",
                    "S",
                    "S",
                    "C",
                    "Q",
                    "S",
                    "S",
                    "S",
                    "S",
                    "Q",
                    "S",
                    "S",
                    "S",
                    "S",
                    "S",
                    "S",
                    "S",
                    "S",
                    "S",
                    "C",
                    "S",
                    "S",
                    "Q",
                    "S",
                    "S",
                    "S",
                    "S",
                    "S",
                    "S",
                    "S",
                    "Q",
                    "S",
                    "S",
                    "S",
                    "S",
                    "S",
                    "S",
                    "S",
                    "S",
                    "S",
                    "S",
                    "S",
                    "C",
                    "S",
                    "S",
                    "S",
                    "S",
                    "C",
                    "S",
                    "C",
                    "S",
                    "S",
                    "S",
                    "S",
                    "Q",
                    "Q",
                    "S",
                    "C",
                    "S",
                    "S",
                    "S",
                    "S",
                    "Q",
                    "S",
                    "S",
                    "C",
                    "C",
                    "Q",
                    "S",
                    "S",
                    "S",
                    "C",
                    "C",
                    "S",
                    "S",
                    "S",
                    "S",
                    "S",
                    "C",
                    "S",
                    "S",
                    "S",
                    "Q",
                    "S",
                    "C",
                    "Q",
                    "S",
                    "S",
                    "S",
                    "S",
                    "S",
                    "S",
                    "S",
                    "C",
                    "S",
                    "S",
                    "C",
                    "S",
                    "C",
                    "C",
                    "S",
                    "S",
                    "S",
                    "S",
                    "S",
                    "Q",
                    "S",
                    "S",
                    "S",
                    "C",
                    "S",
                    "S",
                    "S",
                    "S",
                    "S",
                    "S",
                    "S",
                    "Q",
                    "S",
                    "S",
                    "S",
                    "S",
                    "C",
                    "S",
                    "S",
                    "S",
                    "Q",
                    "S",
                    "Q",
                    "S",
                    "S",
                    "S",
                    "S",
                    "S",
                    "S",
                    "S",
                    "S",
                    "S",
                    "S",
                    "S",
                    "S",
                    "S",
                    "Q",
                    "S",
                    "S",
                    "Q",
                    "S",
                    "C",
                    "C",
                    "S",
                    "S",
                    "S",
                    "S",
                    "S",
                    "S",
                    "S",
                    "S",
                    "S",
                    "S",
                    "S",
                    "S",
                    "Q",
                    "S",
                    "S",
                    "S",
                    "C",
                    "S",
                    "S",
                    "S",
                    "C",
                    "S",
                    "S",
                    "S",
                    "C",
                    "S",
                    "C",
                    "Q",
                    "S",
                    "S",
                    "S",
                    "S",
                    "S",
                    "S",
                    "Q",
                    "S",
                    "S",
                    "S",
                    "S",
                    "S",
                    "S",
                    "S",
                    "C",
                    "S",
                    "S",
                    "S",
                    "S",
                    "S",
                    "S",
                    "S",
                    "S",
                    "S",
                    "S",
                    "S",
                    "S",
                    "Q",
                    "S",
                    "S",
                    "S",
                    "S",
                    "S",
                    "S",
                    "S",
                    "S",
                    "C",
                    "Q",
                    "Q",
                    "S",
                    "S",
                    "S",
                    "S",
                    "C",
                    "S",
                    "Q",
                    "Q",
                    "S",
                    "S",
                    "S",
                    "S",
                    "Q",
                    "C",
                    "Q",
                    "S",
                    "S",
                    "C",
                    "S",
                    "S",
                    "C",
                    "S",
                    "S",
                    "S",
                    "S",
                    "S",
                    "S",
                    "S",
                    "S",
                    "S",
                    "S",
                    "S",
                    "S",
                    "S",
                    "C",
                    "S",
                    "S",
                    "S",
                    "S",
                    "Q",
                    "S",
                    "C",
                    "S",
                    "S",
                    "S",
                    "S",
                    "S",
                    "S",
                    "C",
                    "S",
                    "S",
                    "S",
                    "C",
                    "S",
                    "S",
                    "S",
                    "C",
                    "S",
                    "C",
                    "S",
                    "S",
                    "S",
                    "S",
                    "S",
                    "S",
                    "S",
                    "S",
                    "S",
                    "S",
                    "S",
                    "S",
                    "S",
                    "S",
                    "S",
                    "S",
                    "Q",
                    "S",
                    "S",
                    "Q"
                  ],
                  "xaxis": "x",
                  "yaxis": "y"
                },
                {
                  "alignmentgroup": "True",
                  "bingroup": "x",
                  "hovertemplate": "Survived=1<br>Embarked=%{x}<br>count=%{y}<extra></extra>",
                  "legendgroup": "1",
                  "marker": {
                    "color": "#EF553B",
                    "pattern": {
                      "shape": ""
                    }
                  },
                  "name": "1",
                  "offsetgroup": "1",
                  "orientation": "v",
                  "showlegend": true,
                  "type": "histogram",
                  "x": [
                    "C",
                    "S",
                    "S",
                    "S",
                    "C",
                    "S",
                    "S",
                    "S",
                    "S",
                    "C",
                    "S",
                    "Q",
                    "S",
                    "S",
                    "Q",
                    "C",
                    "Q",
                    "C",
                    "C",
                    "C",
                    "Q",
                    "Q",
                    "C",
                    "S",
                    "S",
                    "S",
                    "S",
                    null,
                    "C",
                    "S",
                    "S",
                    "S",
                    "S",
                    "S",
                    "S",
                    "Q",
                    "S",
                    "S",
                    "S",
                    "C",
                    "S",
                    "S",
                    "S",
                    "Q",
                    "S",
                    "C",
                    "S",
                    "C",
                    "S",
                    "S",
                    "S",
                    "S",
                    "S",
                    "S",
                    "Q",
                    "S",
                    "S",
                    "S",
                    "S",
                    "S",
                    "S",
                    "Q",
                    "S",
                    "S",
                    "S",
                    "S",
                    "C",
                    "C",
                    "Q",
                    "S",
                    "C",
                    "Q",
                    "C",
                    "S",
                    "C",
                    "S",
                    "C",
                    "S",
                    "S",
                    "S",
                    "S",
                    "S",
                    "S",
                    "Q",
                    "S",
                    "S",
                    "C",
                    "C",
                    "S",
                    "C",
                    "S",
                    "S",
                    "S",
                    "S",
                    "S",
                    "S",
                    "S",
                    "Q",
                    "S",
                    "S",
                    "S",
                    "S",
                    "S",
                    "Q",
                    "S",
                    "C",
                    "S",
                    "C",
                    "Q",
                    "Q",
                    "Q",
                    "S",
                    "C",
                    "C",
                    "C",
                    "C",
                    "C",
                    "S",
                    "S",
                    "S",
                    "C",
                    "Q",
                    "S",
                    "C",
                    "S",
                    "S",
                    "C",
                    "Q",
                    "S",
                    "C",
                    "S",
                    "S",
                    "S",
                    "S",
                    "S",
                    "S",
                    "S",
                    "S",
                    "Q",
                    "Q",
                    "C",
                    "C",
                    "Q",
                    "C",
                    "C",
                    "C",
                    "S",
                    "C",
                    "C",
                    "S",
                    "S",
                    "C",
                    "S",
                    "S",
                    "C",
                    "S",
                    "S",
                    "S",
                    "S",
                    "Q",
                    "S",
                    "S",
                    "S",
                    "S",
                    "S",
                    "S",
                    "S",
                    "S",
                    "S",
                    "S",
                    "S",
                    "S",
                    "S",
                    "S",
                    "S",
                    "S",
                    "S",
                    "C",
                    "S",
                    "C",
                    "C",
                    "S",
                    "S",
                    "S",
                    "C",
                    "S",
                    "C",
                    "S",
                    "S",
                    "C",
                    "S",
                    "S",
                    "C",
                    "S",
                    "S",
                    "S",
                    "S",
                    "Q",
                    "S",
                    "C",
                    "S",
                    "S",
                    "S",
                    "C",
                    "S",
                    "S",
                    "C",
                    "S",
                    "C",
                    "C",
                    "S",
                    "S",
                    "S",
                    "C",
                    "S",
                    "C",
                    "C",
                    "S",
                    "C",
                    "S",
                    "S",
                    "S",
                    "S",
                    "S",
                    "S",
                    "Q",
                    "S",
                    "S",
                    "S",
                    "S",
                    "C",
                    "S",
                    "C",
                    "C",
                    "S",
                    "C",
                    "S",
                    "C",
                    "S",
                    "C",
                    "S",
                    "Q",
                    "S",
                    "S",
                    "S",
                    "C",
                    "S",
                    "S",
                    "C",
                    "S",
                    "C",
                    "S",
                    "C",
                    "C",
                    "C",
                    "S",
                    "S",
                    "Q",
                    "S",
                    "S",
                    "S",
                    "S",
                    "S",
                    "S",
                    "C",
                    "C",
                    "S",
                    "S",
                    "C",
                    "S",
                    "Q",
                    "C",
                    "S",
                    "S",
                    "S",
                    "S",
                    "C",
                    "C",
                    "S",
                    "C",
                    "S",
                    "S",
                    "S",
                    "S",
                    "Q",
                    "S",
                    "C",
                    "S",
                    "C",
                    "S",
                    "S",
                    "S",
                    "S",
                    "S",
                    "S",
                    "S",
                    "C",
                    "S",
                    "S",
                    "S",
                    "S",
                    "S",
                    "C",
                    "S",
                    "S",
                    "S",
                    "S",
                    "S",
                    "S",
                    "S",
                    "C",
                    "S",
                    "S",
                    "S",
                    "S",
                    "S",
                    "C",
                    "Q",
                    null,
                    "C",
                    "S",
                    "C",
                    "S",
                    "C",
                    "C",
                    "C",
                    "S",
                    "S",
                    "S",
                    "S",
                    "C",
                    "S",
                    "S",
                    "C",
                    "S",
                    "S",
                    "C",
                    "C",
                    "C",
                    "S",
                    "S",
                    "C"
                  ],
                  "xaxis": "x",
                  "yaxis": "y"
                }
              ],
              "layout": {
                "barmode": "relative",
                "legend": {
                  "title": {
                    "text": "Survived"
                  },
                  "tracegroupgap": 0
                },
                "margin": {
                  "t": 60
                },
                "template": {
                  "data": {
                    "bar": [
                      {
                        "error_x": {
                          "color": "#2a3f5f"
                        },
                        "error_y": {
                          "color": "#2a3f5f"
                        },
                        "marker": {
                          "line": {
                            "color": "#E5ECF6",
                            "width": 0.5
                          },
                          "pattern": {
                            "fillmode": "overlay",
                            "size": 10,
                            "solidity": 0.2
                          }
                        },
                        "type": "bar"
                      }
                    ],
                    "barpolar": [
                      {
                        "marker": {
                          "line": {
                            "color": "#E5ECF6",
                            "width": 0.5
                          },
                          "pattern": {
                            "fillmode": "overlay",
                            "size": 10,
                            "solidity": 0.2
                          }
                        },
                        "type": "barpolar"
                      }
                    ],
                    "carpet": [
                      {
                        "aaxis": {
                          "endlinecolor": "#2a3f5f",
                          "gridcolor": "white",
                          "linecolor": "white",
                          "minorgridcolor": "white",
                          "startlinecolor": "#2a3f5f"
                        },
                        "baxis": {
                          "endlinecolor": "#2a3f5f",
                          "gridcolor": "white",
                          "linecolor": "white",
                          "minorgridcolor": "white",
                          "startlinecolor": "#2a3f5f"
                        },
                        "type": "carpet"
                      }
                    ],
                    "choropleth": [
                      {
                        "colorbar": {
                          "outlinewidth": 0,
                          "ticks": ""
                        },
                        "type": "choropleth"
                      }
                    ],
                    "contour": [
                      {
                        "colorbar": {
                          "outlinewidth": 0,
                          "ticks": ""
                        },
                        "colorscale": [
                          [
                            0,
                            "#0d0887"
                          ],
                          [
                            0.1111111111111111,
                            "#46039f"
                          ],
                          [
                            0.2222222222222222,
                            "#7201a8"
                          ],
                          [
                            0.3333333333333333,
                            "#9c179e"
                          ],
                          [
                            0.4444444444444444,
                            "#bd3786"
                          ],
                          [
                            0.5555555555555556,
                            "#d8576b"
                          ],
                          [
                            0.6666666666666666,
                            "#ed7953"
                          ],
                          [
                            0.7777777777777778,
                            "#fb9f3a"
                          ],
                          [
                            0.8888888888888888,
                            "#fdca26"
                          ],
                          [
                            1,
                            "#f0f921"
                          ]
                        ],
                        "type": "contour"
                      }
                    ],
                    "contourcarpet": [
                      {
                        "colorbar": {
                          "outlinewidth": 0,
                          "ticks": ""
                        },
                        "type": "contourcarpet"
                      }
                    ],
                    "heatmap": [
                      {
                        "colorbar": {
                          "outlinewidth": 0,
                          "ticks": ""
                        },
                        "colorscale": [
                          [
                            0,
                            "#0d0887"
                          ],
                          [
                            0.1111111111111111,
                            "#46039f"
                          ],
                          [
                            0.2222222222222222,
                            "#7201a8"
                          ],
                          [
                            0.3333333333333333,
                            "#9c179e"
                          ],
                          [
                            0.4444444444444444,
                            "#bd3786"
                          ],
                          [
                            0.5555555555555556,
                            "#d8576b"
                          ],
                          [
                            0.6666666666666666,
                            "#ed7953"
                          ],
                          [
                            0.7777777777777778,
                            "#fb9f3a"
                          ],
                          [
                            0.8888888888888888,
                            "#fdca26"
                          ],
                          [
                            1,
                            "#f0f921"
                          ]
                        ],
                        "type": "heatmap"
                      }
                    ],
                    "heatmapgl": [
                      {
                        "colorbar": {
                          "outlinewidth": 0,
                          "ticks": ""
                        },
                        "colorscale": [
                          [
                            0,
                            "#0d0887"
                          ],
                          [
                            0.1111111111111111,
                            "#46039f"
                          ],
                          [
                            0.2222222222222222,
                            "#7201a8"
                          ],
                          [
                            0.3333333333333333,
                            "#9c179e"
                          ],
                          [
                            0.4444444444444444,
                            "#bd3786"
                          ],
                          [
                            0.5555555555555556,
                            "#d8576b"
                          ],
                          [
                            0.6666666666666666,
                            "#ed7953"
                          ],
                          [
                            0.7777777777777778,
                            "#fb9f3a"
                          ],
                          [
                            0.8888888888888888,
                            "#fdca26"
                          ],
                          [
                            1,
                            "#f0f921"
                          ]
                        ],
                        "type": "heatmapgl"
                      }
                    ],
                    "histogram": [
                      {
                        "marker": {
                          "pattern": {
                            "fillmode": "overlay",
                            "size": 10,
                            "solidity": 0.2
                          }
                        },
                        "type": "histogram"
                      }
                    ],
                    "histogram2d": [
                      {
                        "colorbar": {
                          "outlinewidth": 0,
                          "ticks": ""
                        },
                        "colorscale": [
                          [
                            0,
                            "#0d0887"
                          ],
                          [
                            0.1111111111111111,
                            "#46039f"
                          ],
                          [
                            0.2222222222222222,
                            "#7201a8"
                          ],
                          [
                            0.3333333333333333,
                            "#9c179e"
                          ],
                          [
                            0.4444444444444444,
                            "#bd3786"
                          ],
                          [
                            0.5555555555555556,
                            "#d8576b"
                          ],
                          [
                            0.6666666666666666,
                            "#ed7953"
                          ],
                          [
                            0.7777777777777778,
                            "#fb9f3a"
                          ],
                          [
                            0.8888888888888888,
                            "#fdca26"
                          ],
                          [
                            1,
                            "#f0f921"
                          ]
                        ],
                        "type": "histogram2d"
                      }
                    ],
                    "histogram2dcontour": [
                      {
                        "colorbar": {
                          "outlinewidth": 0,
                          "ticks": ""
                        },
                        "colorscale": [
                          [
                            0,
                            "#0d0887"
                          ],
                          [
                            0.1111111111111111,
                            "#46039f"
                          ],
                          [
                            0.2222222222222222,
                            "#7201a8"
                          ],
                          [
                            0.3333333333333333,
                            "#9c179e"
                          ],
                          [
                            0.4444444444444444,
                            "#bd3786"
                          ],
                          [
                            0.5555555555555556,
                            "#d8576b"
                          ],
                          [
                            0.6666666666666666,
                            "#ed7953"
                          ],
                          [
                            0.7777777777777778,
                            "#fb9f3a"
                          ],
                          [
                            0.8888888888888888,
                            "#fdca26"
                          ],
                          [
                            1,
                            "#f0f921"
                          ]
                        ],
                        "type": "histogram2dcontour"
                      }
                    ],
                    "mesh3d": [
                      {
                        "colorbar": {
                          "outlinewidth": 0,
                          "ticks": ""
                        },
                        "type": "mesh3d"
                      }
                    ],
                    "parcoords": [
                      {
                        "line": {
                          "colorbar": {
                            "outlinewidth": 0,
                            "ticks": ""
                          }
                        },
                        "type": "parcoords"
                      }
                    ],
                    "pie": [
                      {
                        "automargin": true,
                        "type": "pie"
                      }
                    ],
                    "scatter": [
                      {
                        "fillpattern": {
                          "fillmode": "overlay",
                          "size": 10,
                          "solidity": 0.2
                        },
                        "type": "scatter"
                      }
                    ],
                    "scatter3d": [
                      {
                        "line": {
                          "colorbar": {
                            "outlinewidth": 0,
                            "ticks": ""
                          }
                        },
                        "marker": {
                          "colorbar": {
                            "outlinewidth": 0,
                            "ticks": ""
                          }
                        },
                        "type": "scatter3d"
                      }
                    ],
                    "scattercarpet": [
                      {
                        "marker": {
                          "colorbar": {
                            "outlinewidth": 0,
                            "ticks": ""
                          }
                        },
                        "type": "scattercarpet"
                      }
                    ],
                    "scattergeo": [
                      {
                        "marker": {
                          "colorbar": {
                            "outlinewidth": 0,
                            "ticks": ""
                          }
                        },
                        "type": "scattergeo"
                      }
                    ],
                    "scattergl": [
                      {
                        "marker": {
                          "colorbar": {
                            "outlinewidth": 0,
                            "ticks": ""
                          }
                        },
                        "type": "scattergl"
                      }
                    ],
                    "scattermapbox": [
                      {
                        "marker": {
                          "colorbar": {
                            "outlinewidth": 0,
                            "ticks": ""
                          }
                        },
                        "type": "scattermapbox"
                      }
                    ],
                    "scatterpolar": [
                      {
                        "marker": {
                          "colorbar": {
                            "outlinewidth": 0,
                            "ticks": ""
                          }
                        },
                        "type": "scatterpolar"
                      }
                    ],
                    "scatterpolargl": [
                      {
                        "marker": {
                          "colorbar": {
                            "outlinewidth": 0,
                            "ticks": ""
                          }
                        },
                        "type": "scatterpolargl"
                      }
                    ],
                    "scatterternary": [
                      {
                        "marker": {
                          "colorbar": {
                            "outlinewidth": 0,
                            "ticks": ""
                          }
                        },
                        "type": "scatterternary"
                      }
                    ],
                    "surface": [
                      {
                        "colorbar": {
                          "outlinewidth": 0,
                          "ticks": ""
                        },
                        "colorscale": [
                          [
                            0,
                            "#0d0887"
                          ],
                          [
                            0.1111111111111111,
                            "#46039f"
                          ],
                          [
                            0.2222222222222222,
                            "#7201a8"
                          ],
                          [
                            0.3333333333333333,
                            "#9c179e"
                          ],
                          [
                            0.4444444444444444,
                            "#bd3786"
                          ],
                          [
                            0.5555555555555556,
                            "#d8576b"
                          ],
                          [
                            0.6666666666666666,
                            "#ed7953"
                          ],
                          [
                            0.7777777777777778,
                            "#fb9f3a"
                          ],
                          [
                            0.8888888888888888,
                            "#fdca26"
                          ],
                          [
                            1,
                            "#f0f921"
                          ]
                        ],
                        "type": "surface"
                      }
                    ],
                    "table": [
                      {
                        "cells": {
                          "fill": {
                            "color": "#EBF0F8"
                          },
                          "line": {
                            "color": "white"
                          }
                        },
                        "header": {
                          "fill": {
                            "color": "#C8D4E3"
                          },
                          "line": {
                            "color": "white"
                          }
                        },
                        "type": "table"
                      }
                    ]
                  },
                  "layout": {
                    "annotationdefaults": {
                      "arrowcolor": "#2a3f5f",
                      "arrowhead": 0,
                      "arrowwidth": 1
                    },
                    "autotypenumbers": "strict",
                    "coloraxis": {
                      "colorbar": {
                        "outlinewidth": 0,
                        "ticks": ""
                      }
                    },
                    "colorscale": {
                      "diverging": [
                        [
                          0,
                          "#8e0152"
                        ],
                        [
                          0.1,
                          "#c51b7d"
                        ],
                        [
                          0.2,
                          "#de77ae"
                        ],
                        [
                          0.3,
                          "#f1b6da"
                        ],
                        [
                          0.4,
                          "#fde0ef"
                        ],
                        [
                          0.5,
                          "#f7f7f7"
                        ],
                        [
                          0.6,
                          "#e6f5d0"
                        ],
                        [
                          0.7,
                          "#b8e186"
                        ],
                        [
                          0.8,
                          "#7fbc41"
                        ],
                        [
                          0.9,
                          "#4d9221"
                        ],
                        [
                          1,
                          "#276419"
                        ]
                      ],
                      "sequential": [
                        [
                          0,
                          "#0d0887"
                        ],
                        [
                          0.1111111111111111,
                          "#46039f"
                        ],
                        [
                          0.2222222222222222,
                          "#7201a8"
                        ],
                        [
                          0.3333333333333333,
                          "#9c179e"
                        ],
                        [
                          0.4444444444444444,
                          "#bd3786"
                        ],
                        [
                          0.5555555555555556,
                          "#d8576b"
                        ],
                        [
                          0.6666666666666666,
                          "#ed7953"
                        ],
                        [
                          0.7777777777777778,
                          "#fb9f3a"
                        ],
                        [
                          0.8888888888888888,
                          "#fdca26"
                        ],
                        [
                          1,
                          "#f0f921"
                        ]
                      ],
                      "sequentialminus": [
                        [
                          0,
                          "#0d0887"
                        ],
                        [
                          0.1111111111111111,
                          "#46039f"
                        ],
                        [
                          0.2222222222222222,
                          "#7201a8"
                        ],
                        [
                          0.3333333333333333,
                          "#9c179e"
                        ],
                        [
                          0.4444444444444444,
                          "#bd3786"
                        ],
                        [
                          0.5555555555555556,
                          "#d8576b"
                        ],
                        [
                          0.6666666666666666,
                          "#ed7953"
                        ],
                        [
                          0.7777777777777778,
                          "#fb9f3a"
                        ],
                        [
                          0.8888888888888888,
                          "#fdca26"
                        ],
                        [
                          1,
                          "#f0f921"
                        ]
                      ]
                    },
                    "colorway": [
                      "#636efa",
                      "#EF553B",
                      "#00cc96",
                      "#ab63fa",
                      "#FFA15A",
                      "#19d3f3",
                      "#FF6692",
                      "#B6E880",
                      "#FF97FF",
                      "#FECB52"
                    ],
                    "font": {
                      "color": "#2a3f5f"
                    },
                    "geo": {
                      "bgcolor": "white",
                      "lakecolor": "white",
                      "landcolor": "#E5ECF6",
                      "showlakes": true,
                      "showland": true,
                      "subunitcolor": "white"
                    },
                    "hoverlabel": {
                      "align": "left"
                    },
                    "hovermode": "closest",
                    "mapbox": {
                      "style": "light"
                    },
                    "paper_bgcolor": "white",
                    "plot_bgcolor": "#E5ECF6",
                    "polar": {
                      "angularaxis": {
                        "gridcolor": "white",
                        "linecolor": "white",
                        "ticks": ""
                      },
                      "bgcolor": "#E5ECF6",
                      "radialaxis": {
                        "gridcolor": "white",
                        "linecolor": "white",
                        "ticks": ""
                      }
                    },
                    "scene": {
                      "xaxis": {
                        "backgroundcolor": "#E5ECF6",
                        "gridcolor": "white",
                        "gridwidth": 2,
                        "linecolor": "white",
                        "showbackground": true,
                        "ticks": "",
                        "zerolinecolor": "white"
                      },
                      "yaxis": {
                        "backgroundcolor": "#E5ECF6",
                        "gridcolor": "white",
                        "gridwidth": 2,
                        "linecolor": "white",
                        "showbackground": true,
                        "ticks": "",
                        "zerolinecolor": "white"
                      },
                      "zaxis": {
                        "backgroundcolor": "#E5ECF6",
                        "gridcolor": "white",
                        "gridwidth": 2,
                        "linecolor": "white",
                        "showbackground": true,
                        "ticks": "",
                        "zerolinecolor": "white"
                      }
                    },
                    "shapedefaults": {
                      "line": {
                        "color": "#2a3f5f"
                      }
                    },
                    "ternary": {
                      "aaxis": {
                        "gridcolor": "white",
                        "linecolor": "white",
                        "ticks": ""
                      },
                      "baxis": {
                        "gridcolor": "white",
                        "linecolor": "white",
                        "ticks": ""
                      },
                      "bgcolor": "#E5ECF6",
                      "caxis": {
                        "gridcolor": "white",
                        "linecolor": "white",
                        "ticks": ""
                      }
                    },
                    "title": {
                      "x": 0.05
                    },
                    "xaxis": {
                      "automargin": true,
                      "gridcolor": "white",
                      "linecolor": "white",
                      "ticks": "",
                      "title": {
                        "standoff": 15
                      },
                      "zerolinecolor": "white",
                      "zerolinewidth": 2
                    },
                    "yaxis": {
                      "automargin": true,
                      "gridcolor": "white",
                      "linecolor": "white",
                      "ticks": "",
                      "title": {
                        "standoff": 15
                      },
                      "zerolinecolor": "white",
                      "zerolinewidth": 2
                    }
                  }
                },
                "xaxis": {
                  "anchor": "y",
                  "domain": [
                    0,
                    1
                  ],
                  "title": {
                    "text": "Embarked"
                  }
                },
                "yaxis": {
                  "anchor": "x",
                  "domain": [
                    0,
                    1
                  ],
                  "title": {
                    "text": "count"
                  }
                }
              }
            }
          },
          "metadata": {},
          "output_type": "display_data"
        }
      ],
      "source": [
        "# Rapport entre le port d'embarquement et la survie : peu d'impact pour S et Q, plus pour C\n",
        "px.histogram(df1, x=\"Embarked\", color=\"Survived\")"
      ]
    },
    {
      "cell_type": "markdown",
      "metadata": {
        "id": "doVlT-fwlH9W"
      },
      "source": [
        "##1.2 Conclusion\n",
        "\n",
        "Ici je mets une fonction de préparation des données.\n",
        "Dans cette première itération, ce n'est pas très compliqué puisque je vais simplement enlever toutes les colonnes qui ne me satisfont pas, sans chercher à les modifier."
      ]
    },
    {
      "cell_type": "code",
      "execution_count": 21,
      "metadata": {
        "id": "1MMThs3LlGu6"
      },
      "outputs": [],
      "source": [
        "def data_preparation_0(df):\n",
        "    df1 = df.drop(['PassengerId'], axis=1)\n",
        "    df1.drop(['Cabin', 'Embarked', 'Name', 'Ticket', 'SibSp', 'Parch'], axis=1, inplace=True)\n",
        "    return df1"
      ]
    },
    {
      "cell_type": "code",
      "execution_count": 22,
      "metadata": {
        "colab": {
          "base_uri": "https://localhost:8080/",
          "height": 206
        },
        "id": "ksvfEfwWlhgI",
        "outputId": "7a01e7d4-d367-4455-923e-495b62152b8f"
      },
      "outputs": [
        {
          "data": {
            "text/html": [
              "<div>\n",
              "<style scoped>\n",
              "    .dataframe tbody tr th:only-of-type {\n",
              "        vertical-align: middle;\n",
              "    }\n",
              "\n",
              "    .dataframe tbody tr th {\n",
              "        vertical-align: top;\n",
              "    }\n",
              "\n",
              "    .dataframe thead th {\n",
              "        text-align: right;\n",
              "    }\n",
              "</style>\n",
              "<table border=\"1\" class=\"dataframe\">\n",
              "  <thead>\n",
              "    <tr style=\"text-align: right;\">\n",
              "      <th></th>\n",
              "      <th>Survived</th>\n",
              "      <th>Pclass</th>\n",
              "      <th>Sex</th>\n",
              "      <th>Age</th>\n",
              "      <th>Fare</th>\n",
              "    </tr>\n",
              "  </thead>\n",
              "  <tbody>\n",
              "    <tr>\n",
              "      <th>0</th>\n",
              "      <td>0</td>\n",
              "      <td>3</td>\n",
              "      <td>male</td>\n",
              "      <td>22.0</td>\n",
              "      <td>7.2500</td>\n",
              "    </tr>\n",
              "    <tr>\n",
              "      <th>1</th>\n",
              "      <td>1</td>\n",
              "      <td>1</td>\n",
              "      <td>female</td>\n",
              "      <td>38.0</td>\n",
              "      <td>71.2833</td>\n",
              "    </tr>\n",
              "    <tr>\n",
              "      <th>2</th>\n",
              "      <td>1</td>\n",
              "      <td>3</td>\n",
              "      <td>female</td>\n",
              "      <td>26.0</td>\n",
              "      <td>7.9250</td>\n",
              "    </tr>\n",
              "    <tr>\n",
              "      <th>3</th>\n",
              "      <td>1</td>\n",
              "      <td>1</td>\n",
              "      <td>female</td>\n",
              "      <td>35.0</td>\n",
              "      <td>53.1000</td>\n",
              "    </tr>\n",
              "    <tr>\n",
              "      <th>4</th>\n",
              "      <td>0</td>\n",
              "      <td>3</td>\n",
              "      <td>male</td>\n",
              "      <td>35.0</td>\n",
              "      <td>8.0500</td>\n",
              "    </tr>\n",
              "  </tbody>\n",
              "</table>\n",
              "</div>"
            ],
            "text/plain": [
              "   Survived  Pclass     Sex   Age     Fare\n",
              "0         0       3    male  22.0   7.2500\n",
              "1         1       1  female  38.0  71.2833\n",
              "2         1       3  female  26.0   7.9250\n",
              "3         1       1  female  35.0  53.1000\n",
              "4         0       3    male  35.0   8.0500"
            ]
          },
          "execution_count": 22,
          "metadata": {},
          "output_type": "execute_result"
        }
      ],
      "source": [
        "# Je vérifie le tableau généré\n",
        "df_train = data_preparation_0(df)\n",
        "df_train.head()"
      ]
    },
    {
      "cell_type": "markdown",
      "metadata": {
        "id": "2BUQKPGskxw9"
      },
      "source": [
        "# Recensement pour le nettoyage"
      ]
    },
    {
      "cell_type": "code",
      "execution_count": 23,
      "metadata": {
        "colab": {
          "base_uri": "https://localhost:8080/",
          "height": 241
        },
        "id": "mxYkPjH9kxHg",
        "outputId": "2b460bff-e298-4cc5-d898-d50787613efd"
      },
      "outputs": [
        {
          "data": {
            "text/plain": [
              "Survived      int64\n",
              "Pclass        int64\n",
              "Sex          object\n",
              "Age         float64\n",
              "Fare        float64\n",
              "dtype: object"
            ]
          },
          "execution_count": 23,
          "metadata": {},
          "output_type": "execute_result"
        }
      ],
      "source": [
        "# Check des types de données\n",
        "df_train.dtypes\n",
        "# /!\\ j'ai des numeric et j'ai des objects, mais par contre pas de dates\n",
        "# Il faudra encoder les objects"
      ]
    },
    {
      "cell_type": "code",
      "execution_count": 24,
      "metadata": {
        "colab": {
          "base_uri": "https://localhost:8080/",
          "height": 241
        },
        "id": "kkeV_vrpQtGZ",
        "outputId": "38fc7e10-24c9-4924-bf79-6fb2711964c3"
      },
      "outputs": [
        {
          "data": {
            "text/plain": [
              "Survived      0\n",
              "Pclass        0\n",
              "Sex           0\n",
              "Age         177\n",
              "Fare          0\n",
              "dtype: int64"
            ]
          },
          "execution_count": 24,
          "metadata": {},
          "output_type": "execute_result"
        }
      ],
      "source": [
        "# Valeurs manquantes ?\n",
        "df_train.isnull().sum()\n",
        "# oui, il faudra les gérer"
      ]
    },
    {
      "cell_type": "markdown",
      "metadata": {
        "id": "_mNKPEZmmuhk"
      },
      "source": [
        "# 2. Utilisation des pipelines pour le préprocessing\n",
        "\n",
        "## Etape 1 : sélectionner les données selon leur type\n",
        "\n",
        "source: https://scikit-learn.org/dev/auto_examples/ensemble/plot_stack_predictors.html#sphx-glr-auto-examples-ensemble-plot-stack-predictors-py\n"
      ]
    },
    {
      "cell_type": "markdown",
      "metadata": {
        "id": "g8BpSNojn0pC"
      },
      "source": []
    },
    {
      "cell_type": "code",
      "execution_count": 25,
      "metadata": {
        "id": "blE1ZKPen0Jt"
      },
      "outputs": [],
      "source": [
        "from sklearn.compose import make_column_selector\n",
        "import numpy as np\n",
        "\n",
        "cat_selector = make_column_selector(dtype_include=object)\n",
        "num_selector = make_column_selector(dtype_include=np.number)"
      ]
    },
    {
      "cell_type": "code",
      "execution_count": 26,
      "metadata": {
        "colab": {
          "base_uri": "https://localhost:8080/",
          "height": 52
        },
        "id": "FF3xU0lfoIFf",
        "outputId": "e9aac525-dc0a-494a-905b-b929581d9f46"
      },
      "outputs": [
        {
          "data": {
            "text/plain": [
              "['Sex']"
            ]
          },
          "metadata": {},
          "output_type": "display_data"
        },
        {
          "data": {
            "text/plain": [
              "['Survived', 'Pclass', 'Age', 'Fare']"
            ]
          },
          "metadata": {},
          "output_type": "display_data"
        }
      ],
      "source": [
        "# Je teste pour les catégories\n",
        "display(cat_selector(df_train))\n",
        "# Je teste pour les numeric\n",
        "display(num_selector(df_train))\n",
        "# Pas mal !"
      ]
    },
    {
      "cell_type": "markdown",
      "metadata": {
        "id": "L3QZMmzKodQL"
      },
      "source": [
        "## Etape 2 : je fais des preprocessing pour mes valeurs selon les types"
      ]
    },
    {
      "cell_type": "code",
      "execution_count": 27,
      "metadata": {
        "id": "J7l2Joj3oc1U"
      },
      "outputs": [],
      "source": [
        "\n",
        "from sklearn.impute import SimpleImputer\n",
        "from sklearn.pipeline import make_pipeline\n",
        "from sklearn.preprocessing import OrdinalEncoder\n",
        "\n",
        "# Pour les \"objects\", je les encode avec l'ordinal encoder (= chaque catégorie va devenir un nombre)\n",
        "cat_tree_processor = OrdinalEncoder(\n",
        "    handle_unknown=\"use_encoded_value\",\n",
        "    unknown_value=-1,\n",
        "    encoded_missing_value=-2,\n",
        ")\n",
        "\n",
        "# Pour les \"numeric\" je choisis de remplacer les valeurs absentes par la moyenne\n",
        "num_tree_processor = SimpleImputer(strategy=\"mean\", add_indicator=True)\n"
      ]
    },
    {
      "cell_type": "code",
      "execution_count": 28,
      "metadata": {
        "colab": {
          "base_uri": "https://localhost:8080/",
          "height": 135
        },
        "id": "BxcbF6XuS2R5",
        "outputId": "ba2ecf3b-657a-4358-c466-35f3db14911c"
      },
      "outputs": [
        {
          "data": {
            "text/html": [
              "<style>#sk-container-id-1 {\n",
              "  /* Definition of color scheme common for light and dark mode */\n",
              "  --sklearn-color-text: #000;\n",
              "  --sklearn-color-text-muted: #666;\n",
              "  --sklearn-color-line: gray;\n",
              "  /* Definition of color scheme for unfitted estimators */\n",
              "  --sklearn-color-unfitted-level-0: #fff5e6;\n",
              "  --sklearn-color-unfitted-level-1: #f6e4d2;\n",
              "  --sklearn-color-unfitted-level-2: #ffe0b3;\n",
              "  --sklearn-color-unfitted-level-3: chocolate;\n",
              "  /* Definition of color scheme for fitted estimators */\n",
              "  --sklearn-color-fitted-level-0: #f0f8ff;\n",
              "  --sklearn-color-fitted-level-1: #d4ebff;\n",
              "  --sklearn-color-fitted-level-2: #b3dbfd;\n",
              "  --sklearn-color-fitted-level-3: cornflowerblue;\n",
              "\n",
              "  /* Specific color for light theme */\n",
              "  --sklearn-color-text-on-default-background: var(--sg-text-color, var(--theme-code-foreground, var(--jp-content-font-color1, black)));\n",
              "  --sklearn-color-background: var(--sg-background-color, var(--theme-background, var(--jp-layout-color0, white)));\n",
              "  --sklearn-color-border-box: var(--sg-text-color, var(--theme-code-foreground, var(--jp-content-font-color1, black)));\n",
              "  --sklearn-color-icon: #696969;\n",
              "\n",
              "  @media (prefers-color-scheme: dark) {\n",
              "    /* Redefinition of color scheme for dark theme */\n",
              "    --sklearn-color-text-on-default-background: var(--sg-text-color, var(--theme-code-foreground, var(--jp-content-font-color1, white)));\n",
              "    --sklearn-color-background: var(--sg-background-color, var(--theme-background, var(--jp-layout-color0, #111)));\n",
              "    --sklearn-color-border-box: var(--sg-text-color, var(--theme-code-foreground, var(--jp-content-font-color1, white)));\n",
              "    --sklearn-color-icon: #878787;\n",
              "  }\n",
              "}\n",
              "\n",
              "#sk-container-id-1 {\n",
              "  color: var(--sklearn-color-text);\n",
              "}\n",
              "\n",
              "#sk-container-id-1 pre {\n",
              "  padding: 0;\n",
              "}\n",
              "\n",
              "#sk-container-id-1 input.sk-hidden--visually {\n",
              "  border: 0;\n",
              "  clip: rect(1px 1px 1px 1px);\n",
              "  clip: rect(1px, 1px, 1px, 1px);\n",
              "  height: 1px;\n",
              "  margin: -1px;\n",
              "  overflow: hidden;\n",
              "  padding: 0;\n",
              "  position: absolute;\n",
              "  width: 1px;\n",
              "}\n",
              "\n",
              "#sk-container-id-1 div.sk-dashed-wrapped {\n",
              "  border: 1px dashed var(--sklearn-color-line);\n",
              "  margin: 0 0.4em 0.5em 0.4em;\n",
              "  box-sizing: border-box;\n",
              "  padding-bottom: 0.4em;\n",
              "  background-color: var(--sklearn-color-background);\n",
              "}\n",
              "\n",
              "#sk-container-id-1 div.sk-container {\n",
              "  /* jupyter's `normalize.less` sets `[hidden] { display: none; }`\n",
              "     but bootstrap.min.css set `[hidden] { display: none !important; }`\n",
              "     so we also need the `!important` here to be able to override the\n",
              "     default hidden behavior on the sphinx rendered scikit-learn.org.\n",
              "     See: https://github.com/scikit-learn/scikit-learn/issues/21755 */\n",
              "  display: inline-block !important;\n",
              "  position: relative;\n",
              "}\n",
              "\n",
              "#sk-container-id-1 div.sk-text-repr-fallback {\n",
              "  display: none;\n",
              "}\n",
              "\n",
              "div.sk-parallel-item,\n",
              "div.sk-serial,\n",
              "div.sk-item {\n",
              "  /* draw centered vertical line to link estimators */\n",
              "  background-image: linear-gradient(var(--sklearn-color-text-on-default-background), var(--sklearn-color-text-on-default-background));\n",
              "  background-size: 2px 100%;\n",
              "  background-repeat: no-repeat;\n",
              "  background-position: center center;\n",
              "}\n",
              "\n",
              "/* Parallel-specific style estimator block */\n",
              "\n",
              "#sk-container-id-1 div.sk-parallel-item::after {\n",
              "  content: \"\";\n",
              "  width: 100%;\n",
              "  border-bottom: 2px solid var(--sklearn-color-text-on-default-background);\n",
              "  flex-grow: 1;\n",
              "}\n",
              "\n",
              "#sk-container-id-1 div.sk-parallel {\n",
              "  display: flex;\n",
              "  align-items: stretch;\n",
              "  justify-content: center;\n",
              "  background-color: var(--sklearn-color-background);\n",
              "  position: relative;\n",
              "}\n",
              "\n",
              "#sk-container-id-1 div.sk-parallel-item {\n",
              "  display: flex;\n",
              "  flex-direction: column;\n",
              "}\n",
              "\n",
              "#sk-container-id-1 div.sk-parallel-item:first-child::after {\n",
              "  align-self: flex-end;\n",
              "  width: 50%;\n",
              "}\n",
              "\n",
              "#sk-container-id-1 div.sk-parallel-item:last-child::after {\n",
              "  align-self: flex-start;\n",
              "  width: 50%;\n",
              "}\n",
              "\n",
              "#sk-container-id-1 div.sk-parallel-item:only-child::after {\n",
              "  width: 0;\n",
              "}\n",
              "\n",
              "/* Serial-specific style estimator block */\n",
              "\n",
              "#sk-container-id-1 div.sk-serial {\n",
              "  display: flex;\n",
              "  flex-direction: column;\n",
              "  align-items: center;\n",
              "  background-color: var(--sklearn-color-background);\n",
              "  padding-right: 1em;\n",
              "  padding-left: 1em;\n",
              "}\n",
              "\n",
              "\n",
              "/* Toggleable style: style used for estimator/Pipeline/ColumnTransformer box that is\n",
              "clickable and can be expanded/collapsed.\n",
              "- Pipeline and ColumnTransformer use this feature and define the default style\n",
              "- Estimators will overwrite some part of the style using the `sk-estimator` class\n",
              "*/\n",
              "\n",
              "/* Pipeline and ColumnTransformer style (default) */\n",
              "\n",
              "#sk-container-id-1 div.sk-toggleable {\n",
              "  /* Default theme specific background. It is overwritten whether we have a\n",
              "  specific estimator or a Pipeline/ColumnTransformer */\n",
              "  background-color: var(--sklearn-color-background);\n",
              "}\n",
              "\n",
              "/* Toggleable label */\n",
              "#sk-container-id-1 label.sk-toggleable__label {\n",
              "  cursor: pointer;\n",
              "  display: flex;\n",
              "  width: 100%;\n",
              "  margin-bottom: 0;\n",
              "  padding: 0.5em;\n",
              "  box-sizing: border-box;\n",
              "  text-align: center;\n",
              "  align-items: start;\n",
              "  justify-content: space-between;\n",
              "  gap: 0.5em;\n",
              "}\n",
              "\n",
              "#sk-container-id-1 label.sk-toggleable__label .caption {\n",
              "  font-size: 0.6rem;\n",
              "  font-weight: lighter;\n",
              "  color: var(--sklearn-color-text-muted);\n",
              "}\n",
              "\n",
              "#sk-container-id-1 label.sk-toggleable__label-arrow:before {\n",
              "  /* Arrow on the left of the label */\n",
              "  content: \"▸\";\n",
              "  float: left;\n",
              "  margin-right: 0.25em;\n",
              "  color: var(--sklearn-color-icon);\n",
              "}\n",
              "\n",
              "#sk-container-id-1 label.sk-toggleable__label-arrow:hover:before {\n",
              "  color: var(--sklearn-color-text);\n",
              "}\n",
              "\n",
              "/* Toggleable content - dropdown */\n",
              "\n",
              "#sk-container-id-1 div.sk-toggleable__content {\n",
              "  max-height: 0;\n",
              "  max-width: 0;\n",
              "  overflow: hidden;\n",
              "  text-align: left;\n",
              "  /* unfitted */\n",
              "  background-color: var(--sklearn-color-unfitted-level-0);\n",
              "}\n",
              "\n",
              "#sk-container-id-1 div.sk-toggleable__content.fitted {\n",
              "  /* fitted */\n",
              "  background-color: var(--sklearn-color-fitted-level-0);\n",
              "}\n",
              "\n",
              "#sk-container-id-1 div.sk-toggleable__content pre {\n",
              "  margin: 0.2em;\n",
              "  border-radius: 0.25em;\n",
              "  color: var(--sklearn-color-text);\n",
              "  /* unfitted */\n",
              "  background-color: var(--sklearn-color-unfitted-level-0);\n",
              "}\n",
              "\n",
              "#sk-container-id-1 div.sk-toggleable__content.fitted pre {\n",
              "  /* unfitted */\n",
              "  background-color: var(--sklearn-color-fitted-level-0);\n",
              "}\n",
              "\n",
              "#sk-container-id-1 input.sk-toggleable__control:checked~div.sk-toggleable__content {\n",
              "  /* Expand drop-down */\n",
              "  max-height: 200px;\n",
              "  max-width: 100%;\n",
              "  overflow: auto;\n",
              "}\n",
              "\n",
              "#sk-container-id-1 input.sk-toggleable__control:checked~label.sk-toggleable__label-arrow:before {\n",
              "  content: \"▾\";\n",
              "}\n",
              "\n",
              "/* Pipeline/ColumnTransformer-specific style */\n",
              "\n",
              "#sk-container-id-1 div.sk-label input.sk-toggleable__control:checked~label.sk-toggleable__label {\n",
              "  color: var(--sklearn-color-text);\n",
              "  background-color: var(--sklearn-color-unfitted-level-2);\n",
              "}\n",
              "\n",
              "#sk-container-id-1 div.sk-label.fitted input.sk-toggleable__control:checked~label.sk-toggleable__label {\n",
              "  background-color: var(--sklearn-color-fitted-level-2);\n",
              "}\n",
              "\n",
              "/* Estimator-specific style */\n",
              "\n",
              "/* Colorize estimator box */\n",
              "#sk-container-id-1 div.sk-estimator input.sk-toggleable__control:checked~label.sk-toggleable__label {\n",
              "  /* unfitted */\n",
              "  background-color: var(--sklearn-color-unfitted-level-2);\n",
              "}\n",
              "\n",
              "#sk-container-id-1 div.sk-estimator.fitted input.sk-toggleable__control:checked~label.sk-toggleable__label {\n",
              "  /* fitted */\n",
              "  background-color: var(--sklearn-color-fitted-level-2);\n",
              "}\n",
              "\n",
              "#sk-container-id-1 div.sk-label label.sk-toggleable__label,\n",
              "#sk-container-id-1 div.sk-label label {\n",
              "  /* The background is the default theme color */\n",
              "  color: var(--sklearn-color-text-on-default-background);\n",
              "}\n",
              "\n",
              "/* On hover, darken the color of the background */\n",
              "#sk-container-id-1 div.sk-label:hover label.sk-toggleable__label {\n",
              "  color: var(--sklearn-color-text);\n",
              "  background-color: var(--sklearn-color-unfitted-level-2);\n",
              "}\n",
              "\n",
              "/* Label box, darken color on hover, fitted */\n",
              "#sk-container-id-1 div.sk-label.fitted:hover label.sk-toggleable__label.fitted {\n",
              "  color: var(--sklearn-color-text);\n",
              "  background-color: var(--sklearn-color-fitted-level-2);\n",
              "}\n",
              "\n",
              "/* Estimator label */\n",
              "\n",
              "#sk-container-id-1 div.sk-label label {\n",
              "  font-family: monospace;\n",
              "  font-weight: bold;\n",
              "  display: inline-block;\n",
              "  line-height: 1.2em;\n",
              "}\n",
              "\n",
              "#sk-container-id-1 div.sk-label-container {\n",
              "  text-align: center;\n",
              "}\n",
              "\n",
              "/* Estimator-specific */\n",
              "#sk-container-id-1 div.sk-estimator {\n",
              "  font-family: monospace;\n",
              "  border: 1px dotted var(--sklearn-color-border-box);\n",
              "  border-radius: 0.25em;\n",
              "  box-sizing: border-box;\n",
              "  margin-bottom: 0.5em;\n",
              "  /* unfitted */\n",
              "  background-color: var(--sklearn-color-unfitted-level-0);\n",
              "}\n",
              "\n",
              "#sk-container-id-1 div.sk-estimator.fitted {\n",
              "  /* fitted */\n",
              "  background-color: var(--sklearn-color-fitted-level-0);\n",
              "}\n",
              "\n",
              "/* on hover */\n",
              "#sk-container-id-1 div.sk-estimator:hover {\n",
              "  /* unfitted */\n",
              "  background-color: var(--sklearn-color-unfitted-level-2);\n",
              "}\n",
              "\n",
              "#sk-container-id-1 div.sk-estimator.fitted:hover {\n",
              "  /* fitted */\n",
              "  background-color: var(--sklearn-color-fitted-level-2);\n",
              "}\n",
              "\n",
              "/* Specification for estimator info (e.g. \"i\" and \"?\") */\n",
              "\n",
              "/* Common style for \"i\" and \"?\" */\n",
              "\n",
              ".sk-estimator-doc-link,\n",
              "a:link.sk-estimator-doc-link,\n",
              "a:visited.sk-estimator-doc-link {\n",
              "  float: right;\n",
              "  font-size: smaller;\n",
              "  line-height: 1em;\n",
              "  font-family: monospace;\n",
              "  background-color: var(--sklearn-color-background);\n",
              "  border-radius: 1em;\n",
              "  height: 1em;\n",
              "  width: 1em;\n",
              "  text-decoration: none !important;\n",
              "  margin-left: 0.5em;\n",
              "  text-align: center;\n",
              "  /* unfitted */\n",
              "  border: var(--sklearn-color-unfitted-level-1) 1pt solid;\n",
              "  color: var(--sklearn-color-unfitted-level-1);\n",
              "}\n",
              "\n",
              ".sk-estimator-doc-link.fitted,\n",
              "a:link.sk-estimator-doc-link.fitted,\n",
              "a:visited.sk-estimator-doc-link.fitted {\n",
              "  /* fitted */\n",
              "  border: var(--sklearn-color-fitted-level-1) 1pt solid;\n",
              "  color: var(--sklearn-color-fitted-level-1);\n",
              "}\n",
              "\n",
              "/* On hover */\n",
              "div.sk-estimator:hover .sk-estimator-doc-link:hover,\n",
              ".sk-estimator-doc-link:hover,\n",
              "div.sk-label-container:hover .sk-estimator-doc-link:hover,\n",
              ".sk-estimator-doc-link:hover {\n",
              "  /* unfitted */\n",
              "  background-color: var(--sklearn-color-unfitted-level-3);\n",
              "  color: var(--sklearn-color-background);\n",
              "  text-decoration: none;\n",
              "}\n",
              "\n",
              "div.sk-estimator.fitted:hover .sk-estimator-doc-link.fitted:hover,\n",
              ".sk-estimator-doc-link.fitted:hover,\n",
              "div.sk-label-container:hover .sk-estimator-doc-link.fitted:hover,\n",
              ".sk-estimator-doc-link.fitted:hover {\n",
              "  /* fitted */\n",
              "  background-color: var(--sklearn-color-fitted-level-3);\n",
              "  color: var(--sklearn-color-background);\n",
              "  text-decoration: none;\n",
              "}\n",
              "\n",
              "/* Span, style for the box shown on hovering the info icon */\n",
              ".sk-estimator-doc-link span {\n",
              "  display: none;\n",
              "  z-index: 9999;\n",
              "  position: relative;\n",
              "  font-weight: normal;\n",
              "  right: .2ex;\n",
              "  padding: .5ex;\n",
              "  margin: .5ex;\n",
              "  width: min-content;\n",
              "  min-width: 20ex;\n",
              "  max-width: 50ex;\n",
              "  color: var(--sklearn-color-text);\n",
              "  box-shadow: 2pt 2pt 4pt #999;\n",
              "  /* unfitted */\n",
              "  background: var(--sklearn-color-unfitted-level-0);\n",
              "  border: .5pt solid var(--sklearn-color-unfitted-level-3);\n",
              "}\n",
              "\n",
              ".sk-estimator-doc-link.fitted span {\n",
              "  /* fitted */\n",
              "  background: var(--sklearn-color-fitted-level-0);\n",
              "  border: var(--sklearn-color-fitted-level-3);\n",
              "}\n",
              "\n",
              ".sk-estimator-doc-link:hover span {\n",
              "  display: block;\n",
              "}\n",
              "\n",
              "/* \"?\"-specific style due to the `<a>` HTML tag */\n",
              "\n",
              "#sk-container-id-1 a.estimator_doc_link {\n",
              "  float: right;\n",
              "  font-size: 1rem;\n",
              "  line-height: 1em;\n",
              "  font-family: monospace;\n",
              "  background-color: var(--sklearn-color-background);\n",
              "  border-radius: 1rem;\n",
              "  height: 1rem;\n",
              "  width: 1rem;\n",
              "  text-decoration: none;\n",
              "  /* unfitted */\n",
              "  color: var(--sklearn-color-unfitted-level-1);\n",
              "  border: var(--sklearn-color-unfitted-level-1) 1pt solid;\n",
              "}\n",
              "\n",
              "#sk-container-id-1 a.estimator_doc_link.fitted {\n",
              "  /* fitted */\n",
              "  border: var(--sklearn-color-fitted-level-1) 1pt solid;\n",
              "  color: var(--sklearn-color-fitted-level-1);\n",
              "}\n",
              "\n",
              "/* On hover */\n",
              "#sk-container-id-1 a.estimator_doc_link:hover {\n",
              "  /* unfitted */\n",
              "  background-color: var(--sklearn-color-unfitted-level-3);\n",
              "  color: var(--sklearn-color-background);\n",
              "  text-decoration: none;\n",
              "}\n",
              "\n",
              "#sk-container-id-1 a.estimator_doc_link.fitted:hover {\n",
              "  /* fitted */\n",
              "  background-color: var(--sklearn-color-fitted-level-3);\n",
              "}\n",
              "</style><div id=\"sk-container-id-1\" class=\"sk-top-container\"><div class=\"sk-text-repr-fallback\"><pre>ColumnTransformer(transformers=[(&#x27;simpleimputer&#x27;,\n",
              "                                 SimpleImputer(add_indicator=True),\n",
              "                                 &lt;sklearn.compose._column_transformer.make_column_selector object at 0x0000020973C67DD0&gt;),\n",
              "                                (&#x27;ordinalencoder&#x27;,\n",
              "                                 OrdinalEncoder(encoded_missing_value=-2,\n",
              "                                                handle_unknown=&#x27;use_encoded_value&#x27;,\n",
              "                                                unknown_value=-1),\n",
              "                                 &lt;sklearn.compose._column_transformer.make_column_selector object at 0x0000020973C67D10&gt;)])</pre><b>In a Jupyter environment, please rerun this cell to show the HTML representation or trust the notebook. <br />On GitHub, the HTML representation is unable to render, please try loading this page with nbviewer.org.</b></div><div class=\"sk-container\" hidden><div class=\"sk-item sk-dashed-wrapped\"><div class=\"sk-label-container\"><div class=\"sk-label  sk-toggleable\"><input class=\"sk-toggleable__control sk-hidden--visually\" id=\"sk-estimator-id-1\" type=\"checkbox\" ><label for=\"sk-estimator-id-1\" class=\"sk-toggleable__label  sk-toggleable__label-arrow\"><div><div>ColumnTransformer</div></div><div><a class=\"sk-estimator-doc-link \" rel=\"noreferrer\" target=\"_blank\" href=\"https://scikit-learn.org/1.6/modules/generated/sklearn.compose.ColumnTransformer.html\">?<span>Documentation for ColumnTransformer</span></a><span class=\"sk-estimator-doc-link \">i<span>Not fitted</span></span></div></label><div class=\"sk-toggleable__content \"><pre>ColumnTransformer(transformers=[(&#x27;simpleimputer&#x27;,\n",
              "                                 SimpleImputer(add_indicator=True),\n",
              "                                 &lt;sklearn.compose._column_transformer.make_column_selector object at 0x0000020973C67DD0&gt;),\n",
              "                                (&#x27;ordinalencoder&#x27;,\n",
              "                                 OrdinalEncoder(encoded_missing_value=-2,\n",
              "                                                handle_unknown=&#x27;use_encoded_value&#x27;,\n",
              "                                                unknown_value=-1),\n",
              "                                 &lt;sklearn.compose._column_transformer.make_column_selector object at 0x0000020973C67D10&gt;)])</pre></div> </div></div><div class=\"sk-parallel\"><div class=\"sk-parallel-item\"><div class=\"sk-item\"><div class=\"sk-label-container\"><div class=\"sk-label  sk-toggleable\"><input class=\"sk-toggleable__control sk-hidden--visually\" id=\"sk-estimator-id-2\" type=\"checkbox\" ><label for=\"sk-estimator-id-2\" class=\"sk-toggleable__label  sk-toggleable__label-arrow\"><div><div>simpleimputer</div></div></label><div class=\"sk-toggleable__content \"><pre>&lt;sklearn.compose._column_transformer.make_column_selector object at 0x0000020973C67DD0&gt;</pre></div> </div></div><div class=\"sk-serial\"><div class=\"sk-item\"><div class=\"sk-estimator  sk-toggleable\"><input class=\"sk-toggleable__control sk-hidden--visually\" id=\"sk-estimator-id-3\" type=\"checkbox\" ><label for=\"sk-estimator-id-3\" class=\"sk-toggleable__label  sk-toggleable__label-arrow\"><div><div>SimpleImputer</div></div><div><a class=\"sk-estimator-doc-link \" rel=\"noreferrer\" target=\"_blank\" href=\"https://scikit-learn.org/1.6/modules/generated/sklearn.impute.SimpleImputer.html\">?<span>Documentation for SimpleImputer</span></a></div></label><div class=\"sk-toggleable__content \"><pre>SimpleImputer(add_indicator=True)</pre></div> </div></div></div></div></div><div class=\"sk-parallel-item\"><div class=\"sk-item\"><div class=\"sk-label-container\"><div class=\"sk-label  sk-toggleable\"><input class=\"sk-toggleable__control sk-hidden--visually\" id=\"sk-estimator-id-4\" type=\"checkbox\" ><label for=\"sk-estimator-id-4\" class=\"sk-toggleable__label  sk-toggleable__label-arrow\"><div><div>ordinalencoder</div></div></label><div class=\"sk-toggleable__content \"><pre>&lt;sklearn.compose._column_transformer.make_column_selector object at 0x0000020973C67D10&gt;</pre></div> </div></div><div class=\"sk-serial\"><div class=\"sk-item\"><div class=\"sk-estimator  sk-toggleable\"><input class=\"sk-toggleable__control sk-hidden--visually\" id=\"sk-estimator-id-5\" type=\"checkbox\" ><label for=\"sk-estimator-id-5\" class=\"sk-toggleable__label  sk-toggleable__label-arrow\"><div><div>OrdinalEncoder</div></div><div><a class=\"sk-estimator-doc-link \" rel=\"noreferrer\" target=\"_blank\" href=\"https://scikit-learn.org/1.6/modules/generated/sklearn.preprocessing.OrdinalEncoder.html\">?<span>Documentation for OrdinalEncoder</span></a></div></label><div class=\"sk-toggleable__content \"><pre>OrdinalEncoder(encoded_missing_value=-2, handle_unknown=&#x27;use_encoded_value&#x27;,\n",
              "               unknown_value=-1)</pre></div> </div></div></div></div></div></div></div></div></div>"
            ],
            "text/plain": [
              "ColumnTransformer(transformers=[('simpleimputer',\n",
              "                                 SimpleImputer(add_indicator=True),\n",
              "                                 <sklearn.compose._column_transformer.make_column_selector object at 0x0000020973C67DD0>),\n",
              "                                ('ordinalencoder',\n",
              "                                 OrdinalEncoder(encoded_missing_value=-2,\n",
              "                                                handle_unknown='use_encoded_value',\n",
              "                                                unknown_value=-1),\n",
              "                                 <sklearn.compose._column_transformer.make_column_selector object at 0x0000020973C67D10>)])"
            ]
          },
          "execution_count": 28,
          "metadata": {},
          "output_type": "execute_result"
        }
      ],
      "source": [
        "from sklearn.compose import make_column_transformer\n",
        "\n",
        "# J'assemble le tout pour faire une première pipeline de preprocessing et j'affiche le résumé\n",
        "tree_preprocessor = make_column_transformer(\n",
        "    (num_tree_processor, num_selector), (cat_tree_processor, cat_selector)\n",
        ")\n",
        "\n",
        "tree_preprocessor"
      ]
    },
    {
      "cell_type": "markdown",
      "metadata": {
        "id": "B6_DbxL1p4VJ"
      },
      "source": [
        "# 3. Je prépare mes données pour l'entrainement"
      ]
    },
    {
      "cell_type": "code",
      "execution_count": 29,
      "metadata": {
        "id": "NjB8B7Gbppda"
      },
      "outputs": [],
      "source": [
        "from sklearn.model_selection import train_test_split\n",
        "\n",
        "y = df_train.Survived\n",
        "X = df_train.drop(['Survived'], axis=1)\n",
        "X_train, X_test, y_train, y_test = train_test_split(X, y, test_size=0.33, random_state=42)"
      ]
    },
    {
      "cell_type": "markdown",
      "metadata": {
        "id": "-4UEWhAEqCUK"
      },
      "source": [
        "# 4. Partie ML : je rajoute un ou plusieurs modèle au bout de ma pipeline"
      ]
    },
    {
      "cell_type": "code",
      "execution_count": 30,
      "metadata": {
        "colab": {
          "base_uri": "https://localhost:8080/",
          "height": 221
        },
        "id": "31UYX0yQqBur",
        "outputId": "fdb54b95-df2a-4609-af1d-b8c3a3b79eb5"
      },
      "outputs": [
        {
          "data": {
            "text/html": [
              "<style>#sk-container-id-2 {\n",
              "  /* Definition of color scheme common for light and dark mode */\n",
              "  --sklearn-color-text: #000;\n",
              "  --sklearn-color-text-muted: #666;\n",
              "  --sklearn-color-line: gray;\n",
              "  /* Definition of color scheme for unfitted estimators */\n",
              "  --sklearn-color-unfitted-level-0: #fff5e6;\n",
              "  --sklearn-color-unfitted-level-1: #f6e4d2;\n",
              "  --sklearn-color-unfitted-level-2: #ffe0b3;\n",
              "  --sklearn-color-unfitted-level-3: chocolate;\n",
              "  /* Definition of color scheme for fitted estimators */\n",
              "  --sklearn-color-fitted-level-0: #f0f8ff;\n",
              "  --sklearn-color-fitted-level-1: #d4ebff;\n",
              "  --sklearn-color-fitted-level-2: #b3dbfd;\n",
              "  --sklearn-color-fitted-level-3: cornflowerblue;\n",
              "\n",
              "  /* Specific color for light theme */\n",
              "  --sklearn-color-text-on-default-background: var(--sg-text-color, var(--theme-code-foreground, var(--jp-content-font-color1, black)));\n",
              "  --sklearn-color-background: var(--sg-background-color, var(--theme-background, var(--jp-layout-color0, white)));\n",
              "  --sklearn-color-border-box: var(--sg-text-color, var(--theme-code-foreground, var(--jp-content-font-color1, black)));\n",
              "  --sklearn-color-icon: #696969;\n",
              "\n",
              "  @media (prefers-color-scheme: dark) {\n",
              "    /* Redefinition of color scheme for dark theme */\n",
              "    --sklearn-color-text-on-default-background: var(--sg-text-color, var(--theme-code-foreground, var(--jp-content-font-color1, white)));\n",
              "    --sklearn-color-background: var(--sg-background-color, var(--theme-background, var(--jp-layout-color0, #111)));\n",
              "    --sklearn-color-border-box: var(--sg-text-color, var(--theme-code-foreground, var(--jp-content-font-color1, white)));\n",
              "    --sklearn-color-icon: #878787;\n",
              "  }\n",
              "}\n",
              "\n",
              "#sk-container-id-2 {\n",
              "  color: var(--sklearn-color-text);\n",
              "}\n",
              "\n",
              "#sk-container-id-2 pre {\n",
              "  padding: 0;\n",
              "}\n",
              "\n",
              "#sk-container-id-2 input.sk-hidden--visually {\n",
              "  border: 0;\n",
              "  clip: rect(1px 1px 1px 1px);\n",
              "  clip: rect(1px, 1px, 1px, 1px);\n",
              "  height: 1px;\n",
              "  margin: -1px;\n",
              "  overflow: hidden;\n",
              "  padding: 0;\n",
              "  position: absolute;\n",
              "  width: 1px;\n",
              "}\n",
              "\n",
              "#sk-container-id-2 div.sk-dashed-wrapped {\n",
              "  border: 1px dashed var(--sklearn-color-line);\n",
              "  margin: 0 0.4em 0.5em 0.4em;\n",
              "  box-sizing: border-box;\n",
              "  padding-bottom: 0.4em;\n",
              "  background-color: var(--sklearn-color-background);\n",
              "}\n",
              "\n",
              "#sk-container-id-2 div.sk-container {\n",
              "  /* jupyter's `normalize.less` sets `[hidden] { display: none; }`\n",
              "     but bootstrap.min.css set `[hidden] { display: none !important; }`\n",
              "     so we also need the `!important` here to be able to override the\n",
              "     default hidden behavior on the sphinx rendered scikit-learn.org.\n",
              "     See: https://github.com/scikit-learn/scikit-learn/issues/21755 */\n",
              "  display: inline-block !important;\n",
              "  position: relative;\n",
              "}\n",
              "\n",
              "#sk-container-id-2 div.sk-text-repr-fallback {\n",
              "  display: none;\n",
              "}\n",
              "\n",
              "div.sk-parallel-item,\n",
              "div.sk-serial,\n",
              "div.sk-item {\n",
              "  /* draw centered vertical line to link estimators */\n",
              "  background-image: linear-gradient(var(--sklearn-color-text-on-default-background), var(--sklearn-color-text-on-default-background));\n",
              "  background-size: 2px 100%;\n",
              "  background-repeat: no-repeat;\n",
              "  background-position: center center;\n",
              "}\n",
              "\n",
              "/* Parallel-specific style estimator block */\n",
              "\n",
              "#sk-container-id-2 div.sk-parallel-item::after {\n",
              "  content: \"\";\n",
              "  width: 100%;\n",
              "  border-bottom: 2px solid var(--sklearn-color-text-on-default-background);\n",
              "  flex-grow: 1;\n",
              "}\n",
              "\n",
              "#sk-container-id-2 div.sk-parallel {\n",
              "  display: flex;\n",
              "  align-items: stretch;\n",
              "  justify-content: center;\n",
              "  background-color: var(--sklearn-color-background);\n",
              "  position: relative;\n",
              "}\n",
              "\n",
              "#sk-container-id-2 div.sk-parallel-item {\n",
              "  display: flex;\n",
              "  flex-direction: column;\n",
              "}\n",
              "\n",
              "#sk-container-id-2 div.sk-parallel-item:first-child::after {\n",
              "  align-self: flex-end;\n",
              "  width: 50%;\n",
              "}\n",
              "\n",
              "#sk-container-id-2 div.sk-parallel-item:last-child::after {\n",
              "  align-self: flex-start;\n",
              "  width: 50%;\n",
              "}\n",
              "\n",
              "#sk-container-id-2 div.sk-parallel-item:only-child::after {\n",
              "  width: 0;\n",
              "}\n",
              "\n",
              "/* Serial-specific style estimator block */\n",
              "\n",
              "#sk-container-id-2 div.sk-serial {\n",
              "  display: flex;\n",
              "  flex-direction: column;\n",
              "  align-items: center;\n",
              "  background-color: var(--sklearn-color-background);\n",
              "  padding-right: 1em;\n",
              "  padding-left: 1em;\n",
              "}\n",
              "\n",
              "\n",
              "/* Toggleable style: style used for estimator/Pipeline/ColumnTransformer box that is\n",
              "clickable and can be expanded/collapsed.\n",
              "- Pipeline and ColumnTransformer use this feature and define the default style\n",
              "- Estimators will overwrite some part of the style using the `sk-estimator` class\n",
              "*/\n",
              "\n",
              "/* Pipeline and ColumnTransformer style (default) */\n",
              "\n",
              "#sk-container-id-2 div.sk-toggleable {\n",
              "  /* Default theme specific background. It is overwritten whether we have a\n",
              "  specific estimator or a Pipeline/ColumnTransformer */\n",
              "  background-color: var(--sklearn-color-background);\n",
              "}\n",
              "\n",
              "/* Toggleable label */\n",
              "#sk-container-id-2 label.sk-toggleable__label {\n",
              "  cursor: pointer;\n",
              "  display: flex;\n",
              "  width: 100%;\n",
              "  margin-bottom: 0;\n",
              "  padding: 0.5em;\n",
              "  box-sizing: border-box;\n",
              "  text-align: center;\n",
              "  align-items: start;\n",
              "  justify-content: space-between;\n",
              "  gap: 0.5em;\n",
              "}\n",
              "\n",
              "#sk-container-id-2 label.sk-toggleable__label .caption {\n",
              "  font-size: 0.6rem;\n",
              "  font-weight: lighter;\n",
              "  color: var(--sklearn-color-text-muted);\n",
              "}\n",
              "\n",
              "#sk-container-id-2 label.sk-toggleable__label-arrow:before {\n",
              "  /* Arrow on the left of the label */\n",
              "  content: \"▸\";\n",
              "  float: left;\n",
              "  margin-right: 0.25em;\n",
              "  color: var(--sklearn-color-icon);\n",
              "}\n",
              "\n",
              "#sk-container-id-2 label.sk-toggleable__label-arrow:hover:before {\n",
              "  color: var(--sklearn-color-text);\n",
              "}\n",
              "\n",
              "/* Toggleable content - dropdown */\n",
              "\n",
              "#sk-container-id-2 div.sk-toggleable__content {\n",
              "  max-height: 0;\n",
              "  max-width: 0;\n",
              "  overflow: hidden;\n",
              "  text-align: left;\n",
              "  /* unfitted */\n",
              "  background-color: var(--sklearn-color-unfitted-level-0);\n",
              "}\n",
              "\n",
              "#sk-container-id-2 div.sk-toggleable__content.fitted {\n",
              "  /* fitted */\n",
              "  background-color: var(--sklearn-color-fitted-level-0);\n",
              "}\n",
              "\n",
              "#sk-container-id-2 div.sk-toggleable__content pre {\n",
              "  margin: 0.2em;\n",
              "  border-radius: 0.25em;\n",
              "  color: var(--sklearn-color-text);\n",
              "  /* unfitted */\n",
              "  background-color: var(--sklearn-color-unfitted-level-0);\n",
              "}\n",
              "\n",
              "#sk-container-id-2 div.sk-toggleable__content.fitted pre {\n",
              "  /* unfitted */\n",
              "  background-color: var(--sklearn-color-fitted-level-0);\n",
              "}\n",
              "\n",
              "#sk-container-id-2 input.sk-toggleable__control:checked~div.sk-toggleable__content {\n",
              "  /* Expand drop-down */\n",
              "  max-height: 200px;\n",
              "  max-width: 100%;\n",
              "  overflow: auto;\n",
              "}\n",
              "\n",
              "#sk-container-id-2 input.sk-toggleable__control:checked~label.sk-toggleable__label-arrow:before {\n",
              "  content: \"▾\";\n",
              "}\n",
              "\n",
              "/* Pipeline/ColumnTransformer-specific style */\n",
              "\n",
              "#sk-container-id-2 div.sk-label input.sk-toggleable__control:checked~label.sk-toggleable__label {\n",
              "  color: var(--sklearn-color-text);\n",
              "  background-color: var(--sklearn-color-unfitted-level-2);\n",
              "}\n",
              "\n",
              "#sk-container-id-2 div.sk-label.fitted input.sk-toggleable__control:checked~label.sk-toggleable__label {\n",
              "  background-color: var(--sklearn-color-fitted-level-2);\n",
              "}\n",
              "\n",
              "/* Estimator-specific style */\n",
              "\n",
              "/* Colorize estimator box */\n",
              "#sk-container-id-2 div.sk-estimator input.sk-toggleable__control:checked~label.sk-toggleable__label {\n",
              "  /* unfitted */\n",
              "  background-color: var(--sklearn-color-unfitted-level-2);\n",
              "}\n",
              "\n",
              "#sk-container-id-2 div.sk-estimator.fitted input.sk-toggleable__control:checked~label.sk-toggleable__label {\n",
              "  /* fitted */\n",
              "  background-color: var(--sklearn-color-fitted-level-2);\n",
              "}\n",
              "\n",
              "#sk-container-id-2 div.sk-label label.sk-toggleable__label,\n",
              "#sk-container-id-2 div.sk-label label {\n",
              "  /* The background is the default theme color */\n",
              "  color: var(--sklearn-color-text-on-default-background);\n",
              "}\n",
              "\n",
              "/* On hover, darken the color of the background */\n",
              "#sk-container-id-2 div.sk-label:hover label.sk-toggleable__label {\n",
              "  color: var(--sklearn-color-text);\n",
              "  background-color: var(--sklearn-color-unfitted-level-2);\n",
              "}\n",
              "\n",
              "/* Label box, darken color on hover, fitted */\n",
              "#sk-container-id-2 div.sk-label.fitted:hover label.sk-toggleable__label.fitted {\n",
              "  color: var(--sklearn-color-text);\n",
              "  background-color: var(--sklearn-color-fitted-level-2);\n",
              "}\n",
              "\n",
              "/* Estimator label */\n",
              "\n",
              "#sk-container-id-2 div.sk-label label {\n",
              "  font-family: monospace;\n",
              "  font-weight: bold;\n",
              "  display: inline-block;\n",
              "  line-height: 1.2em;\n",
              "}\n",
              "\n",
              "#sk-container-id-2 div.sk-label-container {\n",
              "  text-align: center;\n",
              "}\n",
              "\n",
              "/* Estimator-specific */\n",
              "#sk-container-id-2 div.sk-estimator {\n",
              "  font-family: monospace;\n",
              "  border: 1px dotted var(--sklearn-color-border-box);\n",
              "  border-radius: 0.25em;\n",
              "  box-sizing: border-box;\n",
              "  margin-bottom: 0.5em;\n",
              "  /* unfitted */\n",
              "  background-color: var(--sklearn-color-unfitted-level-0);\n",
              "}\n",
              "\n",
              "#sk-container-id-2 div.sk-estimator.fitted {\n",
              "  /* fitted */\n",
              "  background-color: var(--sklearn-color-fitted-level-0);\n",
              "}\n",
              "\n",
              "/* on hover */\n",
              "#sk-container-id-2 div.sk-estimator:hover {\n",
              "  /* unfitted */\n",
              "  background-color: var(--sklearn-color-unfitted-level-2);\n",
              "}\n",
              "\n",
              "#sk-container-id-2 div.sk-estimator.fitted:hover {\n",
              "  /* fitted */\n",
              "  background-color: var(--sklearn-color-fitted-level-2);\n",
              "}\n",
              "\n",
              "/* Specification for estimator info (e.g. \"i\" and \"?\") */\n",
              "\n",
              "/* Common style for \"i\" and \"?\" */\n",
              "\n",
              ".sk-estimator-doc-link,\n",
              "a:link.sk-estimator-doc-link,\n",
              "a:visited.sk-estimator-doc-link {\n",
              "  float: right;\n",
              "  font-size: smaller;\n",
              "  line-height: 1em;\n",
              "  font-family: monospace;\n",
              "  background-color: var(--sklearn-color-background);\n",
              "  border-radius: 1em;\n",
              "  height: 1em;\n",
              "  width: 1em;\n",
              "  text-decoration: none !important;\n",
              "  margin-left: 0.5em;\n",
              "  text-align: center;\n",
              "  /* unfitted */\n",
              "  border: var(--sklearn-color-unfitted-level-1) 1pt solid;\n",
              "  color: var(--sklearn-color-unfitted-level-1);\n",
              "}\n",
              "\n",
              ".sk-estimator-doc-link.fitted,\n",
              "a:link.sk-estimator-doc-link.fitted,\n",
              "a:visited.sk-estimator-doc-link.fitted {\n",
              "  /* fitted */\n",
              "  border: var(--sklearn-color-fitted-level-1) 1pt solid;\n",
              "  color: var(--sklearn-color-fitted-level-1);\n",
              "}\n",
              "\n",
              "/* On hover */\n",
              "div.sk-estimator:hover .sk-estimator-doc-link:hover,\n",
              ".sk-estimator-doc-link:hover,\n",
              "div.sk-label-container:hover .sk-estimator-doc-link:hover,\n",
              ".sk-estimator-doc-link:hover {\n",
              "  /* unfitted */\n",
              "  background-color: var(--sklearn-color-unfitted-level-3);\n",
              "  color: var(--sklearn-color-background);\n",
              "  text-decoration: none;\n",
              "}\n",
              "\n",
              "div.sk-estimator.fitted:hover .sk-estimator-doc-link.fitted:hover,\n",
              ".sk-estimator-doc-link.fitted:hover,\n",
              "div.sk-label-container:hover .sk-estimator-doc-link.fitted:hover,\n",
              ".sk-estimator-doc-link.fitted:hover {\n",
              "  /* fitted */\n",
              "  background-color: var(--sklearn-color-fitted-level-3);\n",
              "  color: var(--sklearn-color-background);\n",
              "  text-decoration: none;\n",
              "}\n",
              "\n",
              "/* Span, style for the box shown on hovering the info icon */\n",
              ".sk-estimator-doc-link span {\n",
              "  display: none;\n",
              "  z-index: 9999;\n",
              "  position: relative;\n",
              "  font-weight: normal;\n",
              "  right: .2ex;\n",
              "  padding: .5ex;\n",
              "  margin: .5ex;\n",
              "  width: min-content;\n",
              "  min-width: 20ex;\n",
              "  max-width: 50ex;\n",
              "  color: var(--sklearn-color-text);\n",
              "  box-shadow: 2pt 2pt 4pt #999;\n",
              "  /* unfitted */\n",
              "  background: var(--sklearn-color-unfitted-level-0);\n",
              "  border: .5pt solid var(--sklearn-color-unfitted-level-3);\n",
              "}\n",
              "\n",
              ".sk-estimator-doc-link.fitted span {\n",
              "  /* fitted */\n",
              "  background: var(--sklearn-color-fitted-level-0);\n",
              "  border: var(--sklearn-color-fitted-level-3);\n",
              "}\n",
              "\n",
              ".sk-estimator-doc-link:hover span {\n",
              "  display: block;\n",
              "}\n",
              "\n",
              "/* \"?\"-specific style due to the `<a>` HTML tag */\n",
              "\n",
              "#sk-container-id-2 a.estimator_doc_link {\n",
              "  float: right;\n",
              "  font-size: 1rem;\n",
              "  line-height: 1em;\n",
              "  font-family: monospace;\n",
              "  background-color: var(--sklearn-color-background);\n",
              "  border-radius: 1rem;\n",
              "  height: 1rem;\n",
              "  width: 1rem;\n",
              "  text-decoration: none;\n",
              "  /* unfitted */\n",
              "  color: var(--sklearn-color-unfitted-level-1);\n",
              "  border: var(--sklearn-color-unfitted-level-1) 1pt solid;\n",
              "}\n",
              "\n",
              "#sk-container-id-2 a.estimator_doc_link.fitted {\n",
              "  /* fitted */\n",
              "  border: var(--sklearn-color-fitted-level-1) 1pt solid;\n",
              "  color: var(--sklearn-color-fitted-level-1);\n",
              "}\n",
              "\n",
              "/* On hover */\n",
              "#sk-container-id-2 a.estimator_doc_link:hover {\n",
              "  /* unfitted */\n",
              "  background-color: var(--sklearn-color-unfitted-level-3);\n",
              "  color: var(--sklearn-color-background);\n",
              "  text-decoration: none;\n",
              "}\n",
              "\n",
              "#sk-container-id-2 a.estimator_doc_link.fitted:hover {\n",
              "  /* fitted */\n",
              "  background-color: var(--sklearn-color-fitted-level-3);\n",
              "}\n",
              "</style><div id=\"sk-container-id-2\" class=\"sk-top-container\"><div class=\"sk-text-repr-fallback\"><pre>Pipeline(steps=[(&#x27;columntransformer&#x27;,\n",
              "                 ColumnTransformer(transformers=[(&#x27;simpleimputer&#x27;,\n",
              "                                                  SimpleImputer(add_indicator=True),\n",
              "                                                  &lt;sklearn.compose._column_transformer.make_column_selector object at 0x0000020973C67DD0&gt;),\n",
              "                                                 (&#x27;ordinalencoder&#x27;,\n",
              "                                                  OrdinalEncoder(encoded_missing_value=-2,\n",
              "                                                                 handle_unknown=&#x27;use_encoded_value&#x27;,\n",
              "                                                                 unknown_value=-1),\n",
              "                                                  &lt;sklearn.compose._column_transformer.make_column_selector object at 0x0000020973C67D10&gt;)])),\n",
              "                (&#x27;randomforestregressor&#x27;,\n",
              "                 RandomForestRegressor(random_state=42))])</pre><b>In a Jupyter environment, please rerun this cell to show the HTML representation or trust the notebook. <br />On GitHub, the HTML representation is unable to render, please try loading this page with nbviewer.org.</b></div><div class=\"sk-container\" hidden><div class=\"sk-item sk-dashed-wrapped\"><div class=\"sk-label-container\"><div class=\"sk-label  sk-toggleable\"><input class=\"sk-toggleable__control sk-hidden--visually\" id=\"sk-estimator-id-6\" type=\"checkbox\" ><label for=\"sk-estimator-id-6\" class=\"sk-toggleable__label  sk-toggleable__label-arrow\"><div><div>Pipeline</div></div><div><a class=\"sk-estimator-doc-link \" rel=\"noreferrer\" target=\"_blank\" href=\"https://scikit-learn.org/1.6/modules/generated/sklearn.pipeline.Pipeline.html\">?<span>Documentation for Pipeline</span></a><span class=\"sk-estimator-doc-link \">i<span>Not fitted</span></span></div></label><div class=\"sk-toggleable__content \"><pre>Pipeline(steps=[(&#x27;columntransformer&#x27;,\n",
              "                 ColumnTransformer(transformers=[(&#x27;simpleimputer&#x27;,\n",
              "                                                  SimpleImputer(add_indicator=True),\n",
              "                                                  &lt;sklearn.compose._column_transformer.make_column_selector object at 0x0000020973C67DD0&gt;),\n",
              "                                                 (&#x27;ordinalencoder&#x27;,\n",
              "                                                  OrdinalEncoder(encoded_missing_value=-2,\n",
              "                                                                 handle_unknown=&#x27;use_encoded_value&#x27;,\n",
              "                                                                 unknown_value=-1),\n",
              "                                                  &lt;sklearn.compose._column_transformer.make_column_selector object at 0x0000020973C67D10&gt;)])),\n",
              "                (&#x27;randomforestregressor&#x27;,\n",
              "                 RandomForestRegressor(random_state=42))])</pre></div> </div></div><div class=\"sk-serial\"><div class=\"sk-item sk-dashed-wrapped\"><div class=\"sk-label-container\"><div class=\"sk-label  sk-toggleable\"><input class=\"sk-toggleable__control sk-hidden--visually\" id=\"sk-estimator-id-7\" type=\"checkbox\" ><label for=\"sk-estimator-id-7\" class=\"sk-toggleable__label  sk-toggleable__label-arrow\"><div><div>columntransformer: ColumnTransformer</div></div><div><a class=\"sk-estimator-doc-link \" rel=\"noreferrer\" target=\"_blank\" href=\"https://scikit-learn.org/1.6/modules/generated/sklearn.compose.ColumnTransformer.html\">?<span>Documentation for columntransformer: ColumnTransformer</span></a></div></label><div class=\"sk-toggleable__content \"><pre>ColumnTransformer(transformers=[(&#x27;simpleimputer&#x27;,\n",
              "                                 SimpleImputer(add_indicator=True),\n",
              "                                 &lt;sklearn.compose._column_transformer.make_column_selector object at 0x0000020973C67DD0&gt;),\n",
              "                                (&#x27;ordinalencoder&#x27;,\n",
              "                                 OrdinalEncoder(encoded_missing_value=-2,\n",
              "                                                handle_unknown=&#x27;use_encoded_value&#x27;,\n",
              "                                                unknown_value=-1),\n",
              "                                 &lt;sklearn.compose._column_transformer.make_column_selector object at 0x0000020973C67D10&gt;)])</pre></div> </div></div><div class=\"sk-parallel\"><div class=\"sk-parallel-item\"><div class=\"sk-item\"><div class=\"sk-label-container\"><div class=\"sk-label  sk-toggleable\"><input class=\"sk-toggleable__control sk-hidden--visually\" id=\"sk-estimator-id-8\" type=\"checkbox\" ><label for=\"sk-estimator-id-8\" class=\"sk-toggleable__label  sk-toggleable__label-arrow\"><div><div>simpleimputer</div></div></label><div class=\"sk-toggleable__content \"><pre>&lt;sklearn.compose._column_transformer.make_column_selector object at 0x0000020973C67DD0&gt;</pre></div> </div></div><div class=\"sk-serial\"><div class=\"sk-item\"><div class=\"sk-estimator  sk-toggleable\"><input class=\"sk-toggleable__control sk-hidden--visually\" id=\"sk-estimator-id-9\" type=\"checkbox\" ><label for=\"sk-estimator-id-9\" class=\"sk-toggleable__label  sk-toggleable__label-arrow\"><div><div>SimpleImputer</div></div><div><a class=\"sk-estimator-doc-link \" rel=\"noreferrer\" target=\"_blank\" href=\"https://scikit-learn.org/1.6/modules/generated/sklearn.impute.SimpleImputer.html\">?<span>Documentation for SimpleImputer</span></a></div></label><div class=\"sk-toggleable__content \"><pre>SimpleImputer(add_indicator=True)</pre></div> </div></div></div></div></div><div class=\"sk-parallel-item\"><div class=\"sk-item\"><div class=\"sk-label-container\"><div class=\"sk-label  sk-toggleable\"><input class=\"sk-toggleable__control sk-hidden--visually\" id=\"sk-estimator-id-10\" type=\"checkbox\" ><label for=\"sk-estimator-id-10\" class=\"sk-toggleable__label  sk-toggleable__label-arrow\"><div><div>ordinalencoder</div></div></label><div class=\"sk-toggleable__content \"><pre>&lt;sklearn.compose._column_transformer.make_column_selector object at 0x0000020973C67D10&gt;</pre></div> </div></div><div class=\"sk-serial\"><div class=\"sk-item\"><div class=\"sk-estimator  sk-toggleable\"><input class=\"sk-toggleable__control sk-hidden--visually\" id=\"sk-estimator-id-11\" type=\"checkbox\" ><label for=\"sk-estimator-id-11\" class=\"sk-toggleable__label  sk-toggleable__label-arrow\"><div><div>OrdinalEncoder</div></div><div><a class=\"sk-estimator-doc-link \" rel=\"noreferrer\" target=\"_blank\" href=\"https://scikit-learn.org/1.6/modules/generated/sklearn.preprocessing.OrdinalEncoder.html\">?<span>Documentation for OrdinalEncoder</span></a></div></label><div class=\"sk-toggleable__content \"><pre>OrdinalEncoder(encoded_missing_value=-2, handle_unknown=&#x27;use_encoded_value&#x27;,\n",
              "               unknown_value=-1)</pre></div> </div></div></div></div></div></div></div><div class=\"sk-item\"><div class=\"sk-estimator  sk-toggleable\"><input class=\"sk-toggleable__control sk-hidden--visually\" id=\"sk-estimator-id-12\" type=\"checkbox\" ><label for=\"sk-estimator-id-12\" class=\"sk-toggleable__label  sk-toggleable__label-arrow\"><div><div>RandomForestRegressor</div></div><div><a class=\"sk-estimator-doc-link \" rel=\"noreferrer\" target=\"_blank\" href=\"https://scikit-learn.org/1.6/modules/generated/sklearn.ensemble.RandomForestRegressor.html\">?<span>Documentation for RandomForestRegressor</span></a></div></label><div class=\"sk-toggleable__content \"><pre>RandomForestRegressor(random_state=42)</pre></div> </div></div></div></div></div></div>"
            ],
            "text/plain": [
              "Pipeline(steps=[('columntransformer',\n",
              "                 ColumnTransformer(transformers=[('simpleimputer',\n",
              "                                                  SimpleImputer(add_indicator=True),\n",
              "                                                  <sklearn.compose._column_transformer.make_column_selector object at 0x0000020973C67DD0>),\n",
              "                                                 ('ordinalencoder',\n",
              "                                                  OrdinalEncoder(encoded_missing_value=-2,\n",
              "                                                                 handle_unknown='use_encoded_value',\n",
              "                                                                 unknown_value=-1),\n",
              "                                                  <sklearn.compose._column_transformer.make_column_selector object at 0x0000020973C67D10>)])),\n",
              "                ('randomforestregressor',\n",
              "                 RandomForestRegressor(random_state=42))])"
            ]
          },
          "execution_count": 30,
          "metadata": {},
          "output_type": "execute_result"
        }
      ],
      "source": [
        "from sklearn.ensemble import RandomForestRegressor\n",
        "\n",
        "rfr_pipeline = make_pipeline(tree_preprocessor, RandomForestRegressor(n_estimators=100, random_state=42))\n",
        "rfr_pipeline"
      ]
    },
    {
      "cell_type": "code",
      "execution_count": 31,
      "metadata": {
        "id": "kSLcie0Zq3H_"
      },
      "outputs": [],
      "source": [
        "rfr_pipeline = rfr_pipeline.fit(X_train, y_train)"
      ]
    },
    {
      "cell_type": "code",
      "execution_count": 32,
      "metadata": {
        "colab": {
          "base_uri": "https://localhost:8080/"
        },
        "id": "1kWGBETgXYwM",
        "outputId": "51483ab3-be24-4651-f2a8-036f4eac246d"
      },
      "outputs": [
        {
          "name": "stdout",
          "output_type": "stream",
          "text": [
            "Train score 87.1564619612917\n",
            "Test score 37.73352407762338\n"
          ]
        }
      ],
      "source": [
        "print(\"Train score\", rfr_pipeline.score(X_train, y_train) *100)\n",
        "print(\"Test score\", rfr_pipeline.score(X_test, y_test) * 100)"
      ]
    },
    {
      "cell_type": "markdown",
      "metadata": {
        "id": "4hv4MdAjrzTL"
      },
      "source": [
        "Pas terrible : le modèle apprend par coeur les données et ne comprend pas. Erreur de variance ou \"overfitting\" ou \"surapprentissage\".\n",
        "\n",
        "==> Je tente un 2e modèle linéaire cette fois"
      ]
    },
    {
      "cell_type": "code",
      "execution_count": 33,
      "metadata": {
        "colab": {
          "base_uri": "https://localhost:8080/",
          "height": 221
        },
        "id": "jjkb8K-nXmia",
        "outputId": "b45eb16c-3934-4123-9bbc-9d91d716a244"
      },
      "outputs": [
        {
          "data": {
            "text/html": [
              "<style>#sk-container-id-3 {\n",
              "  /* Definition of color scheme common for light and dark mode */\n",
              "  --sklearn-color-text: #000;\n",
              "  --sklearn-color-text-muted: #666;\n",
              "  --sklearn-color-line: gray;\n",
              "  /* Definition of color scheme for unfitted estimators */\n",
              "  --sklearn-color-unfitted-level-0: #fff5e6;\n",
              "  --sklearn-color-unfitted-level-1: #f6e4d2;\n",
              "  --sklearn-color-unfitted-level-2: #ffe0b3;\n",
              "  --sklearn-color-unfitted-level-3: chocolate;\n",
              "  /* Definition of color scheme for fitted estimators */\n",
              "  --sklearn-color-fitted-level-0: #f0f8ff;\n",
              "  --sklearn-color-fitted-level-1: #d4ebff;\n",
              "  --sklearn-color-fitted-level-2: #b3dbfd;\n",
              "  --sklearn-color-fitted-level-3: cornflowerblue;\n",
              "\n",
              "  /* Specific color for light theme */\n",
              "  --sklearn-color-text-on-default-background: var(--sg-text-color, var(--theme-code-foreground, var(--jp-content-font-color1, black)));\n",
              "  --sklearn-color-background: var(--sg-background-color, var(--theme-background, var(--jp-layout-color0, white)));\n",
              "  --sklearn-color-border-box: var(--sg-text-color, var(--theme-code-foreground, var(--jp-content-font-color1, black)));\n",
              "  --sklearn-color-icon: #696969;\n",
              "\n",
              "  @media (prefers-color-scheme: dark) {\n",
              "    /* Redefinition of color scheme for dark theme */\n",
              "    --sklearn-color-text-on-default-background: var(--sg-text-color, var(--theme-code-foreground, var(--jp-content-font-color1, white)));\n",
              "    --sklearn-color-background: var(--sg-background-color, var(--theme-background, var(--jp-layout-color0, #111)));\n",
              "    --sklearn-color-border-box: var(--sg-text-color, var(--theme-code-foreground, var(--jp-content-font-color1, white)));\n",
              "    --sklearn-color-icon: #878787;\n",
              "  }\n",
              "}\n",
              "\n",
              "#sk-container-id-3 {\n",
              "  color: var(--sklearn-color-text);\n",
              "}\n",
              "\n",
              "#sk-container-id-3 pre {\n",
              "  padding: 0;\n",
              "}\n",
              "\n",
              "#sk-container-id-3 input.sk-hidden--visually {\n",
              "  border: 0;\n",
              "  clip: rect(1px 1px 1px 1px);\n",
              "  clip: rect(1px, 1px, 1px, 1px);\n",
              "  height: 1px;\n",
              "  margin: -1px;\n",
              "  overflow: hidden;\n",
              "  padding: 0;\n",
              "  position: absolute;\n",
              "  width: 1px;\n",
              "}\n",
              "\n",
              "#sk-container-id-3 div.sk-dashed-wrapped {\n",
              "  border: 1px dashed var(--sklearn-color-line);\n",
              "  margin: 0 0.4em 0.5em 0.4em;\n",
              "  box-sizing: border-box;\n",
              "  padding-bottom: 0.4em;\n",
              "  background-color: var(--sklearn-color-background);\n",
              "}\n",
              "\n",
              "#sk-container-id-3 div.sk-container {\n",
              "  /* jupyter's `normalize.less` sets `[hidden] { display: none; }`\n",
              "     but bootstrap.min.css set `[hidden] { display: none !important; }`\n",
              "     so we also need the `!important` here to be able to override the\n",
              "     default hidden behavior on the sphinx rendered scikit-learn.org.\n",
              "     See: https://github.com/scikit-learn/scikit-learn/issues/21755 */\n",
              "  display: inline-block !important;\n",
              "  position: relative;\n",
              "}\n",
              "\n",
              "#sk-container-id-3 div.sk-text-repr-fallback {\n",
              "  display: none;\n",
              "}\n",
              "\n",
              "div.sk-parallel-item,\n",
              "div.sk-serial,\n",
              "div.sk-item {\n",
              "  /* draw centered vertical line to link estimators */\n",
              "  background-image: linear-gradient(var(--sklearn-color-text-on-default-background), var(--sklearn-color-text-on-default-background));\n",
              "  background-size: 2px 100%;\n",
              "  background-repeat: no-repeat;\n",
              "  background-position: center center;\n",
              "}\n",
              "\n",
              "/* Parallel-specific style estimator block */\n",
              "\n",
              "#sk-container-id-3 div.sk-parallel-item::after {\n",
              "  content: \"\";\n",
              "  width: 100%;\n",
              "  border-bottom: 2px solid var(--sklearn-color-text-on-default-background);\n",
              "  flex-grow: 1;\n",
              "}\n",
              "\n",
              "#sk-container-id-3 div.sk-parallel {\n",
              "  display: flex;\n",
              "  align-items: stretch;\n",
              "  justify-content: center;\n",
              "  background-color: var(--sklearn-color-background);\n",
              "  position: relative;\n",
              "}\n",
              "\n",
              "#sk-container-id-3 div.sk-parallel-item {\n",
              "  display: flex;\n",
              "  flex-direction: column;\n",
              "}\n",
              "\n",
              "#sk-container-id-3 div.sk-parallel-item:first-child::after {\n",
              "  align-self: flex-end;\n",
              "  width: 50%;\n",
              "}\n",
              "\n",
              "#sk-container-id-3 div.sk-parallel-item:last-child::after {\n",
              "  align-self: flex-start;\n",
              "  width: 50%;\n",
              "}\n",
              "\n",
              "#sk-container-id-3 div.sk-parallel-item:only-child::after {\n",
              "  width: 0;\n",
              "}\n",
              "\n",
              "/* Serial-specific style estimator block */\n",
              "\n",
              "#sk-container-id-3 div.sk-serial {\n",
              "  display: flex;\n",
              "  flex-direction: column;\n",
              "  align-items: center;\n",
              "  background-color: var(--sklearn-color-background);\n",
              "  padding-right: 1em;\n",
              "  padding-left: 1em;\n",
              "}\n",
              "\n",
              "\n",
              "/* Toggleable style: style used for estimator/Pipeline/ColumnTransformer box that is\n",
              "clickable and can be expanded/collapsed.\n",
              "- Pipeline and ColumnTransformer use this feature and define the default style\n",
              "- Estimators will overwrite some part of the style using the `sk-estimator` class\n",
              "*/\n",
              "\n",
              "/* Pipeline and ColumnTransformer style (default) */\n",
              "\n",
              "#sk-container-id-3 div.sk-toggleable {\n",
              "  /* Default theme specific background. It is overwritten whether we have a\n",
              "  specific estimator or a Pipeline/ColumnTransformer */\n",
              "  background-color: var(--sklearn-color-background);\n",
              "}\n",
              "\n",
              "/* Toggleable label */\n",
              "#sk-container-id-3 label.sk-toggleable__label {\n",
              "  cursor: pointer;\n",
              "  display: flex;\n",
              "  width: 100%;\n",
              "  margin-bottom: 0;\n",
              "  padding: 0.5em;\n",
              "  box-sizing: border-box;\n",
              "  text-align: center;\n",
              "  align-items: start;\n",
              "  justify-content: space-between;\n",
              "  gap: 0.5em;\n",
              "}\n",
              "\n",
              "#sk-container-id-3 label.sk-toggleable__label .caption {\n",
              "  font-size: 0.6rem;\n",
              "  font-weight: lighter;\n",
              "  color: var(--sklearn-color-text-muted);\n",
              "}\n",
              "\n",
              "#sk-container-id-3 label.sk-toggleable__label-arrow:before {\n",
              "  /* Arrow on the left of the label */\n",
              "  content: \"▸\";\n",
              "  float: left;\n",
              "  margin-right: 0.25em;\n",
              "  color: var(--sklearn-color-icon);\n",
              "}\n",
              "\n",
              "#sk-container-id-3 label.sk-toggleable__label-arrow:hover:before {\n",
              "  color: var(--sklearn-color-text);\n",
              "}\n",
              "\n",
              "/* Toggleable content - dropdown */\n",
              "\n",
              "#sk-container-id-3 div.sk-toggleable__content {\n",
              "  max-height: 0;\n",
              "  max-width: 0;\n",
              "  overflow: hidden;\n",
              "  text-align: left;\n",
              "  /* unfitted */\n",
              "  background-color: var(--sklearn-color-unfitted-level-0);\n",
              "}\n",
              "\n",
              "#sk-container-id-3 div.sk-toggleable__content.fitted {\n",
              "  /* fitted */\n",
              "  background-color: var(--sklearn-color-fitted-level-0);\n",
              "}\n",
              "\n",
              "#sk-container-id-3 div.sk-toggleable__content pre {\n",
              "  margin: 0.2em;\n",
              "  border-radius: 0.25em;\n",
              "  color: var(--sklearn-color-text);\n",
              "  /* unfitted */\n",
              "  background-color: var(--sklearn-color-unfitted-level-0);\n",
              "}\n",
              "\n",
              "#sk-container-id-3 div.sk-toggleable__content.fitted pre {\n",
              "  /* unfitted */\n",
              "  background-color: var(--sklearn-color-fitted-level-0);\n",
              "}\n",
              "\n",
              "#sk-container-id-3 input.sk-toggleable__control:checked~div.sk-toggleable__content {\n",
              "  /* Expand drop-down */\n",
              "  max-height: 200px;\n",
              "  max-width: 100%;\n",
              "  overflow: auto;\n",
              "}\n",
              "\n",
              "#sk-container-id-3 input.sk-toggleable__control:checked~label.sk-toggleable__label-arrow:before {\n",
              "  content: \"▾\";\n",
              "}\n",
              "\n",
              "/* Pipeline/ColumnTransformer-specific style */\n",
              "\n",
              "#sk-container-id-3 div.sk-label input.sk-toggleable__control:checked~label.sk-toggleable__label {\n",
              "  color: var(--sklearn-color-text);\n",
              "  background-color: var(--sklearn-color-unfitted-level-2);\n",
              "}\n",
              "\n",
              "#sk-container-id-3 div.sk-label.fitted input.sk-toggleable__control:checked~label.sk-toggleable__label {\n",
              "  background-color: var(--sklearn-color-fitted-level-2);\n",
              "}\n",
              "\n",
              "/* Estimator-specific style */\n",
              "\n",
              "/* Colorize estimator box */\n",
              "#sk-container-id-3 div.sk-estimator input.sk-toggleable__control:checked~label.sk-toggleable__label {\n",
              "  /* unfitted */\n",
              "  background-color: var(--sklearn-color-unfitted-level-2);\n",
              "}\n",
              "\n",
              "#sk-container-id-3 div.sk-estimator.fitted input.sk-toggleable__control:checked~label.sk-toggleable__label {\n",
              "  /* fitted */\n",
              "  background-color: var(--sklearn-color-fitted-level-2);\n",
              "}\n",
              "\n",
              "#sk-container-id-3 div.sk-label label.sk-toggleable__label,\n",
              "#sk-container-id-3 div.sk-label label {\n",
              "  /* The background is the default theme color */\n",
              "  color: var(--sklearn-color-text-on-default-background);\n",
              "}\n",
              "\n",
              "/* On hover, darken the color of the background */\n",
              "#sk-container-id-3 div.sk-label:hover label.sk-toggleable__label {\n",
              "  color: var(--sklearn-color-text);\n",
              "  background-color: var(--sklearn-color-unfitted-level-2);\n",
              "}\n",
              "\n",
              "/* Label box, darken color on hover, fitted */\n",
              "#sk-container-id-3 div.sk-label.fitted:hover label.sk-toggleable__label.fitted {\n",
              "  color: var(--sklearn-color-text);\n",
              "  background-color: var(--sklearn-color-fitted-level-2);\n",
              "}\n",
              "\n",
              "/* Estimator label */\n",
              "\n",
              "#sk-container-id-3 div.sk-label label {\n",
              "  font-family: monospace;\n",
              "  font-weight: bold;\n",
              "  display: inline-block;\n",
              "  line-height: 1.2em;\n",
              "}\n",
              "\n",
              "#sk-container-id-3 div.sk-label-container {\n",
              "  text-align: center;\n",
              "}\n",
              "\n",
              "/* Estimator-specific */\n",
              "#sk-container-id-3 div.sk-estimator {\n",
              "  font-family: monospace;\n",
              "  border: 1px dotted var(--sklearn-color-border-box);\n",
              "  border-radius: 0.25em;\n",
              "  box-sizing: border-box;\n",
              "  margin-bottom: 0.5em;\n",
              "  /* unfitted */\n",
              "  background-color: var(--sklearn-color-unfitted-level-0);\n",
              "}\n",
              "\n",
              "#sk-container-id-3 div.sk-estimator.fitted {\n",
              "  /* fitted */\n",
              "  background-color: var(--sklearn-color-fitted-level-0);\n",
              "}\n",
              "\n",
              "/* on hover */\n",
              "#sk-container-id-3 div.sk-estimator:hover {\n",
              "  /* unfitted */\n",
              "  background-color: var(--sklearn-color-unfitted-level-2);\n",
              "}\n",
              "\n",
              "#sk-container-id-3 div.sk-estimator.fitted:hover {\n",
              "  /* fitted */\n",
              "  background-color: var(--sklearn-color-fitted-level-2);\n",
              "}\n",
              "\n",
              "/* Specification for estimator info (e.g. \"i\" and \"?\") */\n",
              "\n",
              "/* Common style for \"i\" and \"?\" */\n",
              "\n",
              ".sk-estimator-doc-link,\n",
              "a:link.sk-estimator-doc-link,\n",
              "a:visited.sk-estimator-doc-link {\n",
              "  float: right;\n",
              "  font-size: smaller;\n",
              "  line-height: 1em;\n",
              "  font-family: monospace;\n",
              "  background-color: var(--sklearn-color-background);\n",
              "  border-radius: 1em;\n",
              "  height: 1em;\n",
              "  width: 1em;\n",
              "  text-decoration: none !important;\n",
              "  margin-left: 0.5em;\n",
              "  text-align: center;\n",
              "  /* unfitted */\n",
              "  border: var(--sklearn-color-unfitted-level-1) 1pt solid;\n",
              "  color: var(--sklearn-color-unfitted-level-1);\n",
              "}\n",
              "\n",
              ".sk-estimator-doc-link.fitted,\n",
              "a:link.sk-estimator-doc-link.fitted,\n",
              "a:visited.sk-estimator-doc-link.fitted {\n",
              "  /* fitted */\n",
              "  border: var(--sklearn-color-fitted-level-1) 1pt solid;\n",
              "  color: var(--sklearn-color-fitted-level-1);\n",
              "}\n",
              "\n",
              "/* On hover */\n",
              "div.sk-estimator:hover .sk-estimator-doc-link:hover,\n",
              ".sk-estimator-doc-link:hover,\n",
              "div.sk-label-container:hover .sk-estimator-doc-link:hover,\n",
              ".sk-estimator-doc-link:hover {\n",
              "  /* unfitted */\n",
              "  background-color: var(--sklearn-color-unfitted-level-3);\n",
              "  color: var(--sklearn-color-background);\n",
              "  text-decoration: none;\n",
              "}\n",
              "\n",
              "div.sk-estimator.fitted:hover .sk-estimator-doc-link.fitted:hover,\n",
              ".sk-estimator-doc-link.fitted:hover,\n",
              "div.sk-label-container:hover .sk-estimator-doc-link.fitted:hover,\n",
              ".sk-estimator-doc-link.fitted:hover {\n",
              "  /* fitted */\n",
              "  background-color: var(--sklearn-color-fitted-level-3);\n",
              "  color: var(--sklearn-color-background);\n",
              "  text-decoration: none;\n",
              "}\n",
              "\n",
              "/* Span, style for the box shown on hovering the info icon */\n",
              ".sk-estimator-doc-link span {\n",
              "  display: none;\n",
              "  z-index: 9999;\n",
              "  position: relative;\n",
              "  font-weight: normal;\n",
              "  right: .2ex;\n",
              "  padding: .5ex;\n",
              "  margin: .5ex;\n",
              "  width: min-content;\n",
              "  min-width: 20ex;\n",
              "  max-width: 50ex;\n",
              "  color: var(--sklearn-color-text);\n",
              "  box-shadow: 2pt 2pt 4pt #999;\n",
              "  /* unfitted */\n",
              "  background: var(--sklearn-color-unfitted-level-0);\n",
              "  border: .5pt solid var(--sklearn-color-unfitted-level-3);\n",
              "}\n",
              "\n",
              ".sk-estimator-doc-link.fitted span {\n",
              "  /* fitted */\n",
              "  background: var(--sklearn-color-fitted-level-0);\n",
              "  border: var(--sklearn-color-fitted-level-3);\n",
              "}\n",
              "\n",
              ".sk-estimator-doc-link:hover span {\n",
              "  display: block;\n",
              "}\n",
              "\n",
              "/* \"?\"-specific style due to the `<a>` HTML tag */\n",
              "\n",
              "#sk-container-id-3 a.estimator_doc_link {\n",
              "  float: right;\n",
              "  font-size: 1rem;\n",
              "  line-height: 1em;\n",
              "  font-family: monospace;\n",
              "  background-color: var(--sklearn-color-background);\n",
              "  border-radius: 1rem;\n",
              "  height: 1rem;\n",
              "  width: 1rem;\n",
              "  text-decoration: none;\n",
              "  /* unfitted */\n",
              "  color: var(--sklearn-color-unfitted-level-1);\n",
              "  border: var(--sklearn-color-unfitted-level-1) 1pt solid;\n",
              "}\n",
              "\n",
              "#sk-container-id-3 a.estimator_doc_link.fitted {\n",
              "  /* fitted */\n",
              "  border: var(--sklearn-color-fitted-level-1) 1pt solid;\n",
              "  color: var(--sklearn-color-fitted-level-1);\n",
              "}\n",
              "\n",
              "/* On hover */\n",
              "#sk-container-id-3 a.estimator_doc_link:hover {\n",
              "  /* unfitted */\n",
              "  background-color: var(--sklearn-color-unfitted-level-3);\n",
              "  color: var(--sklearn-color-background);\n",
              "  text-decoration: none;\n",
              "}\n",
              "\n",
              "#sk-container-id-3 a.estimator_doc_link.fitted:hover {\n",
              "  /* fitted */\n",
              "  background-color: var(--sklearn-color-fitted-level-3);\n",
              "}\n",
              "</style><div id=\"sk-container-id-3\" class=\"sk-top-container\"><div class=\"sk-text-repr-fallback\"><pre>Pipeline(steps=[(&#x27;columntransformer&#x27;,\n",
              "                 ColumnTransformer(transformers=[(&#x27;simpleimputer&#x27;,\n",
              "                                                  SimpleImputer(add_indicator=True),\n",
              "                                                  &lt;sklearn.compose._column_transformer.make_column_selector object at 0x0000020973C67DD0&gt;),\n",
              "                                                 (&#x27;ordinalencoder&#x27;,\n",
              "                                                  OrdinalEncoder(encoded_missing_value=-2,\n",
              "                                                                 handle_unknown=&#x27;use_encoded_value&#x27;,\n",
              "                                                                 unknown_value=-1),\n",
              "                                                  &lt;sklearn.compose._column_transformer.make_column_selector object at 0x0000020973C67D10&gt;)])),\n",
              "                (&#x27;lassocv&#x27;, LassoCV())])</pre><b>In a Jupyter environment, please rerun this cell to show the HTML representation or trust the notebook. <br />On GitHub, the HTML representation is unable to render, please try loading this page with nbviewer.org.</b></div><div class=\"sk-container\" hidden><div class=\"sk-item sk-dashed-wrapped\"><div class=\"sk-label-container\"><div class=\"sk-label  sk-toggleable\"><input class=\"sk-toggleable__control sk-hidden--visually\" id=\"sk-estimator-id-13\" type=\"checkbox\" ><label for=\"sk-estimator-id-13\" class=\"sk-toggleable__label  sk-toggleable__label-arrow\"><div><div>Pipeline</div></div><div><a class=\"sk-estimator-doc-link \" rel=\"noreferrer\" target=\"_blank\" href=\"https://scikit-learn.org/1.6/modules/generated/sklearn.pipeline.Pipeline.html\">?<span>Documentation for Pipeline</span></a><span class=\"sk-estimator-doc-link \">i<span>Not fitted</span></span></div></label><div class=\"sk-toggleable__content \"><pre>Pipeline(steps=[(&#x27;columntransformer&#x27;,\n",
              "                 ColumnTransformer(transformers=[(&#x27;simpleimputer&#x27;,\n",
              "                                                  SimpleImputer(add_indicator=True),\n",
              "                                                  &lt;sklearn.compose._column_transformer.make_column_selector object at 0x0000020973C67DD0&gt;),\n",
              "                                                 (&#x27;ordinalencoder&#x27;,\n",
              "                                                  OrdinalEncoder(encoded_missing_value=-2,\n",
              "                                                                 handle_unknown=&#x27;use_encoded_value&#x27;,\n",
              "                                                                 unknown_value=-1),\n",
              "                                                  &lt;sklearn.compose._column_transformer.make_column_selector object at 0x0000020973C67D10&gt;)])),\n",
              "                (&#x27;lassocv&#x27;, LassoCV())])</pre></div> </div></div><div class=\"sk-serial\"><div class=\"sk-item sk-dashed-wrapped\"><div class=\"sk-label-container\"><div class=\"sk-label  sk-toggleable\"><input class=\"sk-toggleable__control sk-hidden--visually\" id=\"sk-estimator-id-14\" type=\"checkbox\" ><label for=\"sk-estimator-id-14\" class=\"sk-toggleable__label  sk-toggleable__label-arrow\"><div><div>columntransformer: ColumnTransformer</div></div><div><a class=\"sk-estimator-doc-link \" rel=\"noreferrer\" target=\"_blank\" href=\"https://scikit-learn.org/1.6/modules/generated/sklearn.compose.ColumnTransformer.html\">?<span>Documentation for columntransformer: ColumnTransformer</span></a></div></label><div class=\"sk-toggleable__content \"><pre>ColumnTransformer(transformers=[(&#x27;simpleimputer&#x27;,\n",
              "                                 SimpleImputer(add_indicator=True),\n",
              "                                 &lt;sklearn.compose._column_transformer.make_column_selector object at 0x0000020973C67DD0&gt;),\n",
              "                                (&#x27;ordinalencoder&#x27;,\n",
              "                                 OrdinalEncoder(encoded_missing_value=-2,\n",
              "                                                handle_unknown=&#x27;use_encoded_value&#x27;,\n",
              "                                                unknown_value=-1),\n",
              "                                 &lt;sklearn.compose._column_transformer.make_column_selector object at 0x0000020973C67D10&gt;)])</pre></div> </div></div><div class=\"sk-parallel\"><div class=\"sk-parallel-item\"><div class=\"sk-item\"><div class=\"sk-label-container\"><div class=\"sk-label  sk-toggleable\"><input class=\"sk-toggleable__control sk-hidden--visually\" id=\"sk-estimator-id-15\" type=\"checkbox\" ><label for=\"sk-estimator-id-15\" class=\"sk-toggleable__label  sk-toggleable__label-arrow\"><div><div>simpleimputer</div></div></label><div class=\"sk-toggleable__content \"><pre>&lt;sklearn.compose._column_transformer.make_column_selector object at 0x0000020973C67DD0&gt;</pre></div> </div></div><div class=\"sk-serial\"><div class=\"sk-item\"><div class=\"sk-estimator  sk-toggleable\"><input class=\"sk-toggleable__control sk-hidden--visually\" id=\"sk-estimator-id-16\" type=\"checkbox\" ><label for=\"sk-estimator-id-16\" class=\"sk-toggleable__label  sk-toggleable__label-arrow\"><div><div>SimpleImputer</div></div><div><a class=\"sk-estimator-doc-link \" rel=\"noreferrer\" target=\"_blank\" href=\"https://scikit-learn.org/1.6/modules/generated/sklearn.impute.SimpleImputer.html\">?<span>Documentation for SimpleImputer</span></a></div></label><div class=\"sk-toggleable__content \"><pre>SimpleImputer(add_indicator=True)</pre></div> </div></div></div></div></div><div class=\"sk-parallel-item\"><div class=\"sk-item\"><div class=\"sk-label-container\"><div class=\"sk-label  sk-toggleable\"><input class=\"sk-toggleable__control sk-hidden--visually\" id=\"sk-estimator-id-17\" type=\"checkbox\" ><label for=\"sk-estimator-id-17\" class=\"sk-toggleable__label  sk-toggleable__label-arrow\"><div><div>ordinalencoder</div></div></label><div class=\"sk-toggleable__content \"><pre>&lt;sklearn.compose._column_transformer.make_column_selector object at 0x0000020973C67D10&gt;</pre></div> </div></div><div class=\"sk-serial\"><div class=\"sk-item\"><div class=\"sk-estimator  sk-toggleable\"><input class=\"sk-toggleable__control sk-hidden--visually\" id=\"sk-estimator-id-18\" type=\"checkbox\" ><label for=\"sk-estimator-id-18\" class=\"sk-toggleable__label  sk-toggleable__label-arrow\"><div><div>OrdinalEncoder</div></div><div><a class=\"sk-estimator-doc-link \" rel=\"noreferrer\" target=\"_blank\" href=\"https://scikit-learn.org/1.6/modules/generated/sklearn.preprocessing.OrdinalEncoder.html\">?<span>Documentation for OrdinalEncoder</span></a></div></label><div class=\"sk-toggleable__content \"><pre>OrdinalEncoder(encoded_missing_value=-2, handle_unknown=&#x27;use_encoded_value&#x27;,\n",
              "               unknown_value=-1)</pre></div> </div></div></div></div></div></div></div><div class=\"sk-item\"><div class=\"sk-estimator  sk-toggleable\"><input class=\"sk-toggleable__control sk-hidden--visually\" id=\"sk-estimator-id-19\" type=\"checkbox\" ><label for=\"sk-estimator-id-19\" class=\"sk-toggleable__label  sk-toggleable__label-arrow\"><div><div>LassoCV</div></div><div><a class=\"sk-estimator-doc-link \" rel=\"noreferrer\" target=\"_blank\" href=\"https://scikit-learn.org/1.6/modules/generated/sklearn.linear_model.LassoCV.html\">?<span>Documentation for LassoCV</span></a></div></label><div class=\"sk-toggleable__content \"><pre>LassoCV()</pre></div> </div></div></div></div></div></div>"
            ],
            "text/plain": [
              "Pipeline(steps=[('columntransformer',\n",
              "                 ColumnTransformer(transformers=[('simpleimputer',\n",
              "                                                  SimpleImputer(add_indicator=True),\n",
              "                                                  <sklearn.compose._column_transformer.make_column_selector object at 0x0000020973C67DD0>),\n",
              "                                                 ('ordinalencoder',\n",
              "                                                  OrdinalEncoder(encoded_missing_value=-2,\n",
              "                                                                 handle_unknown='use_encoded_value',\n",
              "                                                                 unknown_value=-1),\n",
              "                                                  <sklearn.compose._column_transformer.make_column_selector object at 0x0000020973C67D10>)])),\n",
              "                ('lassocv', LassoCV())])"
            ]
          },
          "execution_count": 33,
          "metadata": {},
          "output_type": "execute_result"
        }
      ],
      "source": [
        "from sklearn.linear_model import LassoCV\n",
        "\n",
        "lasso_pipeline = make_pipeline(tree_preprocessor, LassoCV())\n",
        "lasso_pipeline"
      ]
    },
    {
      "cell_type": "code",
      "execution_count": 34,
      "metadata": {
        "id": "m-a3KxFncI_1"
      },
      "outputs": [],
      "source": [
        "lasso_pipeline = lasso_pipeline.fit(X_train, y_train)"
      ]
    },
    {
      "cell_type": "code",
      "execution_count": 35,
      "metadata": {
        "colab": {
          "base_uri": "https://localhost:8080/"
        },
        "id": "GK7J-XfCb4BN",
        "outputId": "535d7bca-e291-41fc-86ed-9faab105abd5"
      },
      "outputs": [
        {
          "name": "stdout",
          "output_type": "stream",
          "text": [
            "Train score 34.753414326447576\n",
            "Test score 43.66396156268261\n"
          ]
        }
      ],
      "source": [
        "print(\"Train score\", lasso_pipeline.score(X_train, y_train) *100)\n",
        "print(\"Test score\", lasso_pipeline.score(X_test, y_test) * 100)"
      ]
    },
    {
      "cell_type": "markdown",
      "metadata": {
        "id": "QgznYiB9szkN"
      },
      "source": [
        "J'essaie de lui préparer les données différemment"
      ]
    },
    {
      "cell_type": "code",
      "execution_count": 36,
      "metadata": {
        "colab": {
          "base_uri": "https://localhost:8080/",
          "height": 175
        },
        "id": "1EqPBNI9syvi",
        "outputId": "00f2d681-2016-4f4b-b4ed-a2d65a10a2a6"
      },
      "outputs": [
        {
          "data": {
            "text/html": [
              "<style>#sk-container-id-4 {\n",
              "  /* Definition of color scheme common for light and dark mode */\n",
              "  --sklearn-color-text: #000;\n",
              "  --sklearn-color-text-muted: #666;\n",
              "  --sklearn-color-line: gray;\n",
              "  /* Definition of color scheme for unfitted estimators */\n",
              "  --sklearn-color-unfitted-level-0: #fff5e6;\n",
              "  --sklearn-color-unfitted-level-1: #f6e4d2;\n",
              "  --sklearn-color-unfitted-level-2: #ffe0b3;\n",
              "  --sklearn-color-unfitted-level-3: chocolate;\n",
              "  /* Definition of color scheme for fitted estimators */\n",
              "  --sklearn-color-fitted-level-0: #f0f8ff;\n",
              "  --sklearn-color-fitted-level-1: #d4ebff;\n",
              "  --sklearn-color-fitted-level-2: #b3dbfd;\n",
              "  --sklearn-color-fitted-level-3: cornflowerblue;\n",
              "\n",
              "  /* Specific color for light theme */\n",
              "  --sklearn-color-text-on-default-background: var(--sg-text-color, var(--theme-code-foreground, var(--jp-content-font-color1, black)));\n",
              "  --sklearn-color-background: var(--sg-background-color, var(--theme-background, var(--jp-layout-color0, white)));\n",
              "  --sklearn-color-border-box: var(--sg-text-color, var(--theme-code-foreground, var(--jp-content-font-color1, black)));\n",
              "  --sklearn-color-icon: #696969;\n",
              "\n",
              "  @media (prefers-color-scheme: dark) {\n",
              "    /* Redefinition of color scheme for dark theme */\n",
              "    --sklearn-color-text-on-default-background: var(--sg-text-color, var(--theme-code-foreground, var(--jp-content-font-color1, white)));\n",
              "    --sklearn-color-background: var(--sg-background-color, var(--theme-background, var(--jp-layout-color0, #111)));\n",
              "    --sklearn-color-border-box: var(--sg-text-color, var(--theme-code-foreground, var(--jp-content-font-color1, white)));\n",
              "    --sklearn-color-icon: #878787;\n",
              "  }\n",
              "}\n",
              "\n",
              "#sk-container-id-4 {\n",
              "  color: var(--sklearn-color-text);\n",
              "}\n",
              "\n",
              "#sk-container-id-4 pre {\n",
              "  padding: 0;\n",
              "}\n",
              "\n",
              "#sk-container-id-4 input.sk-hidden--visually {\n",
              "  border: 0;\n",
              "  clip: rect(1px 1px 1px 1px);\n",
              "  clip: rect(1px, 1px, 1px, 1px);\n",
              "  height: 1px;\n",
              "  margin: -1px;\n",
              "  overflow: hidden;\n",
              "  padding: 0;\n",
              "  position: absolute;\n",
              "  width: 1px;\n",
              "}\n",
              "\n",
              "#sk-container-id-4 div.sk-dashed-wrapped {\n",
              "  border: 1px dashed var(--sklearn-color-line);\n",
              "  margin: 0 0.4em 0.5em 0.4em;\n",
              "  box-sizing: border-box;\n",
              "  padding-bottom: 0.4em;\n",
              "  background-color: var(--sklearn-color-background);\n",
              "}\n",
              "\n",
              "#sk-container-id-4 div.sk-container {\n",
              "  /* jupyter's `normalize.less` sets `[hidden] { display: none; }`\n",
              "     but bootstrap.min.css set `[hidden] { display: none !important; }`\n",
              "     so we also need the `!important` here to be able to override the\n",
              "     default hidden behavior on the sphinx rendered scikit-learn.org.\n",
              "     See: https://github.com/scikit-learn/scikit-learn/issues/21755 */\n",
              "  display: inline-block !important;\n",
              "  position: relative;\n",
              "}\n",
              "\n",
              "#sk-container-id-4 div.sk-text-repr-fallback {\n",
              "  display: none;\n",
              "}\n",
              "\n",
              "div.sk-parallel-item,\n",
              "div.sk-serial,\n",
              "div.sk-item {\n",
              "  /* draw centered vertical line to link estimators */\n",
              "  background-image: linear-gradient(var(--sklearn-color-text-on-default-background), var(--sklearn-color-text-on-default-background));\n",
              "  background-size: 2px 100%;\n",
              "  background-repeat: no-repeat;\n",
              "  background-position: center center;\n",
              "}\n",
              "\n",
              "/* Parallel-specific style estimator block */\n",
              "\n",
              "#sk-container-id-4 div.sk-parallel-item::after {\n",
              "  content: \"\";\n",
              "  width: 100%;\n",
              "  border-bottom: 2px solid var(--sklearn-color-text-on-default-background);\n",
              "  flex-grow: 1;\n",
              "}\n",
              "\n",
              "#sk-container-id-4 div.sk-parallel {\n",
              "  display: flex;\n",
              "  align-items: stretch;\n",
              "  justify-content: center;\n",
              "  background-color: var(--sklearn-color-background);\n",
              "  position: relative;\n",
              "}\n",
              "\n",
              "#sk-container-id-4 div.sk-parallel-item {\n",
              "  display: flex;\n",
              "  flex-direction: column;\n",
              "}\n",
              "\n",
              "#sk-container-id-4 div.sk-parallel-item:first-child::after {\n",
              "  align-self: flex-end;\n",
              "  width: 50%;\n",
              "}\n",
              "\n",
              "#sk-container-id-4 div.sk-parallel-item:last-child::after {\n",
              "  align-self: flex-start;\n",
              "  width: 50%;\n",
              "}\n",
              "\n",
              "#sk-container-id-4 div.sk-parallel-item:only-child::after {\n",
              "  width: 0;\n",
              "}\n",
              "\n",
              "/* Serial-specific style estimator block */\n",
              "\n",
              "#sk-container-id-4 div.sk-serial {\n",
              "  display: flex;\n",
              "  flex-direction: column;\n",
              "  align-items: center;\n",
              "  background-color: var(--sklearn-color-background);\n",
              "  padding-right: 1em;\n",
              "  padding-left: 1em;\n",
              "}\n",
              "\n",
              "\n",
              "/* Toggleable style: style used for estimator/Pipeline/ColumnTransformer box that is\n",
              "clickable and can be expanded/collapsed.\n",
              "- Pipeline and ColumnTransformer use this feature and define the default style\n",
              "- Estimators will overwrite some part of the style using the `sk-estimator` class\n",
              "*/\n",
              "\n",
              "/* Pipeline and ColumnTransformer style (default) */\n",
              "\n",
              "#sk-container-id-4 div.sk-toggleable {\n",
              "  /* Default theme specific background. It is overwritten whether we have a\n",
              "  specific estimator or a Pipeline/ColumnTransformer */\n",
              "  background-color: var(--sklearn-color-background);\n",
              "}\n",
              "\n",
              "/* Toggleable label */\n",
              "#sk-container-id-4 label.sk-toggleable__label {\n",
              "  cursor: pointer;\n",
              "  display: flex;\n",
              "  width: 100%;\n",
              "  margin-bottom: 0;\n",
              "  padding: 0.5em;\n",
              "  box-sizing: border-box;\n",
              "  text-align: center;\n",
              "  align-items: start;\n",
              "  justify-content: space-between;\n",
              "  gap: 0.5em;\n",
              "}\n",
              "\n",
              "#sk-container-id-4 label.sk-toggleable__label .caption {\n",
              "  font-size: 0.6rem;\n",
              "  font-weight: lighter;\n",
              "  color: var(--sklearn-color-text-muted);\n",
              "}\n",
              "\n",
              "#sk-container-id-4 label.sk-toggleable__label-arrow:before {\n",
              "  /* Arrow on the left of the label */\n",
              "  content: \"▸\";\n",
              "  float: left;\n",
              "  margin-right: 0.25em;\n",
              "  color: var(--sklearn-color-icon);\n",
              "}\n",
              "\n",
              "#sk-container-id-4 label.sk-toggleable__label-arrow:hover:before {\n",
              "  color: var(--sklearn-color-text);\n",
              "}\n",
              "\n",
              "/* Toggleable content - dropdown */\n",
              "\n",
              "#sk-container-id-4 div.sk-toggleable__content {\n",
              "  max-height: 0;\n",
              "  max-width: 0;\n",
              "  overflow: hidden;\n",
              "  text-align: left;\n",
              "  /* unfitted */\n",
              "  background-color: var(--sklearn-color-unfitted-level-0);\n",
              "}\n",
              "\n",
              "#sk-container-id-4 div.sk-toggleable__content.fitted {\n",
              "  /* fitted */\n",
              "  background-color: var(--sklearn-color-fitted-level-0);\n",
              "}\n",
              "\n",
              "#sk-container-id-4 div.sk-toggleable__content pre {\n",
              "  margin: 0.2em;\n",
              "  border-radius: 0.25em;\n",
              "  color: var(--sklearn-color-text);\n",
              "  /* unfitted */\n",
              "  background-color: var(--sklearn-color-unfitted-level-0);\n",
              "}\n",
              "\n",
              "#sk-container-id-4 div.sk-toggleable__content.fitted pre {\n",
              "  /* unfitted */\n",
              "  background-color: var(--sklearn-color-fitted-level-0);\n",
              "}\n",
              "\n",
              "#sk-container-id-4 input.sk-toggleable__control:checked~div.sk-toggleable__content {\n",
              "  /* Expand drop-down */\n",
              "  max-height: 200px;\n",
              "  max-width: 100%;\n",
              "  overflow: auto;\n",
              "}\n",
              "\n",
              "#sk-container-id-4 input.sk-toggleable__control:checked~label.sk-toggleable__label-arrow:before {\n",
              "  content: \"▾\";\n",
              "}\n",
              "\n",
              "/* Pipeline/ColumnTransformer-specific style */\n",
              "\n",
              "#sk-container-id-4 div.sk-label input.sk-toggleable__control:checked~label.sk-toggleable__label {\n",
              "  color: var(--sklearn-color-text);\n",
              "  background-color: var(--sklearn-color-unfitted-level-2);\n",
              "}\n",
              "\n",
              "#sk-container-id-4 div.sk-label.fitted input.sk-toggleable__control:checked~label.sk-toggleable__label {\n",
              "  background-color: var(--sklearn-color-fitted-level-2);\n",
              "}\n",
              "\n",
              "/* Estimator-specific style */\n",
              "\n",
              "/* Colorize estimator box */\n",
              "#sk-container-id-4 div.sk-estimator input.sk-toggleable__control:checked~label.sk-toggleable__label {\n",
              "  /* unfitted */\n",
              "  background-color: var(--sklearn-color-unfitted-level-2);\n",
              "}\n",
              "\n",
              "#sk-container-id-4 div.sk-estimator.fitted input.sk-toggleable__control:checked~label.sk-toggleable__label {\n",
              "  /* fitted */\n",
              "  background-color: var(--sklearn-color-fitted-level-2);\n",
              "}\n",
              "\n",
              "#sk-container-id-4 div.sk-label label.sk-toggleable__label,\n",
              "#sk-container-id-4 div.sk-label label {\n",
              "  /* The background is the default theme color */\n",
              "  color: var(--sklearn-color-text-on-default-background);\n",
              "}\n",
              "\n",
              "/* On hover, darken the color of the background */\n",
              "#sk-container-id-4 div.sk-label:hover label.sk-toggleable__label {\n",
              "  color: var(--sklearn-color-text);\n",
              "  background-color: var(--sklearn-color-unfitted-level-2);\n",
              "}\n",
              "\n",
              "/* Label box, darken color on hover, fitted */\n",
              "#sk-container-id-4 div.sk-label.fitted:hover label.sk-toggleable__label.fitted {\n",
              "  color: var(--sklearn-color-text);\n",
              "  background-color: var(--sklearn-color-fitted-level-2);\n",
              "}\n",
              "\n",
              "/* Estimator label */\n",
              "\n",
              "#sk-container-id-4 div.sk-label label {\n",
              "  font-family: monospace;\n",
              "  font-weight: bold;\n",
              "  display: inline-block;\n",
              "  line-height: 1.2em;\n",
              "}\n",
              "\n",
              "#sk-container-id-4 div.sk-label-container {\n",
              "  text-align: center;\n",
              "}\n",
              "\n",
              "/* Estimator-specific */\n",
              "#sk-container-id-4 div.sk-estimator {\n",
              "  font-family: monospace;\n",
              "  border: 1px dotted var(--sklearn-color-border-box);\n",
              "  border-radius: 0.25em;\n",
              "  box-sizing: border-box;\n",
              "  margin-bottom: 0.5em;\n",
              "  /* unfitted */\n",
              "  background-color: var(--sklearn-color-unfitted-level-0);\n",
              "}\n",
              "\n",
              "#sk-container-id-4 div.sk-estimator.fitted {\n",
              "  /* fitted */\n",
              "  background-color: var(--sklearn-color-fitted-level-0);\n",
              "}\n",
              "\n",
              "/* on hover */\n",
              "#sk-container-id-4 div.sk-estimator:hover {\n",
              "  /* unfitted */\n",
              "  background-color: var(--sklearn-color-unfitted-level-2);\n",
              "}\n",
              "\n",
              "#sk-container-id-4 div.sk-estimator.fitted:hover {\n",
              "  /* fitted */\n",
              "  background-color: var(--sklearn-color-fitted-level-2);\n",
              "}\n",
              "\n",
              "/* Specification for estimator info (e.g. \"i\" and \"?\") */\n",
              "\n",
              "/* Common style for \"i\" and \"?\" */\n",
              "\n",
              ".sk-estimator-doc-link,\n",
              "a:link.sk-estimator-doc-link,\n",
              "a:visited.sk-estimator-doc-link {\n",
              "  float: right;\n",
              "  font-size: smaller;\n",
              "  line-height: 1em;\n",
              "  font-family: monospace;\n",
              "  background-color: var(--sklearn-color-background);\n",
              "  border-radius: 1em;\n",
              "  height: 1em;\n",
              "  width: 1em;\n",
              "  text-decoration: none !important;\n",
              "  margin-left: 0.5em;\n",
              "  text-align: center;\n",
              "  /* unfitted */\n",
              "  border: var(--sklearn-color-unfitted-level-1) 1pt solid;\n",
              "  color: var(--sklearn-color-unfitted-level-1);\n",
              "}\n",
              "\n",
              ".sk-estimator-doc-link.fitted,\n",
              "a:link.sk-estimator-doc-link.fitted,\n",
              "a:visited.sk-estimator-doc-link.fitted {\n",
              "  /* fitted */\n",
              "  border: var(--sklearn-color-fitted-level-1) 1pt solid;\n",
              "  color: var(--sklearn-color-fitted-level-1);\n",
              "}\n",
              "\n",
              "/* On hover */\n",
              "div.sk-estimator:hover .sk-estimator-doc-link:hover,\n",
              ".sk-estimator-doc-link:hover,\n",
              "div.sk-label-container:hover .sk-estimator-doc-link:hover,\n",
              ".sk-estimator-doc-link:hover {\n",
              "  /* unfitted */\n",
              "  background-color: var(--sklearn-color-unfitted-level-3);\n",
              "  color: var(--sklearn-color-background);\n",
              "  text-decoration: none;\n",
              "}\n",
              "\n",
              "div.sk-estimator.fitted:hover .sk-estimator-doc-link.fitted:hover,\n",
              ".sk-estimator-doc-link.fitted:hover,\n",
              "div.sk-label-container:hover .sk-estimator-doc-link.fitted:hover,\n",
              ".sk-estimator-doc-link.fitted:hover {\n",
              "  /* fitted */\n",
              "  background-color: var(--sklearn-color-fitted-level-3);\n",
              "  color: var(--sklearn-color-background);\n",
              "  text-decoration: none;\n",
              "}\n",
              "\n",
              "/* Span, style for the box shown on hovering the info icon */\n",
              ".sk-estimator-doc-link span {\n",
              "  display: none;\n",
              "  z-index: 9999;\n",
              "  position: relative;\n",
              "  font-weight: normal;\n",
              "  right: .2ex;\n",
              "  padding: .5ex;\n",
              "  margin: .5ex;\n",
              "  width: min-content;\n",
              "  min-width: 20ex;\n",
              "  max-width: 50ex;\n",
              "  color: var(--sklearn-color-text);\n",
              "  box-shadow: 2pt 2pt 4pt #999;\n",
              "  /* unfitted */\n",
              "  background: var(--sklearn-color-unfitted-level-0);\n",
              "  border: .5pt solid var(--sklearn-color-unfitted-level-3);\n",
              "}\n",
              "\n",
              ".sk-estimator-doc-link.fitted span {\n",
              "  /* fitted */\n",
              "  background: var(--sklearn-color-fitted-level-0);\n",
              "  border: var(--sklearn-color-fitted-level-3);\n",
              "}\n",
              "\n",
              ".sk-estimator-doc-link:hover span {\n",
              "  display: block;\n",
              "}\n",
              "\n",
              "/* \"?\"-specific style due to the `<a>` HTML tag */\n",
              "\n",
              "#sk-container-id-4 a.estimator_doc_link {\n",
              "  float: right;\n",
              "  font-size: 1rem;\n",
              "  line-height: 1em;\n",
              "  font-family: monospace;\n",
              "  background-color: var(--sklearn-color-background);\n",
              "  border-radius: 1rem;\n",
              "  height: 1rem;\n",
              "  width: 1rem;\n",
              "  text-decoration: none;\n",
              "  /* unfitted */\n",
              "  color: var(--sklearn-color-unfitted-level-1);\n",
              "  border: var(--sklearn-color-unfitted-level-1) 1pt solid;\n",
              "}\n",
              "\n",
              "#sk-container-id-4 a.estimator_doc_link.fitted {\n",
              "  /* fitted */\n",
              "  border: var(--sklearn-color-fitted-level-1) 1pt solid;\n",
              "  color: var(--sklearn-color-fitted-level-1);\n",
              "}\n",
              "\n",
              "/* On hover */\n",
              "#sk-container-id-4 a.estimator_doc_link:hover {\n",
              "  /* unfitted */\n",
              "  background-color: var(--sklearn-color-unfitted-level-3);\n",
              "  color: var(--sklearn-color-background);\n",
              "  text-decoration: none;\n",
              "}\n",
              "\n",
              "#sk-container-id-4 a.estimator_doc_link.fitted:hover {\n",
              "  /* fitted */\n",
              "  background-color: var(--sklearn-color-fitted-level-3);\n",
              "}\n",
              "</style><div id=\"sk-container-id-4\" class=\"sk-top-container\"><div class=\"sk-text-repr-fallback\"><pre>ColumnTransformer(transformers=[(&#x27;pipeline&#x27;,\n",
              "                                 Pipeline(steps=[(&#x27;standardscaler&#x27;,\n",
              "                                                  StandardScaler()),\n",
              "                                                 (&#x27;simpleimputer&#x27;,\n",
              "                                                  SimpleImputer(add_indicator=True))]),\n",
              "                                 &lt;sklearn.compose._column_transformer.make_column_selector object at 0x0000020973C67DD0&gt;),\n",
              "                                (&#x27;onehotencoder&#x27;,\n",
              "                                 OneHotEncoder(handle_unknown=&#x27;ignore&#x27;),\n",
              "                                 &lt;sklearn.compose._column_transformer.make_column_selector object at 0x0000020973C67D10&gt;)])</pre><b>In a Jupyter environment, please rerun this cell to show the HTML representation or trust the notebook. <br />On GitHub, the HTML representation is unable to render, please try loading this page with nbviewer.org.</b></div><div class=\"sk-container\" hidden><div class=\"sk-item sk-dashed-wrapped\"><div class=\"sk-label-container\"><div class=\"sk-label  sk-toggleable\"><input class=\"sk-toggleable__control sk-hidden--visually\" id=\"sk-estimator-id-20\" type=\"checkbox\" ><label for=\"sk-estimator-id-20\" class=\"sk-toggleable__label  sk-toggleable__label-arrow\"><div><div>ColumnTransformer</div></div><div><a class=\"sk-estimator-doc-link \" rel=\"noreferrer\" target=\"_blank\" href=\"https://scikit-learn.org/1.6/modules/generated/sklearn.compose.ColumnTransformer.html\">?<span>Documentation for ColumnTransformer</span></a><span class=\"sk-estimator-doc-link \">i<span>Not fitted</span></span></div></label><div class=\"sk-toggleable__content \"><pre>ColumnTransformer(transformers=[(&#x27;pipeline&#x27;,\n",
              "                                 Pipeline(steps=[(&#x27;standardscaler&#x27;,\n",
              "                                                  StandardScaler()),\n",
              "                                                 (&#x27;simpleimputer&#x27;,\n",
              "                                                  SimpleImputer(add_indicator=True))]),\n",
              "                                 &lt;sklearn.compose._column_transformer.make_column_selector object at 0x0000020973C67DD0&gt;),\n",
              "                                (&#x27;onehotencoder&#x27;,\n",
              "                                 OneHotEncoder(handle_unknown=&#x27;ignore&#x27;),\n",
              "                                 &lt;sklearn.compose._column_transformer.make_column_selector object at 0x0000020973C67D10&gt;)])</pre></div> </div></div><div class=\"sk-parallel\"><div class=\"sk-parallel-item\"><div class=\"sk-item\"><div class=\"sk-label-container\"><div class=\"sk-label  sk-toggleable\"><input class=\"sk-toggleable__control sk-hidden--visually\" id=\"sk-estimator-id-21\" type=\"checkbox\" ><label for=\"sk-estimator-id-21\" class=\"sk-toggleable__label  sk-toggleable__label-arrow\"><div><div>pipeline</div></div></label><div class=\"sk-toggleable__content \"><pre>&lt;sklearn.compose._column_transformer.make_column_selector object at 0x0000020973C67DD0&gt;</pre></div> </div></div><div class=\"sk-serial\"><div class=\"sk-item\"><div class=\"sk-serial\"><div class=\"sk-item\"><div class=\"sk-estimator  sk-toggleable\"><input class=\"sk-toggleable__control sk-hidden--visually\" id=\"sk-estimator-id-22\" type=\"checkbox\" ><label for=\"sk-estimator-id-22\" class=\"sk-toggleable__label  sk-toggleable__label-arrow\"><div><div>StandardScaler</div></div><div><a class=\"sk-estimator-doc-link \" rel=\"noreferrer\" target=\"_blank\" href=\"https://scikit-learn.org/1.6/modules/generated/sklearn.preprocessing.StandardScaler.html\">?<span>Documentation for StandardScaler</span></a></div></label><div class=\"sk-toggleable__content \"><pre>StandardScaler()</pre></div> </div></div><div class=\"sk-item\"><div class=\"sk-estimator  sk-toggleable\"><input class=\"sk-toggleable__control sk-hidden--visually\" id=\"sk-estimator-id-23\" type=\"checkbox\" ><label for=\"sk-estimator-id-23\" class=\"sk-toggleable__label  sk-toggleable__label-arrow\"><div><div>SimpleImputer</div></div><div><a class=\"sk-estimator-doc-link \" rel=\"noreferrer\" target=\"_blank\" href=\"https://scikit-learn.org/1.6/modules/generated/sklearn.impute.SimpleImputer.html\">?<span>Documentation for SimpleImputer</span></a></div></label><div class=\"sk-toggleable__content \"><pre>SimpleImputer(add_indicator=True)</pre></div> </div></div></div></div></div></div></div><div class=\"sk-parallel-item\"><div class=\"sk-item\"><div class=\"sk-label-container\"><div class=\"sk-label  sk-toggleable\"><input class=\"sk-toggleable__control sk-hidden--visually\" id=\"sk-estimator-id-24\" type=\"checkbox\" ><label for=\"sk-estimator-id-24\" class=\"sk-toggleable__label  sk-toggleable__label-arrow\"><div><div>onehotencoder</div></div></label><div class=\"sk-toggleable__content \"><pre>&lt;sklearn.compose._column_transformer.make_column_selector object at 0x0000020973C67D10&gt;</pre></div> </div></div><div class=\"sk-serial\"><div class=\"sk-item\"><div class=\"sk-estimator  sk-toggleable\"><input class=\"sk-toggleable__control sk-hidden--visually\" id=\"sk-estimator-id-25\" type=\"checkbox\" ><label for=\"sk-estimator-id-25\" class=\"sk-toggleable__label  sk-toggleable__label-arrow\"><div><div>OneHotEncoder</div></div><div><a class=\"sk-estimator-doc-link \" rel=\"noreferrer\" target=\"_blank\" href=\"https://scikit-learn.org/1.6/modules/generated/sklearn.preprocessing.OneHotEncoder.html\">?<span>Documentation for OneHotEncoder</span></a></div></label><div class=\"sk-toggleable__content \"><pre>OneHotEncoder(handle_unknown=&#x27;ignore&#x27;)</pre></div> </div></div></div></div></div></div></div></div></div>"
            ],
            "text/plain": [
              "ColumnTransformer(transformers=[('pipeline',\n",
              "                                 Pipeline(steps=[('standardscaler',\n",
              "                                                  StandardScaler()),\n",
              "                                                 ('simpleimputer',\n",
              "                                                  SimpleImputer(add_indicator=True))]),\n",
              "                                 <sklearn.compose._column_transformer.make_column_selector object at 0x0000020973C67DD0>),\n",
              "                                ('onehotencoder',\n",
              "                                 OneHotEncoder(handle_unknown='ignore'),\n",
              "                                 <sklearn.compose._column_transformer.make_column_selector object at 0x0000020973C67D10>)])"
            ]
          },
          "execution_count": 36,
          "metadata": {},
          "output_type": "execute_result"
        }
      ],
      "source": [
        "from sklearn.preprocessing import OneHotEncoder, StandardScaler\n",
        "\n",
        "cat_linear_processor = OneHotEncoder(handle_unknown=\"ignore\")\n",
        "num_linear_processor = make_pipeline(\n",
        "    StandardScaler(), SimpleImputer(strategy=\"mean\", add_indicator=True)\n",
        ")\n",
        "\n",
        "linear_preprocessor = make_column_transformer(\n",
        "    (num_linear_processor, num_selector), (cat_linear_processor, cat_selector)\n",
        ")\n",
        "linear_preprocessor"
      ]
    },
    {
      "cell_type": "code",
      "execution_count": 37,
      "metadata": {
        "colab": {
          "base_uri": "https://localhost:8080/",
          "height": 261
        },
        "id": "prtdqBhBs4Lk",
        "outputId": "9c2dd490-0148-4345-e245-06688171b83f"
      },
      "outputs": [
        {
          "data": {
            "text/html": [
              "<style>#sk-container-id-5 {\n",
              "  /* Definition of color scheme common for light and dark mode */\n",
              "  --sklearn-color-text: #000;\n",
              "  --sklearn-color-text-muted: #666;\n",
              "  --sklearn-color-line: gray;\n",
              "  /* Definition of color scheme for unfitted estimators */\n",
              "  --sklearn-color-unfitted-level-0: #fff5e6;\n",
              "  --sklearn-color-unfitted-level-1: #f6e4d2;\n",
              "  --sklearn-color-unfitted-level-2: #ffe0b3;\n",
              "  --sklearn-color-unfitted-level-3: chocolate;\n",
              "  /* Definition of color scheme for fitted estimators */\n",
              "  --sklearn-color-fitted-level-0: #f0f8ff;\n",
              "  --sklearn-color-fitted-level-1: #d4ebff;\n",
              "  --sklearn-color-fitted-level-2: #b3dbfd;\n",
              "  --sklearn-color-fitted-level-3: cornflowerblue;\n",
              "\n",
              "  /* Specific color for light theme */\n",
              "  --sklearn-color-text-on-default-background: var(--sg-text-color, var(--theme-code-foreground, var(--jp-content-font-color1, black)));\n",
              "  --sklearn-color-background: var(--sg-background-color, var(--theme-background, var(--jp-layout-color0, white)));\n",
              "  --sklearn-color-border-box: var(--sg-text-color, var(--theme-code-foreground, var(--jp-content-font-color1, black)));\n",
              "  --sklearn-color-icon: #696969;\n",
              "\n",
              "  @media (prefers-color-scheme: dark) {\n",
              "    /* Redefinition of color scheme for dark theme */\n",
              "    --sklearn-color-text-on-default-background: var(--sg-text-color, var(--theme-code-foreground, var(--jp-content-font-color1, white)));\n",
              "    --sklearn-color-background: var(--sg-background-color, var(--theme-background, var(--jp-layout-color0, #111)));\n",
              "    --sklearn-color-border-box: var(--sg-text-color, var(--theme-code-foreground, var(--jp-content-font-color1, white)));\n",
              "    --sklearn-color-icon: #878787;\n",
              "  }\n",
              "}\n",
              "\n",
              "#sk-container-id-5 {\n",
              "  color: var(--sklearn-color-text);\n",
              "}\n",
              "\n",
              "#sk-container-id-5 pre {\n",
              "  padding: 0;\n",
              "}\n",
              "\n",
              "#sk-container-id-5 input.sk-hidden--visually {\n",
              "  border: 0;\n",
              "  clip: rect(1px 1px 1px 1px);\n",
              "  clip: rect(1px, 1px, 1px, 1px);\n",
              "  height: 1px;\n",
              "  margin: -1px;\n",
              "  overflow: hidden;\n",
              "  padding: 0;\n",
              "  position: absolute;\n",
              "  width: 1px;\n",
              "}\n",
              "\n",
              "#sk-container-id-5 div.sk-dashed-wrapped {\n",
              "  border: 1px dashed var(--sklearn-color-line);\n",
              "  margin: 0 0.4em 0.5em 0.4em;\n",
              "  box-sizing: border-box;\n",
              "  padding-bottom: 0.4em;\n",
              "  background-color: var(--sklearn-color-background);\n",
              "}\n",
              "\n",
              "#sk-container-id-5 div.sk-container {\n",
              "  /* jupyter's `normalize.less` sets `[hidden] { display: none; }`\n",
              "     but bootstrap.min.css set `[hidden] { display: none !important; }`\n",
              "     so we also need the `!important` here to be able to override the\n",
              "     default hidden behavior on the sphinx rendered scikit-learn.org.\n",
              "     See: https://github.com/scikit-learn/scikit-learn/issues/21755 */\n",
              "  display: inline-block !important;\n",
              "  position: relative;\n",
              "}\n",
              "\n",
              "#sk-container-id-5 div.sk-text-repr-fallback {\n",
              "  display: none;\n",
              "}\n",
              "\n",
              "div.sk-parallel-item,\n",
              "div.sk-serial,\n",
              "div.sk-item {\n",
              "  /* draw centered vertical line to link estimators */\n",
              "  background-image: linear-gradient(var(--sklearn-color-text-on-default-background), var(--sklearn-color-text-on-default-background));\n",
              "  background-size: 2px 100%;\n",
              "  background-repeat: no-repeat;\n",
              "  background-position: center center;\n",
              "}\n",
              "\n",
              "/* Parallel-specific style estimator block */\n",
              "\n",
              "#sk-container-id-5 div.sk-parallel-item::after {\n",
              "  content: \"\";\n",
              "  width: 100%;\n",
              "  border-bottom: 2px solid var(--sklearn-color-text-on-default-background);\n",
              "  flex-grow: 1;\n",
              "}\n",
              "\n",
              "#sk-container-id-5 div.sk-parallel {\n",
              "  display: flex;\n",
              "  align-items: stretch;\n",
              "  justify-content: center;\n",
              "  background-color: var(--sklearn-color-background);\n",
              "  position: relative;\n",
              "}\n",
              "\n",
              "#sk-container-id-5 div.sk-parallel-item {\n",
              "  display: flex;\n",
              "  flex-direction: column;\n",
              "}\n",
              "\n",
              "#sk-container-id-5 div.sk-parallel-item:first-child::after {\n",
              "  align-self: flex-end;\n",
              "  width: 50%;\n",
              "}\n",
              "\n",
              "#sk-container-id-5 div.sk-parallel-item:last-child::after {\n",
              "  align-self: flex-start;\n",
              "  width: 50%;\n",
              "}\n",
              "\n",
              "#sk-container-id-5 div.sk-parallel-item:only-child::after {\n",
              "  width: 0;\n",
              "}\n",
              "\n",
              "/* Serial-specific style estimator block */\n",
              "\n",
              "#sk-container-id-5 div.sk-serial {\n",
              "  display: flex;\n",
              "  flex-direction: column;\n",
              "  align-items: center;\n",
              "  background-color: var(--sklearn-color-background);\n",
              "  padding-right: 1em;\n",
              "  padding-left: 1em;\n",
              "}\n",
              "\n",
              "\n",
              "/* Toggleable style: style used for estimator/Pipeline/ColumnTransformer box that is\n",
              "clickable and can be expanded/collapsed.\n",
              "- Pipeline and ColumnTransformer use this feature and define the default style\n",
              "- Estimators will overwrite some part of the style using the `sk-estimator` class\n",
              "*/\n",
              "\n",
              "/* Pipeline and ColumnTransformer style (default) */\n",
              "\n",
              "#sk-container-id-5 div.sk-toggleable {\n",
              "  /* Default theme specific background. It is overwritten whether we have a\n",
              "  specific estimator or a Pipeline/ColumnTransformer */\n",
              "  background-color: var(--sklearn-color-background);\n",
              "}\n",
              "\n",
              "/* Toggleable label */\n",
              "#sk-container-id-5 label.sk-toggleable__label {\n",
              "  cursor: pointer;\n",
              "  display: flex;\n",
              "  width: 100%;\n",
              "  margin-bottom: 0;\n",
              "  padding: 0.5em;\n",
              "  box-sizing: border-box;\n",
              "  text-align: center;\n",
              "  align-items: start;\n",
              "  justify-content: space-between;\n",
              "  gap: 0.5em;\n",
              "}\n",
              "\n",
              "#sk-container-id-5 label.sk-toggleable__label .caption {\n",
              "  font-size: 0.6rem;\n",
              "  font-weight: lighter;\n",
              "  color: var(--sklearn-color-text-muted);\n",
              "}\n",
              "\n",
              "#sk-container-id-5 label.sk-toggleable__label-arrow:before {\n",
              "  /* Arrow on the left of the label */\n",
              "  content: \"▸\";\n",
              "  float: left;\n",
              "  margin-right: 0.25em;\n",
              "  color: var(--sklearn-color-icon);\n",
              "}\n",
              "\n",
              "#sk-container-id-5 label.sk-toggleable__label-arrow:hover:before {\n",
              "  color: var(--sklearn-color-text);\n",
              "}\n",
              "\n",
              "/* Toggleable content - dropdown */\n",
              "\n",
              "#sk-container-id-5 div.sk-toggleable__content {\n",
              "  max-height: 0;\n",
              "  max-width: 0;\n",
              "  overflow: hidden;\n",
              "  text-align: left;\n",
              "  /* unfitted */\n",
              "  background-color: var(--sklearn-color-unfitted-level-0);\n",
              "}\n",
              "\n",
              "#sk-container-id-5 div.sk-toggleable__content.fitted {\n",
              "  /* fitted */\n",
              "  background-color: var(--sklearn-color-fitted-level-0);\n",
              "}\n",
              "\n",
              "#sk-container-id-5 div.sk-toggleable__content pre {\n",
              "  margin: 0.2em;\n",
              "  border-radius: 0.25em;\n",
              "  color: var(--sklearn-color-text);\n",
              "  /* unfitted */\n",
              "  background-color: var(--sklearn-color-unfitted-level-0);\n",
              "}\n",
              "\n",
              "#sk-container-id-5 div.sk-toggleable__content.fitted pre {\n",
              "  /* unfitted */\n",
              "  background-color: var(--sklearn-color-fitted-level-0);\n",
              "}\n",
              "\n",
              "#sk-container-id-5 input.sk-toggleable__control:checked~div.sk-toggleable__content {\n",
              "  /* Expand drop-down */\n",
              "  max-height: 200px;\n",
              "  max-width: 100%;\n",
              "  overflow: auto;\n",
              "}\n",
              "\n",
              "#sk-container-id-5 input.sk-toggleable__control:checked~label.sk-toggleable__label-arrow:before {\n",
              "  content: \"▾\";\n",
              "}\n",
              "\n",
              "/* Pipeline/ColumnTransformer-specific style */\n",
              "\n",
              "#sk-container-id-5 div.sk-label input.sk-toggleable__control:checked~label.sk-toggleable__label {\n",
              "  color: var(--sklearn-color-text);\n",
              "  background-color: var(--sklearn-color-unfitted-level-2);\n",
              "}\n",
              "\n",
              "#sk-container-id-5 div.sk-label.fitted input.sk-toggleable__control:checked~label.sk-toggleable__label {\n",
              "  background-color: var(--sklearn-color-fitted-level-2);\n",
              "}\n",
              "\n",
              "/* Estimator-specific style */\n",
              "\n",
              "/* Colorize estimator box */\n",
              "#sk-container-id-5 div.sk-estimator input.sk-toggleable__control:checked~label.sk-toggleable__label {\n",
              "  /* unfitted */\n",
              "  background-color: var(--sklearn-color-unfitted-level-2);\n",
              "}\n",
              "\n",
              "#sk-container-id-5 div.sk-estimator.fitted input.sk-toggleable__control:checked~label.sk-toggleable__label {\n",
              "  /* fitted */\n",
              "  background-color: var(--sklearn-color-fitted-level-2);\n",
              "}\n",
              "\n",
              "#sk-container-id-5 div.sk-label label.sk-toggleable__label,\n",
              "#sk-container-id-5 div.sk-label label {\n",
              "  /* The background is the default theme color */\n",
              "  color: var(--sklearn-color-text-on-default-background);\n",
              "}\n",
              "\n",
              "/* On hover, darken the color of the background */\n",
              "#sk-container-id-5 div.sk-label:hover label.sk-toggleable__label {\n",
              "  color: var(--sklearn-color-text);\n",
              "  background-color: var(--sklearn-color-unfitted-level-2);\n",
              "}\n",
              "\n",
              "/* Label box, darken color on hover, fitted */\n",
              "#sk-container-id-5 div.sk-label.fitted:hover label.sk-toggleable__label.fitted {\n",
              "  color: var(--sklearn-color-text);\n",
              "  background-color: var(--sklearn-color-fitted-level-2);\n",
              "}\n",
              "\n",
              "/* Estimator label */\n",
              "\n",
              "#sk-container-id-5 div.sk-label label {\n",
              "  font-family: monospace;\n",
              "  font-weight: bold;\n",
              "  display: inline-block;\n",
              "  line-height: 1.2em;\n",
              "}\n",
              "\n",
              "#sk-container-id-5 div.sk-label-container {\n",
              "  text-align: center;\n",
              "}\n",
              "\n",
              "/* Estimator-specific */\n",
              "#sk-container-id-5 div.sk-estimator {\n",
              "  font-family: monospace;\n",
              "  border: 1px dotted var(--sklearn-color-border-box);\n",
              "  border-radius: 0.25em;\n",
              "  box-sizing: border-box;\n",
              "  margin-bottom: 0.5em;\n",
              "  /* unfitted */\n",
              "  background-color: var(--sklearn-color-unfitted-level-0);\n",
              "}\n",
              "\n",
              "#sk-container-id-5 div.sk-estimator.fitted {\n",
              "  /* fitted */\n",
              "  background-color: var(--sklearn-color-fitted-level-0);\n",
              "}\n",
              "\n",
              "/* on hover */\n",
              "#sk-container-id-5 div.sk-estimator:hover {\n",
              "  /* unfitted */\n",
              "  background-color: var(--sklearn-color-unfitted-level-2);\n",
              "}\n",
              "\n",
              "#sk-container-id-5 div.sk-estimator.fitted:hover {\n",
              "  /* fitted */\n",
              "  background-color: var(--sklearn-color-fitted-level-2);\n",
              "}\n",
              "\n",
              "/* Specification for estimator info (e.g. \"i\" and \"?\") */\n",
              "\n",
              "/* Common style for \"i\" and \"?\" */\n",
              "\n",
              ".sk-estimator-doc-link,\n",
              "a:link.sk-estimator-doc-link,\n",
              "a:visited.sk-estimator-doc-link {\n",
              "  float: right;\n",
              "  font-size: smaller;\n",
              "  line-height: 1em;\n",
              "  font-family: monospace;\n",
              "  background-color: var(--sklearn-color-background);\n",
              "  border-radius: 1em;\n",
              "  height: 1em;\n",
              "  width: 1em;\n",
              "  text-decoration: none !important;\n",
              "  margin-left: 0.5em;\n",
              "  text-align: center;\n",
              "  /* unfitted */\n",
              "  border: var(--sklearn-color-unfitted-level-1) 1pt solid;\n",
              "  color: var(--sklearn-color-unfitted-level-1);\n",
              "}\n",
              "\n",
              ".sk-estimator-doc-link.fitted,\n",
              "a:link.sk-estimator-doc-link.fitted,\n",
              "a:visited.sk-estimator-doc-link.fitted {\n",
              "  /* fitted */\n",
              "  border: var(--sklearn-color-fitted-level-1) 1pt solid;\n",
              "  color: var(--sklearn-color-fitted-level-1);\n",
              "}\n",
              "\n",
              "/* On hover */\n",
              "div.sk-estimator:hover .sk-estimator-doc-link:hover,\n",
              ".sk-estimator-doc-link:hover,\n",
              "div.sk-label-container:hover .sk-estimator-doc-link:hover,\n",
              ".sk-estimator-doc-link:hover {\n",
              "  /* unfitted */\n",
              "  background-color: var(--sklearn-color-unfitted-level-3);\n",
              "  color: var(--sklearn-color-background);\n",
              "  text-decoration: none;\n",
              "}\n",
              "\n",
              "div.sk-estimator.fitted:hover .sk-estimator-doc-link.fitted:hover,\n",
              ".sk-estimator-doc-link.fitted:hover,\n",
              "div.sk-label-container:hover .sk-estimator-doc-link.fitted:hover,\n",
              ".sk-estimator-doc-link.fitted:hover {\n",
              "  /* fitted */\n",
              "  background-color: var(--sklearn-color-fitted-level-3);\n",
              "  color: var(--sklearn-color-background);\n",
              "  text-decoration: none;\n",
              "}\n",
              "\n",
              "/* Span, style for the box shown on hovering the info icon */\n",
              ".sk-estimator-doc-link span {\n",
              "  display: none;\n",
              "  z-index: 9999;\n",
              "  position: relative;\n",
              "  font-weight: normal;\n",
              "  right: .2ex;\n",
              "  padding: .5ex;\n",
              "  margin: .5ex;\n",
              "  width: min-content;\n",
              "  min-width: 20ex;\n",
              "  max-width: 50ex;\n",
              "  color: var(--sklearn-color-text);\n",
              "  box-shadow: 2pt 2pt 4pt #999;\n",
              "  /* unfitted */\n",
              "  background: var(--sklearn-color-unfitted-level-0);\n",
              "  border: .5pt solid var(--sklearn-color-unfitted-level-3);\n",
              "}\n",
              "\n",
              ".sk-estimator-doc-link.fitted span {\n",
              "  /* fitted */\n",
              "  background: var(--sklearn-color-fitted-level-0);\n",
              "  border: var(--sklearn-color-fitted-level-3);\n",
              "}\n",
              "\n",
              ".sk-estimator-doc-link:hover span {\n",
              "  display: block;\n",
              "}\n",
              "\n",
              "/* \"?\"-specific style due to the `<a>` HTML tag */\n",
              "\n",
              "#sk-container-id-5 a.estimator_doc_link {\n",
              "  float: right;\n",
              "  font-size: 1rem;\n",
              "  line-height: 1em;\n",
              "  font-family: monospace;\n",
              "  background-color: var(--sklearn-color-background);\n",
              "  border-radius: 1rem;\n",
              "  height: 1rem;\n",
              "  width: 1rem;\n",
              "  text-decoration: none;\n",
              "  /* unfitted */\n",
              "  color: var(--sklearn-color-unfitted-level-1);\n",
              "  border: var(--sklearn-color-unfitted-level-1) 1pt solid;\n",
              "}\n",
              "\n",
              "#sk-container-id-5 a.estimator_doc_link.fitted {\n",
              "  /* fitted */\n",
              "  border: var(--sklearn-color-fitted-level-1) 1pt solid;\n",
              "  color: var(--sklearn-color-fitted-level-1);\n",
              "}\n",
              "\n",
              "/* On hover */\n",
              "#sk-container-id-5 a.estimator_doc_link:hover {\n",
              "  /* unfitted */\n",
              "  background-color: var(--sklearn-color-unfitted-level-3);\n",
              "  color: var(--sklearn-color-background);\n",
              "  text-decoration: none;\n",
              "}\n",
              "\n",
              "#sk-container-id-5 a.estimator_doc_link.fitted:hover {\n",
              "  /* fitted */\n",
              "  background-color: var(--sklearn-color-fitted-level-3);\n",
              "}\n",
              "</style><div id=\"sk-container-id-5\" class=\"sk-top-container\"><div class=\"sk-text-repr-fallback\"><pre>Pipeline(steps=[(&#x27;columntransformer&#x27;,\n",
              "                 ColumnTransformer(transformers=[(&#x27;pipeline&#x27;,\n",
              "                                                  Pipeline(steps=[(&#x27;standardscaler&#x27;,\n",
              "                                                                   StandardScaler()),\n",
              "                                                                  (&#x27;simpleimputer&#x27;,\n",
              "                                                                   SimpleImputer(add_indicator=True))]),\n",
              "                                                  &lt;sklearn.compose._column_transformer.make_column_selector object at 0x0000020973C67DD0&gt;),\n",
              "                                                 (&#x27;onehotencoder&#x27;,\n",
              "                                                  OneHotEncoder(handle_unknown=&#x27;ignore&#x27;),\n",
              "                                                  &lt;sklearn.compose._column_transformer.make_column_selector object at 0x0000020973C67D10&gt;)])),\n",
              "                (&#x27;lassocv&#x27;, LassoCV())])</pre><b>In a Jupyter environment, please rerun this cell to show the HTML representation or trust the notebook. <br />On GitHub, the HTML representation is unable to render, please try loading this page with nbviewer.org.</b></div><div class=\"sk-container\" hidden><div class=\"sk-item sk-dashed-wrapped\"><div class=\"sk-label-container\"><div class=\"sk-label  sk-toggleable\"><input class=\"sk-toggleable__control sk-hidden--visually\" id=\"sk-estimator-id-26\" type=\"checkbox\" ><label for=\"sk-estimator-id-26\" class=\"sk-toggleable__label  sk-toggleable__label-arrow\"><div><div>Pipeline</div></div><div><a class=\"sk-estimator-doc-link \" rel=\"noreferrer\" target=\"_blank\" href=\"https://scikit-learn.org/1.6/modules/generated/sklearn.pipeline.Pipeline.html\">?<span>Documentation for Pipeline</span></a><span class=\"sk-estimator-doc-link \">i<span>Not fitted</span></span></div></label><div class=\"sk-toggleable__content \"><pre>Pipeline(steps=[(&#x27;columntransformer&#x27;,\n",
              "                 ColumnTransformer(transformers=[(&#x27;pipeline&#x27;,\n",
              "                                                  Pipeline(steps=[(&#x27;standardscaler&#x27;,\n",
              "                                                                   StandardScaler()),\n",
              "                                                                  (&#x27;simpleimputer&#x27;,\n",
              "                                                                   SimpleImputer(add_indicator=True))]),\n",
              "                                                  &lt;sklearn.compose._column_transformer.make_column_selector object at 0x0000020973C67DD0&gt;),\n",
              "                                                 (&#x27;onehotencoder&#x27;,\n",
              "                                                  OneHotEncoder(handle_unknown=&#x27;ignore&#x27;),\n",
              "                                                  &lt;sklearn.compose._column_transformer.make_column_selector object at 0x0000020973C67D10&gt;)])),\n",
              "                (&#x27;lassocv&#x27;, LassoCV())])</pre></div> </div></div><div class=\"sk-serial\"><div class=\"sk-item sk-dashed-wrapped\"><div class=\"sk-label-container\"><div class=\"sk-label  sk-toggleable\"><input class=\"sk-toggleable__control sk-hidden--visually\" id=\"sk-estimator-id-27\" type=\"checkbox\" ><label for=\"sk-estimator-id-27\" class=\"sk-toggleable__label  sk-toggleable__label-arrow\"><div><div>columntransformer: ColumnTransformer</div></div><div><a class=\"sk-estimator-doc-link \" rel=\"noreferrer\" target=\"_blank\" href=\"https://scikit-learn.org/1.6/modules/generated/sklearn.compose.ColumnTransformer.html\">?<span>Documentation for columntransformer: ColumnTransformer</span></a></div></label><div class=\"sk-toggleable__content \"><pre>ColumnTransformer(transformers=[(&#x27;pipeline&#x27;,\n",
              "                                 Pipeline(steps=[(&#x27;standardscaler&#x27;,\n",
              "                                                  StandardScaler()),\n",
              "                                                 (&#x27;simpleimputer&#x27;,\n",
              "                                                  SimpleImputer(add_indicator=True))]),\n",
              "                                 &lt;sklearn.compose._column_transformer.make_column_selector object at 0x0000020973C67DD0&gt;),\n",
              "                                (&#x27;onehotencoder&#x27;,\n",
              "                                 OneHotEncoder(handle_unknown=&#x27;ignore&#x27;),\n",
              "                                 &lt;sklearn.compose._column_transformer.make_column_selector object at 0x0000020973C67D10&gt;)])</pre></div> </div></div><div class=\"sk-parallel\"><div class=\"sk-parallel-item\"><div class=\"sk-item\"><div class=\"sk-label-container\"><div class=\"sk-label  sk-toggleable\"><input class=\"sk-toggleable__control sk-hidden--visually\" id=\"sk-estimator-id-28\" type=\"checkbox\" ><label for=\"sk-estimator-id-28\" class=\"sk-toggleable__label  sk-toggleable__label-arrow\"><div><div>pipeline</div></div></label><div class=\"sk-toggleable__content \"><pre>&lt;sklearn.compose._column_transformer.make_column_selector object at 0x0000020973C67DD0&gt;</pre></div> </div></div><div class=\"sk-serial\"><div class=\"sk-item\"><div class=\"sk-serial\"><div class=\"sk-item\"><div class=\"sk-estimator  sk-toggleable\"><input class=\"sk-toggleable__control sk-hidden--visually\" id=\"sk-estimator-id-29\" type=\"checkbox\" ><label for=\"sk-estimator-id-29\" class=\"sk-toggleable__label  sk-toggleable__label-arrow\"><div><div>StandardScaler</div></div><div><a class=\"sk-estimator-doc-link \" rel=\"noreferrer\" target=\"_blank\" href=\"https://scikit-learn.org/1.6/modules/generated/sklearn.preprocessing.StandardScaler.html\">?<span>Documentation for StandardScaler</span></a></div></label><div class=\"sk-toggleable__content \"><pre>StandardScaler()</pre></div> </div></div><div class=\"sk-item\"><div class=\"sk-estimator  sk-toggleable\"><input class=\"sk-toggleable__control sk-hidden--visually\" id=\"sk-estimator-id-30\" type=\"checkbox\" ><label for=\"sk-estimator-id-30\" class=\"sk-toggleable__label  sk-toggleable__label-arrow\"><div><div>SimpleImputer</div></div><div><a class=\"sk-estimator-doc-link \" rel=\"noreferrer\" target=\"_blank\" href=\"https://scikit-learn.org/1.6/modules/generated/sklearn.impute.SimpleImputer.html\">?<span>Documentation for SimpleImputer</span></a></div></label><div class=\"sk-toggleable__content \"><pre>SimpleImputer(add_indicator=True)</pre></div> </div></div></div></div></div></div></div><div class=\"sk-parallel-item\"><div class=\"sk-item\"><div class=\"sk-label-container\"><div class=\"sk-label  sk-toggleable\"><input class=\"sk-toggleable__control sk-hidden--visually\" id=\"sk-estimator-id-31\" type=\"checkbox\" ><label for=\"sk-estimator-id-31\" class=\"sk-toggleable__label  sk-toggleable__label-arrow\"><div><div>onehotencoder</div></div></label><div class=\"sk-toggleable__content \"><pre>&lt;sklearn.compose._column_transformer.make_column_selector object at 0x0000020973C67D10&gt;</pre></div> </div></div><div class=\"sk-serial\"><div class=\"sk-item\"><div class=\"sk-estimator  sk-toggleable\"><input class=\"sk-toggleable__control sk-hidden--visually\" id=\"sk-estimator-id-32\" type=\"checkbox\" ><label for=\"sk-estimator-id-32\" class=\"sk-toggleable__label  sk-toggleable__label-arrow\"><div><div>OneHotEncoder</div></div><div><a class=\"sk-estimator-doc-link \" rel=\"noreferrer\" target=\"_blank\" href=\"https://scikit-learn.org/1.6/modules/generated/sklearn.preprocessing.OneHotEncoder.html\">?<span>Documentation for OneHotEncoder</span></a></div></label><div class=\"sk-toggleable__content \"><pre>OneHotEncoder(handle_unknown=&#x27;ignore&#x27;)</pre></div> </div></div></div></div></div></div></div><div class=\"sk-item\"><div class=\"sk-estimator  sk-toggleable\"><input class=\"sk-toggleable__control sk-hidden--visually\" id=\"sk-estimator-id-33\" type=\"checkbox\" ><label for=\"sk-estimator-id-33\" class=\"sk-toggleable__label  sk-toggleable__label-arrow\"><div><div>LassoCV</div></div><div><a class=\"sk-estimator-doc-link \" rel=\"noreferrer\" target=\"_blank\" href=\"https://scikit-learn.org/1.6/modules/generated/sklearn.linear_model.LassoCV.html\">?<span>Documentation for LassoCV</span></a></div></label><div class=\"sk-toggleable__content \"><pre>LassoCV()</pre></div> </div></div></div></div></div></div>"
            ],
            "text/plain": [
              "Pipeline(steps=[('columntransformer',\n",
              "                 ColumnTransformer(transformers=[('pipeline',\n",
              "                                                  Pipeline(steps=[('standardscaler',\n",
              "                                                                   StandardScaler()),\n",
              "                                                                  ('simpleimputer',\n",
              "                                                                   SimpleImputer(add_indicator=True))]),\n",
              "                                                  <sklearn.compose._column_transformer.make_column_selector object at 0x0000020973C67DD0>),\n",
              "                                                 ('onehotencoder',\n",
              "                                                  OneHotEncoder(handle_unknown='ignore'),\n",
              "                                                  <sklearn.compose._column_transformer.make_column_selector object at 0x0000020973C67D10>)])),\n",
              "                ('lassocv', LassoCV())])"
            ]
          },
          "execution_count": 37,
          "metadata": {},
          "output_type": "execute_result"
        }
      ],
      "source": [
        "lasso_pipeline = make_pipeline(linear_preprocessor, LassoCV())\n",
        "lasso_pipeline"
      ]
    },
    {
      "cell_type": "code",
      "execution_count": 38,
      "metadata": {
        "id": "QJqwoYPys7Ec"
      },
      "outputs": [],
      "source": [
        "lasso_pipeline = lasso_pipeline.fit(X_train, y_train)"
      ]
    },
    {
      "cell_type": "code",
      "execution_count": 39,
      "metadata": {
        "colab": {
          "base_uri": "https://localhost:8080/"
        },
        "id": "dSDnB-FYs9as",
        "outputId": "3cffcef9-707e-4683-afdf-1206052dbc26"
      },
      "outputs": [
        {
          "name": "stdout",
          "output_type": "stream",
          "text": [
            "Train score 34.83509853704252\n",
            "Test score 43.723624498163005\n"
          ]
        }
      ],
      "source": [
        "print(\"Train score\", lasso_pipeline.score(X_train, y_train) *100)\n",
        "print(\"Test score\", lasso_pipeline.score(X_test, y_test) * 100)"
      ]
    },
    {
      "cell_type": "markdown",
      "metadata": {
        "id": "Nz-frPkCuYos"
      },
      "source": [
        "J'essaie un modèle de classification"
      ]
    },
    {
      "cell_type": "code",
      "execution_count": 40,
      "metadata": {
        "colab": {
          "base_uri": "https://localhost:8080/",
          "height": 221
        },
        "id": "jZEhn8cvuXeO",
        "outputId": "93ec9403-501f-4847-85ee-1781de62ede8"
      },
      "outputs": [
        {
          "data": {
            "text/html": [
              "<style>#sk-container-id-6 {\n",
              "  /* Definition of color scheme common for light and dark mode */\n",
              "  --sklearn-color-text: #000;\n",
              "  --sklearn-color-text-muted: #666;\n",
              "  --sklearn-color-line: gray;\n",
              "  /* Definition of color scheme for unfitted estimators */\n",
              "  --sklearn-color-unfitted-level-0: #fff5e6;\n",
              "  --sklearn-color-unfitted-level-1: #f6e4d2;\n",
              "  --sklearn-color-unfitted-level-2: #ffe0b3;\n",
              "  --sklearn-color-unfitted-level-3: chocolate;\n",
              "  /* Definition of color scheme for fitted estimators */\n",
              "  --sklearn-color-fitted-level-0: #f0f8ff;\n",
              "  --sklearn-color-fitted-level-1: #d4ebff;\n",
              "  --sklearn-color-fitted-level-2: #b3dbfd;\n",
              "  --sklearn-color-fitted-level-3: cornflowerblue;\n",
              "\n",
              "  /* Specific color for light theme */\n",
              "  --sklearn-color-text-on-default-background: var(--sg-text-color, var(--theme-code-foreground, var(--jp-content-font-color1, black)));\n",
              "  --sklearn-color-background: var(--sg-background-color, var(--theme-background, var(--jp-layout-color0, white)));\n",
              "  --sklearn-color-border-box: var(--sg-text-color, var(--theme-code-foreground, var(--jp-content-font-color1, black)));\n",
              "  --sklearn-color-icon: #696969;\n",
              "\n",
              "  @media (prefers-color-scheme: dark) {\n",
              "    /* Redefinition of color scheme for dark theme */\n",
              "    --sklearn-color-text-on-default-background: var(--sg-text-color, var(--theme-code-foreground, var(--jp-content-font-color1, white)));\n",
              "    --sklearn-color-background: var(--sg-background-color, var(--theme-background, var(--jp-layout-color0, #111)));\n",
              "    --sklearn-color-border-box: var(--sg-text-color, var(--theme-code-foreground, var(--jp-content-font-color1, white)));\n",
              "    --sklearn-color-icon: #878787;\n",
              "  }\n",
              "}\n",
              "\n",
              "#sk-container-id-6 {\n",
              "  color: var(--sklearn-color-text);\n",
              "}\n",
              "\n",
              "#sk-container-id-6 pre {\n",
              "  padding: 0;\n",
              "}\n",
              "\n",
              "#sk-container-id-6 input.sk-hidden--visually {\n",
              "  border: 0;\n",
              "  clip: rect(1px 1px 1px 1px);\n",
              "  clip: rect(1px, 1px, 1px, 1px);\n",
              "  height: 1px;\n",
              "  margin: -1px;\n",
              "  overflow: hidden;\n",
              "  padding: 0;\n",
              "  position: absolute;\n",
              "  width: 1px;\n",
              "}\n",
              "\n",
              "#sk-container-id-6 div.sk-dashed-wrapped {\n",
              "  border: 1px dashed var(--sklearn-color-line);\n",
              "  margin: 0 0.4em 0.5em 0.4em;\n",
              "  box-sizing: border-box;\n",
              "  padding-bottom: 0.4em;\n",
              "  background-color: var(--sklearn-color-background);\n",
              "}\n",
              "\n",
              "#sk-container-id-6 div.sk-container {\n",
              "  /* jupyter's `normalize.less` sets `[hidden] { display: none; }`\n",
              "     but bootstrap.min.css set `[hidden] { display: none !important; }`\n",
              "     so we also need the `!important` here to be able to override the\n",
              "     default hidden behavior on the sphinx rendered scikit-learn.org.\n",
              "     See: https://github.com/scikit-learn/scikit-learn/issues/21755 */\n",
              "  display: inline-block !important;\n",
              "  position: relative;\n",
              "}\n",
              "\n",
              "#sk-container-id-6 div.sk-text-repr-fallback {\n",
              "  display: none;\n",
              "}\n",
              "\n",
              "div.sk-parallel-item,\n",
              "div.sk-serial,\n",
              "div.sk-item {\n",
              "  /* draw centered vertical line to link estimators */\n",
              "  background-image: linear-gradient(var(--sklearn-color-text-on-default-background), var(--sklearn-color-text-on-default-background));\n",
              "  background-size: 2px 100%;\n",
              "  background-repeat: no-repeat;\n",
              "  background-position: center center;\n",
              "}\n",
              "\n",
              "/* Parallel-specific style estimator block */\n",
              "\n",
              "#sk-container-id-6 div.sk-parallel-item::after {\n",
              "  content: \"\";\n",
              "  width: 100%;\n",
              "  border-bottom: 2px solid var(--sklearn-color-text-on-default-background);\n",
              "  flex-grow: 1;\n",
              "}\n",
              "\n",
              "#sk-container-id-6 div.sk-parallel {\n",
              "  display: flex;\n",
              "  align-items: stretch;\n",
              "  justify-content: center;\n",
              "  background-color: var(--sklearn-color-background);\n",
              "  position: relative;\n",
              "}\n",
              "\n",
              "#sk-container-id-6 div.sk-parallel-item {\n",
              "  display: flex;\n",
              "  flex-direction: column;\n",
              "}\n",
              "\n",
              "#sk-container-id-6 div.sk-parallel-item:first-child::after {\n",
              "  align-self: flex-end;\n",
              "  width: 50%;\n",
              "}\n",
              "\n",
              "#sk-container-id-6 div.sk-parallel-item:last-child::after {\n",
              "  align-self: flex-start;\n",
              "  width: 50%;\n",
              "}\n",
              "\n",
              "#sk-container-id-6 div.sk-parallel-item:only-child::after {\n",
              "  width: 0;\n",
              "}\n",
              "\n",
              "/* Serial-specific style estimator block */\n",
              "\n",
              "#sk-container-id-6 div.sk-serial {\n",
              "  display: flex;\n",
              "  flex-direction: column;\n",
              "  align-items: center;\n",
              "  background-color: var(--sklearn-color-background);\n",
              "  padding-right: 1em;\n",
              "  padding-left: 1em;\n",
              "}\n",
              "\n",
              "\n",
              "/* Toggleable style: style used for estimator/Pipeline/ColumnTransformer box that is\n",
              "clickable and can be expanded/collapsed.\n",
              "- Pipeline and ColumnTransformer use this feature and define the default style\n",
              "- Estimators will overwrite some part of the style using the `sk-estimator` class\n",
              "*/\n",
              "\n",
              "/* Pipeline and ColumnTransformer style (default) */\n",
              "\n",
              "#sk-container-id-6 div.sk-toggleable {\n",
              "  /* Default theme specific background. It is overwritten whether we have a\n",
              "  specific estimator or a Pipeline/ColumnTransformer */\n",
              "  background-color: var(--sklearn-color-background);\n",
              "}\n",
              "\n",
              "/* Toggleable label */\n",
              "#sk-container-id-6 label.sk-toggleable__label {\n",
              "  cursor: pointer;\n",
              "  display: flex;\n",
              "  width: 100%;\n",
              "  margin-bottom: 0;\n",
              "  padding: 0.5em;\n",
              "  box-sizing: border-box;\n",
              "  text-align: center;\n",
              "  align-items: start;\n",
              "  justify-content: space-between;\n",
              "  gap: 0.5em;\n",
              "}\n",
              "\n",
              "#sk-container-id-6 label.sk-toggleable__label .caption {\n",
              "  font-size: 0.6rem;\n",
              "  font-weight: lighter;\n",
              "  color: var(--sklearn-color-text-muted);\n",
              "}\n",
              "\n",
              "#sk-container-id-6 label.sk-toggleable__label-arrow:before {\n",
              "  /* Arrow on the left of the label */\n",
              "  content: \"▸\";\n",
              "  float: left;\n",
              "  margin-right: 0.25em;\n",
              "  color: var(--sklearn-color-icon);\n",
              "}\n",
              "\n",
              "#sk-container-id-6 label.sk-toggleable__label-arrow:hover:before {\n",
              "  color: var(--sklearn-color-text);\n",
              "}\n",
              "\n",
              "/* Toggleable content - dropdown */\n",
              "\n",
              "#sk-container-id-6 div.sk-toggleable__content {\n",
              "  max-height: 0;\n",
              "  max-width: 0;\n",
              "  overflow: hidden;\n",
              "  text-align: left;\n",
              "  /* unfitted */\n",
              "  background-color: var(--sklearn-color-unfitted-level-0);\n",
              "}\n",
              "\n",
              "#sk-container-id-6 div.sk-toggleable__content.fitted {\n",
              "  /* fitted */\n",
              "  background-color: var(--sklearn-color-fitted-level-0);\n",
              "}\n",
              "\n",
              "#sk-container-id-6 div.sk-toggleable__content pre {\n",
              "  margin: 0.2em;\n",
              "  border-radius: 0.25em;\n",
              "  color: var(--sklearn-color-text);\n",
              "  /* unfitted */\n",
              "  background-color: var(--sklearn-color-unfitted-level-0);\n",
              "}\n",
              "\n",
              "#sk-container-id-6 div.sk-toggleable__content.fitted pre {\n",
              "  /* unfitted */\n",
              "  background-color: var(--sklearn-color-fitted-level-0);\n",
              "}\n",
              "\n",
              "#sk-container-id-6 input.sk-toggleable__control:checked~div.sk-toggleable__content {\n",
              "  /* Expand drop-down */\n",
              "  max-height: 200px;\n",
              "  max-width: 100%;\n",
              "  overflow: auto;\n",
              "}\n",
              "\n",
              "#sk-container-id-6 input.sk-toggleable__control:checked~label.sk-toggleable__label-arrow:before {\n",
              "  content: \"▾\";\n",
              "}\n",
              "\n",
              "/* Pipeline/ColumnTransformer-specific style */\n",
              "\n",
              "#sk-container-id-6 div.sk-label input.sk-toggleable__control:checked~label.sk-toggleable__label {\n",
              "  color: var(--sklearn-color-text);\n",
              "  background-color: var(--sklearn-color-unfitted-level-2);\n",
              "}\n",
              "\n",
              "#sk-container-id-6 div.sk-label.fitted input.sk-toggleable__control:checked~label.sk-toggleable__label {\n",
              "  background-color: var(--sklearn-color-fitted-level-2);\n",
              "}\n",
              "\n",
              "/* Estimator-specific style */\n",
              "\n",
              "/* Colorize estimator box */\n",
              "#sk-container-id-6 div.sk-estimator input.sk-toggleable__control:checked~label.sk-toggleable__label {\n",
              "  /* unfitted */\n",
              "  background-color: var(--sklearn-color-unfitted-level-2);\n",
              "}\n",
              "\n",
              "#sk-container-id-6 div.sk-estimator.fitted input.sk-toggleable__control:checked~label.sk-toggleable__label {\n",
              "  /* fitted */\n",
              "  background-color: var(--sklearn-color-fitted-level-2);\n",
              "}\n",
              "\n",
              "#sk-container-id-6 div.sk-label label.sk-toggleable__label,\n",
              "#sk-container-id-6 div.sk-label label {\n",
              "  /* The background is the default theme color */\n",
              "  color: var(--sklearn-color-text-on-default-background);\n",
              "}\n",
              "\n",
              "/* On hover, darken the color of the background */\n",
              "#sk-container-id-6 div.sk-label:hover label.sk-toggleable__label {\n",
              "  color: var(--sklearn-color-text);\n",
              "  background-color: var(--sklearn-color-unfitted-level-2);\n",
              "}\n",
              "\n",
              "/* Label box, darken color on hover, fitted */\n",
              "#sk-container-id-6 div.sk-label.fitted:hover label.sk-toggleable__label.fitted {\n",
              "  color: var(--sklearn-color-text);\n",
              "  background-color: var(--sklearn-color-fitted-level-2);\n",
              "}\n",
              "\n",
              "/* Estimator label */\n",
              "\n",
              "#sk-container-id-6 div.sk-label label {\n",
              "  font-family: monospace;\n",
              "  font-weight: bold;\n",
              "  display: inline-block;\n",
              "  line-height: 1.2em;\n",
              "}\n",
              "\n",
              "#sk-container-id-6 div.sk-label-container {\n",
              "  text-align: center;\n",
              "}\n",
              "\n",
              "/* Estimator-specific */\n",
              "#sk-container-id-6 div.sk-estimator {\n",
              "  font-family: monospace;\n",
              "  border: 1px dotted var(--sklearn-color-border-box);\n",
              "  border-radius: 0.25em;\n",
              "  box-sizing: border-box;\n",
              "  margin-bottom: 0.5em;\n",
              "  /* unfitted */\n",
              "  background-color: var(--sklearn-color-unfitted-level-0);\n",
              "}\n",
              "\n",
              "#sk-container-id-6 div.sk-estimator.fitted {\n",
              "  /* fitted */\n",
              "  background-color: var(--sklearn-color-fitted-level-0);\n",
              "}\n",
              "\n",
              "/* on hover */\n",
              "#sk-container-id-6 div.sk-estimator:hover {\n",
              "  /* unfitted */\n",
              "  background-color: var(--sklearn-color-unfitted-level-2);\n",
              "}\n",
              "\n",
              "#sk-container-id-6 div.sk-estimator.fitted:hover {\n",
              "  /* fitted */\n",
              "  background-color: var(--sklearn-color-fitted-level-2);\n",
              "}\n",
              "\n",
              "/* Specification for estimator info (e.g. \"i\" and \"?\") */\n",
              "\n",
              "/* Common style for \"i\" and \"?\" */\n",
              "\n",
              ".sk-estimator-doc-link,\n",
              "a:link.sk-estimator-doc-link,\n",
              "a:visited.sk-estimator-doc-link {\n",
              "  float: right;\n",
              "  font-size: smaller;\n",
              "  line-height: 1em;\n",
              "  font-family: monospace;\n",
              "  background-color: var(--sklearn-color-background);\n",
              "  border-radius: 1em;\n",
              "  height: 1em;\n",
              "  width: 1em;\n",
              "  text-decoration: none !important;\n",
              "  margin-left: 0.5em;\n",
              "  text-align: center;\n",
              "  /* unfitted */\n",
              "  border: var(--sklearn-color-unfitted-level-1) 1pt solid;\n",
              "  color: var(--sklearn-color-unfitted-level-1);\n",
              "}\n",
              "\n",
              ".sk-estimator-doc-link.fitted,\n",
              "a:link.sk-estimator-doc-link.fitted,\n",
              "a:visited.sk-estimator-doc-link.fitted {\n",
              "  /* fitted */\n",
              "  border: var(--sklearn-color-fitted-level-1) 1pt solid;\n",
              "  color: var(--sklearn-color-fitted-level-1);\n",
              "}\n",
              "\n",
              "/* On hover */\n",
              "div.sk-estimator:hover .sk-estimator-doc-link:hover,\n",
              ".sk-estimator-doc-link:hover,\n",
              "div.sk-label-container:hover .sk-estimator-doc-link:hover,\n",
              ".sk-estimator-doc-link:hover {\n",
              "  /* unfitted */\n",
              "  background-color: var(--sklearn-color-unfitted-level-3);\n",
              "  color: var(--sklearn-color-background);\n",
              "  text-decoration: none;\n",
              "}\n",
              "\n",
              "div.sk-estimator.fitted:hover .sk-estimator-doc-link.fitted:hover,\n",
              ".sk-estimator-doc-link.fitted:hover,\n",
              "div.sk-label-container:hover .sk-estimator-doc-link.fitted:hover,\n",
              ".sk-estimator-doc-link.fitted:hover {\n",
              "  /* fitted */\n",
              "  background-color: var(--sklearn-color-fitted-level-3);\n",
              "  color: var(--sklearn-color-background);\n",
              "  text-decoration: none;\n",
              "}\n",
              "\n",
              "/* Span, style for the box shown on hovering the info icon */\n",
              ".sk-estimator-doc-link span {\n",
              "  display: none;\n",
              "  z-index: 9999;\n",
              "  position: relative;\n",
              "  font-weight: normal;\n",
              "  right: .2ex;\n",
              "  padding: .5ex;\n",
              "  margin: .5ex;\n",
              "  width: min-content;\n",
              "  min-width: 20ex;\n",
              "  max-width: 50ex;\n",
              "  color: var(--sklearn-color-text);\n",
              "  box-shadow: 2pt 2pt 4pt #999;\n",
              "  /* unfitted */\n",
              "  background: var(--sklearn-color-unfitted-level-0);\n",
              "  border: .5pt solid var(--sklearn-color-unfitted-level-3);\n",
              "}\n",
              "\n",
              ".sk-estimator-doc-link.fitted span {\n",
              "  /* fitted */\n",
              "  background: var(--sklearn-color-fitted-level-0);\n",
              "  border: var(--sklearn-color-fitted-level-3);\n",
              "}\n",
              "\n",
              ".sk-estimator-doc-link:hover span {\n",
              "  display: block;\n",
              "}\n",
              "\n",
              "/* \"?\"-specific style due to the `<a>` HTML tag */\n",
              "\n",
              "#sk-container-id-6 a.estimator_doc_link {\n",
              "  float: right;\n",
              "  font-size: 1rem;\n",
              "  line-height: 1em;\n",
              "  font-family: monospace;\n",
              "  background-color: var(--sklearn-color-background);\n",
              "  border-radius: 1rem;\n",
              "  height: 1rem;\n",
              "  width: 1rem;\n",
              "  text-decoration: none;\n",
              "  /* unfitted */\n",
              "  color: var(--sklearn-color-unfitted-level-1);\n",
              "  border: var(--sklearn-color-unfitted-level-1) 1pt solid;\n",
              "}\n",
              "\n",
              "#sk-container-id-6 a.estimator_doc_link.fitted {\n",
              "  /* fitted */\n",
              "  border: var(--sklearn-color-fitted-level-1) 1pt solid;\n",
              "  color: var(--sklearn-color-fitted-level-1);\n",
              "}\n",
              "\n",
              "/* On hover */\n",
              "#sk-container-id-6 a.estimator_doc_link:hover {\n",
              "  /* unfitted */\n",
              "  background-color: var(--sklearn-color-unfitted-level-3);\n",
              "  color: var(--sklearn-color-background);\n",
              "  text-decoration: none;\n",
              "}\n",
              "\n",
              "#sk-container-id-6 a.estimator_doc_link.fitted:hover {\n",
              "  /* fitted */\n",
              "  background-color: var(--sklearn-color-fitted-level-3);\n",
              "}\n",
              "</style><div id=\"sk-container-id-6\" class=\"sk-top-container\"><div class=\"sk-text-repr-fallback\"><pre>Pipeline(steps=[(&#x27;columntransformer&#x27;,\n",
              "                 ColumnTransformer(transformers=[(&#x27;simpleimputer&#x27;,\n",
              "                                                  SimpleImputer(add_indicator=True),\n",
              "                                                  &lt;sklearn.compose._column_transformer.make_column_selector object at 0x0000020973C67DD0&gt;),\n",
              "                                                 (&#x27;ordinalencoder&#x27;,\n",
              "                                                  OrdinalEncoder(encoded_missing_value=-2,\n",
              "                                                                 handle_unknown=&#x27;use_encoded_value&#x27;,\n",
              "                                                                 unknown_value=-1),\n",
              "                                                  &lt;sklearn.compose._column_transformer.make_column_selector object at 0x0000020973C67D10&gt;)])),\n",
              "                (&#x27;randomforestclassifier&#x27;,\n",
              "                 RandomForestClassifier(random_state=42))])</pre><b>In a Jupyter environment, please rerun this cell to show the HTML representation or trust the notebook. <br />On GitHub, the HTML representation is unable to render, please try loading this page with nbviewer.org.</b></div><div class=\"sk-container\" hidden><div class=\"sk-item sk-dashed-wrapped\"><div class=\"sk-label-container\"><div class=\"sk-label  sk-toggleable\"><input class=\"sk-toggleable__control sk-hidden--visually\" id=\"sk-estimator-id-34\" type=\"checkbox\" ><label for=\"sk-estimator-id-34\" class=\"sk-toggleable__label  sk-toggleable__label-arrow\"><div><div>Pipeline</div></div><div><a class=\"sk-estimator-doc-link \" rel=\"noreferrer\" target=\"_blank\" href=\"https://scikit-learn.org/1.6/modules/generated/sklearn.pipeline.Pipeline.html\">?<span>Documentation for Pipeline</span></a><span class=\"sk-estimator-doc-link \">i<span>Not fitted</span></span></div></label><div class=\"sk-toggleable__content \"><pre>Pipeline(steps=[(&#x27;columntransformer&#x27;,\n",
              "                 ColumnTransformer(transformers=[(&#x27;simpleimputer&#x27;,\n",
              "                                                  SimpleImputer(add_indicator=True),\n",
              "                                                  &lt;sklearn.compose._column_transformer.make_column_selector object at 0x0000020973C67DD0&gt;),\n",
              "                                                 (&#x27;ordinalencoder&#x27;,\n",
              "                                                  OrdinalEncoder(encoded_missing_value=-2,\n",
              "                                                                 handle_unknown=&#x27;use_encoded_value&#x27;,\n",
              "                                                                 unknown_value=-1),\n",
              "                                                  &lt;sklearn.compose._column_transformer.make_column_selector object at 0x0000020973C67D10&gt;)])),\n",
              "                (&#x27;randomforestclassifier&#x27;,\n",
              "                 RandomForestClassifier(random_state=42))])</pre></div> </div></div><div class=\"sk-serial\"><div class=\"sk-item sk-dashed-wrapped\"><div class=\"sk-label-container\"><div class=\"sk-label  sk-toggleable\"><input class=\"sk-toggleable__control sk-hidden--visually\" id=\"sk-estimator-id-35\" type=\"checkbox\" ><label for=\"sk-estimator-id-35\" class=\"sk-toggleable__label  sk-toggleable__label-arrow\"><div><div>columntransformer: ColumnTransformer</div></div><div><a class=\"sk-estimator-doc-link \" rel=\"noreferrer\" target=\"_blank\" href=\"https://scikit-learn.org/1.6/modules/generated/sklearn.compose.ColumnTransformer.html\">?<span>Documentation for columntransformer: ColumnTransformer</span></a></div></label><div class=\"sk-toggleable__content \"><pre>ColumnTransformer(transformers=[(&#x27;simpleimputer&#x27;,\n",
              "                                 SimpleImputer(add_indicator=True),\n",
              "                                 &lt;sklearn.compose._column_transformer.make_column_selector object at 0x0000020973C67DD0&gt;),\n",
              "                                (&#x27;ordinalencoder&#x27;,\n",
              "                                 OrdinalEncoder(encoded_missing_value=-2,\n",
              "                                                handle_unknown=&#x27;use_encoded_value&#x27;,\n",
              "                                                unknown_value=-1),\n",
              "                                 &lt;sklearn.compose._column_transformer.make_column_selector object at 0x0000020973C67D10&gt;)])</pre></div> </div></div><div class=\"sk-parallel\"><div class=\"sk-parallel-item\"><div class=\"sk-item\"><div class=\"sk-label-container\"><div class=\"sk-label  sk-toggleable\"><input class=\"sk-toggleable__control sk-hidden--visually\" id=\"sk-estimator-id-36\" type=\"checkbox\" ><label for=\"sk-estimator-id-36\" class=\"sk-toggleable__label  sk-toggleable__label-arrow\"><div><div>simpleimputer</div></div></label><div class=\"sk-toggleable__content \"><pre>&lt;sklearn.compose._column_transformer.make_column_selector object at 0x0000020973C67DD0&gt;</pre></div> </div></div><div class=\"sk-serial\"><div class=\"sk-item\"><div class=\"sk-estimator  sk-toggleable\"><input class=\"sk-toggleable__control sk-hidden--visually\" id=\"sk-estimator-id-37\" type=\"checkbox\" ><label for=\"sk-estimator-id-37\" class=\"sk-toggleable__label  sk-toggleable__label-arrow\"><div><div>SimpleImputer</div></div><div><a class=\"sk-estimator-doc-link \" rel=\"noreferrer\" target=\"_blank\" href=\"https://scikit-learn.org/1.6/modules/generated/sklearn.impute.SimpleImputer.html\">?<span>Documentation for SimpleImputer</span></a></div></label><div class=\"sk-toggleable__content \"><pre>SimpleImputer(add_indicator=True)</pre></div> </div></div></div></div></div><div class=\"sk-parallel-item\"><div class=\"sk-item\"><div class=\"sk-label-container\"><div class=\"sk-label  sk-toggleable\"><input class=\"sk-toggleable__control sk-hidden--visually\" id=\"sk-estimator-id-38\" type=\"checkbox\" ><label for=\"sk-estimator-id-38\" class=\"sk-toggleable__label  sk-toggleable__label-arrow\"><div><div>ordinalencoder</div></div></label><div class=\"sk-toggleable__content \"><pre>&lt;sklearn.compose._column_transformer.make_column_selector object at 0x0000020973C67D10&gt;</pre></div> </div></div><div class=\"sk-serial\"><div class=\"sk-item\"><div class=\"sk-estimator  sk-toggleable\"><input class=\"sk-toggleable__control sk-hidden--visually\" id=\"sk-estimator-id-39\" type=\"checkbox\" ><label for=\"sk-estimator-id-39\" class=\"sk-toggleable__label  sk-toggleable__label-arrow\"><div><div>OrdinalEncoder</div></div><div><a class=\"sk-estimator-doc-link \" rel=\"noreferrer\" target=\"_blank\" href=\"https://scikit-learn.org/1.6/modules/generated/sklearn.preprocessing.OrdinalEncoder.html\">?<span>Documentation for OrdinalEncoder</span></a></div></label><div class=\"sk-toggleable__content \"><pre>OrdinalEncoder(encoded_missing_value=-2, handle_unknown=&#x27;use_encoded_value&#x27;,\n",
              "               unknown_value=-1)</pre></div> </div></div></div></div></div></div></div><div class=\"sk-item\"><div class=\"sk-estimator  sk-toggleable\"><input class=\"sk-toggleable__control sk-hidden--visually\" id=\"sk-estimator-id-40\" type=\"checkbox\" ><label for=\"sk-estimator-id-40\" class=\"sk-toggleable__label  sk-toggleable__label-arrow\"><div><div>RandomForestClassifier</div></div><div><a class=\"sk-estimator-doc-link \" rel=\"noreferrer\" target=\"_blank\" href=\"https://scikit-learn.org/1.6/modules/generated/sklearn.ensemble.RandomForestClassifier.html\">?<span>Documentation for RandomForestClassifier</span></a></div></label><div class=\"sk-toggleable__content \"><pre>RandomForestClassifier(random_state=42)</pre></div> </div></div></div></div></div></div>"
            ],
            "text/plain": [
              "Pipeline(steps=[('columntransformer',\n",
              "                 ColumnTransformer(transformers=[('simpleimputer',\n",
              "                                                  SimpleImputer(add_indicator=True),\n",
              "                                                  <sklearn.compose._column_transformer.make_column_selector object at 0x0000020973C67DD0>),\n",
              "                                                 ('ordinalencoder',\n",
              "                                                  OrdinalEncoder(encoded_missing_value=-2,\n",
              "                                                                 handle_unknown='use_encoded_value',\n",
              "                                                                 unknown_value=-1),\n",
              "                                                  <sklearn.compose._column_transformer.make_column_selector object at 0x0000020973C67D10>)])),\n",
              "                ('randomforestclassifier',\n",
              "                 RandomForestClassifier(random_state=42))])"
            ]
          },
          "execution_count": 40,
          "metadata": {},
          "output_type": "execute_result"
        }
      ],
      "source": [
        "from sklearn.ensemble import RandomForestClassifier\n",
        "\n",
        "rfc_pipeline = make_pipeline(tree_preprocessor, RandomForestClassifier(n_estimators=100, random_state=42))\n",
        "rfc_pipeline"
      ]
    },
    {
      "cell_type": "code",
      "execution_count": 41,
      "metadata": {
        "id": "NTv_rYDdugq8"
      },
      "outputs": [],
      "source": [
        "rfc_pipeline = rfc_pipeline.fit(X_train, y_train)"
      ]
    },
    {
      "cell_type": "code",
      "execution_count": 42,
      "metadata": {
        "colab": {
          "base_uri": "https://localhost:8080/"
        },
        "id": "UN3HqRUZugNA",
        "outputId": "a16fc75a-4ecd-4697-fafc-c2d3514f90b7"
      },
      "outputs": [
        {
          "name": "stdout",
          "output_type": "stream",
          "text": [
            "Train score 97.81879194630872\n",
            "Test score 82.71186440677965\n"
          ]
        }
      ],
      "source": [
        "print(\"Train score\", rfc_pipeline.score(X_train, y_train) *100)\n",
        "print(\"Test score\", rfc_pipeline.score(X_test, y_test) * 100)"
      ]
    },
    {
      "cell_type": "markdown",
      "metadata": {
        "id": "RG0TqGthvDpy"
      },
      "source": [
        "C'est mieux !"
      ]
    },
    {
      "cell_type": "markdown",
      "metadata": {
        "id": "qtZqmSwCtJ3G"
      },
      "source": [
        "# 5. Outils de visualisation\n",
        "\n",
        "Je reprends des graphes que j'aimais bien dans la première partie pour afficher les données du modèle et celles attendues"
      ]
    },
    {
      "cell_type": "code",
      "execution_count": 43,
      "metadata": {
        "colab": {
          "base_uri": "https://localhost:8080/",
          "height": 542
        },
        "id": "XC0IZ_2-tI3H",
        "outputId": "6eda006f-1006-483d-8e15-b5a28c5aaa72"
      },
      "outputs": [
        {
          "data": {
            "application/vnd.plotly.v1+json": {
              "config": {
                "plotlyServerURL": "https://plot.ly"
              },
              "data": [
                {
                  "hovertemplate": "Age=%{x}<br>Fare=%{y}<br>Survived=%{marker.color}<extra></extra>",
                  "legendgroup": "",
                  "marker": {
                    "color": [
                      1,
                      0,
                      0,
                      1,
                      1,
                      1,
                      1,
                      0,
                      1,
                      1,
                      0,
                      0,
                      0,
                      0,
                      0,
                      1,
                      1,
                      1,
                      0,
                      0,
                      0,
                      1,
                      1,
                      0,
                      0,
                      0,
                      0,
                      1,
                      0,
                      0,
                      0,
                      1,
                      0,
                      0,
                      1,
                      0,
                      1,
                      1,
                      1,
                      0,
                      0,
                      0,
                      0,
                      0,
                      0,
                      0,
                      0,
                      0,
                      0,
                      0,
                      1,
                      1,
                      0,
                      1,
                      0,
                      1,
                      0,
                      1,
                      1,
                      1,
                      0,
                      1,
                      1,
                      0,
                      0,
                      0,
                      0,
                      0,
                      0,
                      1,
                      0,
                      1,
                      1,
                      1,
                      0,
                      0,
                      0,
                      1,
                      0,
                      0,
                      0,
                      1,
                      1,
                      0,
                      0,
                      0,
                      1,
                      1,
                      0,
                      0,
                      1,
                      0,
                      0,
                      0,
                      0,
                      0,
                      1,
                      1,
                      1,
                      0,
                      0,
                      0,
                      1,
                      0,
                      0,
                      0,
                      1,
                      0,
                      1,
                      1,
                      1,
                      0,
                      1,
                      1,
                      0,
                      0,
                      0,
                      0,
                      1,
                      0,
                      0,
                      1,
                      1,
                      1,
                      0,
                      1,
                      1,
                      0,
                      0,
                      0,
                      1,
                      1,
                      0,
                      1,
                      1,
                      1,
                      1,
                      0,
                      0,
                      0,
                      0,
                      0,
                      0,
                      0,
                      0,
                      1,
                      0,
                      0,
                      1,
                      0,
                      0,
                      0,
                      0,
                      1,
                      0,
                      0,
                      1,
                      1,
                      1,
                      0,
                      0,
                      1,
                      0,
                      1,
                      0,
                      0,
                      0,
                      1,
                      0,
                      0,
                      1,
                      1,
                      1,
                      0,
                      0,
                      0,
                      1,
                      1,
                      1,
                      0,
                      0,
                      0,
                      0,
                      0,
                      0,
                      0,
                      0,
                      0,
                      1,
                      1,
                      0,
                      0,
                      0,
                      1,
                      1,
                      1,
                      1,
                      0,
                      1,
                      0,
                      0,
                      0,
                      1,
                      1,
                      1,
                      1,
                      0,
                      1,
                      0,
                      0,
                      0,
                      0,
                      1,
                      0,
                      0,
                      0,
                      1,
                      0,
                      1,
                      0,
                      0,
                      0,
                      0,
                      1,
                      0,
                      1,
                      0,
                      1,
                      1,
                      1,
                      0,
                      1,
                      0,
                      1,
                      0,
                      1,
                      1,
                      1,
                      1,
                      0,
                      0,
                      1,
                      0,
                      0,
                      0,
                      0,
                      0,
                      0,
                      0,
                      1,
                      1,
                      0,
                      0,
                      0,
                      1,
                      1,
                      0,
                      1,
                      0,
                      1,
                      1,
                      0,
                      1,
                      1,
                      0,
                      0,
                      0,
                      1,
                      1,
                      0,
                      1,
                      0,
                      0,
                      0,
                      1,
                      0,
                      0,
                      0,
                      1,
                      0,
                      0,
                      0,
                      1,
                      0,
                      0,
                      0,
                      1,
                      0,
                      1,
                      1,
                      0,
                      0,
                      1,
                      0,
                      0
                    ],
                    "coloraxis": "coloraxis",
                    "symbol": "circle"
                  },
                  "mode": "markers",
                  "name": "",
                  "orientation": "v",
                  "showlegend": false,
                  "type": "scatter",
                  "x": [
                    null,
                    31,
                    20,
                    6,
                    14,
                    26,
                    null,
                    16,
                    16,
                    19,
                    37,
                    44,
                    null,
                    30,
                    36,
                    16,
                    42,
                    null,
                    27,
                    47,
                    24,
                    34,
                    19,
                    20,
                    null,
                    10,
                    40,
                    31,
                    4,
                    31,
                    19,
                    22,
                    null,
                    null,
                    18,
                    27,
                    28,
                    null,
                    30,
                    null,
                    21,
                    29,
                    null,
                    null,
                    45,
                    16,
                    19,
                    23,
                    24,
                    58,
                    5,
                    52,
                    40,
                    11,
                    65,
                    18,
                    32,
                    50,
                    35,
                    19,
                    21,
                    13,
                    28,
                    null,
                    null,
                    57,
                    21,
                    29,
                    17,
                    52,
                    26,
                    18,
                    26,
                    39,
                    23,
                    36,
                    30.5,
                    22,
                    38,
                    41,
                    16,
                    29,
                    40,
                    null,
                    56,
                    71,
                    31,
                    30,
                    38,
                    null,
                    9,
                    9,
                    61,
                    null,
                    null,
                    28,
                    48,
                    45,
                    36,
                    27,
                    64,
                    35,
                    19,
                    38,
                    30.5,
                    25,
                    40,
                    47,
                    30,
                    40,
                    null,
                    20.5,
                    null,
                    36,
                    null,
                    20,
                    71,
                    36,
                    22,
                    48,
                    23,
                    32,
                    63,
                    0.83,
                    25,
                    35,
                    49,
                    24,
                    null,
                    21,
                    null,
                    null,
                    null,
                    5,
                    49,
                    15,
                    null,
                    29,
                    42,
                    18,
                    21,
                    44,
                    28,
                    37,
                    39,
                    34,
                    30,
                    66,
                    null,
                    43,
                    null,
                    24,
                    18,
                    null,
                    null,
                    null,
                    null,
                    null,
                    36,
                    32,
                    23.5,
                    null,
                    39,
                    null,
                    null,
                    65,
                    23,
                    null,
                    22,
                    35,
                    23,
                    18,
                    36,
                    9,
                    17,
                    null,
                    38,
                    17,
                    4,
                    45.5,
                    23,
                    32,
                    26,
                    6,
                    24,
                    45,
                    29,
                    null,
                    null,
                    42,
                    36,
                    33,
                    17,
                    29,
                    50,
                    35,
                    38,
                    34,
                    17,
                    11,
                    61,
                    30,
                    7,
                    63,
                    20,
                    null,
                    29,
                    36,
                    null,
                    50,
                    27,
                    30,
                    33,
                    null,
                    null,
                    2,
                    25,
                    51,
                    25,
                    null,
                    null,
                    24,
                    18,
                    null,
                    25,
                    24,
                    22,
                    0.92,
                    24,
                    26,
                    34,
                    21,
                    null,
                    null,
                    null,
                    22,
                    62,
                    18,
                    42,
                    57,
                    19,
                    42,
                    null,
                    20,
                    34.5,
                    28,
                    null,
                    23,
                    22,
                    52,
                    30,
                    36.5,
                    null,
                    22,
                    50,
                    27,
                    22,
                    51,
                    36,
                    29,
                    22,
                    50,
                    40,
                    27,
                    null,
                    65,
                    17,
                    28,
                    4,
                    null,
                    1,
                    36,
                    43,
                    38,
                    31,
                    29,
                    18,
                    null,
                    39,
                    39,
                    26,
                    20,
                    null,
                    49,
                    23,
                    1,
                    null,
                    null,
                    3,
                    4,
                    19,
                    40.5,
                    1,
                    null,
                    21
                  ],
                  "xaxis": "x",
                  "y": [
                    15.2458,
                    10.5,
                    7.925,
                    33,
                    11.2417,
                    78.85,
                    7.75,
                    18,
                    7.75,
                    26.2833,
                    53.1,
                    8.05,
                    25.4667,
                    7.225,
                    13,
                    39.4,
                    52.5542,
                    7.8292,
                    13,
                    52,
                    7.8958,
                    26.55,
                    7.8542,
                    9.225,
                    14.5,
                    27.9,
                    27.7208,
                    13,
                    27.9,
                    7.8542,
                    7.8958,
                    7.75,
                    30.6958,
                    7.55,
                    8.05,
                    14.4542,
                    35.5,
                    7.75,
                    31,
                    7.8958,
                    73.5,
                    7.0458,
                    8.05,
                    7.75,
                    14.4542,
                    34.375,
                    8.1583,
                    9.225,
                    7.05,
                    113.275,
                    19.2583,
                    93.5,
                    27.9,
                    120,
                    7.75,
                    79.65,
                    10.5,
                    247.5208,
                    21,
                    7.8792,
                    7.775,
                    19.5,
                    26,
                    25.925,
                    7.75,
                    10.5,
                    73.5,
                    7.875,
                    7.2292,
                    78.2667,
                    26,
                    262.375,
                    30,
                    83.1583,
                    7.8542,
                    15.55,
                    7.75,
                    49.5,
                    13,
                    20.2125,
                    39.6875,
                    10.5,
                    134.5,
                    7.7375,
                    30.6958,
                    49.5042,
                    113.275,
                    56.9292,
                    0,
                    7.25,
                    20.525,
                    31.275,
                    32.3208,
                    7.7292,
                    7.8958,
                    7.8542,
                    52,
                    8.05,
                    13,
                    7.8958,
                    26,
                    7.125,
                    91.0792,
                    7.05,
                    8.05,
                    7.775,
                    39,
                    38.5,
                    9.5,
                    31,
                    52,
                    7.25,
                    89.1042,
                    26.2875,
                    221.7792,
                    9.8458,
                    34.6542,
                    12.875,
                    29,
                    34.375,
                    11.5,
                    76.2917,
                    77.9583,
                    29,
                    7.25,
                    26.55,
                    25.9292,
                    79.2,
                    14.4583,
                    8.05,
                    7.8792,
                    15.2458,
                    0,
                    12.475,
                    56.9292,
                    14.4542,
                    110.8833,
                    7.775,
                    7.55,
                    17.8,
                    8.4333,
                    26,
                    13,
                    26,
                    29.125,
                    32.5,
                    13,
                    10.5,
                    146.5208,
                    8.05,
                    8.7125,
                    7.4958,
                    7.7958,
                    24.15,
                    8.05,
                    7.05,
                    56.4958,
                    7.7875,
                    26,
                    15.5,
                    7.2292,
                    26.55,
                    13,
                    82.1708,
                    8.4583,
                    61.9792,
                    10.5,
                    51.8625,
                    7.8958,
                    7.05,
                    63.3583,
                    13,
                    26.3875,
                    15.2458,
                    7.125,
                    7.225,
                    31.3875,
                    10.5,
                    16.7,
                    28.5,
                    13,
                    7.925,
                    7.8542,
                    31.275,
                    247.5208,
                    26.55,
                    27.7208,
                    7.8958,
                    35.5,
                    13,
                    24.15,
                    12.275,
                    7.0542,
                    9.5,
                    26,
                    90,
                    227.525,
                    13,
                    57,
                    31.275,
                    6.2375,
                    8.6625,
                    26.25,
                    9.5875,
                    7.2292,
                    22.3583,
                    9.4833,
                    120,
                    14.4583,
                    8.05,
                    211.5,
                    7.25,
                    90,
                    7.725,
                    25.4667,
                    21.075,
                    30,
                    61.3792,
                    26,
                    7.25,
                    7.8958,
                    13,
                    20.2125,
                    30.5,
                    7.05,
                    14.5,
                    7.5208,
                    151.55,
                    26,
                    7.925,
                    21,
                    262.375,
                    7.75,
                    7.2292,
                    8.6625,
                    7.775,
                    80,
                    9.8417,
                    227.525,
                    12.35,
                    0,
                    26,
                    7.225,
                    8.6625,
                    6.4375,
                    9.5,
                    8.05,
                    7.8958,
                    7.25,
                    30.5,
                    12.475,
                    26,
                    7.75,
                    7.2292,
                    133.65,
                    6.975,
                    8.05,
                    77.9583,
                    10.5,
                    26,
                    151.55,
                    106.425,
                    13,
                    8.6625,
                    0,
                    26.55,
                    8.6625,
                    26.55,
                    81.8583,
                    7.8958,
                    11.1333,
                    27.75,
                    26.25,
                    153.4625,
                    26.25,
                    8.05,
                    8.3,
                    15.05,
                    110.8833,
                    13,
                    8.6625,
                    7.05,
                    133.65,
                    0,
                    15.0458,
                    39.6875,
                    7.8792,
                    23.45,
                    26,
                    11.1333,
                    7.65,
                    7.75,
                    15.7417,
                    15.2458,
                    7.925
                  ],
                  "yaxis": "y"
                }
              ],
              "layout": {
                "coloraxis": {
                  "colorbar": {
                    "title": {
                      "text": "Survived"
                    }
                  },
                  "colorscale": [
                    [
                      0,
                      "#0d0887"
                    ],
                    [
                      0.1111111111111111,
                      "#46039f"
                    ],
                    [
                      0.2222222222222222,
                      "#7201a8"
                    ],
                    [
                      0.3333333333333333,
                      "#9c179e"
                    ],
                    [
                      0.4444444444444444,
                      "#bd3786"
                    ],
                    [
                      0.5555555555555556,
                      "#d8576b"
                    ],
                    [
                      0.6666666666666666,
                      "#ed7953"
                    ],
                    [
                      0.7777777777777778,
                      "#fb9f3a"
                    ],
                    [
                      0.8888888888888888,
                      "#fdca26"
                    ],
                    [
                      1,
                      "#f0f921"
                    ]
                  ]
                },
                "legend": {
                  "tracegroupgap": 0
                },
                "margin": {
                  "t": 60
                },
                "template": {
                  "data": {
                    "bar": [
                      {
                        "error_x": {
                          "color": "#2a3f5f"
                        },
                        "error_y": {
                          "color": "#2a3f5f"
                        },
                        "marker": {
                          "line": {
                            "color": "#E5ECF6",
                            "width": 0.5
                          },
                          "pattern": {
                            "fillmode": "overlay",
                            "size": 10,
                            "solidity": 0.2
                          }
                        },
                        "type": "bar"
                      }
                    ],
                    "barpolar": [
                      {
                        "marker": {
                          "line": {
                            "color": "#E5ECF6",
                            "width": 0.5
                          },
                          "pattern": {
                            "fillmode": "overlay",
                            "size": 10,
                            "solidity": 0.2
                          }
                        },
                        "type": "barpolar"
                      }
                    ],
                    "carpet": [
                      {
                        "aaxis": {
                          "endlinecolor": "#2a3f5f",
                          "gridcolor": "white",
                          "linecolor": "white",
                          "minorgridcolor": "white",
                          "startlinecolor": "#2a3f5f"
                        },
                        "baxis": {
                          "endlinecolor": "#2a3f5f",
                          "gridcolor": "white",
                          "linecolor": "white",
                          "minorgridcolor": "white",
                          "startlinecolor": "#2a3f5f"
                        },
                        "type": "carpet"
                      }
                    ],
                    "choropleth": [
                      {
                        "colorbar": {
                          "outlinewidth": 0,
                          "ticks": ""
                        },
                        "type": "choropleth"
                      }
                    ],
                    "contour": [
                      {
                        "colorbar": {
                          "outlinewidth": 0,
                          "ticks": ""
                        },
                        "colorscale": [
                          [
                            0,
                            "#0d0887"
                          ],
                          [
                            0.1111111111111111,
                            "#46039f"
                          ],
                          [
                            0.2222222222222222,
                            "#7201a8"
                          ],
                          [
                            0.3333333333333333,
                            "#9c179e"
                          ],
                          [
                            0.4444444444444444,
                            "#bd3786"
                          ],
                          [
                            0.5555555555555556,
                            "#d8576b"
                          ],
                          [
                            0.6666666666666666,
                            "#ed7953"
                          ],
                          [
                            0.7777777777777778,
                            "#fb9f3a"
                          ],
                          [
                            0.8888888888888888,
                            "#fdca26"
                          ],
                          [
                            1,
                            "#f0f921"
                          ]
                        ],
                        "type": "contour"
                      }
                    ],
                    "contourcarpet": [
                      {
                        "colorbar": {
                          "outlinewidth": 0,
                          "ticks": ""
                        },
                        "type": "contourcarpet"
                      }
                    ],
                    "heatmap": [
                      {
                        "colorbar": {
                          "outlinewidth": 0,
                          "ticks": ""
                        },
                        "colorscale": [
                          [
                            0,
                            "#0d0887"
                          ],
                          [
                            0.1111111111111111,
                            "#46039f"
                          ],
                          [
                            0.2222222222222222,
                            "#7201a8"
                          ],
                          [
                            0.3333333333333333,
                            "#9c179e"
                          ],
                          [
                            0.4444444444444444,
                            "#bd3786"
                          ],
                          [
                            0.5555555555555556,
                            "#d8576b"
                          ],
                          [
                            0.6666666666666666,
                            "#ed7953"
                          ],
                          [
                            0.7777777777777778,
                            "#fb9f3a"
                          ],
                          [
                            0.8888888888888888,
                            "#fdca26"
                          ],
                          [
                            1,
                            "#f0f921"
                          ]
                        ],
                        "type": "heatmap"
                      }
                    ],
                    "heatmapgl": [
                      {
                        "colorbar": {
                          "outlinewidth": 0,
                          "ticks": ""
                        },
                        "colorscale": [
                          [
                            0,
                            "#0d0887"
                          ],
                          [
                            0.1111111111111111,
                            "#46039f"
                          ],
                          [
                            0.2222222222222222,
                            "#7201a8"
                          ],
                          [
                            0.3333333333333333,
                            "#9c179e"
                          ],
                          [
                            0.4444444444444444,
                            "#bd3786"
                          ],
                          [
                            0.5555555555555556,
                            "#d8576b"
                          ],
                          [
                            0.6666666666666666,
                            "#ed7953"
                          ],
                          [
                            0.7777777777777778,
                            "#fb9f3a"
                          ],
                          [
                            0.8888888888888888,
                            "#fdca26"
                          ],
                          [
                            1,
                            "#f0f921"
                          ]
                        ],
                        "type": "heatmapgl"
                      }
                    ],
                    "histogram": [
                      {
                        "marker": {
                          "pattern": {
                            "fillmode": "overlay",
                            "size": 10,
                            "solidity": 0.2
                          }
                        },
                        "type": "histogram"
                      }
                    ],
                    "histogram2d": [
                      {
                        "colorbar": {
                          "outlinewidth": 0,
                          "ticks": ""
                        },
                        "colorscale": [
                          [
                            0,
                            "#0d0887"
                          ],
                          [
                            0.1111111111111111,
                            "#46039f"
                          ],
                          [
                            0.2222222222222222,
                            "#7201a8"
                          ],
                          [
                            0.3333333333333333,
                            "#9c179e"
                          ],
                          [
                            0.4444444444444444,
                            "#bd3786"
                          ],
                          [
                            0.5555555555555556,
                            "#d8576b"
                          ],
                          [
                            0.6666666666666666,
                            "#ed7953"
                          ],
                          [
                            0.7777777777777778,
                            "#fb9f3a"
                          ],
                          [
                            0.8888888888888888,
                            "#fdca26"
                          ],
                          [
                            1,
                            "#f0f921"
                          ]
                        ],
                        "type": "histogram2d"
                      }
                    ],
                    "histogram2dcontour": [
                      {
                        "colorbar": {
                          "outlinewidth": 0,
                          "ticks": ""
                        },
                        "colorscale": [
                          [
                            0,
                            "#0d0887"
                          ],
                          [
                            0.1111111111111111,
                            "#46039f"
                          ],
                          [
                            0.2222222222222222,
                            "#7201a8"
                          ],
                          [
                            0.3333333333333333,
                            "#9c179e"
                          ],
                          [
                            0.4444444444444444,
                            "#bd3786"
                          ],
                          [
                            0.5555555555555556,
                            "#d8576b"
                          ],
                          [
                            0.6666666666666666,
                            "#ed7953"
                          ],
                          [
                            0.7777777777777778,
                            "#fb9f3a"
                          ],
                          [
                            0.8888888888888888,
                            "#fdca26"
                          ],
                          [
                            1,
                            "#f0f921"
                          ]
                        ],
                        "type": "histogram2dcontour"
                      }
                    ],
                    "mesh3d": [
                      {
                        "colorbar": {
                          "outlinewidth": 0,
                          "ticks": ""
                        },
                        "type": "mesh3d"
                      }
                    ],
                    "parcoords": [
                      {
                        "line": {
                          "colorbar": {
                            "outlinewidth": 0,
                            "ticks": ""
                          }
                        },
                        "type": "parcoords"
                      }
                    ],
                    "pie": [
                      {
                        "automargin": true,
                        "type": "pie"
                      }
                    ],
                    "scatter": [
                      {
                        "fillpattern": {
                          "fillmode": "overlay",
                          "size": 10,
                          "solidity": 0.2
                        },
                        "type": "scatter"
                      }
                    ],
                    "scatter3d": [
                      {
                        "line": {
                          "colorbar": {
                            "outlinewidth": 0,
                            "ticks": ""
                          }
                        },
                        "marker": {
                          "colorbar": {
                            "outlinewidth": 0,
                            "ticks": ""
                          }
                        },
                        "type": "scatter3d"
                      }
                    ],
                    "scattercarpet": [
                      {
                        "marker": {
                          "colorbar": {
                            "outlinewidth": 0,
                            "ticks": ""
                          }
                        },
                        "type": "scattercarpet"
                      }
                    ],
                    "scattergeo": [
                      {
                        "marker": {
                          "colorbar": {
                            "outlinewidth": 0,
                            "ticks": ""
                          }
                        },
                        "type": "scattergeo"
                      }
                    ],
                    "scattergl": [
                      {
                        "marker": {
                          "colorbar": {
                            "outlinewidth": 0,
                            "ticks": ""
                          }
                        },
                        "type": "scattergl"
                      }
                    ],
                    "scattermapbox": [
                      {
                        "marker": {
                          "colorbar": {
                            "outlinewidth": 0,
                            "ticks": ""
                          }
                        },
                        "type": "scattermapbox"
                      }
                    ],
                    "scatterpolar": [
                      {
                        "marker": {
                          "colorbar": {
                            "outlinewidth": 0,
                            "ticks": ""
                          }
                        },
                        "type": "scatterpolar"
                      }
                    ],
                    "scatterpolargl": [
                      {
                        "marker": {
                          "colorbar": {
                            "outlinewidth": 0,
                            "ticks": ""
                          }
                        },
                        "type": "scatterpolargl"
                      }
                    ],
                    "scatterternary": [
                      {
                        "marker": {
                          "colorbar": {
                            "outlinewidth": 0,
                            "ticks": ""
                          }
                        },
                        "type": "scatterternary"
                      }
                    ],
                    "surface": [
                      {
                        "colorbar": {
                          "outlinewidth": 0,
                          "ticks": ""
                        },
                        "colorscale": [
                          [
                            0,
                            "#0d0887"
                          ],
                          [
                            0.1111111111111111,
                            "#46039f"
                          ],
                          [
                            0.2222222222222222,
                            "#7201a8"
                          ],
                          [
                            0.3333333333333333,
                            "#9c179e"
                          ],
                          [
                            0.4444444444444444,
                            "#bd3786"
                          ],
                          [
                            0.5555555555555556,
                            "#d8576b"
                          ],
                          [
                            0.6666666666666666,
                            "#ed7953"
                          ],
                          [
                            0.7777777777777778,
                            "#fb9f3a"
                          ],
                          [
                            0.8888888888888888,
                            "#fdca26"
                          ],
                          [
                            1,
                            "#f0f921"
                          ]
                        ],
                        "type": "surface"
                      }
                    ],
                    "table": [
                      {
                        "cells": {
                          "fill": {
                            "color": "#EBF0F8"
                          },
                          "line": {
                            "color": "white"
                          }
                        },
                        "header": {
                          "fill": {
                            "color": "#C8D4E3"
                          },
                          "line": {
                            "color": "white"
                          }
                        },
                        "type": "table"
                      }
                    ]
                  },
                  "layout": {
                    "annotationdefaults": {
                      "arrowcolor": "#2a3f5f",
                      "arrowhead": 0,
                      "arrowwidth": 1
                    },
                    "autotypenumbers": "strict",
                    "coloraxis": {
                      "colorbar": {
                        "outlinewidth": 0,
                        "ticks": ""
                      }
                    },
                    "colorscale": {
                      "diverging": [
                        [
                          0,
                          "#8e0152"
                        ],
                        [
                          0.1,
                          "#c51b7d"
                        ],
                        [
                          0.2,
                          "#de77ae"
                        ],
                        [
                          0.3,
                          "#f1b6da"
                        ],
                        [
                          0.4,
                          "#fde0ef"
                        ],
                        [
                          0.5,
                          "#f7f7f7"
                        ],
                        [
                          0.6,
                          "#e6f5d0"
                        ],
                        [
                          0.7,
                          "#b8e186"
                        ],
                        [
                          0.8,
                          "#7fbc41"
                        ],
                        [
                          0.9,
                          "#4d9221"
                        ],
                        [
                          1,
                          "#276419"
                        ]
                      ],
                      "sequential": [
                        [
                          0,
                          "#0d0887"
                        ],
                        [
                          0.1111111111111111,
                          "#46039f"
                        ],
                        [
                          0.2222222222222222,
                          "#7201a8"
                        ],
                        [
                          0.3333333333333333,
                          "#9c179e"
                        ],
                        [
                          0.4444444444444444,
                          "#bd3786"
                        ],
                        [
                          0.5555555555555556,
                          "#d8576b"
                        ],
                        [
                          0.6666666666666666,
                          "#ed7953"
                        ],
                        [
                          0.7777777777777778,
                          "#fb9f3a"
                        ],
                        [
                          0.8888888888888888,
                          "#fdca26"
                        ],
                        [
                          1,
                          "#f0f921"
                        ]
                      ],
                      "sequentialminus": [
                        [
                          0,
                          "#0d0887"
                        ],
                        [
                          0.1111111111111111,
                          "#46039f"
                        ],
                        [
                          0.2222222222222222,
                          "#7201a8"
                        ],
                        [
                          0.3333333333333333,
                          "#9c179e"
                        ],
                        [
                          0.4444444444444444,
                          "#bd3786"
                        ],
                        [
                          0.5555555555555556,
                          "#d8576b"
                        ],
                        [
                          0.6666666666666666,
                          "#ed7953"
                        ],
                        [
                          0.7777777777777778,
                          "#fb9f3a"
                        ],
                        [
                          0.8888888888888888,
                          "#fdca26"
                        ],
                        [
                          1,
                          "#f0f921"
                        ]
                      ]
                    },
                    "colorway": [
                      "#636efa",
                      "#EF553B",
                      "#00cc96",
                      "#ab63fa",
                      "#FFA15A",
                      "#19d3f3",
                      "#FF6692",
                      "#B6E880",
                      "#FF97FF",
                      "#FECB52"
                    ],
                    "font": {
                      "color": "#2a3f5f"
                    },
                    "geo": {
                      "bgcolor": "white",
                      "lakecolor": "white",
                      "landcolor": "#E5ECF6",
                      "showlakes": true,
                      "showland": true,
                      "subunitcolor": "white"
                    },
                    "hoverlabel": {
                      "align": "left"
                    },
                    "hovermode": "closest",
                    "mapbox": {
                      "style": "light"
                    },
                    "paper_bgcolor": "white",
                    "plot_bgcolor": "#E5ECF6",
                    "polar": {
                      "angularaxis": {
                        "gridcolor": "white",
                        "linecolor": "white",
                        "ticks": ""
                      },
                      "bgcolor": "#E5ECF6",
                      "radialaxis": {
                        "gridcolor": "white",
                        "linecolor": "white",
                        "ticks": ""
                      }
                    },
                    "scene": {
                      "xaxis": {
                        "backgroundcolor": "#E5ECF6",
                        "gridcolor": "white",
                        "gridwidth": 2,
                        "linecolor": "white",
                        "showbackground": true,
                        "ticks": "",
                        "zerolinecolor": "white"
                      },
                      "yaxis": {
                        "backgroundcolor": "#E5ECF6",
                        "gridcolor": "white",
                        "gridwidth": 2,
                        "linecolor": "white",
                        "showbackground": true,
                        "ticks": "",
                        "zerolinecolor": "white"
                      },
                      "zaxis": {
                        "backgroundcolor": "#E5ECF6",
                        "gridcolor": "white",
                        "gridwidth": 2,
                        "linecolor": "white",
                        "showbackground": true,
                        "ticks": "",
                        "zerolinecolor": "white"
                      }
                    },
                    "shapedefaults": {
                      "line": {
                        "color": "#2a3f5f"
                      }
                    },
                    "ternary": {
                      "aaxis": {
                        "gridcolor": "white",
                        "linecolor": "white",
                        "ticks": ""
                      },
                      "baxis": {
                        "gridcolor": "white",
                        "linecolor": "white",
                        "ticks": ""
                      },
                      "bgcolor": "#E5ECF6",
                      "caxis": {
                        "gridcolor": "white",
                        "linecolor": "white",
                        "ticks": ""
                      }
                    },
                    "title": {
                      "x": 0.05
                    },
                    "xaxis": {
                      "automargin": true,
                      "gridcolor": "white",
                      "linecolor": "white",
                      "ticks": "",
                      "title": {
                        "standoff": 15
                      },
                      "zerolinecolor": "white",
                      "zerolinewidth": 2
                    },
                    "yaxis": {
                      "automargin": true,
                      "gridcolor": "white",
                      "linecolor": "white",
                      "ticks": "",
                      "title": {
                        "standoff": 15
                      },
                      "zerolinecolor": "white",
                      "zerolinewidth": 2
                    }
                  }
                },
                "xaxis": {
                  "anchor": "y",
                  "domain": [
                    0,
                    1
                  ],
                  "title": {
                    "text": "Age"
                  }
                },
                "yaxis": {
                  "anchor": "x",
                  "domain": [
                    0,
                    1
                  ],
                  "title": {
                    "text": "Fare"
                  }
                }
              }
            }
          },
          "metadata": {},
          "output_type": "display_data"
        }
      ],
      "source": [
        "# Graphe données \"vraies\" (true)\n",
        "\n",
        "df_graph_true = pd.concat([X_test, y_test], axis=1)\n",
        "df_graph_true.head()\n",
        "fig = px.scatter(df_graph_true, x=\"Age\", y=\"Fare\", color=\"Survived\")\n",
        "fig.show()"
      ]
    },
    {
      "cell_type": "code",
      "execution_count": 44,
      "metadata": {
        "colab": {
          "base_uri": "https://localhost:8080/"
        },
        "id": "EpzMNl9FvbgJ",
        "outputId": "be5904aa-cf48-4e75-d0d7-8b88bff0fe18"
      },
      "outputs": [
        {
          "data": {
            "text/plain": [
              "array([0, 0, 1, 1, 0, 1, 1, 0, 1, 1, 1, 0, 0, 0, 0, 1, 0, 1, 0, 0, 0, 1,\n",
              "       0, 0, 0, 0, 0, 0, 0, 1, 0, 1, 0, 0, 0, 0, 0, 1, 1, 0, 0, 0, 0, 0,\n",
              "       0, 0, 0, 0, 0, 0, 1, 1, 0, 1, 0, 1, 0, 1, 1, 0, 0, 1, 1, 0, 0, 1,\n",
              "       0, 1, 0, 1, 1, 1, 1, 1, 0, 0, 1, 1, 1, 0, 0, 1, 1, 0, 0, 0, 1, 1,\n",
              "       0, 0, 0, 0, 0, 0, 0, 0, 0, 0, 1, 0, 0, 0, 1, 0, 0, 1, 1, 0, 0, 0,\n",
              "       1, 0, 1, 1, 0, 0, 0, 0, 1, 0, 0, 1, 1, 1, 0, 1, 1, 0, 0, 0, 1, 0,\n",
              "       0, 1, 0, 0, 1, 0, 0, 0, 0, 1, 0, 0, 0, 1, 0, 1, 1, 0, 0, 0, 0, 0,\n",
              "       0, 0, 1, 1, 1, 1, 0, 0, 0, 1, 0, 0, 0, 1, 0, 0, 0, 1, 1, 0, 0, 0,\n",
              "       0, 1, 1, 0, 0, 0, 0, 0, 0, 1, 0, 0, 0, 1, 0, 0, 0, 0, 1, 1, 1, 0,\n",
              "       1, 0, 0, 1, 1, 0, 0, 1, 0, 1, 0, 0, 0, 0, 1, 0, 0, 1, 1, 0, 1, 0,\n",
              "       0, 1, 0, 1, 0, 1, 0, 1, 1, 0, 0, 1, 0, 1, 0, 0, 1, 0, 1, 0, 0, 1,\n",
              "       0, 0, 0, 0, 0, 0, 0, 0, 1, 0, 0, 0, 0, 0, 0, 1, 0, 1, 1, 0, 1, 0,\n",
              "       0, 0, 0, 1, 1, 0, 1, 0, 0, 1, 1, 0, 0, 1, 1, 0, 0, 0, 1, 0, 0, 0,\n",
              "       1, 1, 1, 1, 0, 0, 1, 1, 0])"
            ]
          },
          "execution_count": 44,
          "metadata": {},
          "output_type": "execute_result"
        }
      ],
      "source": [
        "# Il faut que j'affiche des points Survived_predict\n",
        "rfc_pipeline.predict(X_test)\n",
        "# Problème les sorties ne sont pas un dataframe"
      ]
    },
    {
      "cell_type": "code",
      "execution_count": 45,
      "metadata": {
        "colab": {
          "base_uri": "https://localhost:8080/",
          "height": 206
        },
        "id": "sTYgVcLHt6Ro",
        "outputId": "3b55867a-18df-48f5-932b-17295d98dccc"
      },
      "outputs": [
        {
          "data": {
            "text/html": [
              "<div>\n",
              "<style scoped>\n",
              "    .dataframe tbody tr th:only-of-type {\n",
              "        vertical-align: middle;\n",
              "    }\n",
              "\n",
              "    .dataframe tbody tr th {\n",
              "        vertical-align: top;\n",
              "    }\n",
              "\n",
              "    .dataframe thead th {\n",
              "        text-align: right;\n",
              "    }\n",
              "</style>\n",
              "<table border=\"1\" class=\"dataframe\">\n",
              "  <thead>\n",
              "    <tr style=\"text-align: right;\">\n",
              "      <th></th>\n",
              "      <th>Survived</th>\n",
              "    </tr>\n",
              "  </thead>\n",
              "  <tbody>\n",
              "    <tr>\n",
              "      <th>0</th>\n",
              "      <td>0</td>\n",
              "    </tr>\n",
              "    <tr>\n",
              "      <th>1</th>\n",
              "      <td>0</td>\n",
              "    </tr>\n",
              "    <tr>\n",
              "      <th>2</th>\n",
              "      <td>1</td>\n",
              "    </tr>\n",
              "    <tr>\n",
              "      <th>3</th>\n",
              "      <td>1</td>\n",
              "    </tr>\n",
              "    <tr>\n",
              "      <th>4</th>\n",
              "      <td>0</td>\n",
              "    </tr>\n",
              "  </tbody>\n",
              "</table>\n",
              "</div>"
            ],
            "text/plain": [
              "   Survived\n",
              "0         0\n",
              "1         0\n",
              "2         1\n",
              "3         1\n",
              "4         0"
            ]
          },
          "execution_count": 45,
          "metadata": {},
          "output_type": "execute_result"
        }
      ],
      "source": [
        "y_predict = pd.DataFrame(rfc_pipeline.predict(X_test), columns=[\"Survived\"])\n",
        "y_predict.head()"
      ]
    },
    {
      "cell_type": "code",
      "execution_count": 46,
      "metadata": {
        "colab": {
          "base_uri": "https://localhost:8080/",
          "height": 206
        },
        "id": "i4qhJv77w4rN",
        "outputId": "debb0fcb-71fb-434e-f27b-6eb9528b5d97"
      },
      "outputs": [
        {
          "data": {
            "text/html": [
              "<div>\n",
              "<style scoped>\n",
              "    .dataframe tbody tr th:only-of-type {\n",
              "        vertical-align: middle;\n",
              "    }\n",
              "\n",
              "    .dataframe tbody tr th {\n",
              "        vertical-align: top;\n",
              "    }\n",
              "\n",
              "    .dataframe thead th {\n",
              "        text-align: right;\n",
              "    }\n",
              "</style>\n",
              "<table border=\"1\" class=\"dataframe\">\n",
              "  <thead>\n",
              "    <tr style=\"text-align: right;\">\n",
              "      <th></th>\n",
              "      <th>Pclass</th>\n",
              "      <th>Sex</th>\n",
              "      <th>Age</th>\n",
              "      <th>Fare</th>\n",
              "      <th>Survived</th>\n",
              "    </tr>\n",
              "  </thead>\n",
              "  <tbody>\n",
              "    <tr>\n",
              "      <th>0</th>\n",
              "      <td>3</td>\n",
              "      <td>male</td>\n",
              "      <td>NaN</td>\n",
              "      <td>15.2458</td>\n",
              "      <td>0</td>\n",
              "    </tr>\n",
              "    <tr>\n",
              "      <th>1</th>\n",
              "      <td>2</td>\n",
              "      <td>male</td>\n",
              "      <td>31.0</td>\n",
              "      <td>10.5000</td>\n",
              "      <td>0</td>\n",
              "    </tr>\n",
              "    <tr>\n",
              "      <th>2</th>\n",
              "      <td>3</td>\n",
              "      <td>male</td>\n",
              "      <td>20.0</td>\n",
              "      <td>7.9250</td>\n",
              "      <td>1</td>\n",
              "    </tr>\n",
              "    <tr>\n",
              "      <th>3</th>\n",
              "      <td>2</td>\n",
              "      <td>female</td>\n",
              "      <td>6.0</td>\n",
              "      <td>33.0000</td>\n",
              "      <td>1</td>\n",
              "    </tr>\n",
              "    <tr>\n",
              "      <th>4</th>\n",
              "      <td>3</td>\n",
              "      <td>female</td>\n",
              "      <td>14.0</td>\n",
              "      <td>11.2417</td>\n",
              "      <td>0</td>\n",
              "    </tr>\n",
              "  </tbody>\n",
              "</table>\n",
              "</div>"
            ],
            "text/plain": [
              "   Pclass     Sex   Age     Fare  Survived\n",
              "0       3    male   NaN  15.2458         0\n",
              "1       2    male  31.0  10.5000         0\n",
              "2       3    male  20.0   7.9250         1\n",
              "3       2  female   6.0  33.0000         1\n",
              "4       3  female  14.0  11.2417         0"
            ]
          },
          "execution_count": 46,
          "metadata": {},
          "output_type": "execute_result"
        }
      ],
      "source": [
        "df_graph_predict = pd.concat([X_test.reset_index(drop=True), y_predict.reset_index(drop=True)], axis=1) #+ y-test + colonne erreur = y-test - y-predict\n",
        "df_graph_predict.head()"
      ]
    },
    {
      "cell_type": "code",
      "execution_count": 47,
      "metadata": {
        "colab": {
          "base_uri": "https://localhost:8080/",
          "height": 206
        },
        "id": "m2PCYRpBx_7h",
        "outputId": "eb0bdf23-2d76-4b07-c43c-59e773a021d2"
      },
      "outputs": [
        {
          "data": {
            "text/html": [
              "<div>\n",
              "<style scoped>\n",
              "    .dataframe tbody tr th:only-of-type {\n",
              "        vertical-align: middle;\n",
              "    }\n",
              "\n",
              "    .dataframe tbody tr th {\n",
              "        vertical-align: top;\n",
              "    }\n",
              "\n",
              "    .dataframe thead th {\n",
              "        text-align: right;\n",
              "    }\n",
              "</style>\n",
              "<table border=\"1\" class=\"dataframe\">\n",
              "  <thead>\n",
              "    <tr style=\"text-align: right;\">\n",
              "      <th></th>\n",
              "      <th>Pclass</th>\n",
              "      <th>Sex</th>\n",
              "      <th>Age</th>\n",
              "      <th>Fare</th>\n",
              "      <th>Survived</th>\n",
              "    </tr>\n",
              "  </thead>\n",
              "  <tbody>\n",
              "    <tr>\n",
              "      <th>0</th>\n",
              "      <td>3</td>\n",
              "      <td>male</td>\n",
              "      <td>NaN</td>\n",
              "      <td>15.2458</td>\n",
              "      <td>2</td>\n",
              "    </tr>\n",
              "    <tr>\n",
              "      <th>1</th>\n",
              "      <td>2</td>\n",
              "      <td>male</td>\n",
              "      <td>31.0</td>\n",
              "      <td>10.5000</td>\n",
              "      <td>2</td>\n",
              "    </tr>\n",
              "    <tr>\n",
              "      <th>2</th>\n",
              "      <td>3</td>\n",
              "      <td>male</td>\n",
              "      <td>20.0</td>\n",
              "      <td>7.9250</td>\n",
              "      <td>3</td>\n",
              "    </tr>\n",
              "    <tr>\n",
              "      <th>3</th>\n",
              "      <td>2</td>\n",
              "      <td>female</td>\n",
              "      <td>6.0</td>\n",
              "      <td>33.0000</td>\n",
              "      <td>3</td>\n",
              "    </tr>\n",
              "    <tr>\n",
              "      <th>4</th>\n",
              "      <td>3</td>\n",
              "      <td>female</td>\n",
              "      <td>14.0</td>\n",
              "      <td>11.2417</td>\n",
              "      <td>2</td>\n",
              "    </tr>\n",
              "  </tbody>\n",
              "</table>\n",
              "</div>"
            ],
            "text/plain": [
              "   Pclass     Sex   Age     Fare  Survived\n",
              "0       3    male   NaN  15.2458         2\n",
              "1       2    male  31.0  10.5000         2\n",
              "2       3    male  20.0   7.9250         3\n",
              "3       2  female   6.0  33.0000         3\n",
              "4       3  female  14.0  11.2417         2"
            ]
          },
          "execution_count": 47,
          "metadata": {},
          "output_type": "execute_result"
        }
      ],
      "source": [
        "# Problème: je veux des couleurs différentes pour les survived du predict: je vais mettre +2 pour avoir 2 et 3 au lieu de 0 et 1\n",
        "df_graph_predict['Survived'] = df_graph_predict['Survived'] + 2\n",
        "df_graph_predict.head()"
      ]
    },
    {
      "cell_type": "code",
      "execution_count": 48,
      "metadata": {
        "colab": {
          "base_uri": "https://localhost:8080/",
          "height": 206
        },
        "id": "myvqhNknyXYH",
        "outputId": "03956e46-d836-4d59-845e-6a1c2fff8b8b"
      },
      "outputs": [
        {
          "data": {
            "text/html": [
              "<div>\n",
              "<style scoped>\n",
              "    .dataframe tbody tr th:only-of-type {\n",
              "        vertical-align: middle;\n",
              "    }\n",
              "\n",
              "    .dataframe tbody tr th {\n",
              "        vertical-align: top;\n",
              "    }\n",
              "\n",
              "    .dataframe thead th {\n",
              "        text-align: right;\n",
              "    }\n",
              "</style>\n",
              "<table border=\"1\" class=\"dataframe\">\n",
              "  <thead>\n",
              "    <tr style=\"text-align: right;\">\n",
              "      <th></th>\n",
              "      <th>Pclass</th>\n",
              "      <th>Sex</th>\n",
              "      <th>Age</th>\n",
              "      <th>Fare</th>\n",
              "      <th>Survived</th>\n",
              "    </tr>\n",
              "  </thead>\n",
              "  <tbody>\n",
              "    <tr>\n",
              "      <th>709</th>\n",
              "      <td>3</td>\n",
              "      <td>male</td>\n",
              "      <td>NaN</td>\n",
              "      <td>15.2458</td>\n",
              "      <td>1</td>\n",
              "    </tr>\n",
              "    <tr>\n",
              "      <th>439</th>\n",
              "      <td>2</td>\n",
              "      <td>male</td>\n",
              "      <td>31.0</td>\n",
              "      <td>10.5000</td>\n",
              "      <td>0</td>\n",
              "    </tr>\n",
              "    <tr>\n",
              "      <th>840</th>\n",
              "      <td>3</td>\n",
              "      <td>male</td>\n",
              "      <td>20.0</td>\n",
              "      <td>7.9250</td>\n",
              "      <td>0</td>\n",
              "    </tr>\n",
              "    <tr>\n",
              "      <th>720</th>\n",
              "      <td>2</td>\n",
              "      <td>female</td>\n",
              "      <td>6.0</td>\n",
              "      <td>33.0000</td>\n",
              "      <td>1</td>\n",
              "    </tr>\n",
              "    <tr>\n",
              "      <th>39</th>\n",
              "      <td>3</td>\n",
              "      <td>female</td>\n",
              "      <td>14.0</td>\n",
              "      <td>11.2417</td>\n",
              "      <td>1</td>\n",
              "    </tr>\n",
              "  </tbody>\n",
              "</table>\n",
              "</div>"
            ],
            "text/plain": [
              "     Pclass     Sex   Age     Fare  Survived\n",
              "709       3    male   NaN  15.2458         1\n",
              "439       2    male  31.0  10.5000         0\n",
              "840       3    male  20.0   7.9250         0\n",
              "720       2  female   6.0  33.0000         1\n",
              "39        3  female  14.0  11.2417         1"
            ]
          },
          "execution_count": 48,
          "metadata": {},
          "output_type": "execute_result"
        }
      ],
      "source": [
        "# Je concatène les lignes\n",
        "df_graph = pd.concat([df_graph_true, df_graph_predict])\n",
        "df_graph.head()"
      ]
    },
    {
      "cell_type": "code",
      "execution_count": 49,
      "metadata": {
        "colab": {
          "base_uri": "https://localhost:8080/",
          "height": 542
        },
        "id": "-y4a-rX3ygwH",
        "outputId": "2313cc3a-217b-4ad0-9aca-070e37df6e69"
      },
      "outputs": [
        {
          "data": {
            "application/vnd.plotly.v1+json": {
              "config": {
                "plotlyServerURL": "https://plot.ly"
              },
              "data": [
                {
                  "hovertemplate": "Age=%{x}<br>Fare=%{y}<br>Survived=%{marker.color}<extra></extra>",
                  "legendgroup": "",
                  "marker": {
                    "color": [
                      1,
                      0,
                      0,
                      1,
                      1,
                      1,
                      1,
                      0,
                      1,
                      1,
                      0,
                      0,
                      0,
                      0,
                      0,
                      1,
                      1,
                      1,
                      0,
                      0,
                      0,
                      1,
                      1,
                      0,
                      0,
                      0,
                      0,
                      1,
                      0,
                      0,
                      0,
                      1,
                      0,
                      0,
                      1,
                      0,
                      1,
                      1,
                      1,
                      0,
                      0,
                      0,
                      0,
                      0,
                      0,
                      0,
                      0,
                      0,
                      0,
                      0,
                      1,
                      1,
                      0,
                      1,
                      0,
                      1,
                      0,
                      1,
                      1,
                      1,
                      0,
                      1,
                      1,
                      0,
                      0,
                      0,
                      0,
                      0,
                      0,
                      1,
                      0,
                      1,
                      1,
                      1,
                      0,
                      0,
                      0,
                      1,
                      0,
                      0,
                      0,
                      1,
                      1,
                      0,
                      0,
                      0,
                      1,
                      1,
                      0,
                      0,
                      1,
                      0,
                      0,
                      0,
                      0,
                      0,
                      1,
                      1,
                      1,
                      0,
                      0,
                      0,
                      1,
                      0,
                      0,
                      0,
                      1,
                      0,
                      1,
                      1,
                      1,
                      0,
                      1,
                      1,
                      0,
                      0,
                      0,
                      0,
                      1,
                      0,
                      0,
                      1,
                      1,
                      1,
                      0,
                      1,
                      1,
                      0,
                      0,
                      0,
                      1,
                      1,
                      0,
                      1,
                      1,
                      1,
                      1,
                      0,
                      0,
                      0,
                      0,
                      0,
                      0,
                      0,
                      0,
                      1,
                      0,
                      0,
                      1,
                      0,
                      0,
                      0,
                      0,
                      1,
                      0,
                      0,
                      1,
                      1,
                      1,
                      0,
                      0,
                      1,
                      0,
                      1,
                      0,
                      0,
                      0,
                      1,
                      0,
                      0,
                      1,
                      1,
                      1,
                      0,
                      0,
                      0,
                      1,
                      1,
                      1,
                      0,
                      0,
                      0,
                      0,
                      0,
                      0,
                      0,
                      0,
                      0,
                      1,
                      1,
                      0,
                      0,
                      0,
                      1,
                      1,
                      1,
                      1,
                      0,
                      1,
                      0,
                      0,
                      0,
                      1,
                      1,
                      1,
                      1,
                      0,
                      1,
                      0,
                      0,
                      0,
                      0,
                      1,
                      0,
                      0,
                      0,
                      1,
                      0,
                      1,
                      0,
                      0,
                      0,
                      0,
                      1,
                      0,
                      1,
                      0,
                      1,
                      1,
                      1,
                      0,
                      1,
                      0,
                      1,
                      0,
                      1,
                      1,
                      1,
                      1,
                      0,
                      0,
                      1,
                      0,
                      0,
                      0,
                      0,
                      0,
                      0,
                      0,
                      1,
                      1,
                      0,
                      0,
                      0,
                      1,
                      1,
                      0,
                      1,
                      0,
                      1,
                      1,
                      0,
                      1,
                      1,
                      0,
                      0,
                      0,
                      1,
                      1,
                      0,
                      1,
                      0,
                      0,
                      0,
                      1,
                      0,
                      0,
                      0,
                      1,
                      0,
                      0,
                      0,
                      1,
                      0,
                      0,
                      0,
                      1,
                      0,
                      1,
                      1,
                      0,
                      0,
                      1,
                      0,
                      0,
                      2,
                      2,
                      3,
                      3,
                      2,
                      3,
                      3,
                      2,
                      3,
                      3,
                      3,
                      2,
                      2,
                      2,
                      2,
                      3,
                      2,
                      3,
                      2,
                      2,
                      2,
                      3,
                      2,
                      2,
                      2,
                      2,
                      2,
                      2,
                      2,
                      3,
                      2,
                      3,
                      2,
                      2,
                      2,
                      2,
                      2,
                      3,
                      3,
                      2,
                      2,
                      2,
                      2,
                      2,
                      2,
                      2,
                      2,
                      2,
                      2,
                      2,
                      3,
                      3,
                      2,
                      3,
                      2,
                      3,
                      2,
                      3,
                      3,
                      2,
                      2,
                      3,
                      3,
                      2,
                      2,
                      3,
                      2,
                      3,
                      2,
                      3,
                      3,
                      3,
                      3,
                      3,
                      2,
                      2,
                      3,
                      3,
                      3,
                      2,
                      2,
                      3,
                      3,
                      2,
                      2,
                      2,
                      3,
                      3,
                      2,
                      2,
                      2,
                      2,
                      2,
                      2,
                      2,
                      2,
                      2,
                      2,
                      3,
                      2,
                      2,
                      2,
                      3,
                      2,
                      2,
                      3,
                      3,
                      2,
                      2,
                      2,
                      3,
                      2,
                      3,
                      3,
                      2,
                      2,
                      2,
                      2,
                      3,
                      2,
                      2,
                      3,
                      3,
                      3,
                      2,
                      3,
                      3,
                      2,
                      2,
                      2,
                      3,
                      2,
                      2,
                      3,
                      2,
                      2,
                      3,
                      2,
                      2,
                      2,
                      2,
                      3,
                      2,
                      2,
                      2,
                      3,
                      2,
                      3,
                      3,
                      2,
                      2,
                      2,
                      2,
                      2,
                      2,
                      2,
                      3,
                      3,
                      3,
                      3,
                      2,
                      2,
                      2,
                      3,
                      2,
                      2,
                      2,
                      3,
                      2,
                      2,
                      2,
                      3,
                      3,
                      2,
                      2,
                      2,
                      2,
                      3,
                      3,
                      2,
                      2,
                      2,
                      2,
                      2,
                      2,
                      3,
                      2,
                      2,
                      2,
                      3,
                      2,
                      2,
                      2,
                      2,
                      3,
                      3,
                      3,
                      2,
                      3,
                      2,
                      2,
                      3,
                      3,
                      2,
                      2,
                      3,
                      2,
                      3,
                      2,
                      2,
                      2,
                      2,
                      3,
                      2,
                      2,
                      3,
                      3,
                      2,
                      3,
                      2,
                      2,
                      3,
                      2,
                      3,
                      2,
                      3,
                      2,
                      3,
                      3,
                      2,
                      2,
                      3,
                      2,
                      3,
                      2,
                      2,
                      3,
                      2,
                      3,
                      2,
                      2,
                      3,
                      2,
                      2,
                      2,
                      2,
                      2,
                      2,
                      2,
                      2,
                      3,
                      2,
                      2,
                      2,
                      2,
                      2,
                      2,
                      3,
                      2,
                      3,
                      3,
                      2,
                      3,
                      2,
                      2,
                      2,
                      2,
                      3,
                      3,
                      2,
                      3,
                      2,
                      2,
                      3,
                      3,
                      2,
                      2,
                      3,
                      3,
                      2,
                      2,
                      2,
                      3,
                      2,
                      2,
                      2,
                      3,
                      3,
                      3,
                      3,
                      2,
                      2,
                      3,
                      3,
                      2
                    ],
                    "coloraxis": "coloraxis",
                    "symbol": "circle"
                  },
                  "mode": "markers",
                  "name": "",
                  "orientation": "v",
                  "showlegend": false,
                  "type": "scatter",
                  "x": [
                    null,
                    31,
                    20,
                    6,
                    14,
                    26,
                    null,
                    16,
                    16,
                    19,
                    37,
                    44,
                    null,
                    30,
                    36,
                    16,
                    42,
                    null,
                    27,
                    47,
                    24,
                    34,
                    19,
                    20,
                    null,
                    10,
                    40,
                    31,
                    4,
                    31,
                    19,
                    22,
                    null,
                    null,
                    18,
                    27,
                    28,
                    null,
                    30,
                    null,
                    21,
                    29,
                    null,
                    null,
                    45,
                    16,
                    19,
                    23,
                    24,
                    58,
                    5,
                    52,
                    40,
                    11,
                    65,
                    18,
                    32,
                    50,
                    35,
                    19,
                    21,
                    13,
                    28,
                    null,
                    null,
                    57,
                    21,
                    29,
                    17,
                    52,
                    26,
                    18,
                    26,
                    39,
                    23,
                    36,
                    30.5,
                    22,
                    38,
                    41,
                    16,
                    29,
                    40,
                    null,
                    56,
                    71,
                    31,
                    30,
                    38,
                    null,
                    9,
                    9,
                    61,
                    null,
                    null,
                    28,
                    48,
                    45,
                    36,
                    27,
                    64,
                    35,
                    19,
                    38,
                    30.5,
                    25,
                    40,
                    47,
                    30,
                    40,
                    null,
                    20.5,
                    null,
                    36,
                    null,
                    20,
                    71,
                    36,
                    22,
                    48,
                    23,
                    32,
                    63,
                    0.83,
                    25,
                    35,
                    49,
                    24,
                    null,
                    21,
                    null,
                    null,
                    null,
                    5,
                    49,
                    15,
                    null,
                    29,
                    42,
                    18,
                    21,
                    44,
                    28,
                    37,
                    39,
                    34,
                    30,
                    66,
                    null,
                    43,
                    null,
                    24,
                    18,
                    null,
                    null,
                    null,
                    null,
                    null,
                    36,
                    32,
                    23.5,
                    null,
                    39,
                    null,
                    null,
                    65,
                    23,
                    null,
                    22,
                    35,
                    23,
                    18,
                    36,
                    9,
                    17,
                    null,
                    38,
                    17,
                    4,
                    45.5,
                    23,
                    32,
                    26,
                    6,
                    24,
                    45,
                    29,
                    null,
                    null,
                    42,
                    36,
                    33,
                    17,
                    29,
                    50,
                    35,
                    38,
                    34,
                    17,
                    11,
                    61,
                    30,
                    7,
                    63,
                    20,
                    null,
                    29,
                    36,
                    null,
                    50,
                    27,
                    30,
                    33,
                    null,
                    null,
                    2,
                    25,
                    51,
                    25,
                    null,
                    null,
                    24,
                    18,
                    null,
                    25,
                    24,
                    22,
                    0.92,
                    24,
                    26,
                    34,
                    21,
                    null,
                    null,
                    null,
                    22,
                    62,
                    18,
                    42,
                    57,
                    19,
                    42,
                    null,
                    20,
                    34.5,
                    28,
                    null,
                    23,
                    22,
                    52,
                    30,
                    36.5,
                    null,
                    22,
                    50,
                    27,
                    22,
                    51,
                    36,
                    29,
                    22,
                    50,
                    40,
                    27,
                    null,
                    65,
                    17,
                    28,
                    4,
                    null,
                    1,
                    36,
                    43,
                    38,
                    31,
                    29,
                    18,
                    null,
                    39,
                    39,
                    26,
                    20,
                    null,
                    49,
                    23,
                    1,
                    null,
                    null,
                    3,
                    4,
                    19,
                    40.5,
                    1,
                    null,
                    21,
                    null,
                    31,
                    20,
                    6,
                    14,
                    26,
                    null,
                    16,
                    16,
                    19,
                    37,
                    44,
                    null,
                    30,
                    36,
                    16,
                    42,
                    null,
                    27,
                    47,
                    24,
                    34,
                    19,
                    20,
                    null,
                    10,
                    40,
                    31,
                    4,
                    31,
                    19,
                    22,
                    null,
                    null,
                    18,
                    27,
                    28,
                    null,
                    30,
                    null,
                    21,
                    29,
                    null,
                    null,
                    45,
                    16,
                    19,
                    23,
                    24,
                    58,
                    5,
                    52,
                    40,
                    11,
                    65,
                    18,
                    32,
                    50,
                    35,
                    19,
                    21,
                    13,
                    28,
                    null,
                    null,
                    57,
                    21,
                    29,
                    17,
                    52,
                    26,
                    18,
                    26,
                    39,
                    23,
                    36,
                    30.5,
                    22,
                    38,
                    41,
                    16,
                    29,
                    40,
                    null,
                    56,
                    71,
                    31,
                    30,
                    38,
                    null,
                    9,
                    9,
                    61,
                    null,
                    null,
                    28,
                    48,
                    45,
                    36,
                    27,
                    64,
                    35,
                    19,
                    38,
                    30.5,
                    25,
                    40,
                    47,
                    30,
                    40,
                    null,
                    20.5,
                    null,
                    36,
                    null,
                    20,
                    71,
                    36,
                    22,
                    48,
                    23,
                    32,
                    63,
                    0.83,
                    25,
                    35,
                    49,
                    24,
                    null,
                    21,
                    null,
                    null,
                    null,
                    5,
                    49,
                    15,
                    null,
                    29,
                    42,
                    18,
                    21,
                    44,
                    28,
                    37,
                    39,
                    34,
                    30,
                    66,
                    null,
                    43,
                    null,
                    24,
                    18,
                    null,
                    null,
                    null,
                    null,
                    null,
                    36,
                    32,
                    23.5,
                    null,
                    39,
                    null,
                    null,
                    65,
                    23,
                    null,
                    22,
                    35,
                    23,
                    18,
                    36,
                    9,
                    17,
                    null,
                    38,
                    17,
                    4,
                    45.5,
                    23,
                    32,
                    26,
                    6,
                    24,
                    45,
                    29,
                    null,
                    null,
                    42,
                    36,
                    33,
                    17,
                    29,
                    50,
                    35,
                    38,
                    34,
                    17,
                    11,
                    61,
                    30,
                    7,
                    63,
                    20,
                    null,
                    29,
                    36,
                    null,
                    50,
                    27,
                    30,
                    33,
                    null,
                    null,
                    2,
                    25,
                    51,
                    25,
                    null,
                    null,
                    24,
                    18,
                    null,
                    25,
                    24,
                    22,
                    0.92,
                    24,
                    26,
                    34,
                    21,
                    null,
                    null,
                    null,
                    22,
                    62,
                    18,
                    42,
                    57,
                    19,
                    42,
                    null,
                    20,
                    34.5,
                    28,
                    null,
                    23,
                    22,
                    52,
                    30,
                    36.5,
                    null,
                    22,
                    50,
                    27,
                    22,
                    51,
                    36,
                    29,
                    22,
                    50,
                    40,
                    27,
                    null,
                    65,
                    17,
                    28,
                    4,
                    null,
                    1,
                    36,
                    43,
                    38,
                    31,
                    29,
                    18,
                    null,
                    39,
                    39,
                    26,
                    20,
                    null,
                    49,
                    23,
                    1,
                    null,
                    null,
                    3,
                    4,
                    19,
                    40.5,
                    1,
                    null,
                    21
                  ],
                  "xaxis": "x",
                  "y": [
                    15.2458,
                    10.5,
                    7.925,
                    33,
                    11.2417,
                    78.85,
                    7.75,
                    18,
                    7.75,
                    26.2833,
                    53.1,
                    8.05,
                    25.4667,
                    7.225,
                    13,
                    39.4,
                    52.5542,
                    7.8292,
                    13,
                    52,
                    7.8958,
                    26.55,
                    7.8542,
                    9.225,
                    14.5,
                    27.9,
                    27.7208,
                    13,
                    27.9,
                    7.8542,
                    7.8958,
                    7.75,
                    30.6958,
                    7.55,
                    8.05,
                    14.4542,
                    35.5,
                    7.75,
                    31,
                    7.8958,
                    73.5,
                    7.0458,
                    8.05,
                    7.75,
                    14.4542,
                    34.375,
                    8.1583,
                    9.225,
                    7.05,
                    113.275,
                    19.2583,
                    93.5,
                    27.9,
                    120,
                    7.75,
                    79.65,
                    10.5,
                    247.5208,
                    21,
                    7.8792,
                    7.775,
                    19.5,
                    26,
                    25.925,
                    7.75,
                    10.5,
                    73.5,
                    7.875,
                    7.2292,
                    78.2667,
                    26,
                    262.375,
                    30,
                    83.1583,
                    7.8542,
                    15.55,
                    7.75,
                    49.5,
                    13,
                    20.2125,
                    39.6875,
                    10.5,
                    134.5,
                    7.7375,
                    30.6958,
                    49.5042,
                    113.275,
                    56.9292,
                    0,
                    7.25,
                    20.525,
                    31.275,
                    32.3208,
                    7.7292,
                    7.8958,
                    7.8542,
                    52,
                    8.05,
                    13,
                    7.8958,
                    26,
                    7.125,
                    91.0792,
                    7.05,
                    8.05,
                    7.775,
                    39,
                    38.5,
                    9.5,
                    31,
                    52,
                    7.25,
                    89.1042,
                    26.2875,
                    221.7792,
                    9.8458,
                    34.6542,
                    12.875,
                    29,
                    34.375,
                    11.5,
                    76.2917,
                    77.9583,
                    29,
                    7.25,
                    26.55,
                    25.9292,
                    79.2,
                    14.4583,
                    8.05,
                    7.8792,
                    15.2458,
                    0,
                    12.475,
                    56.9292,
                    14.4542,
                    110.8833,
                    7.775,
                    7.55,
                    17.8,
                    8.4333,
                    26,
                    13,
                    26,
                    29.125,
                    32.5,
                    13,
                    10.5,
                    146.5208,
                    8.05,
                    8.7125,
                    7.4958,
                    7.7958,
                    24.15,
                    8.05,
                    7.05,
                    56.4958,
                    7.7875,
                    26,
                    15.5,
                    7.2292,
                    26.55,
                    13,
                    82.1708,
                    8.4583,
                    61.9792,
                    10.5,
                    51.8625,
                    7.8958,
                    7.05,
                    63.3583,
                    13,
                    26.3875,
                    15.2458,
                    7.125,
                    7.225,
                    31.3875,
                    10.5,
                    16.7,
                    28.5,
                    13,
                    7.925,
                    7.8542,
                    31.275,
                    247.5208,
                    26.55,
                    27.7208,
                    7.8958,
                    35.5,
                    13,
                    24.15,
                    12.275,
                    7.0542,
                    9.5,
                    26,
                    90,
                    227.525,
                    13,
                    57,
                    31.275,
                    6.2375,
                    8.6625,
                    26.25,
                    9.5875,
                    7.2292,
                    22.3583,
                    9.4833,
                    120,
                    14.4583,
                    8.05,
                    211.5,
                    7.25,
                    90,
                    7.725,
                    25.4667,
                    21.075,
                    30,
                    61.3792,
                    26,
                    7.25,
                    7.8958,
                    13,
                    20.2125,
                    30.5,
                    7.05,
                    14.5,
                    7.5208,
                    151.55,
                    26,
                    7.925,
                    21,
                    262.375,
                    7.75,
                    7.2292,
                    8.6625,
                    7.775,
                    80,
                    9.8417,
                    227.525,
                    12.35,
                    0,
                    26,
                    7.225,
                    8.6625,
                    6.4375,
                    9.5,
                    8.05,
                    7.8958,
                    7.25,
                    30.5,
                    12.475,
                    26,
                    7.75,
                    7.2292,
                    133.65,
                    6.975,
                    8.05,
                    77.9583,
                    10.5,
                    26,
                    151.55,
                    106.425,
                    13,
                    8.6625,
                    0,
                    26.55,
                    8.6625,
                    26.55,
                    81.8583,
                    7.8958,
                    11.1333,
                    27.75,
                    26.25,
                    153.4625,
                    26.25,
                    8.05,
                    8.3,
                    15.05,
                    110.8833,
                    13,
                    8.6625,
                    7.05,
                    133.65,
                    0,
                    15.0458,
                    39.6875,
                    7.8792,
                    23.45,
                    26,
                    11.1333,
                    7.65,
                    7.75,
                    15.7417,
                    15.2458,
                    7.925,
                    15.2458,
                    10.5,
                    7.925,
                    33,
                    11.2417,
                    78.85,
                    7.75,
                    18,
                    7.75,
                    26.2833,
                    53.1,
                    8.05,
                    25.4667,
                    7.225,
                    13,
                    39.4,
                    52.5542,
                    7.8292,
                    13,
                    52,
                    7.8958,
                    26.55,
                    7.8542,
                    9.225,
                    14.5,
                    27.9,
                    27.7208,
                    13,
                    27.9,
                    7.8542,
                    7.8958,
                    7.75,
                    30.6958,
                    7.55,
                    8.05,
                    14.4542,
                    35.5,
                    7.75,
                    31,
                    7.8958,
                    73.5,
                    7.0458,
                    8.05,
                    7.75,
                    14.4542,
                    34.375,
                    8.1583,
                    9.225,
                    7.05,
                    113.275,
                    19.2583,
                    93.5,
                    27.9,
                    120,
                    7.75,
                    79.65,
                    10.5,
                    247.5208,
                    21,
                    7.8792,
                    7.775,
                    19.5,
                    26,
                    25.925,
                    7.75,
                    10.5,
                    73.5,
                    7.875,
                    7.2292,
                    78.2667,
                    26,
                    262.375,
                    30,
                    83.1583,
                    7.8542,
                    15.55,
                    7.75,
                    49.5,
                    13,
                    20.2125,
                    39.6875,
                    10.5,
                    134.5,
                    7.7375,
                    30.6958,
                    49.5042,
                    113.275,
                    56.9292,
                    0,
                    7.25,
                    20.525,
                    31.275,
                    32.3208,
                    7.7292,
                    7.8958,
                    7.8542,
                    52,
                    8.05,
                    13,
                    7.8958,
                    26,
                    7.125,
                    91.0792,
                    7.05,
                    8.05,
                    7.775,
                    39,
                    38.5,
                    9.5,
                    31,
                    52,
                    7.25,
                    89.1042,
                    26.2875,
                    221.7792,
                    9.8458,
                    34.6542,
                    12.875,
                    29,
                    34.375,
                    11.5,
                    76.2917,
                    77.9583,
                    29,
                    7.25,
                    26.55,
                    25.9292,
                    79.2,
                    14.4583,
                    8.05,
                    7.8792,
                    15.2458,
                    0,
                    12.475,
                    56.9292,
                    14.4542,
                    110.8833,
                    7.775,
                    7.55,
                    17.8,
                    8.4333,
                    26,
                    13,
                    26,
                    29.125,
                    32.5,
                    13,
                    10.5,
                    146.5208,
                    8.05,
                    8.7125,
                    7.4958,
                    7.7958,
                    24.15,
                    8.05,
                    7.05,
                    56.4958,
                    7.7875,
                    26,
                    15.5,
                    7.2292,
                    26.55,
                    13,
                    82.1708,
                    8.4583,
                    61.9792,
                    10.5,
                    51.8625,
                    7.8958,
                    7.05,
                    63.3583,
                    13,
                    26.3875,
                    15.2458,
                    7.125,
                    7.225,
                    31.3875,
                    10.5,
                    16.7,
                    28.5,
                    13,
                    7.925,
                    7.8542,
                    31.275,
                    247.5208,
                    26.55,
                    27.7208,
                    7.8958,
                    35.5,
                    13,
                    24.15,
                    12.275,
                    7.0542,
                    9.5,
                    26,
                    90,
                    227.525,
                    13,
                    57,
                    31.275,
                    6.2375,
                    8.6625,
                    26.25,
                    9.5875,
                    7.2292,
                    22.3583,
                    9.4833,
                    120,
                    14.4583,
                    8.05,
                    211.5,
                    7.25,
                    90,
                    7.725,
                    25.4667,
                    21.075,
                    30,
                    61.3792,
                    26,
                    7.25,
                    7.8958,
                    13,
                    20.2125,
                    30.5,
                    7.05,
                    14.5,
                    7.5208,
                    151.55,
                    26,
                    7.925,
                    21,
                    262.375,
                    7.75,
                    7.2292,
                    8.6625,
                    7.775,
                    80,
                    9.8417,
                    227.525,
                    12.35,
                    0,
                    26,
                    7.225,
                    8.6625,
                    6.4375,
                    9.5,
                    8.05,
                    7.8958,
                    7.25,
                    30.5,
                    12.475,
                    26,
                    7.75,
                    7.2292,
                    133.65,
                    6.975,
                    8.05,
                    77.9583,
                    10.5,
                    26,
                    151.55,
                    106.425,
                    13,
                    8.6625,
                    0,
                    26.55,
                    8.6625,
                    26.55,
                    81.8583,
                    7.8958,
                    11.1333,
                    27.75,
                    26.25,
                    153.4625,
                    26.25,
                    8.05,
                    8.3,
                    15.05,
                    110.8833,
                    13,
                    8.6625,
                    7.05,
                    133.65,
                    0,
                    15.0458,
                    39.6875,
                    7.8792,
                    23.45,
                    26,
                    11.1333,
                    7.65,
                    7.75,
                    15.7417,
                    15.2458,
                    7.925
                  ],
                  "yaxis": "y"
                }
              ],
              "layout": {
                "coloraxis": {
                  "colorbar": {
                    "title": {
                      "text": "Survived"
                    }
                  },
                  "colorscale": [
                    [
                      0,
                      "#0d0887"
                    ],
                    [
                      0.1111111111111111,
                      "#46039f"
                    ],
                    [
                      0.2222222222222222,
                      "#7201a8"
                    ],
                    [
                      0.3333333333333333,
                      "#9c179e"
                    ],
                    [
                      0.4444444444444444,
                      "#bd3786"
                    ],
                    [
                      0.5555555555555556,
                      "#d8576b"
                    ],
                    [
                      0.6666666666666666,
                      "#ed7953"
                    ],
                    [
                      0.7777777777777778,
                      "#fb9f3a"
                    ],
                    [
                      0.8888888888888888,
                      "#fdca26"
                    ],
                    [
                      1,
                      "#f0f921"
                    ]
                  ]
                },
                "legend": {
                  "tracegroupgap": 0
                },
                "margin": {
                  "t": 60
                },
                "template": {
                  "data": {
                    "bar": [
                      {
                        "error_x": {
                          "color": "#2a3f5f"
                        },
                        "error_y": {
                          "color": "#2a3f5f"
                        },
                        "marker": {
                          "line": {
                            "color": "#E5ECF6",
                            "width": 0.5
                          },
                          "pattern": {
                            "fillmode": "overlay",
                            "size": 10,
                            "solidity": 0.2
                          }
                        },
                        "type": "bar"
                      }
                    ],
                    "barpolar": [
                      {
                        "marker": {
                          "line": {
                            "color": "#E5ECF6",
                            "width": 0.5
                          },
                          "pattern": {
                            "fillmode": "overlay",
                            "size": 10,
                            "solidity": 0.2
                          }
                        },
                        "type": "barpolar"
                      }
                    ],
                    "carpet": [
                      {
                        "aaxis": {
                          "endlinecolor": "#2a3f5f",
                          "gridcolor": "white",
                          "linecolor": "white",
                          "minorgridcolor": "white",
                          "startlinecolor": "#2a3f5f"
                        },
                        "baxis": {
                          "endlinecolor": "#2a3f5f",
                          "gridcolor": "white",
                          "linecolor": "white",
                          "minorgridcolor": "white",
                          "startlinecolor": "#2a3f5f"
                        },
                        "type": "carpet"
                      }
                    ],
                    "choropleth": [
                      {
                        "colorbar": {
                          "outlinewidth": 0,
                          "ticks": ""
                        },
                        "type": "choropleth"
                      }
                    ],
                    "contour": [
                      {
                        "colorbar": {
                          "outlinewidth": 0,
                          "ticks": ""
                        },
                        "colorscale": [
                          [
                            0,
                            "#0d0887"
                          ],
                          [
                            0.1111111111111111,
                            "#46039f"
                          ],
                          [
                            0.2222222222222222,
                            "#7201a8"
                          ],
                          [
                            0.3333333333333333,
                            "#9c179e"
                          ],
                          [
                            0.4444444444444444,
                            "#bd3786"
                          ],
                          [
                            0.5555555555555556,
                            "#d8576b"
                          ],
                          [
                            0.6666666666666666,
                            "#ed7953"
                          ],
                          [
                            0.7777777777777778,
                            "#fb9f3a"
                          ],
                          [
                            0.8888888888888888,
                            "#fdca26"
                          ],
                          [
                            1,
                            "#f0f921"
                          ]
                        ],
                        "type": "contour"
                      }
                    ],
                    "contourcarpet": [
                      {
                        "colorbar": {
                          "outlinewidth": 0,
                          "ticks": ""
                        },
                        "type": "contourcarpet"
                      }
                    ],
                    "heatmap": [
                      {
                        "colorbar": {
                          "outlinewidth": 0,
                          "ticks": ""
                        },
                        "colorscale": [
                          [
                            0,
                            "#0d0887"
                          ],
                          [
                            0.1111111111111111,
                            "#46039f"
                          ],
                          [
                            0.2222222222222222,
                            "#7201a8"
                          ],
                          [
                            0.3333333333333333,
                            "#9c179e"
                          ],
                          [
                            0.4444444444444444,
                            "#bd3786"
                          ],
                          [
                            0.5555555555555556,
                            "#d8576b"
                          ],
                          [
                            0.6666666666666666,
                            "#ed7953"
                          ],
                          [
                            0.7777777777777778,
                            "#fb9f3a"
                          ],
                          [
                            0.8888888888888888,
                            "#fdca26"
                          ],
                          [
                            1,
                            "#f0f921"
                          ]
                        ],
                        "type": "heatmap"
                      }
                    ],
                    "heatmapgl": [
                      {
                        "colorbar": {
                          "outlinewidth": 0,
                          "ticks": ""
                        },
                        "colorscale": [
                          [
                            0,
                            "#0d0887"
                          ],
                          [
                            0.1111111111111111,
                            "#46039f"
                          ],
                          [
                            0.2222222222222222,
                            "#7201a8"
                          ],
                          [
                            0.3333333333333333,
                            "#9c179e"
                          ],
                          [
                            0.4444444444444444,
                            "#bd3786"
                          ],
                          [
                            0.5555555555555556,
                            "#d8576b"
                          ],
                          [
                            0.6666666666666666,
                            "#ed7953"
                          ],
                          [
                            0.7777777777777778,
                            "#fb9f3a"
                          ],
                          [
                            0.8888888888888888,
                            "#fdca26"
                          ],
                          [
                            1,
                            "#f0f921"
                          ]
                        ],
                        "type": "heatmapgl"
                      }
                    ],
                    "histogram": [
                      {
                        "marker": {
                          "pattern": {
                            "fillmode": "overlay",
                            "size": 10,
                            "solidity": 0.2
                          }
                        },
                        "type": "histogram"
                      }
                    ],
                    "histogram2d": [
                      {
                        "colorbar": {
                          "outlinewidth": 0,
                          "ticks": ""
                        },
                        "colorscale": [
                          [
                            0,
                            "#0d0887"
                          ],
                          [
                            0.1111111111111111,
                            "#46039f"
                          ],
                          [
                            0.2222222222222222,
                            "#7201a8"
                          ],
                          [
                            0.3333333333333333,
                            "#9c179e"
                          ],
                          [
                            0.4444444444444444,
                            "#bd3786"
                          ],
                          [
                            0.5555555555555556,
                            "#d8576b"
                          ],
                          [
                            0.6666666666666666,
                            "#ed7953"
                          ],
                          [
                            0.7777777777777778,
                            "#fb9f3a"
                          ],
                          [
                            0.8888888888888888,
                            "#fdca26"
                          ],
                          [
                            1,
                            "#f0f921"
                          ]
                        ],
                        "type": "histogram2d"
                      }
                    ],
                    "histogram2dcontour": [
                      {
                        "colorbar": {
                          "outlinewidth": 0,
                          "ticks": ""
                        },
                        "colorscale": [
                          [
                            0,
                            "#0d0887"
                          ],
                          [
                            0.1111111111111111,
                            "#46039f"
                          ],
                          [
                            0.2222222222222222,
                            "#7201a8"
                          ],
                          [
                            0.3333333333333333,
                            "#9c179e"
                          ],
                          [
                            0.4444444444444444,
                            "#bd3786"
                          ],
                          [
                            0.5555555555555556,
                            "#d8576b"
                          ],
                          [
                            0.6666666666666666,
                            "#ed7953"
                          ],
                          [
                            0.7777777777777778,
                            "#fb9f3a"
                          ],
                          [
                            0.8888888888888888,
                            "#fdca26"
                          ],
                          [
                            1,
                            "#f0f921"
                          ]
                        ],
                        "type": "histogram2dcontour"
                      }
                    ],
                    "mesh3d": [
                      {
                        "colorbar": {
                          "outlinewidth": 0,
                          "ticks": ""
                        },
                        "type": "mesh3d"
                      }
                    ],
                    "parcoords": [
                      {
                        "line": {
                          "colorbar": {
                            "outlinewidth": 0,
                            "ticks": ""
                          }
                        },
                        "type": "parcoords"
                      }
                    ],
                    "pie": [
                      {
                        "automargin": true,
                        "type": "pie"
                      }
                    ],
                    "scatter": [
                      {
                        "fillpattern": {
                          "fillmode": "overlay",
                          "size": 10,
                          "solidity": 0.2
                        },
                        "type": "scatter"
                      }
                    ],
                    "scatter3d": [
                      {
                        "line": {
                          "colorbar": {
                            "outlinewidth": 0,
                            "ticks": ""
                          }
                        },
                        "marker": {
                          "colorbar": {
                            "outlinewidth": 0,
                            "ticks": ""
                          }
                        },
                        "type": "scatter3d"
                      }
                    ],
                    "scattercarpet": [
                      {
                        "marker": {
                          "colorbar": {
                            "outlinewidth": 0,
                            "ticks": ""
                          }
                        },
                        "type": "scattercarpet"
                      }
                    ],
                    "scattergeo": [
                      {
                        "marker": {
                          "colorbar": {
                            "outlinewidth": 0,
                            "ticks": ""
                          }
                        },
                        "type": "scattergeo"
                      }
                    ],
                    "scattergl": [
                      {
                        "marker": {
                          "colorbar": {
                            "outlinewidth": 0,
                            "ticks": ""
                          }
                        },
                        "type": "scattergl"
                      }
                    ],
                    "scattermapbox": [
                      {
                        "marker": {
                          "colorbar": {
                            "outlinewidth": 0,
                            "ticks": ""
                          }
                        },
                        "type": "scattermapbox"
                      }
                    ],
                    "scatterpolar": [
                      {
                        "marker": {
                          "colorbar": {
                            "outlinewidth": 0,
                            "ticks": ""
                          }
                        },
                        "type": "scatterpolar"
                      }
                    ],
                    "scatterpolargl": [
                      {
                        "marker": {
                          "colorbar": {
                            "outlinewidth": 0,
                            "ticks": ""
                          }
                        },
                        "type": "scatterpolargl"
                      }
                    ],
                    "scatterternary": [
                      {
                        "marker": {
                          "colorbar": {
                            "outlinewidth": 0,
                            "ticks": ""
                          }
                        },
                        "type": "scatterternary"
                      }
                    ],
                    "surface": [
                      {
                        "colorbar": {
                          "outlinewidth": 0,
                          "ticks": ""
                        },
                        "colorscale": [
                          [
                            0,
                            "#0d0887"
                          ],
                          [
                            0.1111111111111111,
                            "#46039f"
                          ],
                          [
                            0.2222222222222222,
                            "#7201a8"
                          ],
                          [
                            0.3333333333333333,
                            "#9c179e"
                          ],
                          [
                            0.4444444444444444,
                            "#bd3786"
                          ],
                          [
                            0.5555555555555556,
                            "#d8576b"
                          ],
                          [
                            0.6666666666666666,
                            "#ed7953"
                          ],
                          [
                            0.7777777777777778,
                            "#fb9f3a"
                          ],
                          [
                            0.8888888888888888,
                            "#fdca26"
                          ],
                          [
                            1,
                            "#f0f921"
                          ]
                        ],
                        "type": "surface"
                      }
                    ],
                    "table": [
                      {
                        "cells": {
                          "fill": {
                            "color": "#EBF0F8"
                          },
                          "line": {
                            "color": "white"
                          }
                        },
                        "header": {
                          "fill": {
                            "color": "#C8D4E3"
                          },
                          "line": {
                            "color": "white"
                          }
                        },
                        "type": "table"
                      }
                    ]
                  },
                  "layout": {
                    "annotationdefaults": {
                      "arrowcolor": "#2a3f5f",
                      "arrowhead": 0,
                      "arrowwidth": 1
                    },
                    "autotypenumbers": "strict",
                    "coloraxis": {
                      "colorbar": {
                        "outlinewidth": 0,
                        "ticks": ""
                      }
                    },
                    "colorscale": {
                      "diverging": [
                        [
                          0,
                          "#8e0152"
                        ],
                        [
                          0.1,
                          "#c51b7d"
                        ],
                        [
                          0.2,
                          "#de77ae"
                        ],
                        [
                          0.3,
                          "#f1b6da"
                        ],
                        [
                          0.4,
                          "#fde0ef"
                        ],
                        [
                          0.5,
                          "#f7f7f7"
                        ],
                        [
                          0.6,
                          "#e6f5d0"
                        ],
                        [
                          0.7,
                          "#b8e186"
                        ],
                        [
                          0.8,
                          "#7fbc41"
                        ],
                        [
                          0.9,
                          "#4d9221"
                        ],
                        [
                          1,
                          "#276419"
                        ]
                      ],
                      "sequential": [
                        [
                          0,
                          "#0d0887"
                        ],
                        [
                          0.1111111111111111,
                          "#46039f"
                        ],
                        [
                          0.2222222222222222,
                          "#7201a8"
                        ],
                        [
                          0.3333333333333333,
                          "#9c179e"
                        ],
                        [
                          0.4444444444444444,
                          "#bd3786"
                        ],
                        [
                          0.5555555555555556,
                          "#d8576b"
                        ],
                        [
                          0.6666666666666666,
                          "#ed7953"
                        ],
                        [
                          0.7777777777777778,
                          "#fb9f3a"
                        ],
                        [
                          0.8888888888888888,
                          "#fdca26"
                        ],
                        [
                          1,
                          "#f0f921"
                        ]
                      ],
                      "sequentialminus": [
                        [
                          0,
                          "#0d0887"
                        ],
                        [
                          0.1111111111111111,
                          "#46039f"
                        ],
                        [
                          0.2222222222222222,
                          "#7201a8"
                        ],
                        [
                          0.3333333333333333,
                          "#9c179e"
                        ],
                        [
                          0.4444444444444444,
                          "#bd3786"
                        ],
                        [
                          0.5555555555555556,
                          "#d8576b"
                        ],
                        [
                          0.6666666666666666,
                          "#ed7953"
                        ],
                        [
                          0.7777777777777778,
                          "#fb9f3a"
                        ],
                        [
                          0.8888888888888888,
                          "#fdca26"
                        ],
                        [
                          1,
                          "#f0f921"
                        ]
                      ]
                    },
                    "colorway": [
                      "#636efa",
                      "#EF553B",
                      "#00cc96",
                      "#ab63fa",
                      "#FFA15A",
                      "#19d3f3",
                      "#FF6692",
                      "#B6E880",
                      "#FF97FF",
                      "#FECB52"
                    ],
                    "font": {
                      "color": "#2a3f5f"
                    },
                    "geo": {
                      "bgcolor": "white",
                      "lakecolor": "white",
                      "landcolor": "#E5ECF6",
                      "showlakes": true,
                      "showland": true,
                      "subunitcolor": "white"
                    },
                    "hoverlabel": {
                      "align": "left"
                    },
                    "hovermode": "closest",
                    "mapbox": {
                      "style": "light"
                    },
                    "paper_bgcolor": "white",
                    "plot_bgcolor": "#E5ECF6",
                    "polar": {
                      "angularaxis": {
                        "gridcolor": "white",
                        "linecolor": "white",
                        "ticks": ""
                      },
                      "bgcolor": "#E5ECF6",
                      "radialaxis": {
                        "gridcolor": "white",
                        "linecolor": "white",
                        "ticks": ""
                      }
                    },
                    "scene": {
                      "xaxis": {
                        "backgroundcolor": "#E5ECF6",
                        "gridcolor": "white",
                        "gridwidth": 2,
                        "linecolor": "white",
                        "showbackground": true,
                        "ticks": "",
                        "zerolinecolor": "white"
                      },
                      "yaxis": {
                        "backgroundcolor": "#E5ECF6",
                        "gridcolor": "white",
                        "gridwidth": 2,
                        "linecolor": "white",
                        "showbackground": true,
                        "ticks": "",
                        "zerolinecolor": "white"
                      },
                      "zaxis": {
                        "backgroundcolor": "#E5ECF6",
                        "gridcolor": "white",
                        "gridwidth": 2,
                        "linecolor": "white",
                        "showbackground": true,
                        "ticks": "",
                        "zerolinecolor": "white"
                      }
                    },
                    "shapedefaults": {
                      "line": {
                        "color": "#2a3f5f"
                      }
                    },
                    "ternary": {
                      "aaxis": {
                        "gridcolor": "white",
                        "linecolor": "white",
                        "ticks": ""
                      },
                      "baxis": {
                        "gridcolor": "white",
                        "linecolor": "white",
                        "ticks": ""
                      },
                      "bgcolor": "#E5ECF6",
                      "caxis": {
                        "gridcolor": "white",
                        "linecolor": "white",
                        "ticks": ""
                      }
                    },
                    "title": {
                      "x": 0.05
                    },
                    "xaxis": {
                      "automargin": true,
                      "gridcolor": "white",
                      "linecolor": "white",
                      "ticks": "",
                      "title": {
                        "standoff": 15
                      },
                      "zerolinecolor": "white",
                      "zerolinewidth": 2
                    },
                    "yaxis": {
                      "automargin": true,
                      "gridcolor": "white",
                      "linecolor": "white",
                      "ticks": "",
                      "title": {
                        "standoff": 15
                      },
                      "zerolinecolor": "white",
                      "zerolinewidth": 2
                    }
                  }
                },
                "xaxis": {
                  "anchor": "y",
                  "domain": [
                    0,
                    1
                  ],
                  "title": {
                    "text": "Age"
                  }
                },
                "yaxis": {
                  "anchor": "x",
                  "domain": [
                    0,
                    1
                  ],
                  "title": {
                    "text": "Fare"
                  }
                }
              }
            }
          },
          "metadata": {},
          "output_type": "display_data"
        }
      ],
      "source": [
        "# Je remets le graphe précédent\n",
        "fig = px.scatter(df_graph, x=\"Age\", y=\"Fare\", color=\"Survived\")\n",
        "fig.show()"
      ]
    },
    {
      "cell_type": "code",
      "execution_count": 50,
      "metadata": {
        "colab": {
          "base_uri": "https://localhost:8080/",
          "height": 542
        },
        "id": "GZA1uw6pyuV8",
        "outputId": "57ece1f2-b519-4486-f47c-2009e0e0146d"
      },
      "outputs": [
        {
          "data": {
            "application/vnd.plotly.v1+json": {
              "config": {
                "plotlyServerURL": "https://plot.ly"
              },
              "data": [
                {
                  "hovertemplate": "color_label=Survived_true<br>Age=%{x}<br>Fare=%{y}<br>predict_size=%{marker.size}<extra></extra>",
                  "legendgroup": "Survived_true",
                  "marker": {
                    "color": "#636efa",
                    "opacity": 0.5,
                    "size": [
                      5,
                      5,
                      5,
                      5,
                      5,
                      5,
                      5,
                      5,
                      5,
                      5,
                      5,
                      5,
                      5,
                      5,
                      5,
                      5,
                      5,
                      5,
                      5,
                      5,
                      5,
                      5,
                      5,
                      5,
                      5,
                      5,
                      5,
                      5,
                      5,
                      5,
                      5,
                      5,
                      5,
                      5,
                      5,
                      5,
                      5,
                      5,
                      5,
                      5,
                      5,
                      5,
                      5,
                      5,
                      5,
                      5,
                      5,
                      5,
                      5,
                      5,
                      5,
                      5,
                      5,
                      5,
                      5,
                      5,
                      5,
                      5,
                      5,
                      5,
                      5,
                      5,
                      5,
                      5,
                      5,
                      5,
                      5,
                      5,
                      5,
                      5,
                      5,
                      5,
                      5,
                      5,
                      5,
                      5,
                      5,
                      5,
                      5,
                      5,
                      5,
                      5,
                      5,
                      5,
                      5,
                      5,
                      5,
                      5,
                      5,
                      5,
                      5,
                      5,
                      5,
                      5,
                      5,
                      5,
                      5,
                      5,
                      5,
                      5,
                      5,
                      5,
                      5,
                      5,
                      5,
                      5,
                      5,
                      5,
                      5,
                      5,
                      5,
                      5,
                      5,
                      5,
                      5,
                      5,
                      5,
                      5,
                      5,
                      5
                    ],
                    "sizemode": "area",
                    "sizeref": 0.0125,
                    "symbol": "circle"
                  },
                  "mode": "markers",
                  "name": "Survived_true",
                  "orientation": "v",
                  "showlegend": true,
                  "type": "scatter",
                  "x": [
                    null,
                    6,
                    14,
                    26,
                    null,
                    16,
                    19,
                    16,
                    42,
                    null,
                    34,
                    19,
                    31,
                    22,
                    18,
                    28,
                    null,
                    30,
                    5,
                    52,
                    11,
                    18,
                    50,
                    35,
                    19,
                    13,
                    28,
                    52,
                    18,
                    26,
                    39,
                    22,
                    29,
                    40,
                    31,
                    30,
                    9,
                    48,
                    45,
                    36,
                    19,
                    40,
                    30,
                    40,
                    null,
                    null,
                    36,
                    22,
                    32,
                    63,
                    0.83,
                    35,
                    49,
                    null,
                    null,
                    5,
                    49,
                    15,
                    null,
                    34,
                    null,
                    null,
                    null,
                    null,
                    36,
                    null,
                    null,
                    null,
                    23,
                    18,
                    36,
                    38,
                    17,
                    4,
                    null,
                    42,
                    29,
                    50,
                    35,
                    38,
                    17,
                    7,
                    63,
                    20,
                    null,
                    36,
                    33,
                    25,
                    25,
                    null,
                    24,
                    0.92,
                    24,
                    26,
                    21,
                    null,
                    22,
                    62,
                    18,
                    42,
                    42,
                    52,
                    30,
                    50,
                    27,
                    51,
                    29,
                    22,
                    40,
                    27,
                    28,
                    4,
                    1,
                    31,
                    39,
                    null,
                    null,
                    3,
                    4,
                    1
                  ],
                  "xaxis": "x",
                  "y": [
                    15.2458,
                    33,
                    11.2417,
                    78.85,
                    7.75,
                    7.75,
                    26.2833,
                    39.4,
                    52.5542,
                    7.8292,
                    26.55,
                    7.8542,
                    13,
                    7.75,
                    8.05,
                    35.5,
                    7.75,
                    31,
                    19.2583,
                    93.5,
                    120,
                    79.65,
                    247.5208,
                    21,
                    7.8792,
                    19.5,
                    26,
                    78.2667,
                    262.375,
                    30,
                    83.1583,
                    49.5,
                    10.5,
                    134.5,
                    113.275,
                    56.9292,
                    20.525,
                    52,
                    8.05,
                    13,
                    91.0792,
                    39,
                    9.5,
                    31,
                    52,
                    89.1042,
                    26.2875,
                    29,
                    76.2917,
                    77.9583,
                    29,
                    26.55,
                    25.9292,
                    7.8792,
                    15.2458,
                    12.475,
                    56.9292,
                    14.4542,
                    110.8833,
                    32.5,
                    146.5208,
                    24.15,
                    56.4958,
                    7.7875,
                    26,
                    26.55,
                    82.1708,
                    51.8625,
                    63.3583,
                    13,
                    26.3875,
                    31.3875,
                    10.5,
                    16.7,
                    35.5,
                    13,
                    9.5,
                    26,
                    90,
                    227.525,
                    57,
                    26.25,
                    9.5875,
                    7.2292,
                    22.3583,
                    120,
                    90,
                    30,
                    26,
                    30.5,
                    14.5,
                    151.55,
                    26,
                    7.925,
                    262.375,
                    7.2292,
                    7.775,
                    80,
                    9.8417,
                    227.525,
                    26,
                    30.5,
                    12.475,
                    133.65,
                    6.975,
                    77.9583,
                    26,
                    151.55,
                    13,
                    8.6625,
                    26.55,
                    81.8583,
                    11.1333,
                    26.25,
                    110.8833,
                    133.65,
                    7.8792,
                    26,
                    11.1333,
                    15.7417
                  ],
                  "yaxis": "y"
                },
                {
                  "hovertemplate": "color_label=Dead_true<br>Age=%{x}<br>Fare=%{y}<br>predict_size=%{marker.size}<extra></extra>",
                  "legendgroup": "Dead_true",
                  "marker": {
                    "color": "#EF553B",
                    "opacity": 0.5,
                    "size": [
                      5,
                      5,
                      5,
                      5,
                      5,
                      5,
                      5,
                      5,
                      5,
                      5,
                      5,
                      5,
                      5,
                      5,
                      5,
                      5,
                      5,
                      5,
                      5,
                      5,
                      5,
                      5,
                      5,
                      5,
                      5,
                      5,
                      5,
                      5,
                      5,
                      5,
                      5,
                      5,
                      5,
                      5,
                      5,
                      5,
                      5,
                      5,
                      5,
                      5,
                      5,
                      5,
                      5,
                      5,
                      5,
                      5,
                      5,
                      5,
                      5,
                      5,
                      5,
                      5,
                      5,
                      5,
                      5,
                      5,
                      5,
                      5,
                      5,
                      5,
                      5,
                      5,
                      5,
                      5,
                      5,
                      5,
                      5,
                      5,
                      5,
                      5,
                      5,
                      5,
                      5,
                      5,
                      5,
                      5,
                      5,
                      5,
                      5,
                      5,
                      5,
                      5,
                      5,
                      5,
                      5,
                      5,
                      5,
                      5,
                      5,
                      5,
                      5,
                      5,
                      5,
                      5,
                      5,
                      5,
                      5,
                      5,
                      5,
                      5,
                      5,
                      5,
                      5,
                      5,
                      5,
                      5,
                      5,
                      5,
                      5,
                      5,
                      5,
                      5,
                      5,
                      5,
                      5,
                      5,
                      5,
                      5,
                      5,
                      5,
                      5,
                      5,
                      5,
                      5,
                      5,
                      5,
                      5,
                      5,
                      5,
                      5,
                      5,
                      5,
                      5,
                      5,
                      5,
                      5,
                      5,
                      5,
                      5,
                      5,
                      5,
                      5,
                      5,
                      5,
                      5,
                      5,
                      5,
                      5,
                      5,
                      5,
                      5,
                      5,
                      5,
                      5,
                      5,
                      5,
                      5,
                      5,
                      5,
                      5,
                      5,
                      5,
                      5,
                      5,
                      5,
                      5,
                      5,
                      5,
                      5,
                      5,
                      5,
                      5,
                      5,
                      5,
                      5
                    ],
                    "sizemode": "area",
                    "sizeref": 0.0125,
                    "symbol": "circle"
                  },
                  "mode": "markers",
                  "name": "Dead_true",
                  "orientation": "v",
                  "showlegend": true,
                  "type": "scatter",
                  "x": [
                    31,
                    20,
                    16,
                    37,
                    44,
                    null,
                    30,
                    36,
                    27,
                    47,
                    24,
                    20,
                    null,
                    10,
                    40,
                    4,
                    31,
                    19,
                    null,
                    null,
                    27,
                    null,
                    21,
                    29,
                    null,
                    null,
                    45,
                    16,
                    19,
                    23,
                    24,
                    58,
                    40,
                    65,
                    32,
                    21,
                    null,
                    null,
                    57,
                    21,
                    29,
                    17,
                    26,
                    23,
                    36,
                    30.5,
                    38,
                    41,
                    16,
                    null,
                    56,
                    71,
                    38,
                    null,
                    9,
                    61,
                    null,
                    null,
                    28,
                    27,
                    64,
                    35,
                    38,
                    30.5,
                    25,
                    47,
                    20.5,
                    null,
                    20,
                    71,
                    36,
                    48,
                    23,
                    25,
                    24,
                    null,
                    21,
                    null,
                    29,
                    42,
                    18,
                    21,
                    44,
                    28,
                    37,
                    39,
                    30,
                    66,
                    43,
                    null,
                    24,
                    18,
                    null,
                    null,
                    32,
                    23.5,
                    39,
                    null,
                    65,
                    23,
                    22,
                    35,
                    9,
                    17,
                    null,
                    45.5,
                    23,
                    32,
                    26,
                    6,
                    24,
                    45,
                    29,
                    null,
                    36,
                    33,
                    17,
                    34,
                    11,
                    61,
                    30,
                    29,
                    null,
                    50,
                    27,
                    30,
                    null,
                    null,
                    2,
                    51,
                    null,
                    null,
                    24,
                    18,
                    25,
                    22,
                    34,
                    null,
                    null,
                    57,
                    19,
                    null,
                    20,
                    34.5,
                    28,
                    null,
                    23,
                    22,
                    36.5,
                    null,
                    22,
                    22,
                    36,
                    50,
                    null,
                    65,
                    17,
                    null,
                    36,
                    43,
                    38,
                    29,
                    18,
                    null,
                    39,
                    26,
                    20,
                    49,
                    23,
                    1,
                    null,
                    19,
                    40.5,
                    null,
                    21
                  ],
                  "xaxis": "x",
                  "y": [
                    10.5,
                    7.925,
                    18,
                    53.1,
                    8.05,
                    25.4667,
                    7.225,
                    13,
                    13,
                    52,
                    7.8958,
                    9.225,
                    14.5,
                    27.9,
                    27.7208,
                    27.9,
                    7.8542,
                    7.8958,
                    30.6958,
                    7.55,
                    14.4542,
                    7.8958,
                    73.5,
                    7.0458,
                    8.05,
                    7.75,
                    14.4542,
                    34.375,
                    8.1583,
                    9.225,
                    7.05,
                    113.275,
                    27.9,
                    7.75,
                    10.5,
                    7.775,
                    25.925,
                    7.75,
                    10.5,
                    73.5,
                    7.875,
                    7.2292,
                    26,
                    7.8542,
                    15.55,
                    7.75,
                    13,
                    20.2125,
                    39.6875,
                    7.7375,
                    30.6958,
                    49.5042,
                    0,
                    7.25,
                    31.275,
                    32.3208,
                    7.7292,
                    7.8958,
                    7.8542,
                    7.8958,
                    26,
                    7.125,
                    7.05,
                    8.05,
                    7.775,
                    38.5,
                    7.25,
                    221.7792,
                    9.8458,
                    34.6542,
                    12.875,
                    34.375,
                    11.5,
                    7.25,
                    79.2,
                    14.4583,
                    8.05,
                    0,
                    7.775,
                    7.55,
                    17.8,
                    8.4333,
                    26,
                    13,
                    26,
                    29.125,
                    13,
                    10.5,
                    8.05,
                    8.7125,
                    7.4958,
                    7.7958,
                    8.05,
                    7.05,
                    15.5,
                    7.2292,
                    13,
                    8.4583,
                    61.9792,
                    10.5,
                    7.8958,
                    7.05,
                    15.2458,
                    7.125,
                    7.225,
                    28.5,
                    13,
                    7.925,
                    7.8542,
                    31.275,
                    247.5208,
                    26.55,
                    27.7208,
                    7.8958,
                    24.15,
                    12.275,
                    7.0542,
                    13,
                    31.275,
                    6.2375,
                    8.6625,
                    9.4833,
                    14.4583,
                    8.05,
                    211.5,
                    7.25,
                    7.725,
                    25.4667,
                    21.075,
                    61.3792,
                    7.25,
                    7.8958,
                    13,
                    20.2125,
                    7.05,
                    7.5208,
                    21,
                    7.75,
                    8.6625,
                    12.35,
                    0,
                    7.225,
                    8.6625,
                    6.4375,
                    9.5,
                    8.05,
                    7.8958,
                    7.25,
                    26,
                    7.75,
                    7.2292,
                    8.05,
                    10.5,
                    106.425,
                    0,
                    26.55,
                    8.6625,
                    7.8958,
                    27.75,
                    26.25,
                    153.4625,
                    8.05,
                    8.3,
                    15.05,
                    13,
                    8.6625,
                    7.05,
                    0,
                    15.0458,
                    39.6875,
                    23.45,
                    7.65,
                    7.75,
                    15.2458,
                    7.925
                  ],
                  "yaxis": "y"
                },
                {
                  "hovertemplate": "color_label=Dead_predict<br>Age=%{x}<br>Fare=%{y}<br>predict_size=%{marker.size}<extra></extra>",
                  "legendgroup": "Dead_predict",
                  "marker": {
                    "color": "#00cc96",
                    "opacity": 0.5,
                    "size": [
                      1,
                      1,
                      1,
                      1,
                      1,
                      1,
                      1,
                      1,
                      1,
                      1,
                      1,
                      1,
                      1,
                      1,
                      1,
                      1,
                      1,
                      1,
                      1,
                      1,
                      1,
                      1,
                      1,
                      1,
                      1,
                      1,
                      1,
                      1,
                      1,
                      1,
                      1,
                      1,
                      1,
                      1,
                      1,
                      1,
                      1,
                      1,
                      1,
                      1,
                      1,
                      1,
                      1,
                      1,
                      1,
                      1,
                      1,
                      1,
                      1,
                      1,
                      1,
                      1,
                      1,
                      1,
                      1,
                      1,
                      1,
                      1,
                      1,
                      1,
                      1,
                      1,
                      1,
                      1,
                      1,
                      1,
                      1,
                      1,
                      1,
                      1,
                      1,
                      1,
                      1,
                      1,
                      1,
                      1,
                      1,
                      1,
                      1,
                      1,
                      1,
                      1,
                      1,
                      1,
                      1,
                      1,
                      1,
                      1,
                      1,
                      1,
                      1,
                      1,
                      1,
                      1,
                      1,
                      1,
                      1,
                      1,
                      1,
                      1,
                      1,
                      1,
                      1,
                      1,
                      1,
                      1,
                      1,
                      1,
                      1,
                      1,
                      1,
                      1,
                      1,
                      1,
                      1,
                      1,
                      1,
                      1,
                      1,
                      1,
                      1,
                      1,
                      1,
                      1,
                      1,
                      1,
                      1,
                      1,
                      1,
                      1,
                      1,
                      1,
                      1,
                      1,
                      1,
                      1,
                      1,
                      1,
                      1,
                      1,
                      1,
                      1,
                      1,
                      1,
                      1,
                      1,
                      1,
                      1,
                      1,
                      1,
                      1,
                      1,
                      1,
                      1,
                      1,
                      1,
                      1,
                      1,
                      1,
                      1,
                      1,
                      1,
                      1,
                      1,
                      1,
                      1,
                      1,
                      1,
                      1,
                      1,
                      1,
                      1,
                      1,
                      1,
                      1,
                      1,
                      1,
                      1,
                      1,
                      1,
                      1,
                      1,
                      1,
                      1,
                      1,
                      1
                    ],
                    "sizemode": "area",
                    "sizeref": 0.0125,
                    "symbol": "circle"
                  },
                  "mode": "markers",
                  "name": "Dead_predict",
                  "orientation": "v",
                  "showlegend": true,
                  "type": "scatter",
                  "x": [
                    null,
                    31,
                    14,
                    16,
                    44,
                    null,
                    30,
                    36,
                    42,
                    27,
                    47,
                    24,
                    19,
                    20,
                    null,
                    10,
                    40,
                    31,
                    4,
                    19,
                    null,
                    null,
                    18,
                    27,
                    28,
                    null,
                    21,
                    29,
                    null,
                    null,
                    45,
                    16,
                    19,
                    23,
                    24,
                    58,
                    40,
                    65,
                    32,
                    19,
                    21,
                    null,
                    null,
                    21,
                    17,
                    23,
                    36,
                    41,
                    16,
                    null,
                    56,
                    71,
                    38,
                    null,
                    9,
                    9,
                    61,
                    null,
                    null,
                    28,
                    48,
                    45,
                    27,
                    64,
                    35,
                    38,
                    30.5,
                    47,
                    30,
                    40,
                    20.5,
                    null,
                    20,
                    71,
                    36,
                    48,
                    23,
                    25,
                    24,
                    null,
                    21,
                    null,
                    null,
                    49,
                    15,
                    29,
                    42,
                    18,
                    21,
                    28,
                    37,
                    39,
                    30,
                    43,
                    null,
                    24,
                    18,
                    null,
                    null,
                    null,
                    23.5,
                    null,
                    39,
                    null,
                    65,
                    23,
                    22,
                    35,
                    23,
                    9,
                    17,
                    null,
                    38,
                    45.5,
                    23,
                    32,
                    26,
                    6,
                    24,
                    29,
                    null,
                    null,
                    36,
                    33,
                    17,
                    29,
                    34,
                    11,
                    61,
                    63,
                    20,
                    29,
                    null,
                    50,
                    27,
                    30,
                    null,
                    null,
                    51,
                    null,
                    null,
                    18,
                    25,
                    22,
                    26,
                    34,
                    null,
                    null,
                    22,
                    18,
                    57,
                    19,
                    null,
                    20,
                    34.5,
                    28,
                    null,
                    23,
                    22,
                    52,
                    36.5,
                    null,
                    22,
                    50,
                    27,
                    22,
                    36,
                    50,
                    27,
                    null,
                    65,
                    17,
                    null,
                    36,
                    43,
                    29,
                    18,
                    39,
                    26,
                    20,
                    49,
                    23,
                    1,
                    19,
                    40.5,
                    21
                  ],
                  "xaxis": "x",
                  "y": [
                    15.2458,
                    10.5,
                    11.2417,
                    18,
                    8.05,
                    25.4667,
                    7.225,
                    13,
                    52.5542,
                    13,
                    52,
                    7.8958,
                    7.8542,
                    9.225,
                    14.5,
                    27.9,
                    27.7208,
                    13,
                    27.9,
                    7.8958,
                    30.6958,
                    7.55,
                    8.05,
                    14.4542,
                    35.5,
                    7.8958,
                    73.5,
                    7.0458,
                    8.05,
                    7.75,
                    14.4542,
                    34.375,
                    8.1583,
                    9.225,
                    7.05,
                    113.275,
                    27.9,
                    7.75,
                    10.5,
                    7.8792,
                    7.775,
                    25.925,
                    7.75,
                    73.5,
                    7.2292,
                    7.8542,
                    15.55,
                    20.2125,
                    39.6875,
                    7.7375,
                    30.6958,
                    49.5042,
                    0,
                    7.25,
                    20.525,
                    31.275,
                    32.3208,
                    7.7292,
                    7.8958,
                    7.8542,
                    52,
                    8.05,
                    7.8958,
                    26,
                    7.125,
                    7.05,
                    8.05,
                    38.5,
                    9.5,
                    31,
                    7.25,
                    221.7792,
                    9.8458,
                    34.6542,
                    12.875,
                    34.375,
                    11.5,
                    7.25,
                    79.2,
                    14.4583,
                    8.05,
                    15.2458,
                    0,
                    56.9292,
                    14.4542,
                    7.775,
                    7.55,
                    17.8,
                    8.4333,
                    13,
                    26,
                    29.125,
                    13,
                    8.05,
                    8.7125,
                    7.4958,
                    7.7958,
                    24.15,
                    8.05,
                    7.05,
                    7.2292,
                    26.55,
                    13,
                    8.4583,
                    61.9792,
                    10.5,
                    7.8958,
                    7.05,
                    63.3583,
                    15.2458,
                    7.125,
                    7.225,
                    31.3875,
                    28.5,
                    13,
                    7.925,
                    7.8542,
                    31.275,
                    247.5208,
                    27.7208,
                    7.8958,
                    35.5,
                    24.15,
                    12.275,
                    7.0542,
                    9.5,
                    13,
                    31.275,
                    6.2375,
                    9.5875,
                    7.2292,
                    9.4833,
                    14.4583,
                    8.05,
                    211.5,
                    7.25,
                    7.725,
                    25.4667,
                    61.3792,
                    7.25,
                    7.8958,
                    20.2125,
                    7.05,
                    7.5208,
                    7.925,
                    21,
                    7.75,
                    8.6625,
                    7.775,
                    9.8417,
                    12.35,
                    0,
                    7.225,
                    8.6625,
                    6.4375,
                    9.5,
                    8.05,
                    7.8958,
                    7.25,
                    30.5,
                    26,
                    7.75,
                    7.2292,
                    133.65,
                    6.975,
                    8.05,
                    10.5,
                    106.425,
                    8.6625,
                    0,
                    26.55,
                    8.6625,
                    7.8958,
                    27.75,
                    26.25,
                    8.05,
                    8.3,
                    13,
                    8.6625,
                    7.05,
                    0,
                    15.0458,
                    39.6875,
                    7.65,
                    7.75,
                    7.925
                  ],
                  "yaxis": "y"
                },
                {
                  "hovertemplate": "color_label=Survived_predict<br>Age=%{x}<br>Fare=%{y}<br>predict_size=%{marker.size}<extra></extra>",
                  "legendgroup": "Survived_predict",
                  "marker": {
                    "color": "#ab63fa",
                    "opacity": 0.5,
                    "size": [
                      1,
                      1,
                      1,
                      1,
                      1,
                      1,
                      1,
                      1,
                      1,
                      1,
                      1,
                      1,
                      1,
                      1,
                      1,
                      1,
                      1,
                      1,
                      1,
                      1,
                      1,
                      1,
                      1,
                      1,
                      1,
                      1,
                      1,
                      1,
                      1,
                      1,
                      1,
                      1,
                      1,
                      1,
                      1,
                      1,
                      1,
                      1,
                      1,
                      1,
                      1,
                      1,
                      1,
                      1,
                      1,
                      1,
                      1,
                      1,
                      1,
                      1,
                      1,
                      1,
                      1,
                      1,
                      1,
                      1,
                      1,
                      1,
                      1,
                      1,
                      1,
                      1,
                      1,
                      1,
                      1,
                      1,
                      1,
                      1,
                      1,
                      1,
                      1,
                      1,
                      1,
                      1,
                      1,
                      1,
                      1,
                      1,
                      1,
                      1,
                      1,
                      1,
                      1,
                      1,
                      1,
                      1,
                      1,
                      1,
                      1,
                      1,
                      1,
                      1,
                      1,
                      1,
                      1,
                      1,
                      1,
                      1,
                      1,
                      1,
                      1,
                      1,
                      1,
                      1,
                      1,
                      1,
                      1,
                      1,
                      1
                    ],
                    "sizemode": "area",
                    "sizeref": 0.0125,
                    "symbol": "circle"
                  },
                  "mode": "markers",
                  "name": "Survived_predict",
                  "orientation": "v",
                  "showlegend": true,
                  "type": "scatter",
                  "x": [
                    20,
                    6,
                    26,
                    null,
                    16,
                    19,
                    37,
                    16,
                    null,
                    34,
                    31,
                    22,
                    null,
                    30,
                    5,
                    52,
                    11,
                    18,
                    50,
                    35,
                    13,
                    28,
                    57,
                    29,
                    52,
                    26,
                    18,
                    26,
                    39,
                    30.5,
                    22,
                    38,
                    29,
                    40,
                    31,
                    30,
                    36,
                    19,
                    25,
                    40,
                    null,
                    null,
                    36,
                    22,
                    32,
                    63,
                    0.83,
                    35,
                    49,
                    null,
                    5,
                    null,
                    44,
                    34,
                    66,
                    null,
                    null,
                    null,
                    36,
                    32,
                    null,
                    null,
                    18,
                    36,
                    17,
                    4,
                    45,
                    42,
                    50,
                    35,
                    38,
                    17,
                    30,
                    7,
                    null,
                    36,
                    33,
                    2,
                    25,
                    25,
                    24,
                    null,
                    24,
                    0.92,
                    24,
                    21,
                    null,
                    62,
                    42,
                    42,
                    30,
                    51,
                    29,
                    22,
                    40,
                    28,
                    4,
                    1,
                    38,
                    31,
                    null,
                    39,
                    null,
                    null,
                    null,
                    3,
                    4,
                    1,
                    null
                  ],
                  "xaxis": "x",
                  "y": [
                    7.925,
                    33,
                    78.85,
                    7.75,
                    7.75,
                    26.2833,
                    53.1,
                    39.4,
                    7.8292,
                    26.55,
                    7.8542,
                    7.75,
                    7.75,
                    31,
                    19.2583,
                    93.5,
                    120,
                    79.65,
                    247.5208,
                    21,
                    19.5,
                    26,
                    10.5,
                    7.875,
                    78.2667,
                    26,
                    262.375,
                    30,
                    83.1583,
                    7.75,
                    49.5,
                    13,
                    10.5,
                    134.5,
                    113.275,
                    56.9292,
                    13,
                    91.0792,
                    7.775,
                    39,
                    52,
                    89.1042,
                    26.2875,
                    29,
                    76.2917,
                    77.9583,
                    29,
                    26.55,
                    25.9292,
                    7.8792,
                    12.475,
                    110.8833,
                    26,
                    32.5,
                    10.5,
                    146.5208,
                    56.4958,
                    7.7875,
                    26,
                    15.5,
                    82.1708,
                    51.8625,
                    13,
                    26.3875,
                    10.5,
                    16.7,
                    26.55,
                    13,
                    26,
                    90,
                    227.525,
                    57,
                    8.6625,
                    26.25,
                    22.3583,
                    120,
                    90,
                    21.075,
                    30,
                    26,
                    13,
                    30.5,
                    14.5,
                    151.55,
                    26,
                    262.375,
                    7.2292,
                    80,
                    227.525,
                    26,
                    12.475,
                    77.9583,
                    26,
                    151.55,
                    13,
                    26.55,
                    81.8583,
                    11.1333,
                    153.4625,
                    26.25,
                    15.05,
                    110.8833,
                    133.65,
                    7.8792,
                    23.45,
                    26,
                    11.1333,
                    15.7417,
                    15.2458
                  ],
                  "yaxis": "y"
                }
              ],
              "layout": {
                "legend": {
                  "itemsizing": "constant",
                  "title": {
                    "text": "color_label"
                  },
                  "tracegroupgap": 0
                },
                "margin": {
                  "t": 60
                },
                "template": {
                  "data": {
                    "bar": [
                      {
                        "error_x": {
                          "color": "#2a3f5f"
                        },
                        "error_y": {
                          "color": "#2a3f5f"
                        },
                        "marker": {
                          "line": {
                            "color": "#E5ECF6",
                            "width": 0.5
                          },
                          "pattern": {
                            "fillmode": "overlay",
                            "size": 10,
                            "solidity": 0.2
                          }
                        },
                        "type": "bar"
                      }
                    ],
                    "barpolar": [
                      {
                        "marker": {
                          "line": {
                            "color": "#E5ECF6",
                            "width": 0.5
                          },
                          "pattern": {
                            "fillmode": "overlay",
                            "size": 10,
                            "solidity": 0.2
                          }
                        },
                        "type": "barpolar"
                      }
                    ],
                    "carpet": [
                      {
                        "aaxis": {
                          "endlinecolor": "#2a3f5f",
                          "gridcolor": "white",
                          "linecolor": "white",
                          "minorgridcolor": "white",
                          "startlinecolor": "#2a3f5f"
                        },
                        "baxis": {
                          "endlinecolor": "#2a3f5f",
                          "gridcolor": "white",
                          "linecolor": "white",
                          "minorgridcolor": "white",
                          "startlinecolor": "#2a3f5f"
                        },
                        "type": "carpet"
                      }
                    ],
                    "choropleth": [
                      {
                        "colorbar": {
                          "outlinewidth": 0,
                          "ticks": ""
                        },
                        "type": "choropleth"
                      }
                    ],
                    "contour": [
                      {
                        "colorbar": {
                          "outlinewidth": 0,
                          "ticks": ""
                        },
                        "colorscale": [
                          [
                            0,
                            "#0d0887"
                          ],
                          [
                            0.1111111111111111,
                            "#46039f"
                          ],
                          [
                            0.2222222222222222,
                            "#7201a8"
                          ],
                          [
                            0.3333333333333333,
                            "#9c179e"
                          ],
                          [
                            0.4444444444444444,
                            "#bd3786"
                          ],
                          [
                            0.5555555555555556,
                            "#d8576b"
                          ],
                          [
                            0.6666666666666666,
                            "#ed7953"
                          ],
                          [
                            0.7777777777777778,
                            "#fb9f3a"
                          ],
                          [
                            0.8888888888888888,
                            "#fdca26"
                          ],
                          [
                            1,
                            "#f0f921"
                          ]
                        ],
                        "type": "contour"
                      }
                    ],
                    "contourcarpet": [
                      {
                        "colorbar": {
                          "outlinewidth": 0,
                          "ticks": ""
                        },
                        "type": "contourcarpet"
                      }
                    ],
                    "heatmap": [
                      {
                        "colorbar": {
                          "outlinewidth": 0,
                          "ticks": ""
                        },
                        "colorscale": [
                          [
                            0,
                            "#0d0887"
                          ],
                          [
                            0.1111111111111111,
                            "#46039f"
                          ],
                          [
                            0.2222222222222222,
                            "#7201a8"
                          ],
                          [
                            0.3333333333333333,
                            "#9c179e"
                          ],
                          [
                            0.4444444444444444,
                            "#bd3786"
                          ],
                          [
                            0.5555555555555556,
                            "#d8576b"
                          ],
                          [
                            0.6666666666666666,
                            "#ed7953"
                          ],
                          [
                            0.7777777777777778,
                            "#fb9f3a"
                          ],
                          [
                            0.8888888888888888,
                            "#fdca26"
                          ],
                          [
                            1,
                            "#f0f921"
                          ]
                        ],
                        "type": "heatmap"
                      }
                    ],
                    "heatmapgl": [
                      {
                        "colorbar": {
                          "outlinewidth": 0,
                          "ticks": ""
                        },
                        "colorscale": [
                          [
                            0,
                            "#0d0887"
                          ],
                          [
                            0.1111111111111111,
                            "#46039f"
                          ],
                          [
                            0.2222222222222222,
                            "#7201a8"
                          ],
                          [
                            0.3333333333333333,
                            "#9c179e"
                          ],
                          [
                            0.4444444444444444,
                            "#bd3786"
                          ],
                          [
                            0.5555555555555556,
                            "#d8576b"
                          ],
                          [
                            0.6666666666666666,
                            "#ed7953"
                          ],
                          [
                            0.7777777777777778,
                            "#fb9f3a"
                          ],
                          [
                            0.8888888888888888,
                            "#fdca26"
                          ],
                          [
                            1,
                            "#f0f921"
                          ]
                        ],
                        "type": "heatmapgl"
                      }
                    ],
                    "histogram": [
                      {
                        "marker": {
                          "pattern": {
                            "fillmode": "overlay",
                            "size": 10,
                            "solidity": 0.2
                          }
                        },
                        "type": "histogram"
                      }
                    ],
                    "histogram2d": [
                      {
                        "colorbar": {
                          "outlinewidth": 0,
                          "ticks": ""
                        },
                        "colorscale": [
                          [
                            0,
                            "#0d0887"
                          ],
                          [
                            0.1111111111111111,
                            "#46039f"
                          ],
                          [
                            0.2222222222222222,
                            "#7201a8"
                          ],
                          [
                            0.3333333333333333,
                            "#9c179e"
                          ],
                          [
                            0.4444444444444444,
                            "#bd3786"
                          ],
                          [
                            0.5555555555555556,
                            "#d8576b"
                          ],
                          [
                            0.6666666666666666,
                            "#ed7953"
                          ],
                          [
                            0.7777777777777778,
                            "#fb9f3a"
                          ],
                          [
                            0.8888888888888888,
                            "#fdca26"
                          ],
                          [
                            1,
                            "#f0f921"
                          ]
                        ],
                        "type": "histogram2d"
                      }
                    ],
                    "histogram2dcontour": [
                      {
                        "colorbar": {
                          "outlinewidth": 0,
                          "ticks": ""
                        },
                        "colorscale": [
                          [
                            0,
                            "#0d0887"
                          ],
                          [
                            0.1111111111111111,
                            "#46039f"
                          ],
                          [
                            0.2222222222222222,
                            "#7201a8"
                          ],
                          [
                            0.3333333333333333,
                            "#9c179e"
                          ],
                          [
                            0.4444444444444444,
                            "#bd3786"
                          ],
                          [
                            0.5555555555555556,
                            "#d8576b"
                          ],
                          [
                            0.6666666666666666,
                            "#ed7953"
                          ],
                          [
                            0.7777777777777778,
                            "#fb9f3a"
                          ],
                          [
                            0.8888888888888888,
                            "#fdca26"
                          ],
                          [
                            1,
                            "#f0f921"
                          ]
                        ],
                        "type": "histogram2dcontour"
                      }
                    ],
                    "mesh3d": [
                      {
                        "colorbar": {
                          "outlinewidth": 0,
                          "ticks": ""
                        },
                        "type": "mesh3d"
                      }
                    ],
                    "parcoords": [
                      {
                        "line": {
                          "colorbar": {
                            "outlinewidth": 0,
                            "ticks": ""
                          }
                        },
                        "type": "parcoords"
                      }
                    ],
                    "pie": [
                      {
                        "automargin": true,
                        "type": "pie"
                      }
                    ],
                    "scatter": [
                      {
                        "fillpattern": {
                          "fillmode": "overlay",
                          "size": 10,
                          "solidity": 0.2
                        },
                        "type": "scatter"
                      }
                    ],
                    "scatter3d": [
                      {
                        "line": {
                          "colorbar": {
                            "outlinewidth": 0,
                            "ticks": ""
                          }
                        },
                        "marker": {
                          "colorbar": {
                            "outlinewidth": 0,
                            "ticks": ""
                          }
                        },
                        "type": "scatter3d"
                      }
                    ],
                    "scattercarpet": [
                      {
                        "marker": {
                          "colorbar": {
                            "outlinewidth": 0,
                            "ticks": ""
                          }
                        },
                        "type": "scattercarpet"
                      }
                    ],
                    "scattergeo": [
                      {
                        "marker": {
                          "colorbar": {
                            "outlinewidth": 0,
                            "ticks": ""
                          }
                        },
                        "type": "scattergeo"
                      }
                    ],
                    "scattergl": [
                      {
                        "marker": {
                          "colorbar": {
                            "outlinewidth": 0,
                            "ticks": ""
                          }
                        },
                        "type": "scattergl"
                      }
                    ],
                    "scattermapbox": [
                      {
                        "marker": {
                          "colorbar": {
                            "outlinewidth": 0,
                            "ticks": ""
                          }
                        },
                        "type": "scattermapbox"
                      }
                    ],
                    "scatterpolar": [
                      {
                        "marker": {
                          "colorbar": {
                            "outlinewidth": 0,
                            "ticks": ""
                          }
                        },
                        "type": "scatterpolar"
                      }
                    ],
                    "scatterpolargl": [
                      {
                        "marker": {
                          "colorbar": {
                            "outlinewidth": 0,
                            "ticks": ""
                          }
                        },
                        "type": "scatterpolargl"
                      }
                    ],
                    "scatterternary": [
                      {
                        "marker": {
                          "colorbar": {
                            "outlinewidth": 0,
                            "ticks": ""
                          }
                        },
                        "type": "scatterternary"
                      }
                    ],
                    "surface": [
                      {
                        "colorbar": {
                          "outlinewidth": 0,
                          "ticks": ""
                        },
                        "colorscale": [
                          [
                            0,
                            "#0d0887"
                          ],
                          [
                            0.1111111111111111,
                            "#46039f"
                          ],
                          [
                            0.2222222222222222,
                            "#7201a8"
                          ],
                          [
                            0.3333333333333333,
                            "#9c179e"
                          ],
                          [
                            0.4444444444444444,
                            "#bd3786"
                          ],
                          [
                            0.5555555555555556,
                            "#d8576b"
                          ],
                          [
                            0.6666666666666666,
                            "#ed7953"
                          ],
                          [
                            0.7777777777777778,
                            "#fb9f3a"
                          ],
                          [
                            0.8888888888888888,
                            "#fdca26"
                          ],
                          [
                            1,
                            "#f0f921"
                          ]
                        ],
                        "type": "surface"
                      }
                    ],
                    "table": [
                      {
                        "cells": {
                          "fill": {
                            "color": "#EBF0F8"
                          },
                          "line": {
                            "color": "white"
                          }
                        },
                        "header": {
                          "fill": {
                            "color": "#C8D4E3"
                          },
                          "line": {
                            "color": "white"
                          }
                        },
                        "type": "table"
                      }
                    ]
                  },
                  "layout": {
                    "annotationdefaults": {
                      "arrowcolor": "#2a3f5f",
                      "arrowhead": 0,
                      "arrowwidth": 1
                    },
                    "autotypenumbers": "strict",
                    "coloraxis": {
                      "colorbar": {
                        "outlinewidth": 0,
                        "ticks": ""
                      }
                    },
                    "colorscale": {
                      "diverging": [
                        [
                          0,
                          "#8e0152"
                        ],
                        [
                          0.1,
                          "#c51b7d"
                        ],
                        [
                          0.2,
                          "#de77ae"
                        ],
                        [
                          0.3,
                          "#f1b6da"
                        ],
                        [
                          0.4,
                          "#fde0ef"
                        ],
                        [
                          0.5,
                          "#f7f7f7"
                        ],
                        [
                          0.6,
                          "#e6f5d0"
                        ],
                        [
                          0.7,
                          "#b8e186"
                        ],
                        [
                          0.8,
                          "#7fbc41"
                        ],
                        [
                          0.9,
                          "#4d9221"
                        ],
                        [
                          1,
                          "#276419"
                        ]
                      ],
                      "sequential": [
                        [
                          0,
                          "#0d0887"
                        ],
                        [
                          0.1111111111111111,
                          "#46039f"
                        ],
                        [
                          0.2222222222222222,
                          "#7201a8"
                        ],
                        [
                          0.3333333333333333,
                          "#9c179e"
                        ],
                        [
                          0.4444444444444444,
                          "#bd3786"
                        ],
                        [
                          0.5555555555555556,
                          "#d8576b"
                        ],
                        [
                          0.6666666666666666,
                          "#ed7953"
                        ],
                        [
                          0.7777777777777778,
                          "#fb9f3a"
                        ],
                        [
                          0.8888888888888888,
                          "#fdca26"
                        ],
                        [
                          1,
                          "#f0f921"
                        ]
                      ],
                      "sequentialminus": [
                        [
                          0,
                          "#0d0887"
                        ],
                        [
                          0.1111111111111111,
                          "#46039f"
                        ],
                        [
                          0.2222222222222222,
                          "#7201a8"
                        ],
                        [
                          0.3333333333333333,
                          "#9c179e"
                        ],
                        [
                          0.4444444444444444,
                          "#bd3786"
                        ],
                        [
                          0.5555555555555556,
                          "#d8576b"
                        ],
                        [
                          0.6666666666666666,
                          "#ed7953"
                        ],
                        [
                          0.7777777777777778,
                          "#fb9f3a"
                        ],
                        [
                          0.8888888888888888,
                          "#fdca26"
                        ],
                        [
                          1,
                          "#f0f921"
                        ]
                      ]
                    },
                    "colorway": [
                      "#636efa",
                      "#EF553B",
                      "#00cc96",
                      "#ab63fa",
                      "#FFA15A",
                      "#19d3f3",
                      "#FF6692",
                      "#B6E880",
                      "#FF97FF",
                      "#FECB52"
                    ],
                    "font": {
                      "color": "#2a3f5f"
                    },
                    "geo": {
                      "bgcolor": "white",
                      "lakecolor": "white",
                      "landcolor": "#E5ECF6",
                      "showlakes": true,
                      "showland": true,
                      "subunitcolor": "white"
                    },
                    "hoverlabel": {
                      "align": "left"
                    },
                    "hovermode": "closest",
                    "mapbox": {
                      "style": "light"
                    },
                    "paper_bgcolor": "white",
                    "plot_bgcolor": "#E5ECF6",
                    "polar": {
                      "angularaxis": {
                        "gridcolor": "white",
                        "linecolor": "white",
                        "ticks": ""
                      },
                      "bgcolor": "#E5ECF6",
                      "radialaxis": {
                        "gridcolor": "white",
                        "linecolor": "white",
                        "ticks": ""
                      }
                    },
                    "scene": {
                      "xaxis": {
                        "backgroundcolor": "#E5ECF6",
                        "gridcolor": "white",
                        "gridwidth": 2,
                        "linecolor": "white",
                        "showbackground": true,
                        "ticks": "",
                        "zerolinecolor": "white"
                      },
                      "yaxis": {
                        "backgroundcolor": "#E5ECF6",
                        "gridcolor": "white",
                        "gridwidth": 2,
                        "linecolor": "white",
                        "showbackground": true,
                        "ticks": "",
                        "zerolinecolor": "white"
                      },
                      "zaxis": {
                        "backgroundcolor": "#E5ECF6",
                        "gridcolor": "white",
                        "gridwidth": 2,
                        "linecolor": "white",
                        "showbackground": true,
                        "ticks": "",
                        "zerolinecolor": "white"
                      }
                    },
                    "shapedefaults": {
                      "line": {
                        "color": "#2a3f5f"
                      }
                    },
                    "ternary": {
                      "aaxis": {
                        "gridcolor": "white",
                        "linecolor": "white",
                        "ticks": ""
                      },
                      "baxis": {
                        "gridcolor": "white",
                        "linecolor": "white",
                        "ticks": ""
                      },
                      "bgcolor": "#E5ECF6",
                      "caxis": {
                        "gridcolor": "white",
                        "linecolor": "white",
                        "ticks": ""
                      }
                    },
                    "title": {
                      "x": 0.05
                    },
                    "xaxis": {
                      "automargin": true,
                      "gridcolor": "white",
                      "linecolor": "white",
                      "ticks": "",
                      "title": {
                        "standoff": 15
                      },
                      "zerolinecolor": "white",
                      "zerolinewidth": 2
                    },
                    "yaxis": {
                      "automargin": true,
                      "gridcolor": "white",
                      "linecolor": "white",
                      "ticks": "",
                      "title": {
                        "standoff": 15
                      },
                      "zerolinecolor": "white",
                      "zerolinewidth": 2
                    }
                  }
                },
                "xaxis": {
                  "anchor": "y",
                  "domain": [
                    0,
                    1
                  ],
                  "title": {
                    "text": "Age"
                  }
                },
                "yaxis": {
                  "anchor": "x",
                  "domain": [
                    0,
                    1
                  ],
                  "title": {
                    "text": "Fare"
                  }
                }
              }
            }
          },
          "metadata": {},
          "output_type": "display_data"
        }
      ],
      "source": [
        "# On ne voit pas bien la différence. Je rajoute une colonne sur la provenance finalement\n",
        "\n",
        "\n",
        "df_graph_predict = pd.concat([X_test.reset_index(drop=True), y_predict.reset_index(drop=True)], axis=1)\n",
        "df_graph_predict['Survived'] = df_graph_predict['Survived']*2 + 1\n",
        "df_graph_predict[\"predict_size\"] = 1\n",
        "\n",
        "df_graph_true = pd.concat([X_test, y_test], axis=1)\n",
        "df_graph_true['Survived'] = df_graph_true['Survived']*2\n",
        "df_graph_true[\"predict_size\"] = 5\n",
        "\n",
        "df_graph = pd.concat([df_graph_true, df_graph_predict])\n",
        "df_graph.head()\n",
        "\n",
        "\n",
        "# je veux écrire des labels en anglais plus clairs dans mon graphe\n",
        "def map_survived(x):\n",
        "  if x == 0:\n",
        "    return \"Dead_true\"\n",
        "  elif x == 1:\n",
        "    return \"Dead_predict\"\n",
        "  elif x == 2:\n",
        "    return \"Survived_true\"\n",
        "  elif x == 3:\n",
        "    return \"Survived_predict\"\n",
        "\n",
        "df_graph[\"color_label\"] = df_graph[\"Survived\"].map(map_survived)\n",
        "\n",
        "fig = px.scatter(df_graph, x=\"Age\", y=\"Fare\", color=\"color_label\", size=\"predict_size\", opacity=.5, color_continuous_scale=px.colors.cyclical.IceFire)\n",
        "fig.show()\n"
      ]
    },
    {
      "cell_type": "markdown",
      "metadata": {
        "id": "pis7TvvC3GSl"
      },
      "source": [
        "# 2e itération\n",
        "\n",
        "## Step data\n",
        "\n",
        "Je souhaite travailler sur la colonne Fare pour chercher un prix par passager.\n",
        "(je soupçonne que les prix sont groupés)\n",
        "\n",
        "Pour ça je vais repérer s'il y a plusieurs passagers avec le même numéro de ticket"
      ]
    },
    {
      "cell_type": "code",
      "execution_count": 51,
      "metadata": {
        "colab": {
          "base_uri": "https://localhost:8080/",
          "height": 490
        },
        "id": "QKFj44ad2_xd",
        "outputId": "6dcca2b3-cbb8-41f1-c432-96ab713f9e0d"
      },
      "outputs": [
        {
          "data": {
            "text/plain": [
              "Ticket\n",
              "347082              7\n",
              "1601                7\n",
              "CA. 2343            7\n",
              "3101295             6\n",
              "CA 2144             6\n",
              "                   ..\n",
              "PC 17590            1\n",
              "17463               1\n",
              "330877              1\n",
              "373450              1\n",
              "STON/O2. 3101282    1\n",
              "Name: count, Length: 681, dtype: int64"
            ]
          },
          "execution_count": 51,
          "metadata": {},
          "output_type": "execute_result"
        }
      ],
      "source": [
        "df1.Ticket.value_counts()"
      ]
    },
    {
      "cell_type": "markdown",
      "metadata": {
        "id": "Ipc2eQss3keX"
      },
      "source": [
        "Il y a bien des tickets de groupe"
      ]
    },
    {
      "cell_type": "code",
      "execution_count": 52,
      "metadata": {
        "id": "LMRwPvP83ins"
      },
      "outputs": [],
      "source": [
        "# sauvegarde au cas où\n",
        "df2 = df1.copy()"
      ]
    },
    {
      "cell_type": "code",
      "execution_count": 53,
      "metadata": {
        "id": "XtVjLdtM38iu"
      },
      "outputs": [],
      "source": [
        "df2[\"Fare_unit\"] = df2[\"Fare\"]/df2.groupby(\"Ticket\")[\"Ticket\"].transform(\"count\")"
      ]
    },
    {
      "cell_type": "code",
      "execution_count": 54,
      "metadata": {
        "colab": {
          "base_uri": "https://localhost:8080/",
          "height": 447
        },
        "id": "_GFoVEkA5Gc4",
        "outputId": "63f77c61-fb67-49bb-80ba-513e5c48ad10"
      },
      "outputs": [
        {
          "data": {
            "text/plain": [
              "<Axes: ylabel='Frequency'>"
            ]
          },
          "execution_count": 54,
          "metadata": {},
          "output_type": "execute_result"
        },
        {
          "data": {
            "image/png": "[encoded data removed]",
            "text/plain": [
              "<Figure size 640x480 with 1 Axes>"
            ]
          },
          "metadata": {},
          "output_type": "display_data"
        }
      ],
      "source": [
        "df2.Fare_unit.plot.hist()"
      ]
    },
    {
      "cell_type": "markdown",
      "metadata": {
        "id": "mP1wgj-65Y7_"
      },
      "source": [
        "C'est plus raisonnable. Voyons ces quelques billets > 100"
      ]
    },
    {
      "cell_type": "code",
      "execution_count": 55,
      "metadata": {
        "colab": {
          "base_uri": "https://localhost:8080/",
          "height": 470
        },
        "id": "KkExpG105hsd",
        "outputId": "57e8fb91-f28b-4893-d283-c098031e2344"
      },
      "outputs": [
        {
          "data": {
            "text/html": [
              "<div>\n",
              "<style scoped>\n",
              "    .dataframe tbody tr th:only-of-type {\n",
              "        vertical-align: middle;\n",
              "    }\n",
              "\n",
              "    .dataframe tbody tr th {\n",
              "        vertical-align: top;\n",
              "    }\n",
              "\n",
              "    .dataframe thead th {\n",
              "        text-align: right;\n",
              "    }\n",
              "</style>\n",
              "<table border=\"1\" class=\"dataframe\">\n",
              "  <thead>\n",
              "    <tr style=\"text-align: right;\">\n",
              "      <th></th>\n",
              "      <th>Survived</th>\n",
              "      <th>Pclass</th>\n",
              "      <th>Name</th>\n",
              "      <th>Sex</th>\n",
              "      <th>Age</th>\n",
              "      <th>SibSp</th>\n",
              "      <th>Parch</th>\n",
              "      <th>Ticket</th>\n",
              "      <th>Fare</th>\n",
              "      <th>Cabin</th>\n",
              "      <th>Embarked</th>\n",
              "      <th>Fare_unit</th>\n",
              "    </tr>\n",
              "  </thead>\n",
              "  <tbody>\n",
              "    <tr>\n",
              "      <th>118</th>\n",
              "      <td>0</td>\n",
              "      <td>1</td>\n",
              "      <td>Baxter, Mr. Quigg Edmond</td>\n",
              "      <td>male</td>\n",
              "      <td>24.0</td>\n",
              "      <td>0</td>\n",
              "      <td>1</td>\n",
              "      <td>PC 17558</td>\n",
              "      <td>247.5208</td>\n",
              "      <td>B58 B60</td>\n",
              "      <td>C</td>\n",
              "      <td>123.7604</td>\n",
              "    </tr>\n",
              "    <tr>\n",
              "      <th>258</th>\n",
              "      <td>1</td>\n",
              "      <td>1</td>\n",
              "      <td>Ward, Miss. Anna</td>\n",
              "      <td>female</td>\n",
              "      <td>35.0</td>\n",
              "      <td>0</td>\n",
              "      <td>0</td>\n",
              "      <td>PC 17755</td>\n",
              "      <td>512.3292</td>\n",
              "      <td>NaN</td>\n",
              "      <td>C</td>\n",
              "      <td>170.7764</td>\n",
              "    </tr>\n",
              "    <tr>\n",
              "      <th>299</th>\n",
              "      <td>1</td>\n",
              "      <td>1</td>\n",
              "      <td>Baxter, Mrs. James (Helene DeLaudeniere Chaput)</td>\n",
              "      <td>female</td>\n",
              "      <td>50.0</td>\n",
              "      <td>0</td>\n",
              "      <td>1</td>\n",
              "      <td>PC 17558</td>\n",
              "      <td>247.5208</td>\n",
              "      <td>B58 B60</td>\n",
              "      <td>C</td>\n",
              "      <td>123.7604</td>\n",
              "    </tr>\n",
              "    <tr>\n",
              "      <th>311</th>\n",
              "      <td>1</td>\n",
              "      <td>1</td>\n",
              "      <td>Ryerson, Miss. Emily Borie</td>\n",
              "      <td>female</td>\n",
              "      <td>18.0</td>\n",
              "      <td>2</td>\n",
              "      <td>2</td>\n",
              "      <td>PC 17608</td>\n",
              "      <td>262.3750</td>\n",
              "      <td>B57 B59 B63 B66</td>\n",
              "      <td>C</td>\n",
              "      <td>131.1875</td>\n",
              "    </tr>\n",
              "    <tr>\n",
              "      <th>377</th>\n",
              "      <td>0</td>\n",
              "      <td>1</td>\n",
              "      <td>Widener, Mr. Harry Elkins</td>\n",
              "      <td>male</td>\n",
              "      <td>27.0</td>\n",
              "      <td>0</td>\n",
              "      <td>2</td>\n",
              "      <td>113503</td>\n",
              "      <td>211.5000</td>\n",
              "      <td>C82</td>\n",
              "      <td>C</td>\n",
              "      <td>211.5000</td>\n",
              "    </tr>\n",
              "    <tr>\n",
              "      <th>527</th>\n",
              "      <td>0</td>\n",
              "      <td>1</td>\n",
              "      <td>Farthing, Mr. John</td>\n",
              "      <td>male</td>\n",
              "      <td>NaN</td>\n",
              "      <td>0</td>\n",
              "      <td>0</td>\n",
              "      <td>PC 17483</td>\n",
              "      <td>221.7792</td>\n",
              "      <td>C95</td>\n",
              "      <td>S</td>\n",
              "      <td>221.7792</td>\n",
              "    </tr>\n",
              "    <tr>\n",
              "      <th>679</th>\n",
              "      <td>1</td>\n",
              "      <td>1</td>\n",
              "      <td>Cardeza, Mr. Thomas Drake Martinez</td>\n",
              "      <td>male</td>\n",
              "      <td>36.0</td>\n",
              "      <td>0</td>\n",
              "      <td>1</td>\n",
              "      <td>PC 17755</td>\n",
              "      <td>512.3292</td>\n",
              "      <td>B51 B53 B55</td>\n",
              "      <td>C</td>\n",
              "      <td>170.7764</td>\n",
              "    </tr>\n",
              "    <tr>\n",
              "      <th>737</th>\n",
              "      <td>1</td>\n",
              "      <td>1</td>\n",
              "      <td>Lesurer, Mr. Gustave J</td>\n",
              "      <td>male</td>\n",
              "      <td>35.0</td>\n",
              "      <td>0</td>\n",
              "      <td>0</td>\n",
              "      <td>PC 17755</td>\n",
              "      <td>512.3292</td>\n",
              "      <td>B101</td>\n",
              "      <td>C</td>\n",
              "      <td>170.7764</td>\n",
              "    </tr>\n",
              "    <tr>\n",
              "      <th>742</th>\n",
              "      <td>1</td>\n",
              "      <td>1</td>\n",
              "      <td>Ryerson, Miss. Susan Parker \"Suzette\"</td>\n",
              "      <td>female</td>\n",
              "      <td>21.0</td>\n",
              "      <td>2</td>\n",
              "      <td>2</td>\n",
              "      <td>PC 17608</td>\n",
              "      <td>262.3750</td>\n",
              "      <td>B57 B59 B63 B66</td>\n",
              "      <td>C</td>\n",
              "      <td>131.1875</td>\n",
              "    </tr>\n",
              "  </tbody>\n",
              "</table>\n",
              "</div>"
            ],
            "text/plain": [
              "     Survived  Pclass                                             Name  \\\n",
              "118         0       1                         Baxter, Mr. Quigg Edmond   \n",
              "258         1       1                                 Ward, Miss. Anna   \n",
              "299         1       1  Baxter, Mrs. James (Helene DeLaudeniere Chaput)   \n",
              "311         1       1                       Ryerson, Miss. Emily Borie   \n",
              "377         0       1                        Widener, Mr. Harry Elkins   \n",
              "527         0       1                               Farthing, Mr. John   \n",
              "679         1       1               Cardeza, Mr. Thomas Drake Martinez   \n",
              "737         1       1                           Lesurer, Mr. Gustave J   \n",
              "742         1       1            Ryerson, Miss. Susan Parker \"Suzette\"   \n",
              "\n",
              "        Sex   Age  SibSp  Parch    Ticket      Fare            Cabin Embarked  \\\n",
              "118    male  24.0      0      1  PC 17558  247.5208          B58 B60        C   \n",
              "258  female  35.0      0      0  PC 17755  512.3292              NaN        C   \n",
              "299  female  50.0      0      1  PC 17558  247.5208          B58 B60        C   \n",
              "311  female  18.0      2      2  PC 17608  262.3750  B57 B59 B63 B66        C   \n",
              "377    male  27.0      0      2    113503  211.5000              C82        C   \n",
              "527    male   NaN      0      0  PC 17483  221.7792              C95        S   \n",
              "679    male  36.0      0      1  PC 17755  512.3292      B51 B53 B55        C   \n",
              "737    male  35.0      0      0  PC 17755  512.3292             B101        C   \n",
              "742  female  21.0      2      2  PC 17608  262.3750  B57 B59 B63 B66        C   \n",
              "\n",
              "     Fare_unit  \n",
              "118   123.7604  \n",
              "258   170.7764  \n",
              "299   123.7604  \n",
              "311   131.1875  \n",
              "377   211.5000  \n",
              "527   221.7792  \n",
              "679   170.7764  \n",
              "737   170.7764  \n",
              "742   131.1875  "
            ]
          },
          "execution_count": 55,
          "metadata": {},
          "output_type": "execute_result"
        }
      ],
      "source": [
        "df2[df2.Fare_unit > 100]"
      ]
    },
    {
      "cell_type": "markdown",
      "metadata": {
        "id": "9IpCLXCz6Rg-"
      },
      "source": [
        "# Préparation des données"
      ]
    },
    {
      "cell_type": "code",
      "execution_count": null,
      "metadata": {
        "id": "8vdk0uV86GBW"
      },
      "outputs": [],
      "source": []
    },
    {
      "cell_type": "code",
      "execution_count": 56,
      "metadata": {
        "id": "LtYeVNiz6Us6"
      },
      "outputs": [],
      "source": [
        "def data_preparation_1(df):\n",
        "    df1 = df.drop(['PassengerId'], axis=1)\n",
        "    df1.drop(['Cabin', 'Embarked', 'Name', 'SibSp', 'Parch'], axis=1, inplace=True)\n",
        "    df1[\"Fare_unit\"] = df1[\"Fare\"]/df1.groupby(\"Ticket\")[\"Ticket\"].transform(\"count\")\n",
        "    df1.drop(['Fare'], axis=1, inplace=True)\n",
        "    return df1"
      ]
    },
    {
      "cell_type": "code",
      "execution_count": 57,
      "metadata": {
        "colab": {
          "base_uri": "https://localhost:8080/",
          "height": 206
        },
        "id": "Te5UMZSh6Us6",
        "outputId": "2a003022-f337-4ac0-a25c-13e738585dc0"
      },
      "outputs": [
        {
          "data": {
            "text/html": [
              "<div>\n",
              "<style scoped>\n",
              "    .dataframe tbody tr th:only-of-type {\n",
              "        vertical-align: middle;\n",
              "    }\n",
              "\n",
              "    .dataframe tbody tr th {\n",
              "        vertical-align: top;\n",
              "    }\n",
              "\n",
              "    .dataframe thead th {\n",
              "        text-align: right;\n",
              "    }\n",
              "</style>\n",
              "<table border=\"1\" class=\"dataframe\">\n",
              "  <thead>\n",
              "    <tr style=\"text-align: right;\">\n",
              "      <th></th>\n",
              "      <th>Survived</th>\n",
              "      <th>Pclass</th>\n",
              "      <th>Sex</th>\n",
              "      <th>Age</th>\n",
              "      <th>Ticket</th>\n",
              "      <th>Fare_unit</th>\n",
              "    </tr>\n",
              "  </thead>\n",
              "  <tbody>\n",
              "    <tr>\n",
              "      <th>0</th>\n",
              "      <td>0</td>\n",
              "      <td>3</td>\n",
              "      <td>male</td>\n",
              "      <td>22.0</td>\n",
              "      <td>A/5 21171</td>\n",
              "      <td>7.2500</td>\n",
              "    </tr>\n",
              "    <tr>\n",
              "      <th>1</th>\n",
              "      <td>1</td>\n",
              "      <td>1</td>\n",
              "      <td>female</td>\n",
              "      <td>38.0</td>\n",
              "      <td>PC 17599</td>\n",
              "      <td>71.2833</td>\n",
              "    </tr>\n",
              "    <tr>\n",
              "      <th>2</th>\n",
              "      <td>1</td>\n",
              "      <td>3</td>\n",
              "      <td>female</td>\n",
              "      <td>26.0</td>\n",
              "      <td>STON/O2. 3101282</td>\n",
              "      <td>7.9250</td>\n",
              "    </tr>\n",
              "    <tr>\n",
              "      <th>3</th>\n",
              "      <td>1</td>\n",
              "      <td>1</td>\n",
              "      <td>female</td>\n",
              "      <td>35.0</td>\n",
              "      <td>113803</td>\n",
              "      <td>26.5500</td>\n",
              "    </tr>\n",
              "    <tr>\n",
              "      <th>4</th>\n",
              "      <td>0</td>\n",
              "      <td>3</td>\n",
              "      <td>male</td>\n",
              "      <td>35.0</td>\n",
              "      <td>373450</td>\n",
              "      <td>8.0500</td>\n",
              "    </tr>\n",
              "  </tbody>\n",
              "</table>\n",
              "</div>"
            ],
            "text/plain": [
              "   Survived  Pclass     Sex   Age            Ticket  Fare_unit\n",
              "0         0       3    male  22.0         A/5 21171     7.2500\n",
              "1         1       1  female  38.0          PC 17599    71.2833\n",
              "2         1       3  female  26.0  STON/O2. 3101282     7.9250\n",
              "3         1       1  female  35.0            113803    26.5500\n",
              "4         0       3    male  35.0            373450     8.0500"
            ]
          },
          "execution_count": 57,
          "metadata": {},
          "output_type": "execute_result"
        }
      ],
      "source": [
        "# Je vérifie le tableau généré\n",
        "df_train = data_preparation_1(df)\n",
        "df_train.head()"
      ]
    },
    {
      "cell_type": "markdown",
      "metadata": {
        "id": "gWC61Rub63We"
      },
      "source": [
        "# 3. Je prépare mes données pour l'entrainement"
      ]
    },
    {
      "cell_type": "code",
      "execution_count": 58,
      "metadata": {
        "id": "uaIpp0_i63Wf"
      },
      "outputs": [],
      "source": [
        "from sklearn.model_selection import train_test_split\n",
        "\n",
        "y = df_train.Survived\n",
        "X = df_train.drop(['Survived'], axis=1)\n",
        "X_train, X_test, y_train, y_test = train_test_split(X, y, test_size=0.33, random_state=42)"
      ]
    },
    {
      "cell_type": "markdown",
      "metadata": {
        "id": "2_4mjH2U7A05"
      },
      "source": [
        "# ML\n",
        "\n",
        "Je rappelle mon modèle champion : rfc"
      ]
    },
    {
      "cell_type": "code",
      "execution_count": 59,
      "metadata": {
        "colab": {
          "base_uri": "https://localhost:8080/",
          "height": 221
        },
        "id": "E7HDikcf7AK7",
        "outputId": "dc6b246b-00b4-4546-b539-40551bd92805"
      },
      "outputs": [
        {
          "data": {
            "text/html": [
              "<style>#sk-container-id-7 {\n",
              "  /* Definition of color scheme common for light and dark mode */\n",
              "  --sklearn-color-text: #000;\n",
              "  --sklearn-color-text-muted: #666;\n",
              "  --sklearn-color-line: gray;\n",
              "  /* Definition of color scheme for unfitted estimators */\n",
              "  --sklearn-color-unfitted-level-0: #fff5e6;\n",
              "  --sklearn-color-unfitted-level-1: #f6e4d2;\n",
              "  --sklearn-color-unfitted-level-2: #ffe0b3;\n",
              "  --sklearn-color-unfitted-level-3: chocolate;\n",
              "  /* Definition of color scheme for fitted estimators */\n",
              "  --sklearn-color-fitted-level-0: #f0f8ff;\n",
              "  --sklearn-color-fitted-level-1: #d4ebff;\n",
              "  --sklearn-color-fitted-level-2: #b3dbfd;\n",
              "  --sklearn-color-fitted-level-3: cornflowerblue;\n",
              "\n",
              "  /* Specific color for light theme */\n",
              "  --sklearn-color-text-on-default-background: var(--sg-text-color, var(--theme-code-foreground, var(--jp-content-font-color1, black)));\n",
              "  --sklearn-color-background: var(--sg-background-color, var(--theme-background, var(--jp-layout-color0, white)));\n",
              "  --sklearn-color-border-box: var(--sg-text-color, var(--theme-code-foreground, var(--jp-content-font-color1, black)));\n",
              "  --sklearn-color-icon: #696969;\n",
              "\n",
              "  @media (prefers-color-scheme: dark) {\n",
              "    /* Redefinition of color scheme for dark theme */\n",
              "    --sklearn-color-text-on-default-background: var(--sg-text-color, var(--theme-code-foreground, var(--jp-content-font-color1, white)));\n",
              "    --sklearn-color-background: var(--sg-background-color, var(--theme-background, var(--jp-layout-color0, #111)));\n",
              "    --sklearn-color-border-box: var(--sg-text-color, var(--theme-code-foreground, var(--jp-content-font-color1, white)));\n",
              "    --sklearn-color-icon: #878787;\n",
              "  }\n",
              "}\n",
              "\n",
              "#sk-container-id-7 {\n",
              "  color: var(--sklearn-color-text);\n",
              "}\n",
              "\n",
              "#sk-container-id-7 pre {\n",
              "  padding: 0;\n",
              "}\n",
              "\n",
              "#sk-container-id-7 input.sk-hidden--visually {\n",
              "  border: 0;\n",
              "  clip: rect(1px 1px 1px 1px);\n",
              "  clip: rect(1px, 1px, 1px, 1px);\n",
              "  height: 1px;\n",
              "  margin: -1px;\n",
              "  overflow: hidden;\n",
              "  padding: 0;\n",
              "  position: absolute;\n",
              "  width: 1px;\n",
              "}\n",
              "\n",
              "#sk-container-id-7 div.sk-dashed-wrapped {\n",
              "  border: 1px dashed var(--sklearn-color-line);\n",
              "  margin: 0 0.4em 0.5em 0.4em;\n",
              "  box-sizing: border-box;\n",
              "  padding-bottom: 0.4em;\n",
              "  background-color: var(--sklearn-color-background);\n",
              "}\n",
              "\n",
              "#sk-container-id-7 div.sk-container {\n",
              "  /* jupyter's `normalize.less` sets `[hidden] { display: none; }`\n",
              "     but bootstrap.min.css set `[hidden] { display: none !important; }`\n",
              "     so we also need the `!important` here to be able to override the\n",
              "     default hidden behavior on the sphinx rendered scikit-learn.org.\n",
              "     See: https://github.com/scikit-learn/scikit-learn/issues/21755 */\n",
              "  display: inline-block !important;\n",
              "  position: relative;\n",
              "}\n",
              "\n",
              "#sk-container-id-7 div.sk-text-repr-fallback {\n",
              "  display: none;\n",
              "}\n",
              "\n",
              "div.sk-parallel-item,\n",
              "div.sk-serial,\n",
              "div.sk-item {\n",
              "  /* draw centered vertical line to link estimators */\n",
              "  background-image: linear-gradient(var(--sklearn-color-text-on-default-background), var(--sklearn-color-text-on-default-background));\n",
              "  background-size: 2px 100%;\n",
              "  background-repeat: no-repeat;\n",
              "  background-position: center center;\n",
              "}\n",
              "\n",
              "/* Parallel-specific style estimator block */\n",
              "\n",
              "#sk-container-id-7 div.sk-parallel-item::after {\n",
              "  content: \"\";\n",
              "  width: 100%;\n",
              "  border-bottom: 2px solid var(--sklearn-color-text-on-default-background);\n",
              "  flex-grow: 1;\n",
              "}\n",
              "\n",
              "#sk-container-id-7 div.sk-parallel {\n",
              "  display: flex;\n",
              "  align-items: stretch;\n",
              "  justify-content: center;\n",
              "  background-color: var(--sklearn-color-background);\n",
              "  position: relative;\n",
              "}\n",
              "\n",
              "#sk-container-id-7 div.sk-parallel-item {\n",
              "  display: flex;\n",
              "  flex-direction: column;\n",
              "}\n",
              "\n",
              "#sk-container-id-7 div.sk-parallel-item:first-child::after {\n",
              "  align-self: flex-end;\n",
              "  width: 50%;\n",
              "}\n",
              "\n",
              "#sk-container-id-7 div.sk-parallel-item:last-child::after {\n",
              "  align-self: flex-start;\n",
              "  width: 50%;\n",
              "}\n",
              "\n",
              "#sk-container-id-7 div.sk-parallel-item:only-child::after {\n",
              "  width: 0;\n",
              "}\n",
              "\n",
              "/* Serial-specific style estimator block */\n",
              "\n",
              "#sk-container-id-7 div.sk-serial {\n",
              "  display: flex;\n",
              "  flex-direction: column;\n",
              "  align-items: center;\n",
              "  background-color: var(--sklearn-color-background);\n",
              "  padding-right: 1em;\n",
              "  padding-left: 1em;\n",
              "}\n",
              "\n",
              "\n",
              "/* Toggleable style: style used for estimator/Pipeline/ColumnTransformer box that is\n",
              "clickable and can be expanded/collapsed.\n",
              "- Pipeline and ColumnTransformer use this feature and define the default style\n",
              "- Estimators will overwrite some part of the style using the `sk-estimator` class\n",
              "*/\n",
              "\n",
              "/* Pipeline and ColumnTransformer style (default) */\n",
              "\n",
              "#sk-container-id-7 div.sk-toggleable {\n",
              "  /* Default theme specific background. It is overwritten whether we have a\n",
              "  specific estimator or a Pipeline/ColumnTransformer */\n",
              "  background-color: var(--sklearn-color-background);\n",
              "}\n",
              "\n",
              "/* Toggleable label */\n",
              "#sk-container-id-7 label.sk-toggleable__label {\n",
              "  cursor: pointer;\n",
              "  display: flex;\n",
              "  width: 100%;\n",
              "  margin-bottom: 0;\n",
              "  padding: 0.5em;\n",
              "  box-sizing: border-box;\n",
              "  text-align: center;\n",
              "  align-items: start;\n",
              "  justify-content: space-between;\n",
              "  gap: 0.5em;\n",
              "}\n",
              "\n",
              "#sk-container-id-7 label.sk-toggleable__label .caption {\n",
              "  font-size: 0.6rem;\n",
              "  font-weight: lighter;\n",
              "  color: var(--sklearn-color-text-muted);\n",
              "}\n",
              "\n",
              "#sk-container-id-7 label.sk-toggleable__label-arrow:before {\n",
              "  /* Arrow on the left of the label */\n",
              "  content: \"▸\";\n",
              "  float: left;\n",
              "  margin-right: 0.25em;\n",
              "  color: var(--sklearn-color-icon);\n",
              "}\n",
              "\n",
              "#sk-container-id-7 label.sk-toggleable__label-arrow:hover:before {\n",
              "  color: var(--sklearn-color-text);\n",
              "}\n",
              "\n",
              "/* Toggleable content - dropdown */\n",
              "\n",
              "#sk-container-id-7 div.sk-toggleable__content {\n",
              "  max-height: 0;\n",
              "  max-width: 0;\n",
              "  overflow: hidden;\n",
              "  text-align: left;\n",
              "  /* unfitted */\n",
              "  background-color: var(--sklearn-color-unfitted-level-0);\n",
              "}\n",
              "\n",
              "#sk-container-id-7 div.sk-toggleable__content.fitted {\n",
              "  /* fitted */\n",
              "  background-color: var(--sklearn-color-fitted-level-0);\n",
              "}\n",
              "\n",
              "#sk-container-id-7 div.sk-toggleable__content pre {\n",
              "  margin: 0.2em;\n",
              "  border-radius: 0.25em;\n",
              "  color: var(--sklearn-color-text);\n",
              "  /* unfitted */\n",
              "  background-color: var(--sklearn-color-unfitted-level-0);\n",
              "}\n",
              "\n",
              "#sk-container-id-7 div.sk-toggleable__content.fitted pre {\n",
              "  /* unfitted */\n",
              "  background-color: var(--sklearn-color-fitted-level-0);\n",
              "}\n",
              "\n",
              "#sk-container-id-7 input.sk-toggleable__control:checked~div.sk-toggleable__content {\n",
              "  /* Expand drop-down */\n",
              "  max-height: 200px;\n",
              "  max-width: 100%;\n",
              "  overflow: auto;\n",
              "}\n",
              "\n",
              "#sk-container-id-7 input.sk-toggleable__control:checked~label.sk-toggleable__label-arrow:before {\n",
              "  content: \"▾\";\n",
              "}\n",
              "\n",
              "/* Pipeline/ColumnTransformer-specific style */\n",
              "\n",
              "#sk-container-id-7 div.sk-label input.sk-toggleable__control:checked~label.sk-toggleable__label {\n",
              "  color: var(--sklearn-color-text);\n",
              "  background-color: var(--sklearn-color-unfitted-level-2);\n",
              "}\n",
              "\n",
              "#sk-container-id-7 div.sk-label.fitted input.sk-toggleable__control:checked~label.sk-toggleable__label {\n",
              "  background-color: var(--sklearn-color-fitted-level-2);\n",
              "}\n",
              "\n",
              "/* Estimator-specific style */\n",
              "\n",
              "/* Colorize estimator box */\n",
              "#sk-container-id-7 div.sk-estimator input.sk-toggleable__control:checked~label.sk-toggleable__label {\n",
              "  /* unfitted */\n",
              "  background-color: var(--sklearn-color-unfitted-level-2);\n",
              "}\n",
              "\n",
              "#sk-container-id-7 div.sk-estimator.fitted input.sk-toggleable__control:checked~label.sk-toggleable__label {\n",
              "  /* fitted */\n",
              "  background-color: var(--sklearn-color-fitted-level-2);\n",
              "}\n",
              "\n",
              "#sk-container-id-7 div.sk-label label.sk-toggleable__label,\n",
              "#sk-container-id-7 div.sk-label label {\n",
              "  /* The background is the default theme color */\n",
              "  color: var(--sklearn-color-text-on-default-background);\n",
              "}\n",
              "\n",
              "/* On hover, darken the color of the background */\n",
              "#sk-container-id-7 div.sk-label:hover label.sk-toggleable__label {\n",
              "  color: var(--sklearn-color-text);\n",
              "  background-color: var(--sklearn-color-unfitted-level-2);\n",
              "}\n",
              "\n",
              "/* Label box, darken color on hover, fitted */\n",
              "#sk-container-id-7 div.sk-label.fitted:hover label.sk-toggleable__label.fitted {\n",
              "  color: var(--sklearn-color-text);\n",
              "  background-color: var(--sklearn-color-fitted-level-2);\n",
              "}\n",
              "\n",
              "/* Estimator label */\n",
              "\n",
              "#sk-container-id-7 div.sk-label label {\n",
              "  font-family: monospace;\n",
              "  font-weight: bold;\n",
              "  display: inline-block;\n",
              "  line-height: 1.2em;\n",
              "}\n",
              "\n",
              "#sk-container-id-7 div.sk-label-container {\n",
              "  text-align: center;\n",
              "}\n",
              "\n",
              "/* Estimator-specific */\n",
              "#sk-container-id-7 div.sk-estimator {\n",
              "  font-family: monospace;\n",
              "  border: 1px dotted var(--sklearn-color-border-box);\n",
              "  border-radius: 0.25em;\n",
              "  box-sizing: border-box;\n",
              "  margin-bottom: 0.5em;\n",
              "  /* unfitted */\n",
              "  background-color: var(--sklearn-color-unfitted-level-0);\n",
              "}\n",
              "\n",
              "#sk-container-id-7 div.sk-estimator.fitted {\n",
              "  /* fitted */\n",
              "  background-color: var(--sklearn-color-fitted-level-0);\n",
              "}\n",
              "\n",
              "/* on hover */\n",
              "#sk-container-id-7 div.sk-estimator:hover {\n",
              "  /* unfitted */\n",
              "  background-color: var(--sklearn-color-unfitted-level-2);\n",
              "}\n",
              "\n",
              "#sk-container-id-7 div.sk-estimator.fitted:hover {\n",
              "  /* fitted */\n",
              "  background-color: var(--sklearn-color-fitted-level-2);\n",
              "}\n",
              "\n",
              "/* Specification for estimator info (e.g. \"i\" and \"?\") */\n",
              "\n",
              "/* Common style for \"i\" and \"?\" */\n",
              "\n",
              ".sk-estimator-doc-link,\n",
              "a:link.sk-estimator-doc-link,\n",
              "a:visited.sk-estimator-doc-link {\n",
              "  float: right;\n",
              "  font-size: smaller;\n",
              "  line-height: 1em;\n",
              "  font-family: monospace;\n",
              "  background-color: var(--sklearn-color-background);\n",
              "  border-radius: 1em;\n",
              "  height: 1em;\n",
              "  width: 1em;\n",
              "  text-decoration: none !important;\n",
              "  margin-left: 0.5em;\n",
              "  text-align: center;\n",
              "  /* unfitted */\n",
              "  border: var(--sklearn-color-unfitted-level-1) 1pt solid;\n",
              "  color: var(--sklearn-color-unfitted-level-1);\n",
              "}\n",
              "\n",
              ".sk-estimator-doc-link.fitted,\n",
              "a:link.sk-estimator-doc-link.fitted,\n",
              "a:visited.sk-estimator-doc-link.fitted {\n",
              "  /* fitted */\n",
              "  border: var(--sklearn-color-fitted-level-1) 1pt solid;\n",
              "  color: var(--sklearn-color-fitted-level-1);\n",
              "}\n",
              "\n",
              "/* On hover */\n",
              "div.sk-estimator:hover .sk-estimator-doc-link:hover,\n",
              ".sk-estimator-doc-link:hover,\n",
              "div.sk-label-container:hover .sk-estimator-doc-link:hover,\n",
              ".sk-estimator-doc-link:hover {\n",
              "  /* unfitted */\n",
              "  background-color: var(--sklearn-color-unfitted-level-3);\n",
              "  color: var(--sklearn-color-background);\n",
              "  text-decoration: none;\n",
              "}\n",
              "\n",
              "div.sk-estimator.fitted:hover .sk-estimator-doc-link.fitted:hover,\n",
              ".sk-estimator-doc-link.fitted:hover,\n",
              "div.sk-label-container:hover .sk-estimator-doc-link.fitted:hover,\n",
              ".sk-estimator-doc-link.fitted:hover {\n",
              "  /* fitted */\n",
              "  background-color: var(--sklearn-color-fitted-level-3);\n",
              "  color: var(--sklearn-color-background);\n",
              "  text-decoration: none;\n",
              "}\n",
              "\n",
              "/* Span, style for the box shown on hovering the info icon */\n",
              ".sk-estimator-doc-link span {\n",
              "  display: none;\n",
              "  z-index: 9999;\n",
              "  position: relative;\n",
              "  font-weight: normal;\n",
              "  right: .2ex;\n",
              "  padding: .5ex;\n",
              "  margin: .5ex;\n",
              "  width: min-content;\n",
              "  min-width: 20ex;\n",
              "  max-width: 50ex;\n",
              "  color: var(--sklearn-color-text);\n",
              "  box-shadow: 2pt 2pt 4pt #999;\n",
              "  /* unfitted */\n",
              "  background: var(--sklearn-color-unfitted-level-0);\n",
              "  border: .5pt solid var(--sklearn-color-unfitted-level-3);\n",
              "}\n",
              "\n",
              ".sk-estimator-doc-link.fitted span {\n",
              "  /* fitted */\n",
              "  background: var(--sklearn-color-fitted-level-0);\n",
              "  border: var(--sklearn-color-fitted-level-3);\n",
              "}\n",
              "\n",
              ".sk-estimator-doc-link:hover span {\n",
              "  display: block;\n",
              "}\n",
              "\n",
              "/* \"?\"-specific style due to the `<a>` HTML tag */\n",
              "\n",
              "#sk-container-id-7 a.estimator_doc_link {\n",
              "  float: right;\n",
              "  font-size: 1rem;\n",
              "  line-height: 1em;\n",
              "  font-family: monospace;\n",
              "  background-color: var(--sklearn-color-background);\n",
              "  border-radius: 1rem;\n",
              "  height: 1rem;\n",
              "  width: 1rem;\n",
              "  text-decoration: none;\n",
              "  /* unfitted */\n",
              "  color: var(--sklearn-color-unfitted-level-1);\n",
              "  border: var(--sklearn-color-unfitted-level-1) 1pt solid;\n",
              "}\n",
              "\n",
              "#sk-container-id-7 a.estimator_doc_link.fitted {\n",
              "  /* fitted */\n",
              "  border: var(--sklearn-color-fitted-level-1) 1pt solid;\n",
              "  color: var(--sklearn-color-fitted-level-1);\n",
              "}\n",
              "\n",
              "/* On hover */\n",
              "#sk-container-id-7 a.estimator_doc_link:hover {\n",
              "  /* unfitted */\n",
              "  background-color: var(--sklearn-color-unfitted-level-3);\n",
              "  color: var(--sklearn-color-background);\n",
              "  text-decoration: none;\n",
              "}\n",
              "\n",
              "#sk-container-id-7 a.estimator_doc_link.fitted:hover {\n",
              "  /* fitted */\n",
              "  background-color: var(--sklearn-color-fitted-level-3);\n",
              "}\n",
              "</style><div id=\"sk-container-id-7\" class=\"sk-top-container\"><div class=\"sk-text-repr-fallback\"><pre>Pipeline(steps=[(&#x27;columntransformer&#x27;,\n",
              "                 ColumnTransformer(transformers=[(&#x27;simpleimputer&#x27;,\n",
              "                                                  SimpleImputer(add_indicator=True),\n",
              "                                                  &lt;sklearn.compose._column_transformer.make_column_selector object at 0x0000020973C67DD0&gt;),\n",
              "                                                 (&#x27;ordinalencoder&#x27;,\n",
              "                                                  OrdinalEncoder(encoded_missing_value=-2,\n",
              "                                                                 handle_unknown=&#x27;use_encoded_value&#x27;,\n",
              "                                                                 unknown_value=-1),\n",
              "                                                  &lt;sklearn.compose._column_transformer.make_column_selector object at 0x0000020973C67D10&gt;)])),\n",
              "                (&#x27;randomforestclassifier&#x27;,\n",
              "                 RandomForestClassifier(random_state=42))])</pre><b>In a Jupyter environment, please rerun this cell to show the HTML representation or trust the notebook. <br />On GitHub, the HTML representation is unable to render, please try loading this page with nbviewer.org.</b></div><div class=\"sk-container\" hidden><div class=\"sk-item sk-dashed-wrapped\"><div class=\"sk-label-container\"><div class=\"sk-label fitted sk-toggleable\"><input class=\"sk-toggleable__control sk-hidden--visually\" id=\"sk-estimator-id-41\" type=\"checkbox\" ><label for=\"sk-estimator-id-41\" class=\"sk-toggleable__label fitted sk-toggleable__label-arrow\"><div><div>Pipeline</div></div><div><a class=\"sk-estimator-doc-link fitted\" rel=\"noreferrer\" target=\"_blank\" href=\"https://scikit-learn.org/1.6/modules/generated/sklearn.pipeline.Pipeline.html\">?<span>Documentation for Pipeline</span></a><span class=\"sk-estimator-doc-link fitted\">i<span>Fitted</span></span></div></label><div class=\"sk-toggleable__content fitted\"><pre>Pipeline(steps=[(&#x27;columntransformer&#x27;,\n",
              "                 ColumnTransformer(transformers=[(&#x27;simpleimputer&#x27;,\n",
              "                                                  SimpleImputer(add_indicator=True),\n",
              "                                                  &lt;sklearn.compose._column_transformer.make_column_selector object at 0x0000020973C67DD0&gt;),\n",
              "                                                 (&#x27;ordinalencoder&#x27;,\n",
              "                                                  OrdinalEncoder(encoded_missing_value=-2,\n",
              "                                                                 handle_unknown=&#x27;use_encoded_value&#x27;,\n",
              "                                                                 unknown_value=-1),\n",
              "                                                  &lt;sklearn.compose._column_transformer.make_column_selector object at 0x0000020973C67D10&gt;)])),\n",
              "                (&#x27;randomforestclassifier&#x27;,\n",
              "                 RandomForestClassifier(random_state=42))])</pre></div> </div></div><div class=\"sk-serial\"><div class=\"sk-item sk-dashed-wrapped\"><div class=\"sk-label-container\"><div class=\"sk-label fitted sk-toggleable\"><input class=\"sk-toggleable__control sk-hidden--visually\" id=\"sk-estimator-id-42\" type=\"checkbox\" ><label for=\"sk-estimator-id-42\" class=\"sk-toggleable__label fitted sk-toggleable__label-arrow\"><div><div>columntransformer: ColumnTransformer</div></div><div><a class=\"sk-estimator-doc-link fitted\" rel=\"noreferrer\" target=\"_blank\" href=\"https://scikit-learn.org/1.6/modules/generated/sklearn.compose.ColumnTransformer.html\">?<span>Documentation for columntransformer: ColumnTransformer</span></a></div></label><div class=\"sk-toggleable__content fitted\"><pre>ColumnTransformer(transformers=[(&#x27;simpleimputer&#x27;,\n",
              "                                 SimpleImputer(add_indicator=True),\n",
              "                                 &lt;sklearn.compose._column_transformer.make_column_selector object at 0x0000020973C67DD0&gt;),\n",
              "                                (&#x27;ordinalencoder&#x27;,\n",
              "                                 OrdinalEncoder(encoded_missing_value=-2,\n",
              "                                                handle_unknown=&#x27;use_encoded_value&#x27;,\n",
              "                                                unknown_value=-1),\n",
              "                                 &lt;sklearn.compose._column_transformer.make_column_selector object at 0x0000020973C67D10&gt;)])</pre></div> </div></div><div class=\"sk-parallel\"><div class=\"sk-parallel-item\"><div class=\"sk-item\"><div class=\"sk-label-container\"><div class=\"sk-label fitted sk-toggleable\"><input class=\"sk-toggleable__control sk-hidden--visually\" id=\"sk-estimator-id-43\" type=\"checkbox\" ><label for=\"sk-estimator-id-43\" class=\"sk-toggleable__label fitted sk-toggleable__label-arrow\"><div><div>simpleimputer</div></div></label><div class=\"sk-toggleable__content fitted\"><pre>&lt;sklearn.compose._column_transformer.make_column_selector object at 0x0000020973C67DD0&gt;</pre></div> </div></div><div class=\"sk-serial\"><div class=\"sk-item\"><div class=\"sk-estimator fitted sk-toggleable\"><input class=\"sk-toggleable__control sk-hidden--visually\" id=\"sk-estimator-id-44\" type=\"checkbox\" ><label for=\"sk-estimator-id-44\" class=\"sk-toggleable__label fitted sk-toggleable__label-arrow\"><div><div>SimpleImputer</div></div><div><a class=\"sk-estimator-doc-link fitted\" rel=\"noreferrer\" target=\"_blank\" href=\"https://scikit-learn.org/1.6/modules/generated/sklearn.impute.SimpleImputer.html\">?<span>Documentation for SimpleImputer</span></a></div></label><div class=\"sk-toggleable__content fitted\"><pre>SimpleImputer(add_indicator=True)</pre></div> </div></div></div></div></div><div class=\"sk-parallel-item\"><div class=\"sk-item\"><div class=\"sk-label-container\"><div class=\"sk-label fitted sk-toggleable\"><input class=\"sk-toggleable__control sk-hidden--visually\" id=\"sk-estimator-id-45\" type=\"checkbox\" ><label for=\"sk-estimator-id-45\" class=\"sk-toggleable__label fitted sk-toggleable__label-arrow\"><div><div>ordinalencoder</div></div></label><div class=\"sk-toggleable__content fitted\"><pre>&lt;sklearn.compose._column_transformer.make_column_selector object at 0x0000020973C67D10&gt;</pre></div> </div></div><div class=\"sk-serial\"><div class=\"sk-item\"><div class=\"sk-estimator fitted sk-toggleable\"><input class=\"sk-toggleable__control sk-hidden--visually\" id=\"sk-estimator-id-46\" type=\"checkbox\" ><label for=\"sk-estimator-id-46\" class=\"sk-toggleable__label fitted sk-toggleable__label-arrow\"><div><div>OrdinalEncoder</div></div><div><a class=\"sk-estimator-doc-link fitted\" rel=\"noreferrer\" target=\"_blank\" href=\"https://scikit-learn.org/1.6/modules/generated/sklearn.preprocessing.OrdinalEncoder.html\">?<span>Documentation for OrdinalEncoder</span></a></div></label><div class=\"sk-toggleable__content fitted\"><pre>OrdinalEncoder(encoded_missing_value=-2, handle_unknown=&#x27;use_encoded_value&#x27;,\n",
              "               unknown_value=-1)</pre></div> </div></div></div></div></div></div></div><div class=\"sk-item\"><div class=\"sk-estimator fitted sk-toggleable\"><input class=\"sk-toggleable__control sk-hidden--visually\" id=\"sk-estimator-id-47\" type=\"checkbox\" ><label for=\"sk-estimator-id-47\" class=\"sk-toggleable__label fitted sk-toggleable__label-arrow\"><div><div>RandomForestClassifier</div></div><div><a class=\"sk-estimator-doc-link fitted\" rel=\"noreferrer\" target=\"_blank\" href=\"https://scikit-learn.org/1.6/modules/generated/sklearn.ensemble.RandomForestClassifier.html\">?<span>Documentation for RandomForestClassifier</span></a></div></label><div class=\"sk-toggleable__content fitted\"><pre>RandomForestClassifier(random_state=42)</pre></div> </div></div></div></div></div></div>"
            ],
            "text/plain": [
              "Pipeline(steps=[('columntransformer',\n",
              "                 ColumnTransformer(transformers=[('simpleimputer',\n",
              "                                                  SimpleImputer(add_indicator=True),\n",
              "                                                  <sklearn.compose._column_transformer.make_column_selector object at 0x0000020973C67DD0>),\n",
              "                                                 ('ordinalencoder',\n",
              "                                                  OrdinalEncoder(encoded_missing_value=-2,\n",
              "                                                                 handle_unknown='use_encoded_value',\n",
              "                                                                 unknown_value=-1),\n",
              "                                                  <sklearn.compose._column_transformer.make_column_selector object at 0x0000020973C67D10>)])),\n",
              "                ('randomforestclassifier',\n",
              "                 RandomForestClassifier(random_state=42))])"
            ]
          },
          "execution_count": 59,
          "metadata": {},
          "output_type": "execute_result"
        }
      ],
      "source": [
        "rfc_pipeline.fit(X_train, y_train)"
      ]
    },
    {
      "cell_type": "code",
      "execution_count": 60,
      "metadata": {
        "colab": {
          "base_uri": "https://localhost:8080/"
        },
        "id": "KXDKPX-F7Jii",
        "outputId": "dc14b1a7-6989-47dc-e451-f1d74f5663c9"
      },
      "outputs": [
        {
          "name": "stdout",
          "output_type": "stream",
          "text": [
            "0.9983221476510067\n",
            "0.6983050847457627\n"
          ]
        }
      ],
      "source": [
        "print(rfc_pipeline.score(X_train, y_train))\n",
        "print(rfc_pipeline.score(X_test, y_test))"
      ]
    },
    {
      "cell_type": "markdown",
      "metadata": {
        "id": "BlqDHqiN7khy"
      },
      "source": [
        "Raté ! C'était mieux avant !"
      ]
    },
    {
      "cell_type": "markdown",
      "metadata": {
        "id": "iuF-Eu3i7pD5"
      },
      "source": [
        "# Bonus : chercher les meilleurs hyperparamètres"
      ]
    },
    {
      "cell_type": "code",
      "execution_count": 61,
      "metadata": {
        "colab": {
          "base_uri": "https://localhost:8080/",
          "height": 473
        },
        "id": "4rmLG5pW7oCT",
        "outputId": "655c878e-62fa-4c4f-cc3a-dca5d7279eeb"
      },
      "outputs": [
        {
          "data": {
            "text/html": [
              "<style>#sk-container-id-8 {\n",
              "  /* Definition of color scheme common for light and dark mode */\n",
              "  --sklearn-color-text: #000;\n",
              "  --sklearn-color-text-muted: #666;\n",
              "  --sklearn-color-line: gray;\n",
              "  /* Definition of color scheme for unfitted estimators */\n",
              "  --sklearn-color-unfitted-level-0: #fff5e6;\n",
              "  --sklearn-color-unfitted-level-1: #f6e4d2;\n",
              "  --sklearn-color-unfitted-level-2: #ffe0b3;\n",
              "  --sklearn-color-unfitted-level-3: chocolate;\n",
              "  /* Definition of color scheme for fitted estimators */\n",
              "  --sklearn-color-fitted-level-0: #f0f8ff;\n",
              "  --sklearn-color-fitted-level-1: #d4ebff;\n",
              "  --sklearn-color-fitted-level-2: #b3dbfd;\n",
              "  --sklearn-color-fitted-level-3: cornflowerblue;\n",
              "\n",
              "  /* Specific color for light theme */\n",
              "  --sklearn-color-text-on-default-background: var(--sg-text-color, var(--theme-code-foreground, var(--jp-content-font-color1, black)));\n",
              "  --sklearn-color-background: var(--sg-background-color, var(--theme-background, var(--jp-layout-color0, white)));\n",
              "  --sklearn-color-border-box: var(--sg-text-color, var(--theme-code-foreground, var(--jp-content-font-color1, black)));\n",
              "  --sklearn-color-icon: #696969;\n",
              "\n",
              "  @media (prefers-color-scheme: dark) {\n",
              "    /* Redefinition of color scheme for dark theme */\n",
              "    --sklearn-color-text-on-default-background: var(--sg-text-color, var(--theme-code-foreground, var(--jp-content-font-color1, white)));\n",
              "    --sklearn-color-background: var(--sg-background-color, var(--theme-background, var(--jp-layout-color0, #111)));\n",
              "    --sklearn-color-border-box: var(--sg-text-color, var(--theme-code-foreground, var(--jp-content-font-color1, white)));\n",
              "    --sklearn-color-icon: #878787;\n",
              "  }\n",
              "}\n",
              "\n",
              "#sk-container-id-8 {\n",
              "  color: var(--sklearn-color-text);\n",
              "}\n",
              "\n",
              "#sk-container-id-8 pre {\n",
              "  padding: 0;\n",
              "}\n",
              "\n",
              "#sk-container-id-8 input.sk-hidden--visually {\n",
              "  border: 0;\n",
              "  clip: rect(1px 1px 1px 1px);\n",
              "  clip: rect(1px, 1px, 1px, 1px);\n",
              "  height: 1px;\n",
              "  margin: -1px;\n",
              "  overflow: hidden;\n",
              "  padding: 0;\n",
              "  position: absolute;\n",
              "  width: 1px;\n",
              "}\n",
              "\n",
              "#sk-container-id-8 div.sk-dashed-wrapped {\n",
              "  border: 1px dashed var(--sklearn-color-line);\n",
              "  margin: 0 0.4em 0.5em 0.4em;\n",
              "  box-sizing: border-box;\n",
              "  padding-bottom: 0.4em;\n",
              "  background-color: var(--sklearn-color-background);\n",
              "}\n",
              "\n",
              "#sk-container-id-8 div.sk-container {\n",
              "  /* jupyter's `normalize.less` sets `[hidden] { display: none; }`\n",
              "     but bootstrap.min.css set `[hidden] { display: none !important; }`\n",
              "     so we also need the `!important` here to be able to override the\n",
              "     default hidden behavior on the sphinx rendered scikit-learn.org.\n",
              "     See: https://github.com/scikit-learn/scikit-learn/issues/21755 */\n",
              "  display: inline-block !important;\n",
              "  position: relative;\n",
              "}\n",
              "\n",
              "#sk-container-id-8 div.sk-text-repr-fallback {\n",
              "  display: none;\n",
              "}\n",
              "\n",
              "div.sk-parallel-item,\n",
              "div.sk-serial,\n",
              "div.sk-item {\n",
              "  /* draw centered vertical line to link estimators */\n",
              "  background-image: linear-gradient(var(--sklearn-color-text-on-default-background), var(--sklearn-color-text-on-default-background));\n",
              "  background-size: 2px 100%;\n",
              "  background-repeat: no-repeat;\n",
              "  background-position: center center;\n",
              "}\n",
              "\n",
              "/* Parallel-specific style estimator block */\n",
              "\n",
              "#sk-container-id-8 div.sk-parallel-item::after {\n",
              "  content: \"\";\n",
              "  width: 100%;\n",
              "  border-bottom: 2px solid var(--sklearn-color-text-on-default-background);\n",
              "  flex-grow: 1;\n",
              "}\n",
              "\n",
              "#sk-container-id-8 div.sk-parallel {\n",
              "  display: flex;\n",
              "  align-items: stretch;\n",
              "  justify-content: center;\n",
              "  background-color: var(--sklearn-color-background);\n",
              "  position: relative;\n",
              "}\n",
              "\n",
              "#sk-container-id-8 div.sk-parallel-item {\n",
              "  display: flex;\n",
              "  flex-direction: column;\n",
              "}\n",
              "\n",
              "#sk-container-id-8 div.sk-parallel-item:first-child::after {\n",
              "  align-self: flex-end;\n",
              "  width: 50%;\n",
              "}\n",
              "\n",
              "#sk-container-id-8 div.sk-parallel-item:last-child::after {\n",
              "  align-self: flex-start;\n",
              "  width: 50%;\n",
              "}\n",
              "\n",
              "#sk-container-id-8 div.sk-parallel-item:only-child::after {\n",
              "  width: 0;\n",
              "}\n",
              "\n",
              "/* Serial-specific style estimator block */\n",
              "\n",
              "#sk-container-id-8 div.sk-serial {\n",
              "  display: flex;\n",
              "  flex-direction: column;\n",
              "  align-items: center;\n",
              "  background-color: var(--sklearn-color-background);\n",
              "  padding-right: 1em;\n",
              "  padding-left: 1em;\n",
              "}\n",
              "\n",
              "\n",
              "/* Toggleable style: style used for estimator/Pipeline/ColumnTransformer box that is\n",
              "clickable and can be expanded/collapsed.\n",
              "- Pipeline and ColumnTransformer use this feature and define the default style\n",
              "- Estimators will overwrite some part of the style using the `sk-estimator` class\n",
              "*/\n",
              "\n",
              "/* Pipeline and ColumnTransformer style (default) */\n",
              "\n",
              "#sk-container-id-8 div.sk-toggleable {\n",
              "  /* Default theme specific background. It is overwritten whether we have a\n",
              "  specific estimator or a Pipeline/ColumnTransformer */\n",
              "  background-color: var(--sklearn-color-background);\n",
              "}\n",
              "\n",
              "/* Toggleable label */\n",
              "#sk-container-id-8 label.sk-toggleable__label {\n",
              "  cursor: pointer;\n",
              "  display: flex;\n",
              "  width: 100%;\n",
              "  margin-bottom: 0;\n",
              "  padding: 0.5em;\n",
              "  box-sizing: border-box;\n",
              "  text-align: center;\n",
              "  align-items: start;\n",
              "  justify-content: space-between;\n",
              "  gap: 0.5em;\n",
              "}\n",
              "\n",
              "#sk-container-id-8 label.sk-toggleable__label .caption {\n",
              "  font-size: 0.6rem;\n",
              "  font-weight: lighter;\n",
              "  color: var(--sklearn-color-text-muted);\n",
              "}\n",
              "\n",
              "#sk-container-id-8 label.sk-toggleable__label-arrow:before {\n",
              "  /* Arrow on the left of the label */\n",
              "  content: \"▸\";\n",
              "  float: left;\n",
              "  margin-right: 0.25em;\n",
              "  color: var(--sklearn-color-icon);\n",
              "}\n",
              "\n",
              "#sk-container-id-8 label.sk-toggleable__label-arrow:hover:before {\n",
              "  color: var(--sklearn-color-text);\n",
              "}\n",
              "\n",
              "/* Toggleable content - dropdown */\n",
              "\n",
              "#sk-container-id-8 div.sk-toggleable__content {\n",
              "  max-height: 0;\n",
              "  max-width: 0;\n",
              "  overflow: hidden;\n",
              "  text-align: left;\n",
              "  /* unfitted */\n",
              "  background-color: var(--sklearn-color-unfitted-level-0);\n",
              "}\n",
              "\n",
              "#sk-container-id-8 div.sk-toggleable__content.fitted {\n",
              "  /* fitted */\n",
              "  background-color: var(--sklearn-color-fitted-level-0);\n",
              "}\n",
              "\n",
              "#sk-container-id-8 div.sk-toggleable__content pre {\n",
              "  margin: 0.2em;\n",
              "  border-radius: 0.25em;\n",
              "  color: var(--sklearn-color-text);\n",
              "  /* unfitted */\n",
              "  background-color: var(--sklearn-color-unfitted-level-0);\n",
              "}\n",
              "\n",
              "#sk-container-id-8 div.sk-toggleable__content.fitted pre {\n",
              "  /* unfitted */\n",
              "  background-color: var(--sklearn-color-fitted-level-0);\n",
              "}\n",
              "\n",
              "#sk-container-id-8 input.sk-toggleable__control:checked~div.sk-toggleable__content {\n",
              "  /* Expand drop-down */\n",
              "  max-height: 200px;\n",
              "  max-width: 100%;\n",
              "  overflow: auto;\n",
              "}\n",
              "\n",
              "#sk-container-id-8 input.sk-toggleable__control:checked~label.sk-toggleable__label-arrow:before {\n",
              "  content: \"▾\";\n",
              "}\n",
              "\n",
              "/* Pipeline/ColumnTransformer-specific style */\n",
              "\n",
              "#sk-container-id-8 div.sk-label input.sk-toggleable__control:checked~label.sk-toggleable__label {\n",
              "  color: var(--sklearn-color-text);\n",
              "  background-color: var(--sklearn-color-unfitted-level-2);\n",
              "}\n",
              "\n",
              "#sk-container-id-8 div.sk-label.fitted input.sk-toggleable__control:checked~label.sk-toggleable__label {\n",
              "  background-color: var(--sklearn-color-fitted-level-2);\n",
              "}\n",
              "\n",
              "/* Estimator-specific style */\n",
              "\n",
              "/* Colorize estimator box */\n",
              "#sk-container-id-8 div.sk-estimator input.sk-toggleable__control:checked~label.sk-toggleable__label {\n",
              "  /* unfitted */\n",
              "  background-color: var(--sklearn-color-unfitted-level-2);\n",
              "}\n",
              "\n",
              "#sk-container-id-8 div.sk-estimator.fitted input.sk-toggleable__control:checked~label.sk-toggleable__label {\n",
              "  /* fitted */\n",
              "  background-color: var(--sklearn-color-fitted-level-2);\n",
              "}\n",
              "\n",
              "#sk-container-id-8 div.sk-label label.sk-toggleable__label,\n",
              "#sk-container-id-8 div.sk-label label {\n",
              "  /* The background is the default theme color */\n",
              "  color: var(--sklearn-color-text-on-default-background);\n",
              "}\n",
              "\n",
              "/* On hover, darken the color of the background */\n",
              "#sk-container-id-8 div.sk-label:hover label.sk-toggleable__label {\n",
              "  color: var(--sklearn-color-text);\n",
              "  background-color: var(--sklearn-color-unfitted-level-2);\n",
              "}\n",
              "\n",
              "/* Label box, darken color on hover, fitted */\n",
              "#sk-container-id-8 div.sk-label.fitted:hover label.sk-toggleable__label.fitted {\n",
              "  color: var(--sklearn-color-text);\n",
              "  background-color: var(--sklearn-color-fitted-level-2);\n",
              "}\n",
              "\n",
              "/* Estimator label */\n",
              "\n",
              "#sk-container-id-8 div.sk-label label {\n",
              "  font-family: monospace;\n",
              "  font-weight: bold;\n",
              "  display: inline-block;\n",
              "  line-height: 1.2em;\n",
              "}\n",
              "\n",
              "#sk-container-id-8 div.sk-label-container {\n",
              "  text-align: center;\n",
              "}\n",
              "\n",
              "/* Estimator-specific */\n",
              "#sk-container-id-8 div.sk-estimator {\n",
              "  font-family: monospace;\n",
              "  border: 1px dotted var(--sklearn-color-border-box);\n",
              "  border-radius: 0.25em;\n",
              "  box-sizing: border-box;\n",
              "  margin-bottom: 0.5em;\n",
              "  /* unfitted */\n",
              "  background-color: var(--sklearn-color-unfitted-level-0);\n",
              "}\n",
              "\n",
              "#sk-container-id-8 div.sk-estimator.fitted {\n",
              "  /* fitted */\n",
              "  background-color: var(--sklearn-color-fitted-level-0);\n",
              "}\n",
              "\n",
              "/* on hover */\n",
              "#sk-container-id-8 div.sk-estimator:hover {\n",
              "  /* unfitted */\n",
              "  background-color: var(--sklearn-color-unfitted-level-2);\n",
              "}\n",
              "\n",
              "#sk-container-id-8 div.sk-estimator.fitted:hover {\n",
              "  /* fitted */\n",
              "  background-color: var(--sklearn-color-fitted-level-2);\n",
              "}\n",
              "\n",
              "/* Specification for estimator info (e.g. \"i\" and \"?\") */\n",
              "\n",
              "/* Common style for \"i\" and \"?\" */\n",
              "\n",
              ".sk-estimator-doc-link,\n",
              "a:link.sk-estimator-doc-link,\n",
              "a:visited.sk-estimator-doc-link {\n",
              "  float: right;\n",
              "  font-size: smaller;\n",
              "  line-height: 1em;\n",
              "  font-family: monospace;\n",
              "  background-color: var(--sklearn-color-background);\n",
              "  border-radius: 1em;\n",
              "  height: 1em;\n",
              "  width: 1em;\n",
              "  text-decoration: none !important;\n",
              "  margin-left: 0.5em;\n",
              "  text-align: center;\n",
              "  /* unfitted */\n",
              "  border: var(--sklearn-color-unfitted-level-1) 1pt solid;\n",
              "  color: var(--sklearn-color-unfitted-level-1);\n",
              "}\n",
              "\n",
              ".sk-estimator-doc-link.fitted,\n",
              "a:link.sk-estimator-doc-link.fitted,\n",
              "a:visited.sk-estimator-doc-link.fitted {\n",
              "  /* fitted */\n",
              "  border: var(--sklearn-color-fitted-level-1) 1pt solid;\n",
              "  color: var(--sklearn-color-fitted-level-1);\n",
              "}\n",
              "\n",
              "/* On hover */\n",
              "div.sk-estimator:hover .sk-estimator-doc-link:hover,\n",
              ".sk-estimator-doc-link:hover,\n",
              "div.sk-label-container:hover .sk-estimator-doc-link:hover,\n",
              ".sk-estimator-doc-link:hover {\n",
              "  /* unfitted */\n",
              "  background-color: var(--sklearn-color-unfitted-level-3);\n",
              "  color: var(--sklearn-color-background);\n",
              "  text-decoration: none;\n",
              "}\n",
              "\n",
              "div.sk-estimator.fitted:hover .sk-estimator-doc-link.fitted:hover,\n",
              ".sk-estimator-doc-link.fitted:hover,\n",
              "div.sk-label-container:hover .sk-estimator-doc-link.fitted:hover,\n",
              ".sk-estimator-doc-link.fitted:hover {\n",
              "  /* fitted */\n",
              "  background-color: var(--sklearn-color-fitted-level-3);\n",
              "  color: var(--sklearn-color-background);\n",
              "  text-decoration: none;\n",
              "}\n",
              "\n",
              "/* Span, style for the box shown on hovering the info icon */\n",
              ".sk-estimator-doc-link span {\n",
              "  display: none;\n",
              "  z-index: 9999;\n",
              "  position: relative;\n",
              "  font-weight: normal;\n",
              "  right: .2ex;\n",
              "  padding: .5ex;\n",
              "  margin: .5ex;\n",
              "  width: min-content;\n",
              "  min-width: 20ex;\n",
              "  max-width: 50ex;\n",
              "  color: var(--sklearn-color-text);\n",
              "  box-shadow: 2pt 2pt 4pt #999;\n",
              "  /* unfitted */\n",
              "  background: var(--sklearn-color-unfitted-level-0);\n",
              "  border: .5pt solid var(--sklearn-color-unfitted-level-3);\n",
              "}\n",
              "\n",
              ".sk-estimator-doc-link.fitted span {\n",
              "  /* fitted */\n",
              "  background: var(--sklearn-color-fitted-level-0);\n",
              "  border: var(--sklearn-color-fitted-level-3);\n",
              "}\n",
              "\n",
              ".sk-estimator-doc-link:hover span {\n",
              "  display: block;\n",
              "}\n",
              "\n",
              "/* \"?\"-specific style due to the `<a>` HTML tag */\n",
              "\n",
              "#sk-container-id-8 a.estimator_doc_link {\n",
              "  float: right;\n",
              "  font-size: 1rem;\n",
              "  line-height: 1em;\n",
              "  font-family: monospace;\n",
              "  background-color: var(--sklearn-color-background);\n",
              "  border-radius: 1rem;\n",
              "  height: 1rem;\n",
              "  width: 1rem;\n",
              "  text-decoration: none;\n",
              "  /* unfitted */\n",
              "  color: var(--sklearn-color-unfitted-level-1);\n",
              "  border: var(--sklearn-color-unfitted-level-1) 1pt solid;\n",
              "}\n",
              "\n",
              "#sk-container-id-8 a.estimator_doc_link.fitted {\n",
              "  /* fitted */\n",
              "  border: var(--sklearn-color-fitted-level-1) 1pt solid;\n",
              "  color: var(--sklearn-color-fitted-level-1);\n",
              "}\n",
              "\n",
              "/* On hover */\n",
              "#sk-container-id-8 a.estimator_doc_link:hover {\n",
              "  /* unfitted */\n",
              "  background-color: var(--sklearn-color-unfitted-level-3);\n",
              "  color: var(--sklearn-color-background);\n",
              "  text-decoration: none;\n",
              "}\n",
              "\n",
              "#sk-container-id-8 a.estimator_doc_link.fitted:hover {\n",
              "  /* fitted */\n",
              "  background-color: var(--sklearn-color-fitted-level-3);\n",
              "}\n",
              "</style><div id=\"sk-container-id-8\" class=\"sk-top-container\"><div class=\"sk-text-repr-fallback\"><pre>GridSearchCV(cv=5,\n",
              "             estimator=Pipeline(steps=[(&#x27;columntransformer&#x27;,\n",
              "                                        ColumnTransformer(transformers=[(&#x27;simpleimputer&#x27;,\n",
              "                                                                         SimpleImputer(add_indicator=True),\n",
              "                                                                         &lt;sklearn.compose._column_transformer.make_column_selector object at 0x0000020973C67DD0&gt;),\n",
              "                                                                        (&#x27;ordinalencoder&#x27;,\n",
              "                                                                         OrdinalEncoder(encoded_missing_value=-2,\n",
              "                                                                                        handle_unknown=&#x27;use_encoded_value&#x27;,\n",
              "                                                                                        unknown_value=-1),\n",
              "                                                                         &lt;sklearn.compose._column_transformer.make_column_selector object at 0x0000020973C67D10&gt;)])),\n",
              "                                       (&#x27;randomforestclassifier&#x27;,\n",
              "                                        RandomForestClassifier(random_state=42))]),\n",
              "             param_grid={&#x27;randomforestclassifier__max_depth&#x27;: [None, 10, 20],\n",
              "                         &#x27;randomforestclassifier__min_samples_split&#x27;: [2, 5,\n",
              "                                                                       10],\n",
              "                         &#x27;randomforestclassifier__n_estimators&#x27;: [50, 100,\n",
              "                                                                  200]},\n",
              "             scoring=&#x27;accuracy&#x27;)</pre><b>In a Jupyter environment, please rerun this cell to show the HTML representation or trust the notebook. <br />On GitHub, the HTML representation is unable to render, please try loading this page with nbviewer.org.</b></div><div class=\"sk-container\" hidden><div class=\"sk-item sk-dashed-wrapped\"><div class=\"sk-label-container\"><div class=\"sk-label  sk-toggleable\"><input class=\"sk-toggleable__control sk-hidden--visually\" id=\"sk-estimator-id-48\" type=\"checkbox\" ><label for=\"sk-estimator-id-48\" class=\"sk-toggleable__label  sk-toggleable__label-arrow\"><div><div>GridSearchCV</div></div><div><a class=\"sk-estimator-doc-link \" rel=\"noreferrer\" target=\"_blank\" href=\"https://scikit-learn.org/1.6/modules/generated/sklearn.model_selection.GridSearchCV.html\">?<span>Documentation for GridSearchCV</span></a><span class=\"sk-estimator-doc-link \">i<span>Not fitted</span></span></div></label><div class=\"sk-toggleable__content \"><pre>GridSearchCV(cv=5,\n",
              "             estimator=Pipeline(steps=[(&#x27;columntransformer&#x27;,\n",
              "                                        ColumnTransformer(transformers=[(&#x27;simpleimputer&#x27;,\n",
              "                                                                         SimpleImputer(add_indicator=True),\n",
              "                                                                         &lt;sklearn.compose._column_transformer.make_column_selector object at 0x0000020973C67DD0&gt;),\n",
              "                                                                        (&#x27;ordinalencoder&#x27;,\n",
              "                                                                         OrdinalEncoder(encoded_missing_value=-2,\n",
              "                                                                                        handle_unknown=&#x27;use_encoded_value&#x27;,\n",
              "                                                                                        unknown_value=-1),\n",
              "                                                                         &lt;sklearn.compose._column_transformer.make_column_selector object at 0x0000020973C67D10&gt;)])),\n",
              "                                       (&#x27;randomforestclassifier&#x27;,\n",
              "                                        RandomForestClassifier(random_state=42))]),\n",
              "             param_grid={&#x27;randomforestclassifier__max_depth&#x27;: [None, 10, 20],\n",
              "                         &#x27;randomforestclassifier__min_samples_split&#x27;: [2, 5,\n",
              "                                                                       10],\n",
              "                         &#x27;randomforestclassifier__n_estimators&#x27;: [50, 100,\n",
              "                                                                  200]},\n",
              "             scoring=&#x27;accuracy&#x27;)</pre></div> </div></div><div class=\"sk-parallel\"><div class=\"sk-parallel-item\"><div class=\"sk-item\"><div class=\"sk-label-container\"><div class=\"sk-label  sk-toggleable\"><input class=\"sk-toggleable__control sk-hidden--visually\" id=\"sk-estimator-id-49\" type=\"checkbox\" ><label for=\"sk-estimator-id-49\" class=\"sk-toggleable__label  sk-toggleable__label-arrow\"><div><div>estimator: Pipeline</div></div></label><div class=\"sk-toggleable__content \"><pre>Pipeline(steps=[(&#x27;columntransformer&#x27;,\n",
              "                 ColumnTransformer(transformers=[(&#x27;simpleimputer&#x27;,\n",
              "                                                  SimpleImputer(add_indicator=True),\n",
              "                                                  &lt;sklearn.compose._column_transformer.make_column_selector object at 0x0000020973C67DD0&gt;),\n",
              "                                                 (&#x27;ordinalencoder&#x27;,\n",
              "                                                  OrdinalEncoder(encoded_missing_value=-2,\n",
              "                                                                 handle_unknown=&#x27;use_encoded_value&#x27;,\n",
              "                                                                 unknown_value=-1),\n",
              "                                                  &lt;sklearn.compose._column_transformer.make_column_selector object at 0x0000020973C67D10&gt;)])),\n",
              "                (&#x27;randomforestclassifier&#x27;,\n",
              "                 RandomForestClassifier(random_state=42))])</pre></div> </div></div><div class=\"sk-serial\"><div class=\"sk-item\"><div class=\"sk-serial\"><div class=\"sk-item sk-dashed-wrapped\"><div class=\"sk-label-container\"><div class=\"sk-label  sk-toggleable\"><input class=\"sk-toggleable__control sk-hidden--visually\" id=\"sk-estimator-id-50\" type=\"checkbox\" ><label for=\"sk-estimator-id-50\" class=\"sk-toggleable__label  sk-toggleable__label-arrow\"><div><div>columntransformer: ColumnTransformer</div></div><div><a class=\"sk-estimator-doc-link \" rel=\"noreferrer\" target=\"_blank\" href=\"https://scikit-learn.org/1.6/modules/generated/sklearn.compose.ColumnTransformer.html\">?<span>Documentation for columntransformer: ColumnTransformer</span></a></div></label><div class=\"sk-toggleable__content \"><pre>ColumnTransformer(transformers=[(&#x27;simpleimputer&#x27;,\n",
              "                                 SimpleImputer(add_indicator=True),\n",
              "                                 &lt;sklearn.compose._column_transformer.make_column_selector object at 0x0000020973C67DD0&gt;),\n",
              "                                (&#x27;ordinalencoder&#x27;,\n",
              "                                 OrdinalEncoder(encoded_missing_value=-2,\n",
              "                                                handle_unknown=&#x27;use_encoded_value&#x27;,\n",
              "                                                unknown_value=-1),\n",
              "                                 &lt;sklearn.compose._column_transformer.make_column_selector object at 0x0000020973C67D10&gt;)])</pre></div> </div></div><div class=\"sk-parallel\"><div class=\"sk-parallel-item\"><div class=\"sk-item\"><div class=\"sk-label-container\"><div class=\"sk-label  sk-toggleable\"><input class=\"sk-toggleable__control sk-hidden--visually\" id=\"sk-estimator-id-51\" type=\"checkbox\" ><label for=\"sk-estimator-id-51\" class=\"sk-toggleable__label  sk-toggleable__label-arrow\"><div><div>simpleimputer</div></div></label><div class=\"sk-toggleable__content \"><pre>&lt;sklearn.compose._column_transformer.make_column_selector object at 0x0000020973C67DD0&gt;</pre></div> </div></div><div class=\"sk-serial\"><div class=\"sk-item\"><div class=\"sk-estimator  sk-toggleable\"><input class=\"sk-toggleable__control sk-hidden--visually\" id=\"sk-estimator-id-52\" type=\"checkbox\" ><label for=\"sk-estimator-id-52\" class=\"sk-toggleable__label  sk-toggleable__label-arrow\"><div><div>SimpleImputer</div></div><div><a class=\"sk-estimator-doc-link \" rel=\"noreferrer\" target=\"_blank\" href=\"https://scikit-learn.org/1.6/modules/generated/sklearn.impute.SimpleImputer.html\">?<span>Documentation for SimpleImputer</span></a></div></label><div class=\"sk-toggleable__content \"><pre>SimpleImputer(add_indicator=True)</pre></div> </div></div></div></div></div><div class=\"sk-parallel-item\"><div class=\"sk-item\"><div class=\"sk-label-container\"><div class=\"sk-label  sk-toggleable\"><input class=\"sk-toggleable__control sk-hidden--visually\" id=\"sk-estimator-id-53\" type=\"checkbox\" ><label for=\"sk-estimator-id-53\" class=\"sk-toggleable__label  sk-toggleable__label-arrow\"><div><div>ordinalencoder</div></div></label><div class=\"sk-toggleable__content \"><pre>&lt;sklearn.compose._column_transformer.make_column_selector object at 0x0000020973C67D10&gt;</pre></div> </div></div><div class=\"sk-serial\"><div class=\"sk-item\"><div class=\"sk-estimator  sk-toggleable\"><input class=\"sk-toggleable__control sk-hidden--visually\" id=\"sk-estimator-id-54\" type=\"checkbox\" ><label for=\"sk-estimator-id-54\" class=\"sk-toggleable__label  sk-toggleable__label-arrow\"><div><div>OrdinalEncoder</div></div><div><a class=\"sk-estimator-doc-link \" rel=\"noreferrer\" target=\"_blank\" href=\"https://scikit-learn.org/1.6/modules/generated/sklearn.preprocessing.OrdinalEncoder.html\">?<span>Documentation for OrdinalEncoder</span></a></div></label><div class=\"sk-toggleable__content \"><pre>OrdinalEncoder(encoded_missing_value=-2, handle_unknown=&#x27;use_encoded_value&#x27;,\n",
              "               unknown_value=-1)</pre></div> </div></div></div></div></div></div></div><div class=\"sk-item\"><div class=\"sk-estimator  sk-toggleable\"><input class=\"sk-toggleable__control sk-hidden--visually\" id=\"sk-estimator-id-55\" type=\"checkbox\" ><label for=\"sk-estimator-id-55\" class=\"sk-toggleable__label  sk-toggleable__label-arrow\"><div><div>RandomForestClassifier</div></div><div><a class=\"sk-estimator-doc-link \" rel=\"noreferrer\" target=\"_blank\" href=\"https://scikit-learn.org/1.6/modules/generated/sklearn.ensemble.RandomForestClassifier.html\">?<span>Documentation for RandomForestClassifier</span></a></div></label><div class=\"sk-toggleable__content \"><pre>RandomForestClassifier(random_state=42)</pre></div> </div></div></div></div></div></div></div></div></div></div></div>"
            ],
            "text/plain": [
              "GridSearchCV(cv=5,\n",
              "             estimator=Pipeline(steps=[('columntransformer',\n",
              "                                        ColumnTransformer(transformers=[('simpleimputer',\n",
              "                                                                         SimpleImputer(add_indicator=True),\n",
              "                                                                         <sklearn.compose._column_transformer.make_column_selector object at 0x0000020973C67DD0>),\n",
              "                                                                        ('ordinalencoder',\n",
              "                                                                         OrdinalEncoder(encoded_missing_value=-2,\n",
              "                                                                                        handle_unknown='use_encoded_value',\n",
              "                                                                                        unknown_value=-1),\n",
              "                                                                         <sklearn.compose._column_transformer.make_column_selector object at 0x0000020973C67D10>)])),\n",
              "                                       ('randomforestclassifier',\n",
              "                                        RandomForestClassifier(random_state=42))]),\n",
              "             param_grid={'randomforestclassifier__max_depth': [None, 10, 20],\n",
              "                         'randomforestclassifier__min_samples_split': [2, 5,\n",
              "                                                                       10],\n",
              "                         'randomforestclassifier__n_estimators': [50, 100,\n",
              "                                                                  200]},\n",
              "             scoring='accuracy')"
            ]
          },
          "execution_count": 61,
          "metadata": {},
          "output_type": "execute_result"
        }
      ],
      "source": [
        "# prompt: create a pipeline with gridsearchcv\n",
        "\n",
        "from sklearn.model_selection import GridSearchCV\n",
        "\n",
        "# Define the parameter grid\n",
        "param_grid = {\n",
        "    'randomforestclassifier__n_estimators': [50, 100, 200],\n",
        "    'randomforestclassifier__max_depth': [None, 10, 20],\n",
        "    'randomforestclassifier__min_samples_split': [2, 5, 10]\n",
        "}\n",
        "\n",
        "# Create the GridSearchCV object\n",
        "grid_search = GridSearchCV(rfc_pipeline, param_grid, cv=5, scoring='accuracy')\n",
        "grid_search\n"
      ]
    },
    {
      "cell_type": "code",
      "execution_count": 62,
      "metadata": {
        "colab": {
          "base_uri": "https://localhost:8080/"
        },
        "id": "iCMU6KgF9Z5i",
        "outputId": "39ddc493-9f28-4208-8476-0295c644f706"
      },
      "outputs": [
        {
          "name": "stdout",
          "output_type": "stream",
          "text": [
            "Best hyperparameters: {'randomforestclassifier__max_depth': None, 'randomforestclassifier__min_samples_split': 10, 'randomforestclassifier__n_estimators': 200}\n",
            "Best score: 0.7483753501400561\n",
            "Test score: 0.6983050847457627\n"
          ]
        }
      ],
      "source": [
        "# Fit the grid search to the data\n",
        "grid_search.fit(X_train, y_train)\n",
        "\n",
        "# Print the best hyperparameters and score\n",
        "print(\"Best hyperparameters:\", grid_search.best_params_)\n",
        "print(\"Best score:\", grid_search.best_score_)\n",
        "\n",
        "# Evaluate the best model on the test set\n",
        "best_model = grid_search.best_estimator_\n",
        "print(\"Test score:\", best_model.score(X_test, y_test))"
      ]
    }
  ],
  "metadata": {
    "colab": {
      "provenance": []
    },
    "kernelspec": {
      "display_name": ".venv",
      "language": "python",
      "name": "python3"
    },
    "language_info": {
      "codemirror_mode": {
        "name": "ipython",
        "version": 3
      },
      "file_extension": ".py",
      "mimetype": "text/x-python",
      "name": "python",
      "nbconvert_exporter": "python",
      "pygments_lexer": "ipython3",
      "version": "3.12.6"
    }
  },
  "nbformat": 4,
  "nbformat_minor": 0
}
